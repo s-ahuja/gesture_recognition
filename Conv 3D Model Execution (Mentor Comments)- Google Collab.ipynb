{
  "nbformat": 4,
  "nbformat_minor": 0,
  "metadata": {
    "colab": {
      "name": "Conv 3D Model Execution.ipynb",
      "version": "0.3.2",
      "provenance": [],
      "toc_visible": true,
      "include_colab_link": true
    },
    "language_info": {
      "codemirror_mode": {
        "name": "ipython",
        "version": 3
      },
      "file_extension": ".py",
      "mimetype": "text/x-python",
      "name": "python",
      "nbconvert_exporter": "python",
      "pygments_lexer": "ipython3",
      "version": "3.6.8"
    },
    "kernelspec": {
      "name": "python3",
      "display_name": "Python 3"
    },
    "accelerator": "GPU"
  },
  "cells": [
    {
      "cell_type": "markdown",
      "metadata": {
        "id": "view-in-github",
        "colab_type": "text"
      },
      "source": [
        "<a href=\"https://colab.research.google.com/github/s-ahuja/gesture_recognition/blob/master/Conv%203D%20Model%20Execution%20(Mentory%20Comments)-%20Google%20Collab.ipynb\" target=\"_parent\"><img src=\"https://colab.research.google.com/assets/colab-badge.svg\" alt=\"Open In Colab\"/></a>"
      ]
    },
    {
      "cell_type": "code",
      "metadata": {
        "id": "nAaDilW3Awxc",
        "colab_type": "code",
        "outputId": "fe38a31c-4e32-41ff-dcb7-ebe06d3901a6",
        "colab": {
          "base_uri": "https://localhost:8080/",
          "height": 306
        }
      },
      "source": [
        "!nvidia-smi"
      ],
      "execution_count": 1,
      "outputs": [
        {
          "output_type": "stream",
          "text": [
            "Sat Jun 15 08:39:34 2019       \n",
            "+-----------------------------------------------------------------------------+\n",
            "| NVIDIA-SMI 418.67       Driver Version: 410.79       CUDA Version: 10.0     |\n",
            "|-------------------------------+----------------------+----------------------+\n",
            "| GPU  Name        Persistence-M| Bus-Id        Disp.A | Volatile Uncorr. ECC |\n",
            "| Fan  Temp  Perf  Pwr:Usage/Cap|         Memory-Usage | GPU-Util  Compute M. |\n",
            "|===============================+======================+======================|\n",
            "|   0  Tesla T4            Off  | 00000000:00:04.0 Off |                    0 |\n",
            "| N/A   63C    P0    29W /  70W |      0MiB / 15079MiB |      0%      Default |\n",
            "+-------------------------------+----------------------+----------------------+\n",
            "                                                                               \n",
            "+-----------------------------------------------------------------------------+\n",
            "| Processes:                                                       GPU Memory |\n",
            "|  GPU       PID   Type   Process name                             Usage      |\n",
            "|=============================================================================|\n",
            "|  No running processes found                                                 |\n",
            "+-----------------------------------------------------------------------------+\n"
          ],
          "name": "stdout"
        }
      ]
    },
    {
      "cell_type": "code",
      "metadata": {
        "id": "1sEb4VPfDZ9H",
        "colab_type": "code",
        "colab": {}
      },
      "source": [
        "# Clone the entire repo.\n",
        "data_folder = '/content/cloned-repo'\n",
        "root_dir = f'{data_folder}/Project_data'"
      ],
      "execution_count": 0,
      "outputs": []
    },
    {
      "cell_type": "code",
      "metadata": {
        "id": "XdUHgmyzLXUV",
        "colab_type": "code",
        "outputId": "b7cb9ac5-d3ee-4c5c-a4b7-1f12a1e20d37",
        "colab": {
          "base_uri": "https://localhost:8080/",
          "height": 85
        }
      },
      "source": [
        "full_restart = False\n",
        "if (full_restart):\n",
        "  import shutil\n",
        "  shutil.rmtree(data_folder,ignore_errors=True)\n",
        "  import os\n",
        "  os.makedirs(data_folder,exist_ok=True)\n",
        "  os.chdir(data_folder)\n",
        "  !git clone -l -s \"https://github.com/s-ahuja/gesture_recognition.git\" {data_folder}\n",
        "%cd {data_folder}/Project_data\n",
        "!ls"
      ],
      "execution_count": 3,
      "outputs": [
        {
          "output_type": "stream",
          "text": [
            "/content/cloned-repo/Project_data\n",
            "model_init_2019-06-1508_38_33.666351  train_images.pkl\t  val_images.pkl\n",
            "numpy\t\t\t\t      training.cnn3d.txt\n",
            "train.csv\t\t\t      val.csv\n"
          ],
          "name": "stdout"
        }
      ]
    },
    {
      "cell_type": "code",
      "metadata": {
        "id": "kxrqu5GxAwxh",
        "colab_type": "code",
        "colab": {}
      },
      "source": [
        "import pickle\n",
        "filehandler = open('train_images.pkl',\"rb\")\n",
        "train_images = pickle.load(filehandler)\n",
        "filehandler.close()\n",
        "filehandler = open('val_images.pkl',\"rb\")\n",
        "val_images = pickle.load(filehandler)\n",
        "filehandler.close()"
      ],
      "execution_count": 0,
      "outputs": []
    },
    {
      "cell_type": "code",
      "metadata": {
        "id": "araQpugMAwxj",
        "colab_type": "code",
        "outputId": "13a6a830-d59a-409d-cc1c-3a6f31b0a8b9",
        "colab": {
          "base_uri": "https://localhost:8080/",
          "height": 34
        }
      },
      "source": [
        "len(train_images[0]),len(val_images[0])"
      ],
      "execution_count": 5,
      "outputs": [
        {
          "output_type": "execute_result",
          "data": {
            "text/plain": [
              "(19890, 3000)"
            ]
          },
          "metadata": {
            "tags": []
          },
          "execution_count": 5
        }
      ]
    },
    {
      "cell_type": "code",
      "metadata": {
        "id": "WsxvoUb8Awxm",
        "colab_type": "code",
        "colab": {}
      },
      "source": [
        "import glob, shutil\n",
        "model_directories = glob.glob(f'{root_dir}/model*')\n",
        "for directory in model_directories:\n",
        "    shutil.rmtree(directory)"
      ],
      "execution_count": 0,
      "outputs": []
    },
    {
      "cell_type": "markdown",
      "metadata": {
        "id": "FnHobvnOAwxo",
        "colab_type": "text"
      },
      "source": [
        "# Gesture Recognition\n",
        "In this group project, you are going to build a 3D Conv model that will be able to predict the 5 gestures correctly. Please import the following libraries to get started."
      ]
    },
    {
      "cell_type": "code",
      "metadata": {
        "id": "1a89fRYJAwxo",
        "colab_type": "code",
        "colab": {}
      },
      "source": [
        "%load_ext autoreload\n",
        "%autoreload 2\n",
        "import numpy as np\n",
        "import os\n",
        "import glob\n",
        "from cv2 import imread,resize,cvtColor,COLOR_BGR2RGB,INTER_AREA\n",
        "import datetime\n",
        "import matplotlib.pyplot as plt\n",
        "import warnings\n",
        "warnings.simplefilter('ignore')\n",
        "# import sys\n",
        "# old_stdout = sys.stdout\n",
        "# log_file = open('logfile.txt', 'w')\n",
        "# sys.stdout = log_file\n",
        "# print('Starting Log at {}'.format(datetime.datetime.now()))\n",
        "# #sys.stdout = old_stdout\n",
        "# #log_file.close()"
      ],
      "execution_count": 0,
      "outputs": []
    },
    {
      "cell_type": "markdown",
      "metadata": {
        "id": "7-eKyjqXAwxq",
        "colab_type": "text"
      },
      "source": [
        "We set the random seed so that the results don't vary drastically."
      ]
    },
    {
      "cell_type": "code",
      "metadata": {
        "id": "Kxq4kVj5Awxr",
        "colab_type": "code",
        "outputId": "2800fc0d-8e00-4b83-bcb4-502224e25aea",
        "colab": {
          "base_uri": "https://localhost:8080/",
          "height": 34
        }
      },
      "source": [
        "np.random.seed(30)\n",
        "import random as rn\n",
        "rn.seed(30)\n",
        "from keras import backend as K\n",
        "import tensorflow as tf\n",
        "tf.set_random_seed(30)"
      ],
      "execution_count": 8,
      "outputs": [
        {
          "output_type": "stream",
          "text": [
            "Using TensorFlow backend.\n"
          ],
          "name": "stderr"
        }
      ]
    },
    {
      "cell_type": "code",
      "metadata": {
        "id": "7PG8NCeBAwxu",
        "colab_type": "code",
        "outputId": "e81096b1-7656-4e63-f862-a989de375a78",
        "colab": {
          "base_uri": "https://localhost:8080/",
          "height": 51
        }
      },
      "source": [
        "img_indices = list(range(1,30,2))\n",
        "print(img_indices)\n",
        "input_shape=(len(img_indices),100,100,3) #15 images per video, each image is of 100x100x3\n",
        "print(input_shape)\n",
        "batch_size = 20\n",
        "no_of_classes = 5\n",
        "num_epochs = 50 # choose the number of epochs"
      ],
      "execution_count": 9,
      "outputs": [
        {
          "output_type": "stream",
          "text": [
            "[1, 3, 5, 7, 9, 11, 13, 15, 17, 19, 21, 23, 25, 27, 29]\n",
            "(15, 100, 100, 3)\n"
          ],
          "name": "stdout"
        }
      ]
    },
    {
      "cell_type": "code",
      "metadata": {
        "id": "N6ZLOH3uAwxw",
        "colab_type": "code",
        "outputId": "4a16897f-ab40-4b65-92a9-411c362495bf",
        "colab": {
          "base_uri": "https://localhost:8080/",
          "height": 34
        }
      },
      "source": [
        "train_doc = np.random.permutation(open(f'{root_dir}/train.csv').readlines())\n",
        "val_doc = np.random.permutation(open(f'{root_dir}/val.csv').readlines())\n",
        "\n",
        "# filter out records which are not considered during experiments\n",
        "train_doc = [x for x in train_doc if x.split(';')[0] in [paths.split('/')[-2] for paths in train_images[0]]] \n",
        "val_doc = [x for x in val_doc if x.split(';')[0] in [paths.split('/')[-2] for paths in val_images[0]]]\n",
        "\n",
        "print('no. of training video seq=',len(train_doc),'no. of validation video seq=',len(val_doc))"
      ],
      "execution_count": 10,
      "outputs": [
        {
          "output_type": "stream",
          "text": [
            "no. of training video seq= 663 no. of validation video seq= 100\n"
          ],
          "name": "stdout"
        }
      ]
    },
    {
      "cell_type": "markdown",
      "metadata": {
        "id": "GdeE78IVAwxz",
        "colab_type": "text"
      },
      "source": [
        "## Generator\n",
        "This is one of the most important part of the code. The overall structure of the generator has been given. In the generator, you are going to preprocess the images as you have images of 2 different dimensions as well as create a batch of video frames. You have to experiment with `img_idx`, `y`,`z` and normalization such that you get high accuracy."
      ]
    },
    {
      "cell_type": "code",
      "metadata": {
        "id": "muVr5tsqAwx0",
        "colab_type": "code",
        "colab": {}
      },
      "source": [
        "def generator(source_path, folder_list, batch_size, ablation=False):\n",
        "    #print('Source path = ', source_path, '; batch size =', batch_size)\n",
        "    # if ablation is true then only take only 2 images else take much more.\n",
        "    img_idx = img_indices #create a list of image numbers you want to use for a particular video. \n",
        "    x = len(img_idx)    \n",
        "    y,z = input_shape[1],input_shape[2] # image_standard_size\n",
        "    Model_Execution = True\n",
        "    while Model_Execution:\n",
        "        t = np.random.permutation(folder_list)\n",
        "        # print('t=',end='')\n",
        "        # print(t)\n",
        "        num_batches = int(len(folder_list)/batch_size) # calculate the number of batches\n",
        "        #print('num_batches=',num_batches)\n",
        "        for batch in range(num_batches): # we iterate over the number of batches\n",
        "            batch_data = np.zeros((batch_size,x,y,z,input_shape[3])) # x is the number of images you use for each video, (y,z) is the final size of the input images and 3 is the number of channels RGB\n",
        "            batch_labels = np.zeros((batch_size,no_of_classes)) # batch_labels is the one hot representation of the output\n",
        "            for folder in range(batch_size): # iterate over the batch_size\n",
        "    #             # print('folder=' + str(folder))\n",
        "    #             print('iterated=',folder + (batch*batch_size))\n",
        "    #             print('path=',source_path+'/'+ t[folder + (batch*batch_size)].split(';')[0])\n",
        "                imgs = os.listdir(source_path+'/'+ t[folder + (batch*batch_size)].split(';')[0]) # read all the images in the folder\n",
        "                # print('imgs=' + str(imgs[:2]))\n",
        "                for idx,item in enumerate(img_idx): #  Iterate iver the frames/images of a folder to read them in\n",
        "                    img_file_path = source_path+'/'+ t[folder + (batch*batch_size)].strip().split(';')[0]+'/'+imgs[item]\n",
        "                    # print('img_file_path=' + img_file_path)\n",
        "                    image = np.load(img_file_path)#.astype(np.float32)\n",
        "                    #print(image.shape)\n",
        "                    #crop the images and resize them. Note that the images are of 2 different shape\n",
        "                    #and the conv3D will throw error if the inputs in a batch have different shapes\n",
        "                    batch_data[folder,idx,:,:,0] = (image[:,:,0] - image[:,:,0].min())/(image[:,:,0].max() - image[:,:,0].min()) #normalise and feed in the image\n",
        "                    batch_data[folder,idx,:,:,1] = (image[:,:,1] - image[:,:,1].min())/(image[:,:,1].max() - image[:,:,1].min()) #normalise and feed in the image\n",
        "                    batch_data[folder,idx,:,:,2] = (image[:,:,2] - image[:,:,2].min())/(image[:,:,2].max() - image[:,:,2].min()) #normalise and feed in the image\n",
        "\n",
        "                batch_labels[folder, int(t[folder + (batch*batch_size)].strip().split(';')[2])] = 1\n",
        "            #batch_labels = to_categorical(batch_labels, 5) #5 classes\n",
        "            #batch_labels.shape\n",
        "            #batch_labels = batch_labels.reshape(-1, 1)\n",
        "            #print('yielding normal batch=>{}'.format(batch))\n",
        "            #print('batch_data=>{}'.format(str(batch_data)))\n",
        "            #print('batch_labels=>{}'.format(str(batch_labels)))\n",
        "            yield batch_data, batch_labels #you yield the batch_data and the batch_labels, remember what does yield do\n",
        "\n",
        "        # write the code for the remaining data points which are left after full batches\n",
        "        remaining_size = len(folder_list) - (batch_size*num_batches)\n",
        "        if (remaining_size > 0):\n",
        "            #print('remaining_size=',remaining_size)\n",
        "            batch_data = np.zeros((remaining_size,x,y,z,input_shape[3])) # x is the number of images you use for each video, (y,z) is the final size of the input images and 3 is the number of channels RGB\n",
        "            batch_labels = np.zeros((remaining_size,no_of_classes)) # batch_labels is the one hot representation of the output\n",
        "            for folder in range(remaining_size):\n",
        "                #print('new_folder=',folder)\n",
        "                #print('new path=',source_path+'/'+ t[folder].split(';')[0])\n",
        "                imgs = os.listdir(source_path+'/'+ t[folder].split(';')[0]) # read all the images in the folder\n",
        "                for idx,item in enumerate(img_idx): #  Iterate iver the frames/images of a folder to read them in\n",
        "                    img_file_path = source_path+'/'+ t[folder].strip().split(';')[0]+'/'+imgs[item]\n",
        "                    # print('img_file_path=' + img_file_path)\n",
        "                    image = np.load(img_file_path)#.astype(np.float32)                                        \n",
        "                    #print(image.shape)\n",
        "                    #crop the images and resize them. Note that the images are of 2 different shape\n",
        "                    #and the conv3D will throw error if the inputs in a batch have different shapes\n",
        "                    batch_data[folder,idx,:,:,0] = (image[:,:,0] - image[:,:,0].min())/(image[:,:,0].max() - image[:,:,0].min()) #normalise and feed in the image\n",
        "                    batch_data[folder,idx,:,:,1] = (image[:,:,1] - image[:,:,1].min())/(image[:,:,1].max() - image[:,:,1].min()) #normalise and feed in the image\n",
        "                    batch_data[folder,idx,:,:,2] = (image[:,:,2] - image[:,:,2].min())/(image[:,:,2].max() - image[:,:,2].min()) #normalise and feed in the image\n",
        "                batch_labels[folder, int(t[folder].strip().split(';')[2])] = 1\n",
        "            #batch_labels = to_categorical(batch_labels, 5) #5 classes\n",
        "            #batch_labels = batch_labels.reshape(-1, 1)\n",
        "            #print('yielding remaining batch=>',batch)\n",
        "            #print(batch_labels)\n",
        "            yield batch_data, batch_labels\n",
        "            Model_Execution = True\n",
        "\n",
        "# ## test code to test generator function\n",
        "# train_path = f'{root_dir}/numpy/train'\n",
        "# num_train_sequences = len(train_doc)\n",
        "# train_generator = generator(source_path=train_path, folder_list=train_doc, batch_size=batch_size, ablation=False)\n",
        "# index = 0\n",
        "# for batch_data, batch_labels in train_generator: \n",
        "#     index += len(batch_data)    \n",
        "#     print(batch_data.shape,batch_labels.shape) "
      ],
      "execution_count": 0,
      "outputs": []
    },
    {
      "cell_type": "code",
      "metadata": {
        "id": "jogwKDphAwx2",
        "colab_type": "code",
        "colab": {}
      },
      "source": [
        ""
      ],
      "execution_count": 0,
      "outputs": []
    },
    {
      "cell_type": "markdown",
      "metadata": {
        "id": "sD1BePtMAwx4",
        "colab_type": "text"
      },
      "source": [
        "Note here that a video is represented above in the generator as (number of images, height, width, number of channels). Take this into consideration while creating the model architecture."
      ]
    },
    {
      "cell_type": "code",
      "metadata": {
        "id": "hqXYWGRqAwx4",
        "colab_type": "code",
        "outputId": "40cbd291-4d5b-4d79-8cf9-64aa0b49f145",
        "colab": {
          "base_uri": "https://localhost:8080/",
          "height": 68
        }
      },
      "source": [
        "curr_dt_time = datetime.datetime.now()\n",
        "train_path = f'{root_dir}/numpy/train'\n",
        "val_path = f'{root_dir}/numpy/val'\n",
        "num_train_sequences = len(train_doc)\n",
        "print('# training sequences =', num_train_sequences)\n",
        "num_val_sequences = len(val_doc)\n",
        "print('# validation sequences =', num_val_sequences)\n",
        "print ('# epochs =', num_epochs)"
      ],
      "execution_count": 12,
      "outputs": [
        {
          "output_type": "stream",
          "text": [
            "# training sequences = 663\n",
            "# validation sequences = 100\n",
            "# epochs = 50\n"
          ],
          "name": "stdout"
        }
      ]
    },
    {
      "cell_type": "markdown",
      "metadata": {
        "id": "zlcwLEPZAwx7",
        "colab_type": "text"
      },
      "source": [
        "## Model\n",
        "Here you make the model using different functionalities that Keras provides. Remember to use `Conv3D` and `MaxPooling3D` and not `Conv2D` and `Maxpooling2D` for a 3D convolution model. You would want to use `TimeDistributed` while building a Conv2D + RNN model. Also remember that the last layer is the softmax. Design the network in such a way that the model is able to give good accuracy on the least number of parameters so that it can fit in the memory of the webcam."
      ]
    },
    {
      "cell_type": "code",
      "metadata": {
        "id": "7MekrkF6Awx7",
        "colab_type": "code",
        "colab": {}
      },
      "source": [
        "from keras.models import Sequential, Model\n",
        "from keras.layers import Dense, GRU, Flatten, TimeDistributed, Flatten, BatchNormalization, Activation, Dropout,LeakyReLU\n",
        "from keras.layers.convolutional import Conv3D, MaxPooling3D\n",
        "from keras.callbacks import ModelCheckpoint, ReduceLROnPlateau, CSVLogger,EarlyStopping\n",
        "from keras import optimizers"
      ],
      "execution_count": 0,
      "outputs": []
    },
    {
      "cell_type": "code",
      "metadata": {
        "id": "PNa_jpvmAwx9",
        "colab_type": "code",
        "colab": {}
      },
      "source": [
        "#model.add(Conv3D(filters=32, kernel_size=(3,3,3), strides=(1, 1, 1), padding='same', activation='relu',data_format='channels_last'))\n",
        "#model.add(MaxPooling3D(pool_size=(2, 2, 1)))\n",
        "#model.add(Dense(1024))\n",
        "\n",
        "\n",
        "#write your model here\n",
        "\n",
        "##################### model 1 ################\n",
        "# model = Sequential()\n",
        "# model.add(Conv3D(filters=32, kernel_size=(3,3,3), strides=(1, 1, 1), activation=None, input_shape=(len(list(range(0,30,1))),120,160,3),data_format='channels_last'))\n",
        "# model.add(LeakyReLU(alpha=0.1))\n",
        "# model.add(MaxPooling3D(pool_size=(1, 1, 1)))\n",
        "# model.add(Conv3D(filters=64, kernel_size=(3,3,3), strides=(1, 1, 1), activation=None))\n",
        "# model.add(LeakyReLU(alpha=0.1))\n",
        "# model.add(Flatten())\n",
        "# model.add(Dense(5, activation='softmax')) # 5 are number of classes"
      ],
      "execution_count": 0,
      "outputs": []
    },
    {
      "cell_type": "code",
      "metadata": {
        "id": "AOEXS78CAwx_",
        "colab_type": "code",
        "colab": {}
      },
      "source": [
        "# ###################### model 2 ################\n",
        "# model = Sequential()\n",
        "# model.add(Conv3D(64, kernel_size=(3,3,3), activation='relu', input_shape=input_shape,data_format='channels_last'))\n",
        "# model.add(MaxPooling3D(pool_size=(1, 2, 2), strides=(1, 2, 2)))\n",
        "# model.add(Conv3D(128, (3,3,3), activation='relu'))\n",
        "# model.add(MaxPooling3D(pool_size=(1, 2, 2), strides=(1, 2, 2)))\n",
        "# model.add(Conv3D(256, (3,3,3), activation='relu'))\n",
        "# model.add(Conv3D(256, (3,3,3), activation='relu'))\n",
        "# model.add(MaxPooling3D(pool_size=(1, 2, 2), strides=(1, 2, 2)))\n",
        "# model.add(Conv3D(512, (3,3,3), activation='relu'))\n",
        "# model.add(Conv3D(512, (3,3,3), activation='relu'))\n",
        "# model.add(MaxPooling3D(pool_size=(1, 2, 2), strides=(1, 2, 2)))\n",
        "# # model.add(Conv3D(512, (3,3,3), activation='relu'))\n",
        "# # model.add(Conv3D(512, (3,3,3), activation='relu'))\n",
        "# # model.add(MaxPooling3D(pool_size=(1, 2, 2), strides=(1, 2, 2)))\n",
        "# model.add(Flatten())\n",
        "# model.add(Dense(2048,activation='relu'))\n",
        "# model.add(Dense(2048,activation='relu'))\n",
        "# model.add(Dense(no_of_classes, activation='softmax'))"
      ],
      "execution_count": 0,
      "outputs": []
    },
    {
      "cell_type": "code",
      "metadata": {
        "id": "9DrW0AN6AwyB",
        "colab_type": "code",
        "colab": {}
      },
      "source": [
        "# ###################### model 2 ################\n",
        "# model = Sequential()\n",
        "# model.add(Conv3D(64, kernel_size=(3,3,3), activation='relu', input_shape=input_shape,data_format='channels_last'))\n",
        "# model.add(MaxPooling3D(pool_size=(1, 2, 2), strides=(1, 2, 2)))\n",
        "# model.add(Conv3D(128, (3,3,3), activation='relu'))\n",
        "# model.add(MaxPooling3D(pool_size=(1, 2, 2), strides=(1, 2, 2)))\n",
        "# model.add(Conv3D(256, (3,3,3), activation='relu'))\n",
        "# model.add(Conv3D(256, (3,3,3), activation='relu'))\n",
        "# model.add(MaxPooling3D(pool_size=(1, 2, 2), strides=(1, 2, 2)))\n",
        "# model.add(Conv3D(512, (3,3,3), activation='relu'))\n",
        "# model.add(Conv3D(512, (3,3,3), activation='relu'))\n",
        "# model.add(MaxPooling3D(pool_size=(1, 2, 2), strides=(1, 2, 2)))\n",
        "# # model.add(Conv3D(512, (3,3,3), activation='relu'))\n",
        "# # model.add(Conv3D(512, (3,3,3), activation='relu'))\n",
        "# # model.add(MaxPooling3D(pool_size=(1, 2, 2), strides=(1, 2, 2)))\n",
        "# model.add(Flatten())\n",
        "# model.add(Dense(2048,activation='relu'))\n",
        "# model.add(Dense(2048,activation='relu'))\n",
        "# model.add(Dense(no_of_classes, activation='softmax'))"
      ],
      "execution_count": 0,
      "outputs": []
    },
    {
      "cell_type": "code",
      "metadata": {
        "id": "VqiFAjetAwyC",
        "colab_type": "code",
        "colab": {}
      },
      "source": [
        "# ###################### model 3 - deep model ################\n",
        "# model = Sequential()\n",
        "# model.add(Conv3D(64, kernel_size=(3,3,3), activation='relu', input_shape=input_shape,data_format='channels_last'))\n",
        "# model.add(Conv3D(64, (3,3,3), padding='same',activation='relu'))\n",
        "# model.add(MaxPooling3D(pool_size=(1,2,2), strides=(1,2,2)))\n",
        "# model.add(Conv3D(128, (3,3,3), padding='same',activation='relu'))\n",
        "# model.add(Conv3D(128, (3,3,3),  activation='relu'))\n",
        "# model.add(MaxPooling3D(pool_size=(1,2,2), strides=(1,2,2)))\n",
        "# model.add(Conv3D(256, (3,3,3), activation='relu'))\n",
        "# model.add(Conv3D(256, (3,3,3), activation='relu'))\n",
        "# model.add(Conv3D(256, (3,3,3),  activation='relu'))\n",
        "# model.add(Conv3D(256, (3,3,3),  activation='relu'))\n",
        "# model.add(MaxPooling3D(pool_size=(1, 2, 2), strides=(1, 2, 2)))\n",
        "# model.add(Flatten())\n",
        "# model.add(Dense(2048,activation='relu'))\n",
        "# model.add(Dense(2048,activation='relu'))\n",
        "# model.add(Dense(no_of_classes, activation='softmax'))\n",
        "# model.summary()"
      ],
      "execution_count": 0,
      "outputs": []
    },
    {
      "cell_type": "code",
      "metadata": {
        "id": "W0rMcM-l0kX1",
        "colab_type": "code",
        "colab": {
          "base_uri": "https://localhost:8080/",
          "height": 1431
        },
        "outputId": "bfc84c41-650b-40ff-9f21-9f515f87761c"
      },
      "source": [
        "##################### model 3 - deep model ################\n",
        "model = Sequential()\n",
        "model.add(Conv3D(16, kernel_size=(3,3,3), activation='relu', input_shape=input_shape,data_format='channels_last'))\n",
        "model.add(BatchNormalization())\n",
        "model.add(Conv3D(16, (3,3,3), padding='same',activation='relu'))\n",
        "model.add(BatchNormalization())\n",
        "model.add(Dropout(0.25))\n",
        "model.add(MaxPooling3D(pool_size=(1,2,2), strides=(1,2,2)))\n",
        "model.add(Conv3D(32, (3,3,3), padding='same',activation='relu'))\n",
        "model.add(BatchNormalization())\n",
        "model.add(Dropout(0.25))\n",
        "model.add(Conv3D(32, (3,3,3), padding='same', activation='relu'))\n",
        "model.add(BatchNormalization())\n",
        "model.add(Dropout(0.25))\n",
        "model.add(MaxPooling3D(pool_size=(1,2,2), strides=(1,2,2)))\n",
        "model.add(Conv3D(64, (3,3,3),padding='same', activation='relu'))\n",
        "model.add(BatchNormalization())\n",
        "model.add(Dropout(0.25))\n",
        "model.add(Conv3D(64, (3,3,3),padding='same', activation='relu'))\n",
        "model.add(BatchNormalization())\n",
        "model.add(Dropout(0.25))\n",
        "model.add(Conv3D(64, (3,3,3),padding='same',  activation='relu'))\n",
        "model.add(BatchNormalization())\n",
        "model.add(Dropout(0.25))\n",
        "model.add(Conv3D(64, (3,3,3),padding='same',  activation='relu'))\n",
        "model.add(BatchNormalization())\n",
        "model.add(Dropout(0.25))\n",
        "model.add(MaxPooling3D(pool_size=(1, 2, 2), strides=(1, 2, 2)))\n",
        "model.add(Conv3D(128, (3,3,3),padding='same', activation='relu'))\n",
        "model.add(BatchNormalization())\n",
        "model.add(Dropout(0.25))\n",
        "model.add(Conv3D(128, (3,3,3),padding='same', activation='relu'))\n",
        "model.add(BatchNormalization())\n",
        "model.add(Dropout(0.25))\n",
        "model.add(Conv3D(128, (3,3,3),padding='same',  activation='relu'))\n",
        "model.add(BatchNormalization())\n",
        "model.add(Dropout(0.25))\n",
        "model.add(Conv3D(128, (3,3,3),padding='same',  activation='relu'))\n",
        "model.add(BatchNormalization())\n",
        "model.add(Dropout(0.25))\n",
        "model.add(Flatten())\n",
        "model.add(Dense(2048,activation='relu'))\n",
        "model.add(BatchNormalization())\n",
        "model.add(Dense(2048,activation='relu'))\n",
        "model.add(BatchNormalization())\n",
        "model.add(Dense(no_of_classes, activation='softmax'))\n",
        "model.summary()"
      ],
      "execution_count": 18,
      "outputs": [
        {
          "output_type": "stream",
          "text": [
            "WARNING: Logging before flag parsing goes to stderr.\n",
            "W0615 08:39:46.349839 139691366012800 deprecation_wrapper.py:119] From /usr/local/lib/python3.6/dist-packages/keras/backend/tensorflow_backend.py:74: The name tf.get_default_graph is deprecated. Please use tf.compat.v1.get_default_graph instead.\n",
            "\n",
            "W0615 08:39:46.353478 139691366012800 deprecation_wrapper.py:119] From /usr/local/lib/python3.6/dist-packages/keras/backend/tensorflow_backend.py:517: The name tf.placeholder is deprecated. Please use tf.compat.v1.placeholder instead.\n",
            "\n",
            "W0615 08:39:46.358917 139691366012800 deprecation_wrapper.py:119] From /usr/local/lib/python3.6/dist-packages/keras/backend/tensorflow_backend.py:4138: The name tf.random_uniform is deprecated. Please use tf.random.uniform instead.\n",
            "\n",
            "W0615 08:39:46.451393 139691366012800 deprecation_wrapper.py:119] From /usr/local/lib/python3.6/dist-packages/keras/backend/tensorflow_backend.py:133: The name tf.placeholder_with_default is deprecated. Please use tf.compat.v1.placeholder_with_default instead.\n",
            "\n"
          ],
          "name": "stderr"
        },
        {
          "output_type": "stream",
          "text": [
            "_________________________________________________________________\n",
            "Layer (type)                 Output Shape              Param #   \n",
            "=================================================================\n",
            "conv3d_1 (Conv3D)            (None, 13, 98, 98, 16)    1312      \n",
            "_________________________________________________________________\n",
            "batch_normalization_1 (Batch (None, 13, 98, 98, 16)    64        \n",
            "_________________________________________________________________\n",
            "conv3d_2 (Conv3D)            (None, 13, 98, 98, 16)    6928      \n",
            "_________________________________________________________________\n",
            "batch_normalization_2 (Batch (None, 13, 98, 98, 16)    64        \n",
            "_________________________________________________________________\n",
            "max_pooling3d_1 (MaxPooling3 (None, 13, 49, 49, 16)    0         \n",
            "_________________________________________________________________\n",
            "conv3d_3 (Conv3D)            (None, 13, 49, 49, 32)    13856     \n",
            "_________________________________________________________________\n",
            "batch_normalization_3 (Batch (None, 13, 49, 49, 32)    128       \n",
            "_________________________________________________________________\n",
            "conv3d_4 (Conv3D)            (None, 13, 49, 49, 32)    27680     \n",
            "_________________________________________________________________\n",
            "batch_normalization_4 (Batch (None, 13, 49, 49, 32)    128       \n",
            "_________________________________________________________________\n",
            "max_pooling3d_2 (MaxPooling3 (None, 13, 24, 24, 32)    0         \n",
            "_________________________________________________________________\n",
            "conv3d_5 (Conv3D)            (None, 13, 24, 24, 64)    55360     \n",
            "_________________________________________________________________\n",
            "batch_normalization_5 (Batch (None, 13, 24, 24, 64)    256       \n",
            "_________________________________________________________________\n",
            "conv3d_6 (Conv3D)            (None, 13, 24, 24, 64)    110656    \n",
            "_________________________________________________________________\n",
            "batch_normalization_6 (Batch (None, 13, 24, 24, 64)    256       \n",
            "_________________________________________________________________\n",
            "conv3d_7 (Conv3D)            (None, 13, 24, 24, 64)    110656    \n",
            "_________________________________________________________________\n",
            "batch_normalization_7 (Batch (None, 13, 24, 24, 64)    256       \n",
            "_________________________________________________________________\n",
            "conv3d_8 (Conv3D)            (None, 13, 24, 24, 64)    110656    \n",
            "_________________________________________________________________\n",
            "batch_normalization_8 (Batch (None, 13, 24, 24, 64)    256       \n",
            "_________________________________________________________________\n",
            "max_pooling3d_3 (MaxPooling3 (None, 13, 12, 12, 64)    0         \n",
            "_________________________________________________________________\n",
            "conv3d_9 (Conv3D)            (None, 13, 12, 12, 128)   221312    \n",
            "_________________________________________________________________\n",
            "batch_normalization_9 (Batch (None, 13, 12, 12, 128)   512       \n",
            "_________________________________________________________________\n",
            "conv3d_10 (Conv3D)           (None, 13, 12, 12, 128)   442496    \n",
            "_________________________________________________________________\n",
            "batch_normalization_10 (Batc (None, 13, 12, 12, 128)   512       \n",
            "_________________________________________________________________\n",
            "conv3d_11 (Conv3D)           (None, 13, 12, 12, 128)   442496    \n",
            "_________________________________________________________________\n",
            "batch_normalization_11 (Batc (None, 13, 12, 12, 128)   512       \n",
            "_________________________________________________________________\n",
            "conv3d_12 (Conv3D)           (None, 13, 12, 12, 128)   442496    \n",
            "_________________________________________________________________\n",
            "batch_normalization_12 (Batc (None, 13, 12, 12, 128)   512       \n",
            "_________________________________________________________________\n",
            "flatten_1 (Flatten)          (None, 239616)            0         \n",
            "_________________________________________________________________\n",
            "dense_1 (Dense)              (None, 2048)              490735616 \n",
            "_________________________________________________________________\n",
            "batch_normalization_13 (Batc (None, 2048)              8192      \n",
            "_________________________________________________________________\n",
            "dense_2 (Dense)              (None, 2048)              4196352   \n",
            "_________________________________________________________________\n",
            "batch_normalization_14 (Batc (None, 2048)              8192      \n",
            "_________________________________________________________________\n",
            "dense_3 (Dense)              (None, 5)                 10245     \n",
            "=================================================================\n",
            "Total params: 496,947,957\n",
            "Trainable params: 496,938,037\n",
            "Non-trainable params: 9,920\n",
            "_________________________________________________________________\n"
          ],
          "name": "stdout"
        }
      ]
    },
    {
      "cell_type": "markdown",
      "metadata": {
        "id": "3RIal45ZAwyG",
        "colab_type": "text"
      },
      "source": [
        "Now that you have written the model, the next step is to `compile` the model. When you print the `summary` of the model, you'll see the total number of parameters you have to train."
      ]
    },
    {
      "cell_type": "code",
      "metadata": {
        "scrolled": true,
        "id": "LxwY4We_AwyG",
        "colab_type": "code",
        "outputId": "9329de5f-0d6c-4aaa-8206-b2aabaf17819",
        "colab": {
          "base_uri": "https://localhost:8080/",
          "height": 1346
        }
      },
      "source": [
        "optimiser = optimizers.SGD(lr=1e-3, decay=1e-6, momentum=0.9, nesterov=True) #write your optimizer\n",
        "model.compile(optimizer=optimiser, loss='categorical_crossentropy', metrics=['categorical_accuracy'])\n",
        "model.summary()"
      ],
      "execution_count": 19,
      "outputs": [
        {
          "output_type": "stream",
          "text": [
            "W0615 08:39:48.099979 139691366012800 deprecation_wrapper.py:119] From /usr/local/lib/python3.6/dist-packages/keras/optimizers.py:790: The name tf.train.Optimizer is deprecated. Please use tf.compat.v1.train.Optimizer instead.\n",
            "\n",
            "W0615 08:39:48.109545 139691366012800 deprecation_wrapper.py:119] From /usr/local/lib/python3.6/dist-packages/keras/backend/tensorflow_backend.py:3295: The name tf.log is deprecated. Please use tf.math.log instead.\n",
            "\n"
          ],
          "name": "stderr"
        },
        {
          "output_type": "stream",
          "text": [
            "_________________________________________________________________\n",
            "Layer (type)                 Output Shape              Param #   \n",
            "=================================================================\n",
            "conv3d_1 (Conv3D)            (None, 13, 98, 98, 16)    1312      \n",
            "_________________________________________________________________\n",
            "batch_normalization_1 (Batch (None, 13, 98, 98, 16)    64        \n",
            "_________________________________________________________________\n",
            "conv3d_2 (Conv3D)            (None, 13, 98, 98, 16)    6928      \n",
            "_________________________________________________________________\n",
            "batch_normalization_2 (Batch (None, 13, 98, 98, 16)    64        \n",
            "_________________________________________________________________\n",
            "max_pooling3d_1 (MaxPooling3 (None, 13, 49, 49, 16)    0         \n",
            "_________________________________________________________________\n",
            "conv3d_3 (Conv3D)            (None, 13, 49, 49, 32)    13856     \n",
            "_________________________________________________________________\n",
            "batch_normalization_3 (Batch (None, 13, 49, 49, 32)    128       \n",
            "_________________________________________________________________\n",
            "conv3d_4 (Conv3D)            (None, 13, 49, 49, 32)    27680     \n",
            "_________________________________________________________________\n",
            "batch_normalization_4 (Batch (None, 13, 49, 49, 32)    128       \n",
            "_________________________________________________________________\n",
            "max_pooling3d_2 (MaxPooling3 (None, 13, 24, 24, 32)    0         \n",
            "_________________________________________________________________\n",
            "conv3d_5 (Conv3D)            (None, 13, 24, 24, 64)    55360     \n",
            "_________________________________________________________________\n",
            "batch_normalization_5 (Batch (None, 13, 24, 24, 64)    256       \n",
            "_________________________________________________________________\n",
            "conv3d_6 (Conv3D)            (None, 13, 24, 24, 64)    110656    \n",
            "_________________________________________________________________\n",
            "batch_normalization_6 (Batch (None, 13, 24, 24, 64)    256       \n",
            "_________________________________________________________________\n",
            "conv3d_7 (Conv3D)            (None, 13, 24, 24, 64)    110656    \n",
            "_________________________________________________________________\n",
            "batch_normalization_7 (Batch (None, 13, 24, 24, 64)    256       \n",
            "_________________________________________________________________\n",
            "conv3d_8 (Conv3D)            (None, 13, 24, 24, 64)    110656    \n",
            "_________________________________________________________________\n",
            "batch_normalization_8 (Batch (None, 13, 24, 24, 64)    256       \n",
            "_________________________________________________________________\n",
            "max_pooling3d_3 (MaxPooling3 (None, 13, 12, 12, 64)    0         \n",
            "_________________________________________________________________\n",
            "conv3d_9 (Conv3D)            (None, 13, 12, 12, 128)   221312    \n",
            "_________________________________________________________________\n",
            "batch_normalization_9 (Batch (None, 13, 12, 12, 128)   512       \n",
            "_________________________________________________________________\n",
            "conv3d_10 (Conv3D)           (None, 13, 12, 12, 128)   442496    \n",
            "_________________________________________________________________\n",
            "batch_normalization_10 (Batc (None, 13, 12, 12, 128)   512       \n",
            "_________________________________________________________________\n",
            "conv3d_11 (Conv3D)           (None, 13, 12, 12, 128)   442496    \n",
            "_________________________________________________________________\n",
            "batch_normalization_11 (Batc (None, 13, 12, 12, 128)   512       \n",
            "_________________________________________________________________\n",
            "conv3d_12 (Conv3D)           (None, 13, 12, 12, 128)   442496    \n",
            "_________________________________________________________________\n",
            "batch_normalization_12 (Batc (None, 13, 12, 12, 128)   512       \n",
            "_________________________________________________________________\n",
            "flatten_1 (Flatten)          (None, 239616)            0         \n",
            "_________________________________________________________________\n",
            "dense_1 (Dense)              (None, 2048)              490735616 \n",
            "_________________________________________________________________\n",
            "batch_normalization_13 (Batc (None, 2048)              8192      \n",
            "_________________________________________________________________\n",
            "dense_2 (Dense)              (None, 2048)              4196352   \n",
            "_________________________________________________________________\n",
            "batch_normalization_14 (Batc (None, 2048)              8192      \n",
            "_________________________________________________________________\n",
            "dense_3 (Dense)              (None, 5)                 10245     \n",
            "=================================================================\n",
            "Total params: 496,947,957\n",
            "Trainable params: 496,938,037\n",
            "Non-trainable params: 9,920\n",
            "_________________________________________________________________\n"
          ],
          "name": "stdout"
        }
      ]
    },
    {
      "cell_type": "markdown",
      "metadata": {
        "id": "bsvu-KsxAwyJ",
        "colab_type": "text"
      },
      "source": [
        "Let us create the `train_generator` and the `val_generator` which will be used in `.fit_generator`."
      ]
    },
    {
      "cell_type": "code",
      "metadata": {
        "id": "iLoDMlj1AwyJ",
        "colab_type": "code",
        "colab": {}
      },
      "source": [
        "train_generator = generator(train_path, train_doc, batch_size)\n",
        "val_generator = generator(val_path, val_doc, batch_size)"
      ],
      "execution_count": 0,
      "outputs": []
    },
    {
      "cell_type": "code",
      "metadata": {
        "id": "DFYSsMRUAwyL",
        "colab_type": "code",
        "colab": {}
      },
      "source": [
        "model_name = 'model_init' + '_' + str(curr_dt_time).replace(' ','').replace(':','_') + '/'\n",
        "    \n",
        "if not os.path.exists(model_name):\n",
        "    os.mkdir(model_name)\n",
        "        \n",
        "filepath = model_name + 'model-{epoch:05d}-{loss:.5f}-{categorical_accuracy:.5f}-{val_loss:.5f}-{val_categorical_accuracy:.5f}.h5'\n",
        "\n",
        "#checkpoint = ModelCheckpoint(filepath, monitor='val_loss', verbose=1, save_best_only=False, save_weights_only=False, mode='auto', period=1)\n",
        "my_model_checkpoint = ModelCheckpoint(filepath, monitor='val_loss', verbose=1, save_best_only=True, save_weights_only=True, mode='auto', period=1)\n",
        "csv_logger = CSVLogger('training.cnn3d.txt',separator=',', append=True)\n",
        "early_stopping = EarlyStopping(monitor='val_loss', min_delta=0, patience=20, verbose=1)\n",
        "reduce_LR = ReduceLROnPlateau(monitor='val_loss', factor=0.8, patience=10, min_lr=1e-10,verbose=1) # write the REducelronplateau code here\n",
        "callbacks_list = [reduce_LR,csv_logger,my_model_checkpoint,early_stopping] #checkpoint"
      ],
      "execution_count": 0,
      "outputs": []
    },
    {
      "cell_type": "markdown",
      "metadata": {
        "id": "9knbjCTXAwyN",
        "colab_type": "text"
      },
      "source": [
        "The `steps_per_epoch` and `validation_steps` are used by `fit_generator` to decide the number of next() calls it need to make."
      ]
    },
    {
      "cell_type": "code",
      "metadata": {
        "id": "QhnEtxv_AwyN",
        "colab_type": "code",
        "colab": {}
      },
      "source": [
        "if (num_train_sequences%batch_size) == 0:\n",
        "    steps_per_epoch = int(num_train_sequences/batch_size)\n",
        "else:\n",
        "    steps_per_epoch = (num_train_sequences//batch_size) + 1\n",
        "\n",
        "if (num_val_sequences%batch_size) == 0:\n",
        "    validation_steps = int(num_val_sequences/batch_size)\n",
        "else:\n",
        "    validation_steps = (num_val_sequences//batch_size) + 1"
      ],
      "execution_count": 0,
      "outputs": []
    },
    {
      "cell_type": "markdown",
      "metadata": {
        "id": "nKRfU0oMAwyQ",
        "colab_type": "text"
      },
      "source": [
        "Let us now fit the model. This will start training the model and with the help of the checkpoints, you'll be able to save the model at the end of each epoch."
      ]
    },
    {
      "cell_type": "code",
      "metadata": {
        "id": "ezeOLRZgAwyR",
        "colab_type": "code",
        "outputId": "e428e51e-9f47-4c9d-8dbc-507cbe968b92",
        "colab": {
          "base_uri": "https://localhost:8080/",
          "height": 2230
        }
      },
      "source": [
        "#model.load_weights('./03-model_init_2019-06-1205_47_36.337812/model-00010-0.84542-0.67270-1.15618-0.59000.h5')\n",
        "model.fit_generator(train_generator, steps_per_epoch=steps_per_epoch, epochs=num_epochs, verbose=1, \n",
        "                    callbacks=callbacks_list, validation_data=val_generator, \n",
        "                    validation_steps=validation_steps, class_weight=None, workers=1, initial_epoch=0)"
      ],
      "execution_count": 23,
      "outputs": [
        {
          "output_type": "stream",
          "text": [
            "W0615 08:39:48.382845 139691366012800 deprecation.py:323] From /usr/local/lib/python3.6/dist-packages/tensorflow/python/ops/math_grad.py:1250: add_dispatch_support.<locals>.wrapper (from tensorflow.python.ops.array_ops) is deprecated and will be removed in a future version.\n",
            "Instructions for updating:\n",
            "Use tf.where in 2.0, which has the same broadcast rule as np.where\n"
          ],
          "name": "stderr"
        },
        {
          "output_type": "stream",
          "text": [
            "Epoch 1/50\n",
            "34/34 [==============================] - 47s 1s/step - loss: 2.4212 - categorical_accuracy: 0.3657 - val_loss: 10.7340 - val_categorical_accuracy: 0.2900\n",
            "\n",
            "Epoch 00001: val_loss improved from inf to 10.73400, saving model to model_init_2019-06-1508_39_46.106991/model-00001-2.44333-0.36652-10.73400-0.29000.h5\n",
            "Epoch 2/50\n",
            "34/34 [==============================] - 28s 813ms/step - loss: 1.5049 - categorical_accuracy: 0.5666 - val_loss: 7.7697 - val_categorical_accuracy: 0.3400\n",
            "\n",
            "Epoch 00002: val_loss improved from 10.73400 to 7.76975, saving model to model_init_2019-06-1508_39_46.106991/model-00002-1.52185-0.56410-7.76975-0.34000.h5\n",
            "Epoch 3/50\n",
            "34/34 [==============================] - 28s 827ms/step - loss: 1.2417 - categorical_accuracy: 0.5607 - val_loss: 5.4011 - val_categorical_accuracy: 0.3700\n",
            "\n",
            "Epoch 00003: val_loss improved from 7.76975 to 5.40106, saving model to model_init_2019-06-1508_39_46.106991/model-00003-1.21291-0.57466-5.40106-0.37000.h5\n",
            "Epoch 4/50\n",
            "34/34 [==============================] - 28s 817ms/step - loss: 0.8511 - categorical_accuracy: 0.6976 - val_loss: 2.5585 - val_categorical_accuracy: 0.5000\n",
            "\n",
            "Epoch 00004: val_loss improved from 5.40106 to 2.55848, saving model to model_init_2019-06-1508_39_46.106991/model-00004-0.85157-0.69834-2.55848-0.50000.h5\n",
            "Epoch 5/50\n",
            "34/34 [==============================] - 28s 823ms/step - loss: 0.5741 - categorical_accuracy: 0.8072 - val_loss: 2.3741 - val_categorical_accuracy: 0.4600\n",
            "\n",
            "Epoch 00005: val_loss improved from 2.55848 to 2.37408, saving model to model_init_2019-06-1508_39_46.106991/model-00005-0.58714-0.80241-2.37408-0.46000.h5\n",
            "Epoch 6/50\n",
            "34/34 [==============================] - 28s 816ms/step - loss: 0.3157 - categorical_accuracy: 0.8867 - val_loss: 1.4948 - val_categorical_accuracy: 0.5500\n",
            "\n",
            "Epoch 00006: val_loss improved from 2.37408 to 1.49485, saving model to model_init_2019-06-1508_39_46.106991/model-00006-0.31653-0.88386-1.49485-0.55000.h5\n",
            "Epoch 7/50\n",
            "34/34 [==============================] - 28s 820ms/step - loss: 0.1807 - categorical_accuracy: 0.9242 - val_loss: 1.4889 - val_categorical_accuracy: 0.5600\n",
            "\n",
            "Epoch 00007: val_loss improved from 1.49485 to 1.48886, saving model to model_init_2019-06-1508_39_46.106991/model-00007-0.16724-0.93062-1.48886-0.56000.h5\n",
            "Epoch 8/50\n",
            "34/34 [==============================] - 28s 818ms/step - loss: 0.1780 - categorical_accuracy: 0.9382 - val_loss: 1.5132 - val_categorical_accuracy: 0.5300\n",
            "\n",
            "Epoch 00008: val_loss did not improve from 1.48886\n",
            "Epoch 9/50\n",
            "34/34 [==============================] - 28s 821ms/step - loss: 0.1386 - categorical_accuracy: 0.9522 - val_loss: 1.4932 - val_categorical_accuracy: 0.5300\n",
            "\n",
            "Epoch 00009: val_loss did not improve from 1.48886\n",
            "Epoch 10/50\n",
            "34/34 [==============================] - 28s 811ms/step - loss: 0.1417 - categorical_accuracy: 0.9544 - val_loss: 1.3297 - val_categorical_accuracy: 0.5500\n",
            "\n",
            "Epoch 00010: val_loss improved from 1.48886 to 1.32969, saving model to model_init_2019-06-1508_39_46.106991/model-00010-0.14352-0.95324-1.32969-0.55000.h5\n",
            "Epoch 11/50\n",
            "34/34 [==============================] - 28s 821ms/step - loss: 0.1583 - categorical_accuracy: 0.9617 - val_loss: 1.3819 - val_categorical_accuracy: 0.5800\n",
            "\n",
            "Epoch 00011: val_loss did not improve from 1.32969\n",
            "Epoch 12/50\n",
            "34/34 [==============================] - 28s 823ms/step - loss: 0.1574 - categorical_accuracy: 0.9500 - val_loss: 2.0624 - val_categorical_accuracy: 0.4400\n",
            "\n",
            "Epoch 00012: val_loss did not improve from 1.32969\n",
            "Epoch 13/50\n",
            "34/34 [==============================] - 28s 809ms/step - loss: 0.4200 - categorical_accuracy: 0.8477 - val_loss: 2.5831 - val_categorical_accuracy: 0.4300\n",
            "\n",
            "Epoch 00013: val_loss did not improve from 1.32969\n",
            "Epoch 14/50\n",
            "34/34 [==============================] - 28s 816ms/step - loss: 0.3027 - categorical_accuracy: 0.9029 - val_loss: 1.7670 - val_categorical_accuracy: 0.5000\n",
            "\n",
            "Epoch 00014: val_loss did not improve from 1.32969\n",
            "Epoch 15/50\n",
            "34/34 [==============================] - 28s 817ms/step - loss: 0.1429 - categorical_accuracy: 0.9662 - val_loss: 1.4078 - val_categorical_accuracy: 0.5900\n",
            "\n",
            "Epoch 00015: val_loss did not improve from 1.32969\n",
            "Epoch 16/50\n",
            "34/34 [==============================] - 28s 813ms/step - loss: 0.1280 - categorical_accuracy: 0.9654 - val_loss: 1.5988 - val_categorical_accuracy: 0.5800\n",
            "\n",
            "Epoch 00016: val_loss did not improve from 1.32969\n",
            "Epoch 17/50\n",
            "34/34 [==============================] - 28s 815ms/step - loss: 0.3296 - categorical_accuracy: 0.9036 - val_loss: 2.2158 - val_categorical_accuracy: 0.4600\n",
            "\n",
            "Epoch 00017: val_loss did not improve from 1.32969\n",
            "Epoch 18/50\n",
            "34/34 [==============================] - 28s 815ms/step - loss: 0.4193 - categorical_accuracy: 0.8403 - val_loss: 4.5318 - val_categorical_accuracy: 0.3800\n",
            "\n",
            "Epoch 00018: val_loss did not improve from 1.32969\n",
            "Epoch 19/50\n",
            "34/34 [==============================] - 28s 817ms/step - loss: 0.4960 - categorical_accuracy: 0.8359 - val_loss: 3.3306 - val_categorical_accuracy: 0.4600\n",
            "\n",
            "Epoch 00019: val_loss did not improve from 1.32969\n",
            "Epoch 20/50\n",
            "34/34 [==============================] - 28s 813ms/step - loss: 0.3673 - categorical_accuracy: 0.8727 - val_loss: 2.1590 - val_categorical_accuracy: 0.5100\n",
            "\n",
            "Epoch 00020: ReduceLROnPlateau reducing learning rate to 0.000800000037997961.\n",
            "\n",
            "Epoch 00020: val_loss did not improve from 1.32969\n",
            "Epoch 21/50\n",
            "34/34 [==============================] - 28s 814ms/step - loss: 0.2459 - categorical_accuracy: 0.9191 - val_loss: 1.7967 - val_categorical_accuracy: 0.5500\n",
            "\n",
            "Epoch 00021: val_loss did not improve from 1.32969\n",
            "Epoch 22/50\n",
            "34/34 [==============================] - 28s 814ms/step - loss: 0.1014 - categorical_accuracy: 0.9750 - val_loss: 1.8296 - val_categorical_accuracy: 0.5600\n",
            "\n",
            "Epoch 00022: val_loss did not improve from 1.32969\n",
            "Epoch 23/50\n",
            "34/34 [==============================] - 28s 817ms/step - loss: 0.4004 - categorical_accuracy: 0.8653 - val_loss: 2.2994 - val_categorical_accuracy: 0.5300\n",
            "\n",
            "Epoch 00023: val_loss did not improve from 1.32969\n",
            "Epoch 24/50\n",
            "34/34 [==============================] - 28s 816ms/step - loss: 0.1821 - categorical_accuracy: 0.9323 - val_loss: 2.1562 - val_categorical_accuracy: 0.5500\n",
            "\n",
            "Epoch 00024: val_loss did not improve from 1.32969\n",
            "Epoch 25/50\n",
            "34/34 [==============================] - 28s 816ms/step - loss: 0.1378 - categorical_accuracy: 0.9566 - val_loss: 1.8764 - val_categorical_accuracy: 0.5700\n",
            "\n",
            "Epoch 00025: val_loss did not improve from 1.32969\n",
            "Epoch 26/50\n",
            "34/34 [==============================] - 28s 814ms/step - loss: 0.1691 - categorical_accuracy: 0.9433 - val_loss: 1.9112 - val_categorical_accuracy: 0.5300\n",
            "\n",
            "Epoch 00026: val_loss did not improve from 1.32969\n",
            "Epoch 27/50\n",
            "34/34 [==============================] - 28s 814ms/step - loss: 0.1753 - categorical_accuracy: 0.9603 - val_loss: 1.6345 - val_categorical_accuracy: 0.5000\n",
            "\n",
            "Epoch 00027: val_loss did not improve from 1.32969\n",
            "Epoch 28/50\n",
            "34/34 [==============================] - 28s 814ms/step - loss: 0.1311 - categorical_accuracy: 0.9654 - val_loss: 1.5783 - val_categorical_accuracy: 0.5300\n",
            "\n",
            "Epoch 00028: val_loss did not improve from 1.32969\n",
            "Epoch 29/50\n",
            "34/34 [==============================] - 28s 816ms/step - loss: 0.1019 - categorical_accuracy: 0.9669 - val_loss: 2.2294 - val_categorical_accuracy: 0.5300\n",
            "\n",
            "Epoch 00029: val_loss did not improve from 1.32969\n",
            "Epoch 30/50\n",
            "34/34 [==============================] - 28s 817ms/step - loss: 0.1442 - categorical_accuracy: 0.9529 - val_loss: 1.8534 - val_categorical_accuracy: 0.5500\n",
            "\n",
            "Epoch 00030: ReduceLROnPlateau reducing learning rate to 0.0006400000303983689.\n",
            "\n",
            "Epoch 00030: val_loss did not improve from 1.32969\n",
            "Epoch 00030: early stopping\n"
          ],
          "name": "stdout"
        },
        {
          "output_type": "execute_result",
          "data": {
            "text/plain": [
              "<keras.callbacks.History at 0x7f0c1ff3ee80>"
            ]
          },
          "metadata": {
            "tags": []
          },
          "execution_count": 23
        }
      ]
    },
    {
      "cell_type": "code",
      "metadata": {
        "id": "npKAV9TEAwyT",
        "colab_type": "code",
        "outputId": "29b646a8-c3bc-457f-e215-2f7cb7d83e13",
        "colab": {
          "base_uri": "https://localhost:8080/",
          "height": 1258
        }
      },
      "source": [
        "model.summary()"
      ],
      "execution_count": 24,
      "outputs": [
        {
          "output_type": "stream",
          "text": [
            "_________________________________________________________________\n",
            "Layer (type)                 Output Shape              Param #   \n",
            "=================================================================\n",
            "conv3d_1 (Conv3D)            (None, 13, 98, 98, 16)    1312      \n",
            "_________________________________________________________________\n",
            "batch_normalization_1 (Batch (None, 13, 98, 98, 16)    64        \n",
            "_________________________________________________________________\n",
            "conv3d_2 (Conv3D)            (None, 13, 98, 98, 16)    6928      \n",
            "_________________________________________________________________\n",
            "batch_normalization_2 (Batch (None, 13, 98, 98, 16)    64        \n",
            "_________________________________________________________________\n",
            "max_pooling3d_1 (MaxPooling3 (None, 13, 49, 49, 16)    0         \n",
            "_________________________________________________________________\n",
            "conv3d_3 (Conv3D)            (None, 13, 49, 49, 32)    13856     \n",
            "_________________________________________________________________\n",
            "batch_normalization_3 (Batch (None, 13, 49, 49, 32)    128       \n",
            "_________________________________________________________________\n",
            "conv3d_4 (Conv3D)            (None, 13, 49, 49, 32)    27680     \n",
            "_________________________________________________________________\n",
            "batch_normalization_4 (Batch (None, 13, 49, 49, 32)    128       \n",
            "_________________________________________________________________\n",
            "max_pooling3d_2 (MaxPooling3 (None, 13, 24, 24, 32)    0         \n",
            "_________________________________________________________________\n",
            "conv3d_5 (Conv3D)            (None, 13, 24, 24, 64)    55360     \n",
            "_________________________________________________________________\n",
            "batch_normalization_5 (Batch (None, 13, 24, 24, 64)    256       \n",
            "_________________________________________________________________\n",
            "conv3d_6 (Conv3D)            (None, 13, 24, 24, 64)    110656    \n",
            "_________________________________________________________________\n",
            "batch_normalization_6 (Batch (None, 13, 24, 24, 64)    256       \n",
            "_________________________________________________________________\n",
            "conv3d_7 (Conv3D)            (None, 13, 24, 24, 64)    110656    \n",
            "_________________________________________________________________\n",
            "batch_normalization_7 (Batch (None, 13, 24, 24, 64)    256       \n",
            "_________________________________________________________________\n",
            "conv3d_8 (Conv3D)            (None, 13, 24, 24, 64)    110656    \n",
            "_________________________________________________________________\n",
            "batch_normalization_8 (Batch (None, 13, 24, 24, 64)    256       \n",
            "_________________________________________________________________\n",
            "max_pooling3d_3 (MaxPooling3 (None, 13, 12, 12, 64)    0         \n",
            "_________________________________________________________________\n",
            "conv3d_9 (Conv3D)            (None, 13, 12, 12, 128)   221312    \n",
            "_________________________________________________________________\n",
            "batch_normalization_9 (Batch (None, 13, 12, 12, 128)   512       \n",
            "_________________________________________________________________\n",
            "conv3d_10 (Conv3D)           (None, 13, 12, 12, 128)   442496    \n",
            "_________________________________________________________________\n",
            "batch_normalization_10 (Batc (None, 13, 12, 12, 128)   512       \n",
            "_________________________________________________________________\n",
            "conv3d_11 (Conv3D)           (None, 13, 12, 12, 128)   442496    \n",
            "_________________________________________________________________\n",
            "batch_normalization_11 (Batc (None, 13, 12, 12, 128)   512       \n",
            "_________________________________________________________________\n",
            "conv3d_12 (Conv3D)           (None, 13, 12, 12, 128)   442496    \n",
            "_________________________________________________________________\n",
            "batch_normalization_12 (Batc (None, 13, 12, 12, 128)   512       \n",
            "_________________________________________________________________\n",
            "flatten_1 (Flatten)          (None, 239616)            0         \n",
            "_________________________________________________________________\n",
            "dense_1 (Dense)              (None, 2048)              490735616 \n",
            "_________________________________________________________________\n",
            "batch_normalization_13 (Batc (None, 2048)              8192      \n",
            "_________________________________________________________________\n",
            "dense_2 (Dense)              (None, 2048)              4196352   \n",
            "_________________________________________________________________\n",
            "batch_normalization_14 (Batc (None, 2048)              8192      \n",
            "_________________________________________________________________\n",
            "dense_3 (Dense)              (None, 5)                 10245     \n",
            "=================================================================\n",
            "Total params: 496,947,957\n",
            "Trainable params: 496,938,037\n",
            "Non-trainable params: 9,920\n",
            "_________________________________________________________________\n"
          ],
          "name": "stdout"
        }
      ]
    },
    {
      "cell_type": "code",
      "metadata": {
        "id": "G1nS0rnID0M9",
        "colab_type": "code",
        "colab": {}
      },
      "source": [
        ""
      ],
      "execution_count": 0,
      "outputs": []
    },
    {
      "cell_type": "code",
      "metadata": {
        "id": "P3vqsmTbAwyV",
        "colab_type": "code",
        "colab": {
          "base_uri": "https://localhost:8080/",
          "height": 184
        },
        "outputId": "ffc032af-b110-4f7a-95d2-7c41de7b17a4"
      },
      "source": [
        "os.rename('/content/cloned-repo/Project_data/model_init_2019-06-1208_44_45.080481','/content/cloned-repo/Project_data/04-model_init_2019-06-1208_44_45.080481')\n"
      ],
      "execution_count": 25,
      "outputs": [
        {
          "output_type": "error",
          "ename": "FileNotFoundError",
          "evalue": "ignored",
          "traceback": [
            "\u001b[0;31m---------------------------------------------------------------------------\u001b[0m",
            "\u001b[0;31mFileNotFoundError\u001b[0m                         Traceback (most recent call last)",
            "\u001b[0;32m<ipython-input-25-50e7d2d2ae98>\u001b[0m in \u001b[0;36m<module>\u001b[0;34m()\u001b[0m\n\u001b[0;32m----> 1\u001b[0;31m \u001b[0mos\u001b[0m\u001b[0;34m.\u001b[0m\u001b[0mrename\u001b[0m\u001b[0;34m(\u001b[0m\u001b[0;34m'/content/cloned-repo/Project_data/model_init_2019-06-1208_44_45.080481'\u001b[0m\u001b[0;34m,\u001b[0m\u001b[0;34m'/content/cloned-repo/Project_data/04-model_init_2019-06-1208_44_45.080481'\u001b[0m\u001b[0;34m)\u001b[0m\u001b[0;34m\u001b[0m\u001b[0;34m\u001b[0m\u001b[0m\n\u001b[0m",
            "\u001b[0;31mFileNotFoundError\u001b[0m: [Errno 2] No such file or directory: '/content/cloned-repo/Project_data/model_init_2019-06-1208_44_45.080481' -> '/content/cloned-repo/Project_data/04-model_init_2019-06-1208_44_45.080481'"
          ]
        }
      ]
    },
    {
      "cell_type": "code",
      "metadata": {
        "id": "DQfbQNUZrlZ7",
        "colab_type": "code",
        "colab": {}
      },
      "source": [
        "model.save(model_name + 'COMPLETE_model-00020-0.27388-0.88688-1.37700-0.57000.h5')"
      ],
      "execution_count": 0,
      "outputs": []
    },
    {
      "cell_type": "code",
      "metadata": {
        "id": "FmI72mGejnKr",
        "colab_type": "code",
        "colab": {}
      },
      "source": [
        "os.makedirs('/content/gdrive',exist_ok=True)\n",
        "from google.colab import drive\n",
        "drive.mount('/content/gdrive')"
      ],
      "execution_count": 0,
      "outputs": []
    },
    {
      "cell_type": "code",
      "metadata": {
        "id": "VxjUOrCljviT",
        "colab_type": "code",
        "colab": {}
      },
      "source": [
        "import shutil\n",
        "shutil.copytree('/content/cloned-repo/Project_data/04-model_init_2019-06-1208_44_45.080481', '/content/gdrive/My Drive/gesture_recognition/04-model_init_2019-06-1208_44_45.080481')"
      ],
      "execution_count": 0,
      "outputs": []
    },
    {
      "cell_type": "code",
      "metadata": {
        "id": "ApyuvkhUjy4B",
        "colab_type": "code",
        "colab": {}
      },
      "source": [
        ""
      ],
      "execution_count": 0,
      "outputs": []
    }
  ]
}