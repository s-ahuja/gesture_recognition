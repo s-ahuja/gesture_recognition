{
  "nbformat": 4,
  "nbformat_minor": 0,
  "metadata": {
    "colab": {
      "name": "Conv 3D Model Execution.ipynb",
      "version": "0.3.2",
      "provenance": [],
      "toc_visible": true,
      "include_colab_link": true
    },
    "language_info": {
      "codemirror_mode": {
        "name": "ipython",
        "version": 3
      },
      "file_extension": ".py",
      "mimetype": "text/x-python",
      "name": "python",
      "nbconvert_exporter": "python",
      "pygments_lexer": "ipython3",
      "version": "3.6.8"
    },
    "kernelspec": {
      "name": "python3",
      "display_name": "Python 3"
    },
    "accelerator": "GPU"
  },
  "cells": [
    {
      "cell_type": "markdown",
      "metadata": {
        "id": "view-in-github",
        "colab_type": "text"
      },
      "source": [
        "<a href=\"https://colab.research.google.com/github/s-ahuja/gesture_recognition/blob/master/Conv%203D%20Model%20Execution%20(Mentory%20Comments)-%20Google%20Collab%20v2.ipynb\" target=\"_parent\"><img src=\"https://colab.research.google.com/assets/colab-badge.svg\" alt=\"Open In Colab\"/></a>"
      ]
    },
    {
      "cell_type": "code",
      "metadata": {
        "id": "nAaDilW3Awxc",
        "colab_type": "code",
        "outputId": "f81fe81f-ccb0-4733-c278-0b92e12a4635",
        "colab": {
          "base_uri": "https://localhost:8080/",
          "height": 293
        }
      },
      "source": [
        "!nvidia-smi"
      ],
      "execution_count": 1,
      "outputs": [
        {
          "output_type": "stream",
          "text": [
            "Sat Jun 15 18:03:22 2019       \n",
            "+-----------------------------------------------------------------------------+\n",
            "| NVIDIA-SMI 418.67       Driver Version: 410.79       CUDA Version: 10.0     |\n",
            "|-------------------------------+----------------------+----------------------+\n",
            "| GPU  Name        Persistence-M| Bus-Id        Disp.A | Volatile Uncorr. ECC |\n",
            "| Fan  Temp  Perf  Pwr:Usage/Cap|         Memory-Usage | GPU-Util  Compute M. |\n",
            "|===============================+======================+======================|\n",
            "|   0  Tesla T4            Off  | 00000000:00:04.0 Off |                    0 |\n",
            "| N/A   72C    P8    18W /  70W |      0MiB / 15079MiB |      0%      Default |\n",
            "+-------------------------------+----------------------+----------------------+\n",
            "                                                                               \n",
            "+-----------------------------------------------------------------------------+\n",
            "| Processes:                                                       GPU Memory |\n",
            "|  GPU       PID   Type   Process name                             Usage      |\n",
            "|=============================================================================|\n",
            "|  No running processes found                                                 |\n",
            "+-----------------------------------------------------------------------------+\n"
          ],
          "name": "stdout"
        }
      ]
    },
    {
      "cell_type": "code",
      "metadata": {
        "id": "1sEb4VPfDZ9H",
        "colab_type": "code",
        "colab": {}
      },
      "source": [
        "# Clone the entire repo.\n",
        "data_folder = '/content/cloned-repo'\n",
        "root_dir = f'{data_folder}/Project_data'"
      ],
      "execution_count": 0,
      "outputs": []
    },
    {
      "cell_type": "code",
      "metadata": {
        "id": "vxRxJUg8sCY2",
        "colab_type": "code",
        "colab": {}
      },
      "source": [
        ""
      ],
      "execution_count": 0,
      "outputs": []
    },
    {
      "cell_type": "code",
      "metadata": {
        "id": "XdUHgmyzLXUV",
        "colab_type": "code",
        "outputId": "418c778a-f97e-413d-8704-180380aa43e8",
        "colab": {
          "base_uri": "https://localhost:8080/",
          "height": 82
        }
      },
      "source": [
        "full_restart = False\n",
        "if (full_restart):\n",
        "  import shutil\n",
        "  shutil.rmtree(data_folder,ignore_errors=True)\n",
        "  import os\n",
        "  os.makedirs(data_folder,exist_ok=True)\n",
        "  os.chdir(data_folder)\n",
        "  !git clone -l -s \"https://github.com/s-ahuja/gesture_recognition.git\" {data_folder}\n",
        "%cd {data_folder}/Project_data\n",
        "!ls"
      ],
      "execution_count": 3,
      "outputs": [
        {
          "output_type": "stream",
          "text": [
            "/content/cloned-repo/Project_data\n",
            "model_init_2019-06-1517_51_09.762199  train_images.pkl\t  val_images.pkl\n",
            "numpy\t\t\t\t      training.cnn3d.txt\n",
            "train.csv\t\t\t      val.csv\n"
          ],
          "name": "stdout"
        }
      ]
    },
    {
      "cell_type": "code",
      "metadata": {
        "id": "kxrqu5GxAwxh",
        "colab_type": "code",
        "colab": {}
      },
      "source": [
        "import pickle\n",
        "filehandler = open('train_images.pkl',\"rb\")\n",
        "train_images = pickle.load(filehandler)\n",
        "filehandler.close()\n",
        "filehandler = open('val_images.pkl',\"rb\")\n",
        "val_images = pickle.load(filehandler)\n",
        "filehandler.close()"
      ],
      "execution_count": 0,
      "outputs": []
    },
    {
      "cell_type": "code",
      "metadata": {
        "id": "araQpugMAwxj",
        "colab_type": "code",
        "outputId": "40b51679-4d75-4f10-8222-607d698a4f38",
        "colab": {
          "base_uri": "https://localhost:8080/",
          "height": 33
        }
      },
      "source": [
        "len(train_images[0]),len(val_images[0])"
      ],
      "execution_count": 5,
      "outputs": [
        {
          "output_type": "execute_result",
          "data": {
            "text/plain": [
              "(19890, 3000)"
            ]
          },
          "metadata": {
            "tags": []
          },
          "execution_count": 5
        }
      ]
    },
    {
      "cell_type": "code",
      "metadata": {
        "id": "WsxvoUb8Awxm",
        "colab_type": "code",
        "colab": {}
      },
      "source": [
        "import glob, shutil\n",
        "model_directories = glob.glob(f'{root_dir}/model*')\n",
        "for directory in model_directories:\n",
        "    shutil.rmtree(directory)"
      ],
      "execution_count": 0,
      "outputs": []
    },
    {
      "cell_type": "markdown",
      "metadata": {
        "id": "FnHobvnOAwxo",
        "colab_type": "text"
      },
      "source": [
        "# Gesture Recognition\n",
        "In this group project, you are going to build a 3D Conv model that will be able to predict the 5 gestures correctly. Please import the following libraries to get started."
      ]
    },
    {
      "cell_type": "code",
      "metadata": {
        "id": "1a89fRYJAwxo",
        "colab_type": "code",
        "colab": {}
      },
      "source": [
        "%load_ext autoreload\n",
        "%autoreload 2\n",
        "import numpy as np\n",
        "import os\n",
        "import glob\n",
        "from cv2 import imread,resize,cvtColor,COLOR_BGR2RGB,INTER_AREA\n",
        "import datetime\n",
        "import matplotlib.pyplot as plt\n",
        "import warnings\n",
        "warnings.simplefilter('ignore')\n",
        "# import sys\n",
        "# old_stdout = sys.stdout\n",
        "# log_file = open('logfile.txt', 'w')\n",
        "# sys.stdout = log_file\n",
        "# print('Starting Log at {}'.format(datetime.datetime.now()))\n",
        "# #sys.stdout = old_stdout\n",
        "# #log_file.close()"
      ],
      "execution_count": 0,
      "outputs": []
    },
    {
      "cell_type": "markdown",
      "metadata": {
        "id": "7-eKyjqXAwxq",
        "colab_type": "text"
      },
      "source": [
        "We set the random seed so that the results don't vary drastically."
      ]
    },
    {
      "cell_type": "code",
      "metadata": {
        "id": "Kxq4kVj5Awxr",
        "colab_type": "code",
        "outputId": "b359ba14-b33d-488e-c8de-815a6094dc07",
        "colab": {
          "base_uri": "https://localhost:8080/",
          "height": 33
        }
      },
      "source": [
        "np.random.seed(30)\n",
        "import random as rn\n",
        "rn.seed(30)\n",
        "from keras import backend as K\n",
        "import tensorflow as tf\n",
        "tf.set_random_seed(30)"
      ],
      "execution_count": 8,
      "outputs": [
        {
          "output_type": "stream",
          "text": [
            "Using TensorFlow backend.\n"
          ],
          "name": "stderr"
        }
      ]
    },
    {
      "cell_type": "code",
      "metadata": {
        "id": "7PG8NCeBAwxu",
        "colab_type": "code",
        "outputId": "26f0b8dd-1954-418e-b2af-b454b62967d9",
        "colab": {
          "base_uri": "https://localhost:8080/",
          "height": 50
        }
      },
      "source": [
        "img_indices = list(range(1,30,2))\n",
        "print(img_indices)\n",
        "input_shape=(len(img_indices),100,100,3) #15 images per video, each image is of 100x100x3\n",
        "print(input_shape)\n",
        "batch_size = 10\n",
        "no_of_classes = 5\n",
        "num_epochs = 50 # choose the number of epochs"
      ],
      "execution_count": 9,
      "outputs": [
        {
          "output_type": "stream",
          "text": [
            "[1, 3, 5, 7, 9, 11, 13, 15, 17, 19, 21, 23, 25, 27, 29]\n",
            "(15, 100, 100, 3)\n"
          ],
          "name": "stdout"
        }
      ]
    },
    {
      "cell_type": "code",
      "metadata": {
        "id": "N6ZLOH3uAwxw",
        "colab_type": "code",
        "outputId": "dde5d2aa-85cd-4e76-9816-b51f2e007927",
        "colab": {
          "base_uri": "https://localhost:8080/",
          "height": 33
        }
      },
      "source": [
        "train_doc = np.random.permutation(open(f'{root_dir}/train.csv').readlines())\n",
        "val_doc = np.random.permutation(open(f'{root_dir}/val.csv').readlines())\n",
        "\n",
        "# filter out records which are not considered during experiments\n",
        "train_doc = [x for x in train_doc if x.split(';')[0] in [paths.split('/')[-2] for paths in train_images[0]]] \n",
        "val_doc = [x for x in val_doc if x.split(';')[0] in [paths.split('/')[-2] for paths in val_images[0]]]\n",
        "\n",
        "print('no. of training video seq=',len(train_doc),'no. of validation video seq=',len(val_doc))"
      ],
      "execution_count": 10,
      "outputs": [
        {
          "output_type": "stream",
          "text": [
            "no. of training video seq= 663 no. of validation video seq= 100\n"
          ],
          "name": "stdout"
        }
      ]
    },
    {
      "cell_type": "markdown",
      "metadata": {
        "id": "GdeE78IVAwxz",
        "colab_type": "text"
      },
      "source": [
        "## Generator\n",
        "This is one of the most important part of the code. The overall structure of the generator has been given. In the generator, you are going to preprocess the images as you have images of 2 different dimensions as well as create a batch of video frames. You have to experiment with `img_idx`, `y`,`z` and normalization such that you get high accuracy."
      ]
    },
    {
      "cell_type": "code",
      "metadata": {
        "id": "muVr5tsqAwx0",
        "colab_type": "code",
        "colab": {}
      },
      "source": [
        "def generator(source_path, folder_list, batch_size, ablation=False):\n",
        "    #print('Source path = ', source_path, '; batch size =', batch_size)\n",
        "    # if ablation is true then only take only 2 images else take much more.\n",
        "    img_idx = img_indices #create a list of image numbers you want to use for a particular video. \n",
        "    x = len(img_idx)    \n",
        "    y,z = input_shape[1],input_shape[2] # image_standard_size\n",
        "    Model_Execution = True\n",
        "    while Model_Execution:\n",
        "        t = np.random.permutation(folder_list)\n",
        "        # print('t=',end='')\n",
        "        # print(t)\n",
        "        num_batches = int(len(folder_list)/batch_size) # calculate the number of batches\n",
        "        #print('num_batches=',num_batches)\n",
        "        for batch in range(num_batches): # we iterate over the number of batches\n",
        "            batch_data = np.zeros((batch_size,x,y,z,input_shape[3])) # x is the number of images you use for each video, (y,z) is the final size of the input images and 3 is the number of channels RGB\n",
        "            batch_labels = np.zeros((batch_size,no_of_classes)) # batch_labels is the one hot representation of the output\n",
        "            for folder in range(batch_size): # iterate over the batch_size\n",
        "    #             # print('folder=' + str(folder))\n",
        "    #             print('iterated=',folder + (batch*batch_size))\n",
        "    #             print('path=',source_path+'/'+ t[folder + (batch*batch_size)].split(';')[0])\n",
        "                imgs = os.listdir(source_path+'/'+ t[folder + (batch*batch_size)].split(';')[0]) # read all the images in the folder\n",
        "                # print('imgs=' + str(imgs[:2]))\n",
        "                for idx,item in enumerate(img_idx): #  Iterate iver the frames/images of a folder to read them in\n",
        "                    img_file_path = source_path+'/'+ t[folder + (batch*batch_size)].strip().split(';')[0]+'/'+imgs[item]\n",
        "                    # print('img_file_path=' + img_file_path)\n",
        "                    image = np.load(img_file_path)#.astype(np.float32)\n",
        "                    #print(image.shape)\n",
        "                    #crop the images and resize them. Note that the images are of 2 different shape\n",
        "                    #and the conv3D will throw error if the inputs in a batch have different shapes\n",
        "                    batch_data[folder,idx,:,:,0] = (image[:,:,0] - image[:,:,0].min())/(image[:,:,0].max() - image[:,:,0].min()) #normalise and feed in the image\n",
        "                    batch_data[folder,idx,:,:,1] = (image[:,:,1] - image[:,:,1].min())/(image[:,:,1].max() - image[:,:,1].min()) #normalise and feed in the image\n",
        "                    batch_data[folder,idx,:,:,2] = (image[:,:,2] - image[:,:,2].min())/(image[:,:,2].max() - image[:,:,2].min()) #normalise and feed in the image\n",
        "\n",
        "                batch_labels[folder, int(t[folder + (batch*batch_size)].strip().split(';')[2])] = 1\n",
        "            #batch_labels = to_categorical(batch_labels, 5) #5 classes\n",
        "            #batch_labels.shape\n",
        "            #batch_labels = batch_labels.reshape(-1, 1)\n",
        "            #print('yielding normal batch=>{}'.format(batch))\n",
        "            #print('batch_data=>{}'.format(str(batch_data)))\n",
        "            #print('batch_labels=>{}'.format(str(batch_labels)))\n",
        "            yield batch_data, batch_labels #you yield the batch_data and the batch_labels, remember what does yield do\n",
        "\n",
        "        # write the code for the remaining data points which are left after full batches\n",
        "        remaining_size = len(folder_list) - (batch_size*num_batches)\n",
        "        if (remaining_size > 0):\n",
        "            #print('remaining_size=',remaining_size)\n",
        "            batch_data = np.zeros((remaining_size,x,y,z,input_shape[3])) # x is the number of images you use for each video, (y,z) is the final size of the input images and 3 is the number of channels RGB\n",
        "            batch_labels = np.zeros((remaining_size,no_of_classes)) # batch_labels is the one hot representation of the output\n",
        "            for folder in range(remaining_size):\n",
        "                #print('new_folder=',folder)\n",
        "                #print('new path=',source_path+'/'+ t[folder].split(';')[0])\n",
        "                imgs = os.listdir(source_path+'/'+ t[folder].split(';')[0]) # read all the images in the folder\n",
        "                for idx,item in enumerate(img_idx): #  Iterate iver the frames/images of a folder to read them in\n",
        "                    img_file_path = source_path+'/'+ t[folder].strip().split(';')[0]+'/'+imgs[item]\n",
        "                    # print('img_file_path=' + img_file_path)\n",
        "                    image = np.load(img_file_path)#.astype(np.float32)                                        \n",
        "                    #print(image.shape)\n",
        "                    #crop the images and resize them. Note that the images are of 2 different shape\n",
        "                    #and the conv3D will throw error if the inputs in a batch have different shapes\n",
        "                    batch_data[folder,idx,:,:,0] = (image[:,:,0] - image[:,:,0].min())/(image[:,:,0].max() - image[:,:,0].min()) #normalise and feed in the image\n",
        "                    batch_data[folder,idx,:,:,1] = (image[:,:,1] - image[:,:,1].min())/(image[:,:,1].max() - image[:,:,1].min()) #normalise and feed in the image\n",
        "                    batch_data[folder,idx,:,:,2] = (image[:,:,2] - image[:,:,2].min())/(image[:,:,2].max() - image[:,:,2].min()) #normalise and feed in the image\n",
        "                batch_labels[folder, int(t[folder].strip().split(';')[2])] = 1\n",
        "            #batch_labels = to_categorical(batch_labels, 5) #5 classes\n",
        "            #batch_labels = batch_labels.reshape(-1, 1)\n",
        "            #print('yielding remaining batch=>',batch)\n",
        "            #print(batch_labels)\n",
        "            yield batch_data, batch_labels\n",
        "            Model_Execution = True\n",
        "\n",
        "# ## test code to test generator function\n",
        "# train_path = f'{root_dir}/numpy/train'\n",
        "# num_train_sequences = len(train_doc)\n",
        "# train_generator = generator(source_path=train_path, folder_list=train_doc, batch_size=batch_size, ablation=False)\n",
        "# index = 0\n",
        "# for batch_data, batch_labels in train_generator: \n",
        "#     index += len(batch_data)    \n",
        "#     print(batch_data.shape,batch_labels.shape) "
      ],
      "execution_count": 0,
      "outputs": []
    },
    {
      "cell_type": "code",
      "metadata": {
        "id": "jogwKDphAwx2",
        "colab_type": "code",
        "colab": {}
      },
      "source": [
        ""
      ],
      "execution_count": 0,
      "outputs": []
    },
    {
      "cell_type": "markdown",
      "metadata": {
        "id": "sD1BePtMAwx4",
        "colab_type": "text"
      },
      "source": [
        "Note here that a video is represented above in the generator as (number of images, height, width, number of channels). Take this into consideration while creating the model architecture."
      ]
    },
    {
      "cell_type": "code",
      "metadata": {
        "id": "hqXYWGRqAwx4",
        "colab_type": "code",
        "outputId": "2d3b160b-337c-45d5-a8c8-99ef6c078126",
        "colab": {
          "base_uri": "https://localhost:8080/",
          "height": 66
        }
      },
      "source": [
        "curr_dt_time = datetime.datetime.now()\n",
        "train_path = f'{root_dir}/numpy/train'\n",
        "val_path = f'{root_dir}/numpy/val'\n",
        "num_train_sequences = len(train_doc)\n",
        "print('# training sequences =', num_train_sequences)\n",
        "num_val_sequences = len(val_doc)\n",
        "print('# validation sequences =', num_val_sequences)\n",
        "print ('# epochs =', num_epochs)"
      ],
      "execution_count": 12,
      "outputs": [
        {
          "output_type": "stream",
          "text": [
            "# training sequences = 663\n",
            "# validation sequences = 100\n",
            "# epochs = 50\n"
          ],
          "name": "stdout"
        }
      ]
    },
    {
      "cell_type": "markdown",
      "metadata": {
        "id": "zlcwLEPZAwx7",
        "colab_type": "text"
      },
      "source": [
        "## Model\n",
        "Here you make the model using different functionalities that Keras provides. Remember to use `Conv3D` and `MaxPooling3D` and not `Conv2D` and `Maxpooling2D` for a 3D convolution model. You would want to use `TimeDistributed` while building a Conv2D + RNN model. Also remember that the last layer is the softmax. Design the network in such a way that the model is able to give good accuracy on the least number of parameters so that it can fit in the memory of the webcam."
      ]
    },
    {
      "cell_type": "code",
      "metadata": {
        "id": "7MekrkF6Awx7",
        "colab_type": "code",
        "colab": {}
      },
      "source": [
        "from keras.models import Sequential, Model\n",
        "from keras.layers import Dense, GRU, Flatten, TimeDistributed, Flatten, BatchNormalization, Activation, Dropout\n",
        "from keras.layers.convolutional import Conv3D, MaxPooling3D\n",
        "from keras.callbacks import ModelCheckpoint, ReduceLROnPlateau, CSVLogger,EarlyStopping\n",
        "from keras import optimizers\n",
        "\n",
        "import matplotlib.pyplot as plt\n",
        "import keras.backend as K\n",
        "from keras.callbacks import Callback\n",
        "\n",
        "\n",
        "class LRFinder(Callback):\n",
        "    \n",
        "    '''\n",
        "    A simple callback for finding the optimal learning rate range for your model + dataset. \n",
        "    \n",
        "    # Usage\n",
        "        ```python\n",
        "            lr_finder = LRFinder(min_lr=1e-5, \n",
        "                                 max_lr=1e-2, \n",
        "                                 steps_per_epoch=np.ceil(epoch_size/batch_size), \n",
        "                                 epochs=3)\n",
        "            model.fit(X_train, Y_train, callbacks=[lr_finder])\n",
        "            \n",
        "            lr_finder.plot_loss()\n",
        "        ```\n",
        "    \n",
        "    # Arguments\n",
        "        min_lr: The lower bound of the learning rate range for the experiment.\n",
        "        max_lr: The upper bound of the learning rate range for the experiment.\n",
        "        steps_per_epoch: Number of mini-batches in the dataset. Calculated as `np.ceil(epoch_size/batch_size)`. \n",
        "        epochs: Number of epochs to run experiment. Usually between 2 and 4 epochs is sufficient. \n",
        "        \n",
        "    # References\n",
        "        Blog post: jeremyjordan.me/nn-learning-rate\n",
        "        Original paper: https://arxiv.org/abs/1506.01186\n",
        "\n",
        "    '''\n",
        "    \n",
        "    def __init__(self, min_lr=1e-5, max_lr=1e-2, steps_per_epoch=None, epochs=None):\n",
        "        super().__init__()\n",
        "        \n",
        "        self.min_lr = min_lr\n",
        "        self.max_lr = max_lr\n",
        "        self.total_iterations = steps_per_epoch * epochs\n",
        "        self.iteration = 0\n",
        "        self.history = {}\n",
        "        \n",
        "    def clr(self):\n",
        "        '''Calculate the learning rate.'''\n",
        "        x = self.iteration / self.total_iterations \n",
        "        return self.min_lr + (self.max_lr-self.min_lr) * x\n",
        "        \n",
        "    def on_train_begin(self, logs=None):\n",
        "        '''Initialize the learning rate to the minimum value at the start of training.'''\n",
        "        logs = logs or {}\n",
        "        K.set_value(self.model.optimizer.lr, self.min_lr)\n",
        "        \n",
        "    def on_batch_end(self, epoch, logs=None):\n",
        "        '''Record previous batch statistics and update the learning rate.'''\n",
        "        logs = logs or {}\n",
        "        self.iteration += 1\n",
        "\n",
        "        self.history.setdefault('lr', []).append(K.get_value(self.model.optimizer.lr))\n",
        "        self.history.setdefault('iterations', []).append(self.iteration)\n",
        "\n",
        "        for k, v in logs.items():\n",
        "            self.history.setdefault(k, []).append(v)\n",
        "            \n",
        "        K.set_value(self.model.optimizer.lr, self.clr())\n",
        " \n",
        "    def plot_lr(self):\n",
        "        '''Helper function to quickly inspect the learning rate schedule.'''\n",
        "        plt.plot(self.history['iterations'], self.history['lr'])\n",
        "        plt.yscale('log')\n",
        "        plt.xlabel('Iteration')\n",
        "        plt.ylabel('Learning rate')\n",
        "        plt.show()\n",
        "        \n",
        "    def plot_loss(self):\n",
        "        '''Helper function to quickly observe the learning rate experiment results.'''\n",
        "        plt.plot(self.history['lr'], self.history['loss'])\n",
        "        plt.xscale('log')\n",
        "        plt.xlabel('Learning rate')\n",
        "        plt.ylabel('Loss')\n",
        "        plt.show()"
      ],
      "execution_count": 0,
      "outputs": []
    },
    {
      "cell_type": "code",
      "metadata": {
        "id": "hynrW0Q-S9yS",
        "colab_type": "code",
        "colab": {
          "base_uri": "https://localhost:8080/",
          "height": 2520
        },
        "outputId": "aec302c2-bfdb-41e9-a3e5-891cddc7be61"
      },
      "source": [
        "\"\"\"A vanilla 3D resnet implementation.\n",
        "\n",
        "Based on Raghavendra Kotikalapudi's 2D implementation\n",
        "keras-resnet (See https://github.com/raghakot/keras-resnet.)\n",
        "\"\"\"\n",
        "from __future__ import (\n",
        "    absolute_import,\n",
        "    division,\n",
        "    print_function,\n",
        "    unicode_literals\n",
        ")\n",
        "import six\n",
        "from math import ceil\n",
        "from keras.models import Model\n",
        "from keras.layers import (\n",
        "    Input,\n",
        "    Activation,\n",
        "    Dense,\n",
        "    Flatten\n",
        ")\n",
        "from keras.layers.convolutional import (\n",
        "    Conv3D,\n",
        "    AveragePooling3D,\n",
        "    MaxPooling3D\n",
        ")\n",
        "from keras.layers.merge import add\n",
        "from keras.layers.normalization import BatchNormalization\n",
        "from keras.regularizers import l2\n",
        "from keras import backend as K\n",
        "\n",
        "\n",
        "def _bn_relu(input):\n",
        "    \"\"\"Helper to build a BN -> relu block (by @raghakot).\"\"\"\n",
        "    norm = BatchNormalization(axis=CHANNEL_AXIS)(input)\n",
        "    return Activation(\"relu\")(norm)\n",
        "\n",
        "\n",
        "def _conv_bn_relu3D(**conv_params):\n",
        "    filters = conv_params[\"filters\"]\n",
        "    kernel_size = conv_params[\"kernel_size\"]\n",
        "    strides = conv_params.setdefault(\"strides\", (1, 1, 1))\n",
        "    kernel_initializer = conv_params.setdefault(\n",
        "        \"kernel_initializer\", \"he_normal\")\n",
        "    padding = conv_params.setdefault(\"padding\", \"same\")\n",
        "    kernel_regularizer = conv_params.setdefault(\"kernel_regularizer\",\n",
        "                                                l2(1e-4))\n",
        "\n",
        "    def f(input):\n",
        "        conv = Conv3D(filters=filters, kernel_size=kernel_size,\n",
        "                      strides=strides, kernel_initializer=kernel_initializer,\n",
        "                      padding=padding,\n",
        "                      kernel_regularizer=kernel_regularizer)(input)\n",
        "        return _bn_relu(conv)\n",
        "\n",
        "    return f\n",
        "\n",
        "\n",
        "def _bn_relu_conv3d(**conv_params):\n",
        "    \"\"\"Helper to build a  BN -> relu -> conv3d block.\"\"\"\n",
        "    filters = conv_params[\"filters\"]\n",
        "    kernel_size = conv_params[\"kernel_size\"]\n",
        "    strides = conv_params.setdefault(\"strides\", (1, 1, 1))\n",
        "    kernel_initializer = conv_params.setdefault(\"kernel_initializer\",\n",
        "                                                \"he_normal\")\n",
        "    padding = conv_params.setdefault(\"padding\", \"same\")\n",
        "    kernel_regularizer = conv_params.setdefault(\"kernel_regularizer\",\n",
        "                                                l2(1e-4))\n",
        "\n",
        "    def f(input):\n",
        "        activation = _bn_relu(input)\n",
        "        return Conv3D(filters=filters, kernel_size=kernel_size,\n",
        "                      strides=strides, kernel_initializer=kernel_initializer,\n",
        "                      padding=padding,\n",
        "                      kernel_regularizer=kernel_regularizer)(activation)\n",
        "    return f\n",
        "\n",
        "\n",
        "def _shortcut3d(input, residual):\n",
        "    \"\"\"3D shortcut to match input and residual and merges them with \"sum\".\"\"\"\n",
        "    stride_dim1 = ceil(input._keras_shape[DIM1_AXIS] \\\n",
        "        / residual._keras_shape[DIM1_AXIS])\n",
        "    stride_dim2 = ceil(input._keras_shape[DIM2_AXIS] \\\n",
        "        / residual._keras_shape[DIM2_AXIS])\n",
        "    stride_dim3 = ceil(input._keras_shape[DIM3_AXIS] \\\n",
        "        / residual._keras_shape[DIM3_AXIS])\n",
        "    equal_channels = residual._keras_shape[CHANNEL_AXIS] \\\n",
        "        == input._keras_shape[CHANNEL_AXIS]\n",
        "\n",
        "    shortcut = input\n",
        "    if stride_dim1 > 1 or stride_dim2 > 1 or stride_dim3 > 1 \\\n",
        "            or not equal_channels:\n",
        "        shortcut = Conv3D(\n",
        "            filters=residual._keras_shape[CHANNEL_AXIS],\n",
        "            kernel_size=(1, 1, 1),\n",
        "            strides=(stride_dim1, stride_dim2, stride_dim3),\n",
        "            kernel_initializer=\"he_normal\", padding=\"valid\",\n",
        "            kernel_regularizer=l2(1e-4)\n",
        "            )(input)\n",
        "    return add([shortcut, residual])\n",
        "\n",
        "\n",
        "def _residual_block3d(block_function, filters, kernel_regularizer, repetitions,\n",
        "                      is_first_layer=False):\n",
        "    def f(input):\n",
        "        for i in range(repetitions):\n",
        "            strides = (1, 1, 1)\n",
        "            if i == 0 and not is_first_layer:\n",
        "                strides = (2, 2, 2)\n",
        "            input = block_function(filters=filters, strides=strides,\n",
        "                                   kernel_regularizer=kernel_regularizer,\n",
        "                                   is_first_block_of_first_layer=(\n",
        "                                       is_first_layer and i == 0)\n",
        "                                   )(input)\n",
        "        return input\n",
        "\n",
        "    return f\n",
        "\n",
        "\n",
        "def basic_block(filters, strides=(1, 1, 1), kernel_regularizer=l2(1e-4),\n",
        "                is_first_block_of_first_layer=False):\n",
        "    \"\"\"Basic 3 X 3 X 3 convolution blocks. Extended from raghakot's 2D impl.\"\"\"\n",
        "    def f(input):\n",
        "        if is_first_block_of_first_layer:\n",
        "            # don't repeat bn->relu since we just did bn->relu->maxpool\n",
        "            conv1 = Conv3D(filters=filters, kernel_size=(3, 3, 3),\n",
        "                           strides=strides, padding=\"same\",\n",
        "                           kernel_initializer=\"he_normal\",\n",
        "                           kernel_regularizer=kernel_regularizer\n",
        "                           )(input)\n",
        "        else:\n",
        "            conv1 = _bn_relu_conv3d(filters=filters,\n",
        "                                    kernel_size=(3, 3, 3),\n",
        "                                    strides=strides,\n",
        "                                    kernel_regularizer=kernel_regularizer\n",
        "                                    )(input)\n",
        "\n",
        "        residual = _bn_relu_conv3d(filters=filters, kernel_size=(3, 3, 3),\n",
        "                                   kernel_regularizer=kernel_regularizer\n",
        "                                   )(conv1)\n",
        "        return _shortcut3d(input, residual)\n",
        "\n",
        "    return f\n",
        "\n",
        "\n",
        "def bottleneck(filters, strides=(1, 1, 1), kernel_regularizer=l2(1e-4),\n",
        "               is_first_block_of_first_layer=False):\n",
        "    \"\"\"Basic 3 X 3 X 3 convolution blocks. Extended from raghakot's 2D impl.\"\"\"\n",
        "    def f(input):\n",
        "        if is_first_block_of_first_layer:\n",
        "            # don't repeat bn->relu since we just did bn->relu->maxpool\n",
        "            conv_1_1 = Conv3D(filters=filters, kernel_size=(1, 1, 1),\n",
        "                              strides=strides, padding=\"same\",\n",
        "                              kernel_initializer=\"he_normal\",\n",
        "                              kernel_regularizer=kernel_regularizer\n",
        "                              )(input)\n",
        "        else:\n",
        "            conv_1_1 = _bn_relu_conv3d(filters=filters, kernel_size=(1, 1, 1),\n",
        "                                       strides=strides,\n",
        "                                       kernel_regularizer=kernel_regularizer\n",
        "                                       )(input)\n",
        "\n",
        "        conv_3_3 = _bn_relu_conv3d(filters=filters, kernel_size=(3, 3, 3),\n",
        "                                   kernel_regularizer=kernel_regularizer\n",
        "                                   )(conv_1_1)\n",
        "        residual = _bn_relu_conv3d(filters=filters * 4, kernel_size=(1, 1, 1),\n",
        "                                   kernel_regularizer=kernel_regularizer\n",
        "                                   )(conv_3_3)\n",
        "\n",
        "        return _shortcut3d(input, residual)\n",
        "\n",
        "    return f\n",
        "\n",
        "\n",
        "def _handle_data_format():\n",
        "    global DIM1_AXIS\n",
        "    global DIM2_AXIS\n",
        "    global DIM3_AXIS\n",
        "    global CHANNEL_AXIS\n",
        "    if K.image_data_format() == 'channels_last':\n",
        "        DIM1_AXIS = 1\n",
        "        DIM2_AXIS = 2\n",
        "        DIM3_AXIS = 3\n",
        "        CHANNEL_AXIS = 4\n",
        "    else:\n",
        "        CHANNEL_AXIS = 1\n",
        "        DIM1_AXIS = 2\n",
        "        DIM2_AXIS = 3\n",
        "        DIM3_AXIS = 4\n",
        "\n",
        "\n",
        "def _get_block(identifier):\n",
        "    if isinstance(identifier, six.string_types):\n",
        "        res = globals().get(identifier)\n",
        "        if not res:\n",
        "            raise ValueError('Invalid {}'.format(identifier))\n",
        "        return res\n",
        "    return identifier\n",
        "\n",
        "\n",
        "class Resnet3DBuilder(object):\n",
        "    \"\"\"ResNet3D.\"\"\"\n",
        "\n",
        "    @staticmethod\n",
        "    def build(input_shape, num_outputs, block_fn, repetitions, reg_factor):\n",
        "        \"\"\"Instantiate a vanilla ResNet3D keras model.\n",
        "\n",
        "        # Arguments\n",
        "            input_shape: Tuple of input shape in the format\n",
        "            (conv_dim1, conv_dim2, conv_dim3, channels) if dim_ordering='tf'\n",
        "            (filter, conv_dim1, conv_dim2, conv_dim3) if dim_ordering='th'\n",
        "            num_outputs: The number of outputs at the final softmax layer\n",
        "            block_fn: Unit block to use {'basic_block', 'bottlenack_block'}\n",
        "            repetitions: Repetitions of unit blocks\n",
        "        # Returns\n",
        "            model: a 3D ResNet model that takes a 5D tensor (volumetric images\n",
        "            in batch) as input and returns a 1D vector (prediction) as output.\n",
        "        \"\"\"\n",
        "        _handle_data_format()\n",
        "        if len(input_shape) != 4:\n",
        "            raise ValueError(\"Input shape should be a tuple \"\n",
        "                             \"(conv_dim1, conv_dim2, conv_dim3, channels) \"\n",
        "                             \"for tensorflow as backend or \"\n",
        "                             \"(channels, conv_dim1, conv_dim2, conv_dim3) \"\n",
        "                             \"for theano as backend\")\n",
        "\n",
        "        block_fn = _get_block(block_fn)\n",
        "        input = Input(shape=input_shape)\n",
        "        # first conv\n",
        "        conv1 = _conv_bn_relu3D(filters=64, kernel_size=(7, 7, 7),\n",
        "                                strides=(2, 2, 2),\n",
        "                                kernel_regularizer=l2(reg_factor)\n",
        "                                )(input)\n",
        "        pool1 = MaxPooling3D(pool_size=(3, 3, 3), strides=(2, 2, 2),\n",
        "                             padding=\"same\")(conv1)\n",
        "\n",
        "        # repeat blocks\n",
        "        block = pool1\n",
        "        filters = 64\n",
        "        for i, r in enumerate(repetitions):\n",
        "            block = _residual_block3d(block_fn, filters=filters,\n",
        "                                      kernel_regularizer=l2(reg_factor),\n",
        "                                      repetitions=r, is_first_layer=(i == 0)\n",
        "                                      )(block)\n",
        "            filters *= 2\n",
        "\n",
        "        # last activation\n",
        "        block_output = _bn_relu(block)\n",
        "\n",
        "        # average poll and classification\n",
        "        pool2 = AveragePooling3D(pool_size=(block._keras_shape[DIM1_AXIS],\n",
        "                                            block._keras_shape[DIM2_AXIS],\n",
        "                                            block._keras_shape[DIM3_AXIS]),\n",
        "                                 strides=(1, 1, 1))(block_output)\n",
        "        flatten1 = Flatten()(pool2)\n",
        "        if num_outputs > 1:\n",
        "            dense = Dense(units=num_outputs,\n",
        "                          kernel_initializer=\"he_normal\",\n",
        "                          activation=\"softmax\",\n",
        "                          kernel_regularizer=l2(reg_factor))(flatten1)\n",
        "        else:\n",
        "            dense = Dense(units=num_outputs,\n",
        "                          kernel_initializer=\"he_normal\",\n",
        "                          activation=\"sigmoid\",\n",
        "                          kernel_regularizer=l2(reg_factor))(flatten1)\n",
        "\n",
        "        model = Model(inputs=input, outputs=dense)\n",
        "        return model\n",
        "\n",
        "    @staticmethod\n",
        "    def build_resnet_18(input_shape, num_outputs, reg_factor=1e-4):\n",
        "        \"\"\"Build resnet 18.\"\"\"\n",
        "        return Resnet3DBuilder.build(input_shape, num_outputs, basic_block,\n",
        "                                     [2, 2, 2, 2], reg_factor=reg_factor)\n",
        "\n",
        "    @staticmethod\n",
        "    def build_resnet_34(input_shape, num_outputs, reg_factor=1e-4):\n",
        "        \"\"\"Build resnet 34.\"\"\"\n",
        "        return Resnet3DBuilder.build(input_shape, num_outputs, basic_block,\n",
        "                                     [3, 4, 6, 3], reg_factor=reg_factor)\n",
        "\n",
        "    @staticmethod\n",
        "    def build_resnet_50(input_shape, num_outputs, reg_factor=1e-4):\n",
        "        \"\"\"Build resnet 50.\"\"\"\n",
        "        return Resnet3DBuilder.build(input_shape, num_outputs, bottleneck,\n",
        "                                     [3, 4, 6, 3], reg_factor=reg_factor)\n",
        "\n",
        "    @staticmethod\n",
        "    def build_resnet_101(input_shape, num_outputs, reg_factor=1e-4):\n",
        "        \"\"\"Build resnet 101.\"\"\"\n",
        "        return Resnet3DBuilder.build(input_shape, num_outputs, bottleneck,\n",
        "                                     [3, 4, 23, 3], reg_factor=reg_factor)\n",
        "\n",
        "    @staticmethod\n",
        "    def build_resnet_152(input_shape, num_outputs, reg_factor=1e-4):\n",
        "        \"\"\"Build resnet 152.\"\"\"\n",
        "        return Resnet3DBuilder.build(input_shape, num_outputs, bottleneck,\n",
        "                                     [3, 8, 36, 3], reg_factor=reg_factor)\n",
        "\n",
        "\n",
        "if __name__ == '__main__':\n",
        "\n",
        "    from keras.optimizers import Adam\n",
        "    import numpy as np\n",
        "    import os\n",
        "    \n",
        "    os.environ[\"CUDA_VISIBLE_DEVICES\"] = '0' \n",
        "    os.environ['KERAS_BACKEND'] = 'tensorflow'\n",
        "\n",
        "    target_shape = (151, 139, 139, 1)\n",
        "    data_size = 10\n",
        "    num_outputs = 2\n",
        "\n",
        "    model = Resnet3DBuilder.build_resnet_18(target_shape, num_outputs)\n",
        "    \n",
        "    adam = Adam(lr=1e-3, amsgrad=True)\n",
        "    model.compile(loss=\"binary_crossentropy\", optimizer=adam, metrics=['accuracy'])\n",
        "    print(model.summary())\n",
        "\n",
        "    # Mimic training\n",
        "\n",
        "    ## Data Preparation\n",
        "    sample_data = np.random.random((data_size, *target_shape))\n",
        "    sample_raw_labels = np.random.randint(0, num_outputs, data_size, dtype=int)\n",
        "    sample_labels = np.zeros((data_size, num_outputs))\n",
        "    sample_labels[np.arange(data_size), sample_raw_labels] = 1\n",
        "    ## Training\n",
        "    model.fit(sample_data, sample_labels, epochs=2, batch_size=1)"
      ],
      "execution_count": 32,
      "outputs": [
        {
          "output_type": "stream",
          "text": [
            "__________________________________________________________________________________________________\n",
            "Layer (type)                    Output Shape         Param #     Connected to                     \n",
            "==================================================================================================\n",
            "input_8 (InputLayer)            (None, 151, 139, 139 0                                            \n",
            "__________________________________________________________________________________________________\n",
            "conv3d_114 (Conv3D)             (None, 76, 70, 70, 6 22016       input_8[0][0]                    \n",
            "__________________________________________________________________________________________________\n",
            "batch_normalization_100 (BatchN (None, 76, 70, 70, 6 256         conv3d_114[0][0]                 \n",
            "__________________________________________________________________________________________________\n",
            "activation_86 (Activation)      (None, 76, 70, 70, 6 0           batch_normalization_100[0][0]    \n",
            "__________________________________________________________________________________________________\n",
            "max_pooling3d_11 (MaxPooling3D) (None, 38, 35, 35, 6 0           activation_86[0][0]              \n",
            "__________________________________________________________________________________________________\n",
            "conv3d_115 (Conv3D)             (None, 38, 35, 35, 6 110656      max_pooling3d_11[0][0]           \n",
            "__________________________________________________________________________________________________\n",
            "batch_normalization_101 (BatchN (None, 38, 35, 35, 6 256         conv3d_115[0][0]                 \n",
            "__________________________________________________________________________________________________\n",
            "activation_87 (Activation)      (None, 38, 35, 35, 6 0           batch_normalization_101[0][0]    \n",
            "__________________________________________________________________________________________________\n",
            "conv3d_116 (Conv3D)             (None, 38, 35, 35, 6 110656      activation_87[0][0]              \n",
            "__________________________________________________________________________________________________\n",
            "add_35 (Add)                    (None, 38, 35, 35, 6 0           max_pooling3d_11[0][0]           \n",
            "                                                                 conv3d_116[0][0]                 \n",
            "__________________________________________________________________________________________________\n",
            "batch_normalization_102 (BatchN (None, 38, 35, 35, 6 256         add_35[0][0]                     \n",
            "__________________________________________________________________________________________________\n",
            "activation_88 (Activation)      (None, 38, 35, 35, 6 0           batch_normalization_102[0][0]    \n",
            "__________________________________________________________________________________________________\n",
            "conv3d_117 (Conv3D)             (None, 38, 35, 35, 6 110656      activation_88[0][0]              \n",
            "__________________________________________________________________________________________________\n",
            "batch_normalization_103 (BatchN (None, 38, 35, 35, 6 256         conv3d_117[0][0]                 \n",
            "__________________________________________________________________________________________________\n",
            "activation_89 (Activation)      (None, 38, 35, 35, 6 0           batch_normalization_103[0][0]    \n",
            "__________________________________________________________________________________________________\n",
            "conv3d_118 (Conv3D)             (None, 38, 35, 35, 6 110656      activation_89[0][0]              \n",
            "__________________________________________________________________________________________________\n",
            "add_36 (Add)                    (None, 38, 35, 35, 6 0           add_35[0][0]                     \n",
            "                                                                 conv3d_118[0][0]                 \n",
            "__________________________________________________________________________________________________\n",
            "batch_normalization_104 (BatchN (None, 38, 35, 35, 6 256         add_36[0][0]                     \n",
            "__________________________________________________________________________________________________\n",
            "activation_90 (Activation)      (None, 38, 35, 35, 6 0           batch_normalization_104[0][0]    \n",
            "__________________________________________________________________________________________________\n",
            "conv3d_119 (Conv3D)             (None, 19, 18, 18, 1 221312      activation_90[0][0]              \n",
            "__________________________________________________________________________________________________\n",
            "batch_normalization_105 (BatchN (None, 19, 18, 18, 1 512         conv3d_119[0][0]                 \n",
            "__________________________________________________________________________________________________\n",
            "activation_91 (Activation)      (None, 19, 18, 18, 1 0           batch_normalization_105[0][0]    \n",
            "__________________________________________________________________________________________________\n",
            "conv3d_121 (Conv3D)             (None, 19, 18, 18, 1 8320        add_36[0][0]                     \n",
            "__________________________________________________________________________________________________\n",
            "conv3d_120 (Conv3D)             (None, 19, 18, 18, 1 442496      activation_91[0][0]              \n",
            "__________________________________________________________________________________________________\n",
            "add_37 (Add)                    (None, 19, 18, 18, 1 0           conv3d_121[0][0]                 \n",
            "                                                                 conv3d_120[0][0]                 \n",
            "__________________________________________________________________________________________________\n",
            "batch_normalization_106 (BatchN (None, 19, 18, 18, 1 512         add_37[0][0]                     \n",
            "__________________________________________________________________________________________________\n",
            "activation_92 (Activation)      (None, 19, 18, 18, 1 0           batch_normalization_106[0][0]    \n",
            "__________________________________________________________________________________________________\n",
            "conv3d_122 (Conv3D)             (None, 19, 18, 18, 1 442496      activation_92[0][0]              \n",
            "__________________________________________________________________________________________________\n",
            "batch_normalization_107 (BatchN (None, 19, 18, 18, 1 512         conv3d_122[0][0]                 \n",
            "__________________________________________________________________________________________________\n",
            "activation_93 (Activation)      (None, 19, 18, 18, 1 0           batch_normalization_107[0][0]    \n",
            "__________________________________________________________________________________________________\n",
            "conv3d_123 (Conv3D)             (None, 19, 18, 18, 1 442496      activation_93[0][0]              \n",
            "__________________________________________________________________________________________________\n",
            "add_38 (Add)                    (None, 19, 18, 18, 1 0           add_37[0][0]                     \n",
            "                                                                 conv3d_123[0][0]                 \n",
            "__________________________________________________________________________________________________\n",
            "batch_normalization_108 (BatchN (None, 19, 18, 18, 1 512         add_38[0][0]                     \n",
            "__________________________________________________________________________________________________\n",
            "activation_94 (Activation)      (None, 19, 18, 18, 1 0           batch_normalization_108[0][0]    \n",
            "__________________________________________________________________________________________________\n",
            "conv3d_124 (Conv3D)             (None, 10, 9, 9, 256 884992      activation_94[0][0]              \n",
            "__________________________________________________________________________________________________\n",
            "batch_normalization_109 (BatchN (None, 10, 9, 9, 256 1024        conv3d_124[0][0]                 \n",
            "__________________________________________________________________________________________________\n",
            "activation_95 (Activation)      (None, 10, 9, 9, 256 0           batch_normalization_109[0][0]    \n",
            "__________________________________________________________________________________________________\n",
            "conv3d_126 (Conv3D)             (None, 10, 9, 9, 256 33024       add_38[0][0]                     \n",
            "__________________________________________________________________________________________________\n",
            "conv3d_125 (Conv3D)             (None, 10, 9, 9, 256 1769728     activation_95[0][0]              \n",
            "__________________________________________________________________________________________________\n",
            "add_39 (Add)                    (None, 10, 9, 9, 256 0           conv3d_126[0][0]                 \n",
            "                                                                 conv3d_125[0][0]                 \n",
            "__________________________________________________________________________________________________\n",
            "batch_normalization_110 (BatchN (None, 10, 9, 9, 256 1024        add_39[0][0]                     \n",
            "__________________________________________________________________________________________________\n",
            "activation_96 (Activation)      (None, 10, 9, 9, 256 0           batch_normalization_110[0][0]    \n",
            "__________________________________________________________________________________________________\n",
            "conv3d_127 (Conv3D)             (None, 10, 9, 9, 256 1769728     activation_96[0][0]              \n",
            "__________________________________________________________________________________________________\n",
            "batch_normalization_111 (BatchN (None, 10, 9, 9, 256 1024        conv3d_127[0][0]                 \n",
            "__________________________________________________________________________________________________\n",
            "activation_97 (Activation)      (None, 10, 9, 9, 256 0           batch_normalization_111[0][0]    \n",
            "__________________________________________________________________________________________________\n",
            "conv3d_128 (Conv3D)             (None, 10, 9, 9, 256 1769728     activation_97[0][0]              \n",
            "__________________________________________________________________________________________________\n",
            "add_40 (Add)                    (None, 10, 9, 9, 256 0           add_39[0][0]                     \n",
            "                                                                 conv3d_128[0][0]                 \n",
            "__________________________________________________________________________________________________\n",
            "batch_normalization_112 (BatchN (None, 10, 9, 9, 256 1024        add_40[0][0]                     \n",
            "__________________________________________________________________________________________________\n",
            "activation_98 (Activation)      (None, 10, 9, 9, 256 0           batch_normalization_112[0][0]    \n",
            "__________________________________________________________________________________________________\n",
            "conv3d_129 (Conv3D)             (None, 5, 5, 5, 512) 3539456     activation_98[0][0]              \n",
            "__________________________________________________________________________________________________\n",
            "batch_normalization_113 (BatchN (None, 5, 5, 5, 512) 2048        conv3d_129[0][0]                 \n",
            "__________________________________________________________________________________________________\n",
            "activation_99 (Activation)      (None, 5, 5, 5, 512) 0           batch_normalization_113[0][0]    \n",
            "__________________________________________________________________________________________________\n",
            "conv3d_131 (Conv3D)             (None, 5, 5, 5, 512) 131584      add_40[0][0]                     \n",
            "__________________________________________________________________________________________________\n",
            "conv3d_130 (Conv3D)             (None, 5, 5, 5, 512) 7078400     activation_99[0][0]              \n",
            "__________________________________________________________________________________________________\n",
            "add_41 (Add)                    (None, 5, 5, 5, 512) 0           conv3d_131[0][0]                 \n",
            "                                                                 conv3d_130[0][0]                 \n",
            "__________________________________________________________________________________________________\n",
            "batch_normalization_114 (BatchN (None, 5, 5, 5, 512) 2048        add_41[0][0]                     \n",
            "__________________________________________________________________________________________________\n",
            "activation_100 (Activation)     (None, 5, 5, 5, 512) 0           batch_normalization_114[0][0]    \n",
            "__________________________________________________________________________________________________\n",
            "conv3d_132 (Conv3D)             (None, 5, 5, 5, 512) 7078400     activation_100[0][0]             \n",
            "__________________________________________________________________________________________________\n",
            "batch_normalization_115 (BatchN (None, 5, 5, 5, 512) 2048        conv3d_132[0][0]                 \n",
            "__________________________________________________________________________________________________\n",
            "activation_101 (Activation)     (None, 5, 5, 5, 512) 0           batch_normalization_115[0][0]    \n",
            "__________________________________________________________________________________________________\n",
            "conv3d_133 (Conv3D)             (None, 5, 5, 5, 512) 7078400     activation_101[0][0]             \n",
            "__________________________________________________________________________________________________\n",
            "add_42 (Add)                    (None, 5, 5, 5, 512) 0           add_41[0][0]                     \n",
            "                                                                 conv3d_133[0][0]                 \n",
            "__________________________________________________________________________________________________\n",
            "batch_normalization_116 (BatchN (None, 5, 5, 5, 512) 2048        add_42[0][0]                     \n",
            "__________________________________________________________________________________________________\n",
            "activation_102 (Activation)     (None, 5, 5, 5, 512) 0           batch_normalization_116[0][0]    \n",
            "__________________________________________________________________________________________________\n",
            "average_pooling3d_2 (AveragePoo (None, 1, 1, 1, 512) 0           activation_102[0][0]             \n",
            "__________________________________________________________________________________________________\n",
            "flatten_3 (Flatten)             (None, 512)          0           average_pooling3d_2[0][0]        \n",
            "__________________________________________________________________________________________________\n",
            "dense_5 (Dense)                 (None, 2)            1026        flatten_3[0][0]                  \n",
            "==================================================================================================\n",
            "Total params: 33,171,842\n",
            "Trainable params: 33,164,034\n",
            "Non-trainable params: 7,808\n",
            "__________________________________________________________________________________________________\n",
            "None\n",
            "Epoch 1/2\n",
            "10/10 [==============================] - 22s 2s/step - loss: 1.5654 - acc: 0.8000\n",
            "Epoch 2/2\n",
            "10/10 [==============================] - 2s 220ms/step - loss: 1.5252 - acc: 0.8000\n"
          ],
          "name": "stdout"
        }
      ]
    },
    {
      "cell_type": "code",
      "metadata": {
        "id": "PNa_jpvmAwx9",
        "colab_type": "code",
        "colab": {}
      },
      "source": [
        "#model.add(Conv3D(filters=32, kernel_size=(3,3,3), strides=(1, 1, 1), padding='same', activation='relu',data_format='channels_last'))\n",
        "#model.add(MaxPooling3D(pool_size=(2, 2, 1)))\n",
        "#model.add(Dense(1024))\n",
        "\n",
        "\n",
        "#write your model here\n",
        "\n",
        "##################### model 1 ################\n",
        "# model = Sequential()\n",
        "# model.add(Conv3D(filters=32, kernel_size=(3,3,3), strides=(1, 1, 1), activation=None, input_shape=(len(list(range(0,30,1))),120,160,3),data_format='channels_last'))\n",
        "# model.add(LeakyReLU(alpha=0.1))\n",
        "# model.add(MaxPooling3D(pool_size=(1, 1, 1)))\n",
        "# model.add(Conv3D(filters=64, kernel_size=(3,3,3), strides=(1, 1, 1), activation=None))\n",
        "# model.add(LeakyReLU(alpha=0.1))\n",
        "# model.add(Flatten())\n",
        "# model.add(Dense(5, activation='softmax')) # 5 are number of classes"
      ],
      "execution_count": 0,
      "outputs": []
    },
    {
      "cell_type": "code",
      "metadata": {
        "id": "AOEXS78CAwx_",
        "colab_type": "code",
        "colab": {}
      },
      "source": [
        "# ###################### model 2 ################\n",
        "# model = Sequential()\n",
        "# model.add(Conv3D(64, kernel_size=(3,3,3), activation='relu', input_shape=input_shape,data_format='channels_last'))\n",
        "# model.add(MaxPooling3D(pool_size=(1, 2, 2), strides=(1, 2, 2)))\n",
        "# model.add(Conv3D(128, (3,3,3), activation='relu'))\n",
        "# model.add(MaxPooling3D(pool_size=(1, 2, 2), strides=(1, 2, 2)))\n",
        "# model.add(Conv3D(256, (3,3,3), activation='relu'))\n",
        "# model.add(Conv3D(256, (3,3,3), activation='relu'))\n",
        "# model.add(MaxPooling3D(pool_size=(1, 2, 2), strides=(1, 2, 2)))\n",
        "# model.add(Conv3D(512, (3,3,3), activation='relu'))\n",
        "# model.add(Conv3D(512, (3,3,3), activation='relu'))\n",
        "# model.add(MaxPooling3D(pool_size=(1, 2, 2), strides=(1, 2, 2)))\n",
        "# # model.add(Conv3D(512, (3,3,3), activation='relu'))\n",
        "# # model.add(Conv3D(512, (3,3,3), activation='relu'))\n",
        "# # model.add(MaxPooling3D(pool_size=(1, 2, 2), strides=(1, 2, 2)))\n",
        "# model.add(Flatten())\n",
        "# model.add(Dense(2048,activation='relu'))\n",
        "# model.add(Dense(2048,activation='relu'))\n",
        "# model.add(Dense(no_of_classes, activation='softmax'))"
      ],
      "execution_count": 0,
      "outputs": []
    },
    {
      "cell_type": "code",
      "metadata": {
        "id": "9DrW0AN6AwyB",
        "colab_type": "code",
        "colab": {}
      },
      "source": [
        "# ###################### model 2 ################\n",
        "# model = Sequential()\n",
        "# model.add(Conv3D(64, kernel_size=(3,3,3), activation='relu', input_shape=input_shape,data_format='channels_last'))\n",
        "# model.add(MaxPooling3D(pool_size=(1, 2, 2), strides=(1, 2, 2)))\n",
        "# model.add(Conv3D(128, (3,3,3), activation='relu'))\n",
        "# model.add(MaxPooling3D(pool_size=(1, 2, 2), strides=(1, 2, 2)))\n",
        "# model.add(Conv3D(256, (3,3,3), activation='relu'))\n",
        "# model.add(Conv3D(256, (3,3,3), activation='relu'))\n",
        "# model.add(MaxPooling3D(pool_size=(1, 2, 2), strides=(1, 2, 2)))\n",
        "# model.add(Conv3D(512, (3,3,3), activation='relu'))\n",
        "# model.add(Conv3D(512, (3,3,3), activation='relu'))\n",
        "# model.add(MaxPooling3D(pool_size=(1, 2, 2), strides=(1, 2, 2)))\n",
        "# # model.add(Conv3D(512, (3,3,3), activation='relu'))\n",
        "# # model.add(Conv3D(512, (3,3,3), activation='relu'))\n",
        "# # model.add(MaxPooling3D(pool_size=(1, 2, 2), strides=(1, 2, 2)))\n",
        "# model.add(Flatten())\n",
        "# model.add(Dense(2048,activation='relu'))\n",
        "# model.add(Dense(2048,activation='relu'))\n",
        "# model.add(Dense(no_of_classes, activation='softmax'))"
      ],
      "execution_count": 0,
      "outputs": []
    },
    {
      "cell_type": "code",
      "metadata": {
        "id": "VqiFAjetAwyC",
        "colab_type": "code",
        "colab": {}
      },
      "source": [
        "# ###################### model 3 - deep model ################\n",
        "# model = Sequential()\n",
        "# model.add(Conv3D(64, kernel_size=(3,3,3), activation='relu', input_shape=input_shape,data_format='channels_last'))\n",
        "# model.add(Conv3D(64, (3,3,3), padding='same',activation='relu'))\n",
        "# model.add(MaxPooling3D(pool_size=(1,2,2), strides=(1,2,2)))\n",
        "# model.add(Conv3D(128, (3,3,3), padding='same',activation='relu'))\n",
        "# model.add(Conv3D(128, (3,3,3),  activation='relu'))\n",
        "# model.add(MaxPooling3D(pool_size=(1,2,2), strides=(1,2,2)))\n",
        "# model.add(Conv3D(256, (3,3,3), activation='relu'))\n",
        "# model.add(Conv3D(256, (3,3,3), activation='relu'))\n",
        "# model.add(Conv3D(256, (3,3,3),  activation='relu'))\n",
        "# model.add(Conv3D(256, (3,3,3),  activation='relu'))\n",
        "# model.add(MaxPooling3D(pool_size=(1, 2, 2), strides=(1, 2, 2)))\n",
        "# model.add(Flatten())\n",
        "# model.add(Dense(2048,activation='relu'))\n",
        "# model.add(Dense(2048,activation='relu'))\n",
        "# model.add(Dense(no_of_classes, activation='softmax'))\n",
        "# model.summary()"
      ],
      "execution_count": 0,
      "outputs": []
    },
    {
      "cell_type": "code",
      "metadata": {
        "id": "W0rMcM-l0kX1",
        "colab_type": "code",
        "outputId": "45239504-4749-4bcf-cb6c-571cf0aa68de",
        "colab": {
          "base_uri": "https://localhost:8080/",
          "height": 1548
        }
      },
      "source": [
        "##################### model 3 - deep model ################\n",
        "model = Sequential()\n",
        "model.add(Conv3D(16, kernel_size=(3,3,3), activation='relu', input_shape=input_shape,data_format='channels_last'))\n",
        "model.add(BatchNormalization())\n",
        "model.add(Conv3D(16, (3,3,3), padding='same',activation='relu'))\n",
        "model.add(BatchNormalization())\n",
        "model.add(Dropout(0.25))\n",
        "model.add(MaxPooling3D(pool_size=(1,2,2), strides=(1,2,2)))\n",
        "model.add(Conv3D(32, (3,3,3), padding='same',activation='relu'))\n",
        "model.add(BatchNormalization())\n",
        "model.add(Conv3D(32, (3,3,3), padding='same', activation='relu'))\n",
        "model.add(BatchNormalization())\n",
        "model.add(Dropout(0.25))\n",
        "model.add(MaxPooling3D(pool_size=(1,2,2), strides=(1,2,2)))\n",
        "model.add(Conv3D(64, (3,3,3),padding='same', activation='relu'))\n",
        "model.add(BatchNormalization())\n",
        "model.add(Conv3D(64, (3,3,3),padding='same', activation='relu'))\n",
        "model.add(BatchNormalization())\n",
        "model.add(Conv3D(64, (3,3,3),padding='same',  activation='relu'))\n",
        "model.add(BatchNormalization())\n",
        "model.add(Conv3D(64, (3,3,3),padding='same',  activation='relu'))\n",
        "model.add(BatchNormalization())\n",
        "model.add(Dropout(0.25))\n",
        "model.add(MaxPooling3D(pool_size=(1, 2, 2), strides=(1, 2, 2)))\n",
        "model.add(Conv3D(128, (3,3,3),padding='same', activation='relu'))\n",
        "model.add(BatchNormalization())\n",
        "model.add(Conv3D(128, (3,3,3),padding='same', activation='relu'))\n",
        "model.add(BatchNormalization())\n",
        "model.add(Conv3D(128, (3,3,3),padding='same',  activation='relu'))\n",
        "model.add(BatchNormalization())\n",
        "model.add(Conv3D(128, (3,3,3),padding='same',  activation='relu'))\n",
        "model.add(BatchNormalization())\n",
        "model.add(Dropout(0.25))\n",
        "model.add(Flatten())\n",
        "model.add(Dense(2048,activation='relu'))\n",
        "model.add(BatchNormalization())\n",
        "model.add(Dense(2048,activation='relu'))\n",
        "model.add(BatchNormalization())\n",
        "model.add(Dense(no_of_classes, activation='softmax'))\n",
        "model.summary()"
      ],
      "execution_count": 19,
      "outputs": [
        {
          "output_type": "stream",
          "text": [
            "WARNING: Logging before flag parsing goes to stderr.\n",
            "W0615 18:03:35.550211 140232168560512 deprecation_wrapper.py:119] From /usr/local/lib/python3.6/dist-packages/keras/backend/tensorflow_backend.py:74: The name tf.get_default_graph is deprecated. Please use tf.compat.v1.get_default_graph instead.\n",
            "\n",
            "W0615 18:03:35.553367 140232168560512 deprecation_wrapper.py:119] From /usr/local/lib/python3.6/dist-packages/keras/backend/tensorflow_backend.py:517: The name tf.placeholder is deprecated. Please use tf.compat.v1.placeholder instead.\n",
            "\n",
            "W0615 18:03:35.557802 140232168560512 deprecation_wrapper.py:119] From /usr/local/lib/python3.6/dist-packages/keras/backend/tensorflow_backend.py:4138: The name tf.random_uniform is deprecated. Please use tf.random.uniform instead.\n",
            "\n",
            "W0615 18:03:35.648638 140232168560512 deprecation_wrapper.py:119] From /usr/local/lib/python3.6/dist-packages/keras/backend/tensorflow_backend.py:133: The name tf.placeholder_with_default is deprecated. Please use tf.compat.v1.placeholder_with_default instead.\n",
            "\n",
            "W0615 18:03:35.856679 140232168560512 deprecation.py:506] From /usr/local/lib/python3.6/dist-packages/keras/backend/tensorflow_backend.py:3445: calling dropout (from tensorflow.python.ops.nn_ops) with keep_prob is deprecated and will be removed in a future version.\n",
            "Instructions for updating:\n",
            "Please use `rate` instead of `keep_prob`. Rate should be set to `rate = 1 - keep_prob`.\n"
          ],
          "name": "stderr"
        },
        {
          "output_type": "stream",
          "text": [
            "_________________________________________________________________\n",
            "Layer (type)                 Output Shape              Param #   \n",
            "=================================================================\n",
            "conv3d_1 (Conv3D)            (None, 13, 98, 98, 16)    1312      \n",
            "_________________________________________________________________\n",
            "batch_normalization_1 (Batch (None, 13, 98, 98, 16)    64        \n",
            "_________________________________________________________________\n",
            "conv3d_2 (Conv3D)            (None, 13, 98, 98, 16)    6928      \n",
            "_________________________________________________________________\n",
            "batch_normalization_2 (Batch (None, 13, 98, 98, 16)    64        \n",
            "_________________________________________________________________\n",
            "dropout_1 (Dropout)          (None, 13, 98, 98, 16)    0         \n",
            "_________________________________________________________________\n",
            "max_pooling3d_1 (MaxPooling3 (None, 13, 49, 49, 16)    0         \n",
            "_________________________________________________________________\n",
            "conv3d_3 (Conv3D)            (None, 13, 49, 49, 32)    13856     \n",
            "_________________________________________________________________\n",
            "batch_normalization_3 (Batch (None, 13, 49, 49, 32)    128       \n",
            "_________________________________________________________________\n",
            "conv3d_4 (Conv3D)            (None, 13, 49, 49, 32)    27680     \n",
            "_________________________________________________________________\n",
            "batch_normalization_4 (Batch (None, 13, 49, 49, 32)    128       \n",
            "_________________________________________________________________\n",
            "dropout_2 (Dropout)          (None, 13, 49, 49, 32)    0         \n",
            "_________________________________________________________________\n",
            "max_pooling3d_2 (MaxPooling3 (None, 13, 24, 24, 32)    0         \n",
            "_________________________________________________________________\n",
            "conv3d_5 (Conv3D)            (None, 13, 24, 24, 64)    55360     \n",
            "_________________________________________________________________\n",
            "batch_normalization_5 (Batch (None, 13, 24, 24, 64)    256       \n",
            "_________________________________________________________________\n",
            "conv3d_6 (Conv3D)            (None, 13, 24, 24, 64)    110656    \n",
            "_________________________________________________________________\n",
            "batch_normalization_6 (Batch (None, 13, 24, 24, 64)    256       \n",
            "_________________________________________________________________\n",
            "conv3d_7 (Conv3D)            (None, 13, 24, 24, 64)    110656    \n",
            "_________________________________________________________________\n",
            "batch_normalization_7 (Batch (None, 13, 24, 24, 64)    256       \n",
            "_________________________________________________________________\n",
            "conv3d_8 (Conv3D)            (None, 13, 24, 24, 64)    110656    \n",
            "_________________________________________________________________\n",
            "batch_normalization_8 (Batch (None, 13, 24, 24, 64)    256       \n",
            "_________________________________________________________________\n",
            "dropout_3 (Dropout)          (None, 13, 24, 24, 64)    0         \n",
            "_________________________________________________________________\n",
            "max_pooling3d_3 (MaxPooling3 (None, 13, 12, 12, 64)    0         \n",
            "_________________________________________________________________\n",
            "conv3d_9 (Conv3D)            (None, 13, 12, 12, 128)   221312    \n",
            "_________________________________________________________________\n",
            "batch_normalization_9 (Batch (None, 13, 12, 12, 128)   512       \n",
            "_________________________________________________________________\n",
            "conv3d_10 (Conv3D)           (None, 13, 12, 12, 128)   442496    \n",
            "_________________________________________________________________\n",
            "batch_normalization_10 (Batc (None, 13, 12, 12, 128)   512       \n",
            "_________________________________________________________________\n",
            "conv3d_11 (Conv3D)           (None, 13, 12, 12, 128)   442496    \n",
            "_________________________________________________________________\n",
            "batch_normalization_11 (Batc (None, 13, 12, 12, 128)   512       \n",
            "_________________________________________________________________\n",
            "conv3d_12 (Conv3D)           (None, 13, 12, 12, 128)   442496    \n",
            "_________________________________________________________________\n",
            "batch_normalization_12 (Batc (None, 13, 12, 12, 128)   512       \n",
            "_________________________________________________________________\n",
            "dropout_4 (Dropout)          (None, 13, 12, 12, 128)   0         \n",
            "_________________________________________________________________\n",
            "flatten_1 (Flatten)          (None, 239616)            0         \n",
            "_________________________________________________________________\n",
            "dense_1 (Dense)              (None, 2048)              490735616 \n",
            "_________________________________________________________________\n",
            "batch_normalization_13 (Batc (None, 2048)              8192      \n",
            "_________________________________________________________________\n",
            "dense_2 (Dense)              (None, 2048)              4196352   \n",
            "_________________________________________________________________\n",
            "batch_normalization_14 (Batc (None, 2048)              8192      \n",
            "_________________________________________________________________\n",
            "dense_3 (Dense)              (None, 5)                 10245     \n",
            "=================================================================\n",
            "Total params: 496,947,957\n",
            "Trainable params: 496,938,037\n",
            "Non-trainable params: 9,920\n",
            "_________________________________________________________________\n"
          ],
          "name": "stdout"
        }
      ]
    },
    {
      "cell_type": "markdown",
      "metadata": {
        "id": "3RIal45ZAwyG",
        "colab_type": "text"
      },
      "source": [
        "Now that you have written the model, the next step is to `compile` the model. When you print the `summary` of the model, you'll see the total number of parameters you have to train."
      ]
    },
    {
      "cell_type": "code",
      "metadata": {
        "scrolled": true,
        "id": "LxwY4We_AwyG",
        "colab_type": "code",
        "outputId": "afb9cb7f-b7f9-41c8-f1f9-4957d4a1a57c",
        "colab": {
          "base_uri": "https://localhost:8080/",
          "height": 1418
        }
      },
      "source": [
        "optimiser = optimizers.SGD(lr=1e-3, decay=1e-6, momentum=0.9, nesterov=True) #write your optimizer\n",
        "model.compile(optimizer=optimiser, loss='categorical_crossentropy', metrics=['categorical_accuracy'])\n",
        "model.summary()"
      ],
      "execution_count": 20,
      "outputs": [
        {
          "output_type": "stream",
          "text": [
            "W0615 18:03:37.254225 140232168560512 deprecation_wrapper.py:119] From /usr/local/lib/python3.6/dist-packages/keras/optimizers.py:790: The name tf.train.Optimizer is deprecated. Please use tf.compat.v1.train.Optimizer instead.\n",
            "\n",
            "W0615 18:03:37.263442 140232168560512 deprecation_wrapper.py:119] From /usr/local/lib/python3.6/dist-packages/keras/backend/tensorflow_backend.py:3295: The name tf.log is deprecated. Please use tf.math.log instead.\n",
            "\n"
          ],
          "name": "stderr"
        },
        {
          "output_type": "stream",
          "text": [
            "_________________________________________________________________\n",
            "Layer (type)                 Output Shape              Param #   \n",
            "=================================================================\n",
            "conv3d_1 (Conv3D)            (None, 13, 98, 98, 16)    1312      \n",
            "_________________________________________________________________\n",
            "batch_normalization_1 (Batch (None, 13, 98, 98, 16)    64        \n",
            "_________________________________________________________________\n",
            "conv3d_2 (Conv3D)            (None, 13, 98, 98, 16)    6928      \n",
            "_________________________________________________________________\n",
            "batch_normalization_2 (Batch (None, 13, 98, 98, 16)    64        \n",
            "_________________________________________________________________\n",
            "dropout_1 (Dropout)          (None, 13, 98, 98, 16)    0         \n",
            "_________________________________________________________________\n",
            "max_pooling3d_1 (MaxPooling3 (None, 13, 49, 49, 16)    0         \n",
            "_________________________________________________________________\n",
            "conv3d_3 (Conv3D)            (None, 13, 49, 49, 32)    13856     \n",
            "_________________________________________________________________\n",
            "batch_normalization_3 (Batch (None, 13, 49, 49, 32)    128       \n",
            "_________________________________________________________________\n",
            "conv3d_4 (Conv3D)            (None, 13, 49, 49, 32)    27680     \n",
            "_________________________________________________________________\n",
            "batch_normalization_4 (Batch (None, 13, 49, 49, 32)    128       \n",
            "_________________________________________________________________\n",
            "dropout_2 (Dropout)          (None, 13, 49, 49, 32)    0         \n",
            "_________________________________________________________________\n",
            "max_pooling3d_2 (MaxPooling3 (None, 13, 24, 24, 32)    0         \n",
            "_________________________________________________________________\n",
            "conv3d_5 (Conv3D)            (None, 13, 24, 24, 64)    55360     \n",
            "_________________________________________________________________\n",
            "batch_normalization_5 (Batch (None, 13, 24, 24, 64)    256       \n",
            "_________________________________________________________________\n",
            "conv3d_6 (Conv3D)            (None, 13, 24, 24, 64)    110656    \n",
            "_________________________________________________________________\n",
            "batch_normalization_6 (Batch (None, 13, 24, 24, 64)    256       \n",
            "_________________________________________________________________\n",
            "conv3d_7 (Conv3D)            (None, 13, 24, 24, 64)    110656    \n",
            "_________________________________________________________________\n",
            "batch_normalization_7 (Batch (None, 13, 24, 24, 64)    256       \n",
            "_________________________________________________________________\n",
            "conv3d_8 (Conv3D)            (None, 13, 24, 24, 64)    110656    \n",
            "_________________________________________________________________\n",
            "batch_normalization_8 (Batch (None, 13, 24, 24, 64)    256       \n",
            "_________________________________________________________________\n",
            "dropout_3 (Dropout)          (None, 13, 24, 24, 64)    0         \n",
            "_________________________________________________________________\n",
            "max_pooling3d_3 (MaxPooling3 (None, 13, 12, 12, 64)    0         \n",
            "_________________________________________________________________\n",
            "conv3d_9 (Conv3D)            (None, 13, 12, 12, 128)   221312    \n",
            "_________________________________________________________________\n",
            "batch_normalization_9 (Batch (None, 13, 12, 12, 128)   512       \n",
            "_________________________________________________________________\n",
            "conv3d_10 (Conv3D)           (None, 13, 12, 12, 128)   442496    \n",
            "_________________________________________________________________\n",
            "batch_normalization_10 (Batc (None, 13, 12, 12, 128)   512       \n",
            "_________________________________________________________________\n",
            "conv3d_11 (Conv3D)           (None, 13, 12, 12, 128)   442496    \n",
            "_________________________________________________________________\n",
            "batch_normalization_11 (Batc (None, 13, 12, 12, 128)   512       \n",
            "_________________________________________________________________\n",
            "conv3d_12 (Conv3D)           (None, 13, 12, 12, 128)   442496    \n",
            "_________________________________________________________________\n",
            "batch_normalization_12 (Batc (None, 13, 12, 12, 128)   512       \n",
            "_________________________________________________________________\n",
            "dropout_4 (Dropout)          (None, 13, 12, 12, 128)   0         \n",
            "_________________________________________________________________\n",
            "flatten_1 (Flatten)          (None, 239616)            0         \n",
            "_________________________________________________________________\n",
            "dense_1 (Dense)              (None, 2048)              490735616 \n",
            "_________________________________________________________________\n",
            "batch_normalization_13 (Batc (None, 2048)              8192      \n",
            "_________________________________________________________________\n",
            "dense_2 (Dense)              (None, 2048)              4196352   \n",
            "_________________________________________________________________\n",
            "batch_normalization_14 (Batc (None, 2048)              8192      \n",
            "_________________________________________________________________\n",
            "dense_3 (Dense)              (None, 5)                 10245     \n",
            "=================================================================\n",
            "Total params: 496,947,957\n",
            "Trainable params: 496,938,037\n",
            "Non-trainable params: 9,920\n",
            "_________________________________________________________________\n"
          ],
          "name": "stdout"
        }
      ]
    },
    {
      "cell_type": "markdown",
      "metadata": {
        "id": "bsvu-KsxAwyJ",
        "colab_type": "text"
      },
      "source": [
        "Let us create the `train_generator` and the `val_generator` which will be used in `.fit_generator`."
      ]
    },
    {
      "cell_type": "code",
      "metadata": {
        "id": "iLoDMlj1AwyJ",
        "colab_type": "code",
        "colab": {}
      },
      "source": [
        "train_generator = generator(train_path, train_doc, batch_size)\n",
        "val_generator = generator(val_path, val_doc, batch_size)"
      ],
      "execution_count": 0,
      "outputs": []
    },
    {
      "cell_type": "code",
      "metadata": {
        "id": "DFYSsMRUAwyL",
        "colab_type": "code",
        "colab": {}
      },
      "source": [
        "model_name = 'model_init' + '_' + str(curr_dt_time).replace(' ','').replace(':','_') + '/'\n",
        "    \n",
        "if not os.path.exists(model_name):\n",
        "    os.mkdir(model_name)\n",
        "        \n",
        "filepath = model_name + 'model-{epoch:05d}-{loss:.5f}-{categorical_accuracy:.5f}-{val_loss:.5f}-{val_categorical_accuracy:.5f}.h5'\n",
        "\n",
        "#checkpoint = ModelCheckpoint(filepath, monitor='val_loss', verbose=1, save_best_only=False, save_weights_only=False, mode='auto', period=1)\n",
        "my_model_checkpoint = ModelCheckpoint(filepath, monitor='val_loss', verbose=1, save_best_only=True, save_weights_only=True, mode='auto', period=1)\n",
        "csv_logger = CSVLogger('training.cnn3d.txt',separator=',', append=True)\n",
        "early_stopping = EarlyStopping(monitor='val_loss', min_delta=0, patience=20, verbose=1)\n",
        "reduce_LR = ReduceLROnPlateau(monitor='val_loss', factor=0.8, patience=10, min_lr=1e-10,verbose=1) # write the REducelronplateau code here\n",
        "callbacks_list = [reduce_LR,csv_logger,my_model_checkpoint,early_stopping] #checkpoint"
      ],
      "execution_count": 0,
      "outputs": []
    },
    {
      "cell_type": "markdown",
      "metadata": {
        "id": "9knbjCTXAwyN",
        "colab_type": "text"
      },
      "source": [
        "The `steps_per_epoch` and `validation_steps` are used by `fit_generator` to decide the number of next() calls it need to make."
      ]
    },
    {
      "cell_type": "code",
      "metadata": {
        "id": "QhnEtxv_AwyN",
        "colab_type": "code",
        "colab": {}
      },
      "source": [
        "if (num_train_sequences%batch_size) == 0:\n",
        "    steps_per_epoch = int(num_train_sequences/batch_size)\n",
        "else:\n",
        "    steps_per_epoch = (num_train_sequences//batch_size) + 1\n",
        "\n",
        "if (num_val_sequences%batch_size) == 0:\n",
        "    validation_steps = int(num_val_sequences/batch_size)\n",
        "else:\n",
        "    validation_steps = (num_val_sequences//batch_size) + 1"
      ],
      "execution_count": 0,
      "outputs": []
    },
    {
      "cell_type": "markdown",
      "metadata": {
        "id": "nKRfU0oMAwyQ",
        "colab_type": "text"
      },
      "source": [
        "Let us now fit the model. This will start training the model and with the help of the checkpoints, you'll be able to save the model at the end of each epoch."
      ]
    },
    {
      "cell_type": "code",
      "metadata": {
        "id": "ezeOLRZgAwyR",
        "colab_type": "code",
        "outputId": "3ccfee51-3a8a-453d-f399-39274d06cfb9",
        "colab": {
          "base_uri": "https://localhost:8080/",
          "height": 1658
        }
      },
      "source": [
        "#from resnet3d import Resnet3DBuilder\n",
        "model = Resnet3DBuilder.build_resnet_18((15, 100, 100, 3), 5)\n",
        "# print(model.summary())\n",
        "# optimiser = optimizers.SGD(lr=1e-3, decay=1e-6, momentum=0.9, nesterov=True) #write your optimizer\n",
        "# model.compile(optimizer=optimiser, loss='categorical_crossentropy', metrics=['categorical_accuracy'])\n",
        "# model.summary()\n",
        "model.compile(optimizer='adam', loss='categorical_crossentropy', metrics=['categorical_accuracy'])\n",
        "model.fit_generator(train_generator, steps_per_epoch=steps_per_epoch, epochs=num_epochs, verbose=1, \n",
        "                    callbacks=None, validation_data=val_generator, \n",
        "                    validation_steps=validation_steps, class_weight=None, workers=1, initial_epoch=0)\n",
        "\n",
        "\n",
        "# lr_finder = LRFinder(min_lr=1e-5, \n",
        "#                      max_lr=1e-2, \n",
        "#                      steps_per_epoch=steps_per_epoch, \n",
        "#                      epochs=3)\n",
        "# callbacks_list.append(lr_finder)\n",
        "\n",
        "\n",
        "# #model.load_weights('./03-model_init_2019-06-1205_47_36.337812/model-00010-0.84542-0.67270-1.15618-0.59000.h5')\n",
        "# model.fit_generator(train_generator, steps_per_epoch=steps_per_epoch, epochs=num_epochs, verbose=1, \n",
        "#                     callbacks=callbacks_list, validation_data=val_generator, \n",
        "#                     validation_steps=validation_steps, class_weight=None, workers=1, initial_epoch=0)\n",
        "# lr_finder.plot_loss()\n",
        "\n",
        "\n",
        "\n"
      ],
      "execution_count": 37,
      "outputs": [
        {
          "output_type": "stream",
          "text": [
            "Epoch 1/50\n",
            "67/67 [==============================] - 29s 437ms/step - loss: 1.9532 - categorical_accuracy: 0.4348 - val_loss: 2.0984 - val_categorical_accuracy: 0.4500\n",
            "Epoch 2/50\n",
            "67/67 [==============================] - 12s 172ms/step - loss: 1.7715 - categorical_accuracy: 0.5010 - val_loss: 12.7872 - val_categorical_accuracy: 0.2200\n",
            "Epoch 3/50\n",
            "67/67 [==============================] - 11s 169ms/step - loss: 1.5757 - categorical_accuracy: 0.5568 - val_loss: 2.8961 - val_categorical_accuracy: 0.4800\n",
            "Epoch 4/50\n",
            "67/67 [==============================] - 11s 170ms/step - loss: 1.4687 - categorical_accuracy: 0.5861 - val_loss: 6.1220 - val_categorical_accuracy: 0.2000\n",
            "Epoch 5/50\n",
            "67/67 [==============================] - 12s 172ms/step - loss: 1.3314 - categorical_accuracy: 0.6726 - val_loss: 1.7558 - val_categorical_accuracy: 0.5400\n",
            "Epoch 6/50\n",
            "67/67 [==============================] - 12s 172ms/step - loss: 1.2221 - categorical_accuracy: 0.7209 - val_loss: 2.6018 - val_categorical_accuracy: 0.3500\n",
            "Epoch 7/50\n",
            "67/67 [==============================] - 12s 172ms/step - loss: 1.1764 - categorical_accuracy: 0.7164 - val_loss: 2.9857 - val_categorical_accuracy: 0.4400\n",
            "Epoch 8/50\n",
            "67/67 [==============================] - 12s 172ms/step - loss: 1.1183 - categorical_accuracy: 0.7537 - val_loss: 1.9764 - val_categorical_accuracy: 0.4800\n",
            "Epoch 9/50\n",
            "67/67 [==============================] - 11s 171ms/step - loss: 0.9568 - categorical_accuracy: 0.8145 - val_loss: 2.9912 - val_categorical_accuracy: 0.3700\n",
            "Epoch 10/50\n",
            "67/67 [==============================] - 11s 171ms/step - loss: 0.9479 - categorical_accuracy: 0.8249 - val_loss: 2.3791 - val_categorical_accuracy: 0.4000\n",
            "Epoch 11/50\n",
            "67/67 [==============================] - 12s 172ms/step - loss: 0.9742 - categorical_accuracy: 0.8164 - val_loss: 2.3555 - val_categorical_accuracy: 0.5300\n",
            "Epoch 12/50\n",
            "67/67 [==============================] - 12s 173ms/step - loss: 0.8885 - categorical_accuracy: 0.8522 - val_loss: 2.4442 - val_categorical_accuracy: 0.4100\n",
            "Epoch 13/50\n",
            "67/67 [==============================] - 12s 174ms/step - loss: 0.8711 - categorical_accuracy: 0.8607 - val_loss: 4.4951 - val_categorical_accuracy: 0.3800\n",
            "Epoch 14/50\n",
            "67/67 [==============================] - 12s 174ms/step - loss: 0.8209 - categorical_accuracy: 0.8806 - val_loss: 2.3450 - val_categorical_accuracy: 0.4400\n",
            "Epoch 15/50\n",
            "67/67 [==============================] - 12s 174ms/step - loss: 0.7047 - categorical_accuracy: 0.9209 - val_loss: 1.4724 - val_categorical_accuracy: 0.6600\n",
            "Epoch 16/50\n",
            "67/67 [==============================] - 12s 173ms/step - loss: 0.7692 - categorical_accuracy: 0.8895 - val_loss: 4.0829 - val_categorical_accuracy: 0.3000\n",
            "Epoch 17/50\n",
            "67/67 [==============================] - 12s 176ms/step - loss: 0.7252 - categorical_accuracy: 0.9115 - val_loss: 1.5302 - val_categorical_accuracy: 0.6700\n",
            "Epoch 18/50\n",
            "67/67 [==============================] - 12s 173ms/step - loss: 0.5939 - categorical_accuracy: 0.9478 - val_loss: 1.4749 - val_categorical_accuracy: 0.5900\n",
            "Epoch 19/50\n",
            "67/67 [==============================] - 12s 175ms/step - loss: 0.6193 - categorical_accuracy: 0.9358 - val_loss: 5.4053 - val_categorical_accuracy: 0.3000\n",
            "Epoch 20/50\n",
            "67/67 [==============================] - 12s 174ms/step - loss: 0.6782 - categorical_accuracy: 0.9104 - val_loss: 1.4763 - val_categorical_accuracy: 0.7100\n",
            "Epoch 21/50\n",
            "67/67 [==============================] - 12s 174ms/step - loss: 0.6223 - categorical_accuracy: 0.9343 - val_loss: 1.3785 - val_categorical_accuracy: 0.6800\n",
            "Epoch 22/50\n",
            "67/67 [==============================] - 12s 175ms/step - loss: 0.6837 - categorical_accuracy: 0.9140 - val_loss: 2.3521 - val_categorical_accuracy: 0.5200\n",
            "Epoch 23/50\n",
            "67/67 [==============================] - 12s 175ms/step - loss: 0.6947 - categorical_accuracy: 0.9164 - val_loss: 2.6291 - val_categorical_accuracy: 0.5000\n",
            "Epoch 24/50\n",
            "67/67 [==============================] - 12s 174ms/step - loss: 0.6529 - categorical_accuracy: 0.9100 - val_loss: 2.8660 - val_categorical_accuracy: 0.5100\n",
            "Epoch 25/50\n",
            "67/67 [==============================] - 12s 174ms/step - loss: 0.5120 - categorical_accuracy: 0.9746 - val_loss: 2.1738 - val_categorical_accuracy: 0.6200\n",
            "Epoch 26/50\n",
            "67/67 [==============================] - 12s 174ms/step - loss: 0.5869 - categorical_accuracy: 0.9433 - val_loss: 2.7532 - val_categorical_accuracy: 0.4800\n",
            "Epoch 27/50\n",
            "67/67 [==============================] - 12s 174ms/step - loss: 0.5587 - categorical_accuracy: 0.9552 - val_loss: 1.3698 - val_categorical_accuracy: 0.6600\n",
            "Epoch 28/50\n",
            "67/67 [==============================] - 12s 176ms/step - loss: 0.5266 - categorical_accuracy: 0.9672 - val_loss: 1.6263 - val_categorical_accuracy: 0.5700\n",
            "Epoch 29/50\n",
            "67/67 [==============================] - 12s 174ms/step - loss: 0.5268 - categorical_accuracy: 0.9582 - val_loss: 2.0011 - val_categorical_accuracy: 0.5200\n",
            "Epoch 30/50\n",
            "67/67 [==============================] - 12s 173ms/step - loss: 0.5911 - categorical_accuracy: 0.9309 - val_loss: 5.0853 - val_categorical_accuracy: 0.3900\n",
            "Epoch 31/50\n",
            "67/67 [==============================] - 12s 174ms/step - loss: 0.5783 - categorical_accuracy: 0.9473 - val_loss: 2.0710 - val_categorical_accuracy: 0.6200\n",
            "Epoch 32/50\n",
            "67/67 [==============================] - 12s 174ms/step - loss: 0.5521 - categorical_accuracy: 0.9522 - val_loss: 5.3364 - val_categorical_accuracy: 0.4200\n",
            "Epoch 33/50\n",
            "67/67 [==============================] - 12s 175ms/step - loss: 0.5328 - categorical_accuracy: 0.9567 - val_loss: 3.3255 - val_categorical_accuracy: 0.3200\n",
            "Epoch 34/50\n",
            "67/67 [==============================] - 12s 174ms/step - loss: 0.6002 - categorical_accuracy: 0.9339 - val_loss: 2.4157 - val_categorical_accuracy: 0.5700\n",
            "Epoch 35/50\n",
            "67/67 [==============================] - 12s 176ms/step - loss: 0.5288 - categorical_accuracy: 0.9548 - val_loss: 3.1407 - val_categorical_accuracy: 0.4700\n",
            "Epoch 36/50\n",
            "67/67 [==============================] - 12s 175ms/step - loss: 0.4980 - categorical_accuracy: 0.9701 - val_loss: 2.5638 - val_categorical_accuracy: 0.5600\n",
            "Epoch 37/50\n",
            "67/67 [==============================] - 12s 175ms/step - loss: 0.4707 - categorical_accuracy: 0.9761 - val_loss: 2.8379 - val_categorical_accuracy: 0.5100\n",
            "Epoch 38/50\n",
            "67/67 [==============================] - 12s 176ms/step - loss: 0.4813 - categorical_accuracy: 0.9672 - val_loss: 1.7287 - val_categorical_accuracy: 0.6200\n",
            "Epoch 39/50\n",
            "67/67 [==============================] - 12s 175ms/step - loss: 0.5427 - categorical_accuracy: 0.9492 - val_loss: 1.7435 - val_categorical_accuracy: 0.6300\n",
            "Epoch 40/50\n",
            "67/67 [==============================] - 12s 175ms/step - loss: 0.4892 - categorical_accuracy: 0.9716 - val_loss: 3.5495 - val_categorical_accuracy: 0.5300\n",
            "Epoch 41/50\n",
            "67/67 [==============================] - 12s 174ms/step - loss: 0.4844 - categorical_accuracy: 0.9672 - val_loss: 2.3052 - val_categorical_accuracy: 0.4900\n",
            "Epoch 42/50\n",
            "67/67 [==============================] - 12s 176ms/step - loss: 0.5061 - categorical_accuracy: 0.9552 - val_loss: 2.9694 - val_categorical_accuracy: 0.4600\n",
            "Epoch 43/50\n",
            "67/67 [==============================] - 12s 175ms/step - loss: 0.5196 - categorical_accuracy: 0.9567 - val_loss: 3.4510 - val_categorical_accuracy: 0.4300\n",
            "Epoch 44/50\n",
            "67/67 [==============================] - 12s 175ms/step - loss: 0.4817 - categorical_accuracy: 0.9701 - val_loss: 2.4673 - val_categorical_accuracy: 0.5200\n",
            "Epoch 45/50\n",
            "67/67 [==============================] - 12s 175ms/step - loss: 0.4652 - categorical_accuracy: 0.9657 - val_loss: 2.0471 - val_categorical_accuracy: 0.5900\n",
            "Epoch 46/50\n",
            "67/67 [==============================] - 12s 174ms/step - loss: 0.4795 - categorical_accuracy: 0.9612 - val_loss: 4.6034 - val_categorical_accuracy: 0.4400\n",
            "Epoch 47/50\n",
            "67/67 [==============================] - 12s 174ms/step - loss: 0.4967 - categorical_accuracy: 0.9522 - val_loss: 2.7147 - val_categorical_accuracy: 0.5500\n",
            "Epoch 48/50\n",
            "67/67 [==============================] - 12s 174ms/step - loss: 0.5239 - categorical_accuracy: 0.9488 - val_loss: 2.1383 - val_categorical_accuracy: 0.5400\n",
            "Epoch 49/50\n",
            "67/67 [==============================] - 12s 176ms/step - loss: 0.5703 - categorical_accuracy: 0.9469 - val_loss: 2.6807 - val_categorical_accuracy: 0.5000\n",
            "Epoch 50/50\n",
            "67/67 [==============================] - 12s 173ms/step - loss: 0.4771 - categorical_accuracy: 0.9701 - val_loss: 2.3755 - val_categorical_accuracy: 0.5300\n"
          ],
          "name": "stdout"
        },
        {
          "output_type": "execute_result",
          "data": {
            "text/plain": [
              "<keras.callbacks.History at 0x7f872b9b30f0>"
            ]
          },
          "metadata": {
            "tags": []
          },
          "execution_count": 37
        }
      ]
    },
    {
      "cell_type": "code",
      "metadata": {
        "id": "npKAV9TEAwyT",
        "colab_type": "code",
        "colab": {}
      },
      "source": [
        "model.save('resnet3d.h5')"
      ],
      "execution_count": 0,
      "outputs": []
    },
    {
      "cell_type": "code",
      "metadata": {
        "id": "G1nS0rnID0M9",
        "colab_type": "code",
        "colab": {}
      },
      "source": [
        ""
      ],
      "execution_count": 0,
      "outputs": []
    },
    {
      "cell_type": "code",
      "metadata": {
        "id": "P3vqsmTbAwyV",
        "colab_type": "code",
        "colab": {}
      },
      "source": [
        "os.rename('/content/cloned-repo/Project_data/model_init_2019-06-1208_44_45.080481','/content/cloned-repo/Project_data/04-model_init_2019-06-1208_44_45.080481')\n"
      ],
      "execution_count": 0,
      "outputs": []
    },
    {
      "cell_type": "code",
      "metadata": {
        "id": "DQfbQNUZrlZ7",
        "colab_type": "code",
        "colab": {}
      },
      "source": [
        "model.save(model_name + 'COMPLETE_model-00020-0.27388-0.88688-1.37700-0.57000.h5')"
      ],
      "execution_count": 0,
      "outputs": []
    },
    {
      "cell_type": "code",
      "metadata": {
        "id": "FmI72mGejnKr",
        "colab_type": "code",
        "colab": {
          "base_uri": "https://localhost:8080/",
          "height": 118
        },
        "outputId": "c7a5f091-daa3-4e44-98ce-e8eec89f56a4"
      },
      "source": [
        "os.makedirs('/content/gdrive',exist_ok=True)\n",
        "from google.colab import drive\n",
        "drive.mount('/content/gdrive')\n"
      ],
      "execution_count": 44,
      "outputs": [
        {
          "output_type": "stream",
          "text": [
            "Go to this URL in a browser: https://accounts.google.com/o/oauth2/auth?client_id=947318989803-6bn6qk8qdgf4n4g3pfee6491hc0brc4i.apps.googleusercontent.com&redirect_uri=urn%3Aietf%3Awg%3Aoauth%3A2.0%3Aoob&scope=email%20https%3A%2F%2Fwww.googleapis.com%2Fauth%2Fdocs.test%20https%3A%2F%2Fwww.googleapis.com%2Fauth%2Fdrive%20https%3A%2F%2Fwww.googleapis.com%2Fauth%2Fdrive.photos.readonly%20https%3A%2F%2Fwww.googleapis.com%2Fauth%2Fpeopleapi.readonly&response_type=code\n",
            "\n",
            "Enter your authorization code:\n",
            "··········\n",
            "Mounted at /content/gdrive\n"
          ],
          "name": "stdout"
        }
      ]
    },
    {
      "cell_type": "code",
      "metadata": {
        "id": "VxjUOrCljviT",
        "colab_type": "code",
        "colab": {
          "base_uri": "https://localhost:8080/",
          "height": 33
        },
        "outputId": "6d54b400-dbc8-4da6-9b18-8fd5bb8acd97"
      },
      "source": [
        "import shutil\n",
        "shutil.copy('./resnet3d.h5', '../../../content/gdrive/My Drive/gesture_recognition/resnet3d.h5')"
      ],
      "execution_count": 55,
      "outputs": [
        {
          "output_type": "execute_result",
          "data": {
            "text/plain": [
              "'../../../content/gdrive/My Drive/gesture_recognition/resnet3d.h5'"
            ]
          },
          "metadata": {
            "tags": []
          },
          "execution_count": 55
        }
      ]
    },
    {
      "cell_type": "code",
      "metadata": {
        "id": "ApyuvkhUjy4B",
        "colab_type": "code",
        "colab": {
          "base_uri": "https://localhost:8080/",
          "height": 33
        },
        "outputId": "b9d24468-4389-4b6a-ef52-fce540b4c012"
      },
      "source": [
        "!pwd"
      ],
      "execution_count": 47,
      "outputs": [
        {
          "output_type": "stream",
          "text": [
            "/content/cloned-repo/Project_data\n"
          ],
          "name": "stdout"
        }
      ]
    },
    {
      "cell_type": "code",
      "metadata": {
        "id": "bPiBFl4ZdC6m",
        "colab_type": "code",
        "colab": {}
      },
      "source": [
        "os.makedirs('../../../content/gdrive/My Drive/gesture_recognition/')"
      ],
      "execution_count": 0,
      "outputs": []
    },
    {
      "cell_type": "code",
      "metadata": {
        "id": "4ZvVUBSNd-Ja",
        "colab_type": "code",
        "colab": {}
      },
      "source": [
        ""
      ],
      "execution_count": 0,
      "outputs": []
    }
  ]
}