{
  "nbformat": 4,
  "nbformat_minor": 0,
  "metadata": {
    "colab": {
      "name": "Conv 3D Model Execution.ipynb",
      "version": "0.3.2",
      "provenance": [],
      "toc_visible": true,
      "include_colab_link": true
    },
    "language_info": {
      "codemirror_mode": {
        "name": "ipython",
        "version": 3
      },
      "file_extension": ".py",
      "mimetype": "text/x-python",
      "name": "python",
      "nbconvert_exporter": "python",
      "pygments_lexer": "ipython3",
      "version": "3.6.8"
    },
    "kernelspec": {
      "name": "python3",
      "display_name": "Python 3"
    },
    "accelerator": "GPU"
  },
  "cells": [
    {
      "cell_type": "markdown",
      "metadata": {
        "id": "view-in-github",
        "colab_type": "text"
      },
      "source": [
        "<a href=\"https://colab.research.google.com/github/s-ahuja/gesture_recognition/blob/master/Conv%203D%20Model%20Execution%20-%20Google%20Collab.ipynb\" target=\"_parent\"><img src=\"https://colab.research.google.com/assets/colab-badge.svg\" alt=\"Open In Colab\"/></a>"
      ]
    },
    {
      "cell_type": "code",
      "metadata": {
        "id": "nAaDilW3Awxc",
        "colab_type": "code",
        "colab": {
          "base_uri": "https://localhost:8080/",
          "height": 306
        },
        "outputId": "14a286a5-1fdf-4aac-ddb4-e15508da4645"
      },
      "source": [
        "!nvidia-smi"
      ],
      "execution_count": 1,
      "outputs": [
        {
          "output_type": "stream",
          "text": [
            "Wed Jun 12 08:44:34 2019       \n",
            "+-----------------------------------------------------------------------------+\n",
            "| NVIDIA-SMI 418.67       Driver Version: 410.79       CUDA Version: 10.0     |\n",
            "|-------------------------------+----------------------+----------------------+\n",
            "| GPU  Name        Persistence-M| Bus-Id        Disp.A | Volatile Uncorr. ECC |\n",
            "| Fan  Temp  Perf  Pwr:Usage/Cap|         Memory-Usage | GPU-Util  Compute M. |\n",
            "|===============================+======================+======================|\n",
            "|   0  Tesla K80           Off  | 00000000:00:04.0 Off |                    0 |\n",
            "| N/A   45C    P8    27W / 149W |      0MiB / 11441MiB |      0%      Default |\n",
            "+-------------------------------+----------------------+----------------------+\n",
            "                                                                               \n",
            "+-----------------------------------------------------------------------------+\n",
            "| Processes:                                                       GPU Memory |\n",
            "|  GPU       PID   Type   Process name                             Usage      |\n",
            "|=============================================================================|\n",
            "|  No running processes found                                                 |\n",
            "+-----------------------------------------------------------------------------+\n"
          ],
          "name": "stdout"
        }
      ]
    },
    {
      "cell_type": "code",
      "metadata": {
        "id": "1sEb4VPfDZ9H",
        "colab_type": "code",
        "colab": {}
      },
      "source": [
        "# Clone the entire repo.\n",
        "data_folder = '/content/cloned-repo'\n",
        "root_dir = f'{data_folder}/Project_data'"
      ],
      "execution_count": 0,
      "outputs": []
    },
    {
      "cell_type": "code",
      "metadata": {
        "id": "XdUHgmyzLXUV",
        "colab_type": "code",
        "colab": {
          "base_uri": "https://localhost:8080/",
          "height": 85
        },
        "outputId": "3ad4d5e5-4800-43e5-b2e4-7ac3b16363dc"
      },
      "source": [
        "full_restart = False\n",
        "if (full_restart):\n",
        "  import shutil\n",
        "  shutil.rmtree(data_folder,ignore_errors=True)\n",
        "  import os\n",
        "  os.makedirs(data_folder,exist_ok=True)\n",
        "  os.chdir(data_folder)\n",
        "  !git clone -l -s \"https://github.com/s-ahuja/gesture_recognition.git\" {data_folder}\n",
        "%cd {data_folder}/Project_data\n",
        "!ls"
      ],
      "execution_count": 3,
      "outputs": [
        {
          "output_type": "stream",
          "text": [
            "/content/cloned-repo/Project_data\n",
            "03-model_init_2019-06-1207_24_37.204208  train.csv\t     val.csv\n",
            "model_init_2019-06-1208_43_38.397048\t train_images.pkl    val_images.pkl\n",
            "numpy\t\t\t\t\t training.cnn3d.txt\n"
          ],
          "name": "stdout"
        }
      ]
    },
    {
      "cell_type": "code",
      "metadata": {
        "id": "kxrqu5GxAwxh",
        "colab_type": "code",
        "colab": {}
      },
      "source": [
        "import pickle\n",
        "filehandler = open('train_images.pkl',\"rb\")\n",
        "train_images = pickle.load(filehandler)\n",
        "filehandler.close()\n",
        "filehandler = open('val_images.pkl',\"rb\")\n",
        "val_images = pickle.load(filehandler)\n",
        "filehandler.close()"
      ],
      "execution_count": 0,
      "outputs": []
    },
    {
      "cell_type": "code",
      "metadata": {
        "id": "araQpugMAwxj",
        "colab_type": "code",
        "colab": {
          "base_uri": "https://localhost:8080/",
          "height": 34
        },
        "outputId": "52c50d73-9299-4835-e6ff-1231da834b3e"
      },
      "source": [
        "len(train_images[0]),len(val_images[0])"
      ],
      "execution_count": 5,
      "outputs": [
        {
          "output_type": "execute_result",
          "data": {
            "text/plain": [
              "(19890, 3000)"
            ]
          },
          "metadata": {
            "tags": []
          },
          "execution_count": 5
        }
      ]
    },
    {
      "cell_type": "code",
      "metadata": {
        "id": "WsxvoUb8Awxm",
        "colab_type": "code",
        "colab": {}
      },
      "source": [
        "import glob, shutil\n",
        "model_directories = glob.glob(f'{root_dir}/model*')\n",
        "for directory in model_directories:\n",
        "    shutil.rmtree(directory)"
      ],
      "execution_count": 0,
      "outputs": []
    },
    {
      "cell_type": "markdown",
      "metadata": {
        "id": "FnHobvnOAwxo",
        "colab_type": "text"
      },
      "source": [
        "# Gesture Recognition\n",
        "In this group project, you are going to build a 3D Conv model that will be able to predict the 5 gestures correctly. Please import the following libraries to get started."
      ]
    },
    {
      "cell_type": "code",
      "metadata": {
        "id": "1a89fRYJAwxo",
        "colab_type": "code",
        "colab": {}
      },
      "source": [
        "%load_ext autoreload\n",
        "%autoreload 2\n",
        "import numpy as np\n",
        "import os\n",
        "import glob\n",
        "from cv2 import imread,resize,cvtColor,COLOR_BGR2RGB,INTER_AREA\n",
        "import datetime\n",
        "import matplotlib.pyplot as plt\n",
        "import warnings\n",
        "warnings.simplefilter('ignore')\n",
        "# import sys\n",
        "# old_stdout = sys.stdout\n",
        "# log_file = open('logfile.txt', 'w')\n",
        "# sys.stdout = log_file\n",
        "# print('Starting Log at {}'.format(datetime.datetime.now()))\n",
        "# #sys.stdout = old_stdout\n",
        "# #log_file.close()"
      ],
      "execution_count": 0,
      "outputs": []
    },
    {
      "cell_type": "markdown",
      "metadata": {
        "id": "7-eKyjqXAwxq",
        "colab_type": "text"
      },
      "source": [
        "We set the random seed so that the results don't vary drastically."
      ]
    },
    {
      "cell_type": "code",
      "metadata": {
        "id": "Kxq4kVj5Awxr",
        "colab_type": "code",
        "colab": {
          "base_uri": "https://localhost:8080/",
          "height": 34
        },
        "outputId": "c5bd2625-cbe5-41d2-ccac-144cd714e768"
      },
      "source": [
        "np.random.seed(30)\n",
        "import random as rn\n",
        "rn.seed(30)\n",
        "from keras import backend as K\n",
        "import tensorflow as tf\n",
        "tf.set_random_seed(30)"
      ],
      "execution_count": 8,
      "outputs": [
        {
          "output_type": "stream",
          "text": [
            "Using TensorFlow backend.\n"
          ],
          "name": "stderr"
        }
      ]
    },
    {
      "cell_type": "code",
      "metadata": {
        "id": "7PG8NCeBAwxu",
        "colab_type": "code",
        "colab": {
          "base_uri": "https://localhost:8080/",
          "height": 51
        },
        "outputId": "7c623a59-da87-4169-c6f9-033013bef1ef"
      },
      "source": [
        "img_indices = list(range(1,30,2))\n",
        "print(img_indices)\n",
        "input_shape=(len(img_indices),100,100,3) #15 images per video, each image is of 100x100x3\n",
        "print(input_shape)\n",
        "batch_size = 30\n",
        "no_of_classes = 5\n",
        "num_epochs = 50 # choose the number of epochs"
      ],
      "execution_count": 9,
      "outputs": [
        {
          "output_type": "stream",
          "text": [
            "[1, 3, 5, 7, 9, 11, 13, 15, 17, 19, 21, 23, 25, 27, 29]\n",
            "(15, 100, 100, 3)\n"
          ],
          "name": "stdout"
        }
      ]
    },
    {
      "cell_type": "code",
      "metadata": {
        "id": "N6ZLOH3uAwxw",
        "colab_type": "code",
        "colab": {
          "base_uri": "https://localhost:8080/",
          "height": 34
        },
        "outputId": "1b494cb2-f1f1-4794-fe6e-83da641dad96"
      },
      "source": [
        "train_doc = np.random.permutation(open(f'{root_dir}/train.csv').readlines())\n",
        "val_doc = np.random.permutation(open(f'{root_dir}/val.csv').readlines())\n",
        "\n",
        "# filter out records which are not considered during experiments\n",
        "train_doc = [x for x in train_doc if x.split(';')[0] in [paths.split('/')[-2] for paths in train_images[0]]] \n",
        "val_doc = [x for x in val_doc if x.split(';')[0] in [paths.split('/')[-2] for paths in val_images[0]]]\n",
        "\n",
        "print('no. of training video seq=',len(train_doc),'no. of validation video seq=',len(val_doc))"
      ],
      "execution_count": 10,
      "outputs": [
        {
          "output_type": "stream",
          "text": [
            "no. of training video seq= 663 no. of validation video seq= 100\n"
          ],
          "name": "stdout"
        }
      ]
    },
    {
      "cell_type": "markdown",
      "metadata": {
        "id": "GdeE78IVAwxz",
        "colab_type": "text"
      },
      "source": [
        "## Generator\n",
        "This is one of the most important part of the code. The overall structure of the generator has been given. In the generator, you are going to preprocess the images as you have images of 2 different dimensions as well as create a batch of video frames. You have to experiment with `img_idx`, `y`,`z` and normalization such that you get high accuracy."
      ]
    },
    {
      "cell_type": "code",
      "metadata": {
        "id": "muVr5tsqAwx0",
        "colab_type": "code",
        "colab": {}
      },
      "source": [
        "def generator(source_path, folder_list, batch_size, ablation=False):\n",
        "    #print('Source path = ', source_path, '; batch size =', batch_size)\n",
        "    # if ablation is true then only take only 2 images else take much more.\n",
        "    img_idx = img_indices #create a list of image numbers you want to use for a particular video. \n",
        "    x = len(img_idx)    \n",
        "    y,z = input_shape[1],input_shape[2] # image_standard_size\n",
        "    Model_Execution = True\n",
        "    while Model_Execution:\n",
        "        t = np.random.permutation(folder_list)\n",
        "        # print('t=',end='')\n",
        "        # print(t)\n",
        "        num_batches = int(len(folder_list)/batch_size) # calculate the number of batches\n",
        "        #print('num_batches=',num_batches)\n",
        "        for batch in range(num_batches): # we iterate over the number of batches\n",
        "            batch_data = np.zeros((batch_size,x,y,z,input_shape[3])) # x is the number of images you use for each video, (y,z) is the final size of the input images and 3 is the number of channels RGB\n",
        "            batch_labels = np.zeros((batch_size,no_of_classes)) # batch_labels is the one hot representation of the output\n",
        "            for folder in range(batch_size): # iterate over the batch_size\n",
        "    #             # print('folder=' + str(folder))\n",
        "    #             print('iterated=',folder + (batch*batch_size))\n",
        "    #             print('path=',source_path+'/'+ t[folder + (batch*batch_size)].split(';')[0])\n",
        "                imgs = os.listdir(source_path+'/'+ t[folder + (batch*batch_size)].split(';')[0]) # read all the images in the folder\n",
        "                # print('imgs=' + str(imgs[:2]))\n",
        "                for idx,item in enumerate(img_idx): #  Iterate iver the frames/images of a folder to read them in\n",
        "                    img_file_path = source_path+'/'+ t[folder + (batch*batch_size)].strip().split(';')[0]+'/'+imgs[item]\n",
        "                    # print('img_file_path=' + img_file_path)\n",
        "                    image = np.load(img_file_path)#.astype(np.float32)\n",
        "                    #print(image.shape)\n",
        "                    #crop the images and resize them. Note that the images are of 2 different shape\n",
        "                    #and the conv3D will throw error if the inputs in a batch have different shapes\n",
        "                    batch_data[folder,idx,:,:,0] = (image[:,:,0] - image[:,:,0].min())/(image[:,:,0].max() - image[:,:,0].min()) #normalise and feed in the image\n",
        "                    batch_data[folder,idx,:,:,1] = (image[:,:,1] - image[:,:,1].min())/(image[:,:,1].max() - image[:,:,1].min()) #normalise and feed in the image\n",
        "                    batch_data[folder,idx,:,:,2] = (image[:,:,2] - image[:,:,2].min())/(image[:,:,2].max() - image[:,:,2].min()) #normalise and feed in the image\n",
        "\n",
        "                batch_labels[folder, int(t[folder + (batch*batch_size)].strip().split(';')[2])] = 1\n",
        "            #batch_labels = to_categorical(batch_labels, 5) #5 classes\n",
        "            #batch_labels.shape\n",
        "            #batch_labels = batch_labels.reshape(-1, 1)\n",
        "            #print('yielding normal batch=>{}'.format(batch))\n",
        "            #print('batch_data=>{}'.format(str(batch_data)))\n",
        "            #print('batch_labels=>{}'.format(str(batch_labels)))\n",
        "            yield batch_data, batch_labels #you yield the batch_data and the batch_labels, remember what does yield do\n",
        "\n",
        "        # write the code for the remaining data points which are left after full batches\n",
        "        remaining_size = len(folder_list) - (batch_size*num_batches)\n",
        "        if (remaining_size > 0):\n",
        "            #print('remaining_size=',remaining_size)\n",
        "            batch_data = np.zeros((remaining_size,x,y,z,input_shape[3])) # x is the number of images you use for each video, (y,z) is the final size of the input images and 3 is the number of channels RGB\n",
        "            batch_labels = np.zeros((remaining_size,no_of_classes)) # batch_labels is the one hot representation of the output\n",
        "            for folder in range(remaining_size):\n",
        "                #print('new_folder=',folder)\n",
        "                #print('new path=',source_path+'/'+ t[folder].split(';')[0])\n",
        "                imgs = os.listdir(source_path+'/'+ t[folder].split(';')[0]) # read all the images in the folder\n",
        "                for idx,item in enumerate(img_idx): #  Iterate iver the frames/images of a folder to read them in\n",
        "                    img_file_path = source_path+'/'+ t[folder].strip().split(';')[0]+'/'+imgs[item]\n",
        "                    # print('img_file_path=' + img_file_path)\n",
        "                    image = np.load(img_file_path)#.astype(np.float32)                                        \n",
        "                    #print(image.shape)\n",
        "                    #crop the images and resize them. Note that the images are of 2 different shape\n",
        "                    #and the conv3D will throw error if the inputs in a batch have different shapes\n",
        "                    batch_data[folder,idx,:,:,0] = (image[:,:,0] - image[:,:,0].min())/(image[:,:,0].max() - image[:,:,0].min()) #normalise and feed in the image\n",
        "                    batch_data[folder,idx,:,:,1] = (image[:,:,1] - image[:,:,1].min())/(image[:,:,1].max() - image[:,:,1].min()) #normalise and feed in the image\n",
        "                    batch_data[folder,idx,:,:,2] = (image[:,:,2] - image[:,:,2].min())/(image[:,:,2].max() - image[:,:,2].min()) #normalise and feed in the image\n",
        "                batch_labels[folder, int(t[folder].strip().split(';')[2])] = 1\n",
        "            #batch_labels = to_categorical(batch_labels, 5) #5 classes\n",
        "            #batch_labels = batch_labels.reshape(-1, 1)\n",
        "            #print('yielding remaining batch=>',batch)\n",
        "            #print(batch_labels)\n",
        "            yield batch_data, batch_labels\n",
        "            Model_Execution = True\n",
        "\n",
        "# ## test code to test generator function\n",
        "# train_path = f'{root_dir}/numpy/train'\n",
        "# num_train_sequences = len(train_doc)\n",
        "# train_generator = generator(source_path=train_path, folder_list=train_doc, batch_size=batch_size, ablation=False)\n",
        "# index = 0\n",
        "# for batch_data, batch_labels in train_generator: \n",
        "#     index += len(batch_data)    \n",
        "#     print(batch_data.shape,batch_labels.shape) "
      ],
      "execution_count": 0,
      "outputs": []
    },
    {
      "cell_type": "code",
      "metadata": {
        "id": "jogwKDphAwx2",
        "colab_type": "code",
        "colab": {}
      },
      "source": [
        ""
      ],
      "execution_count": 0,
      "outputs": []
    },
    {
      "cell_type": "markdown",
      "metadata": {
        "id": "sD1BePtMAwx4",
        "colab_type": "text"
      },
      "source": [
        "Note here that a video is represented above in the generator as (number of images, height, width, number of channels). Take this into consideration while creating the model architecture."
      ]
    },
    {
      "cell_type": "code",
      "metadata": {
        "id": "hqXYWGRqAwx4",
        "colab_type": "code",
        "colab": {
          "base_uri": "https://localhost:8080/",
          "height": 68
        },
        "outputId": "a4dbf761-af04-4adc-c5e4-5161d2abc15f"
      },
      "source": [
        "curr_dt_time = datetime.datetime.now()\n",
        "train_path = f'{root_dir}/numpy/train'\n",
        "val_path = f'{root_dir}/numpy/val'\n",
        "num_train_sequences = len(train_doc)\n",
        "print('# training sequences =', num_train_sequences)\n",
        "num_val_sequences = len(val_doc)\n",
        "print('# validation sequences =', num_val_sequences)\n",
        "print ('# epochs =', num_epochs)"
      ],
      "execution_count": 12,
      "outputs": [
        {
          "output_type": "stream",
          "text": [
            "# training sequences = 663\n",
            "# validation sequences = 100\n",
            "# epochs = 50\n"
          ],
          "name": "stdout"
        }
      ]
    },
    {
      "cell_type": "markdown",
      "metadata": {
        "id": "zlcwLEPZAwx7",
        "colab_type": "text"
      },
      "source": [
        "## Model\n",
        "Here you make the model using different functionalities that Keras provides. Remember to use `Conv3D` and `MaxPooling3D` and not `Conv2D` and `Maxpooling2D` for a 3D convolution model. You would want to use `TimeDistributed` while building a Conv2D + RNN model. Also remember that the last layer is the softmax. Design the network in such a way that the model is able to give good accuracy on the least number of parameters so that it can fit in the memory of the webcam."
      ]
    },
    {
      "cell_type": "code",
      "metadata": {
        "id": "7MekrkF6Awx7",
        "colab_type": "code",
        "colab": {}
      },
      "source": [
        "from keras.models import Sequential, Model\n",
        "from keras.layers import Dense, GRU, Flatten, TimeDistributed, Flatten, BatchNormalization, Activation, Dropout,LeakyReLU\n",
        "from keras.layers.convolutional import Conv3D, MaxPooling3D\n",
        "from keras.callbacks import ModelCheckpoint, ReduceLROnPlateau, CSVLogger,EarlyStopping\n",
        "from keras import optimizers"
      ],
      "execution_count": 0,
      "outputs": []
    },
    {
      "cell_type": "code",
      "metadata": {
        "id": "PNa_jpvmAwx9",
        "colab_type": "code",
        "colab": {}
      },
      "source": [
        "#model.add(Conv3D(filters=32, kernel_size=(3,3,3), strides=(1, 1, 1), padding='same', activation='relu',data_format='channels_last'))\n",
        "#model.add(MaxPooling3D(pool_size=(2, 2, 1)))\n",
        "#model.add(Dense(1024))\n",
        "\n",
        "\n",
        "#write your model here\n",
        "\n",
        "##################### model 1 ################\n",
        "# model = Sequential()\n",
        "# model.add(Conv3D(filters=32, kernel_size=(3,3,3), strides=(1, 1, 1), activation=None, input_shape=(len(list(range(0,30,1))),120,160,3),data_format='channels_last'))\n",
        "# model.add(LeakyReLU(alpha=0.1))\n",
        "# model.add(MaxPooling3D(pool_size=(1, 1, 1)))\n",
        "# model.add(Conv3D(filters=64, kernel_size=(3,3,3), strides=(1, 1, 1), activation=None))\n",
        "# model.add(LeakyReLU(alpha=0.1))\n",
        "# model.add(Flatten())\n",
        "# model.add(Dense(5, activation='softmax')) # 5 are number of classes"
      ],
      "execution_count": 0,
      "outputs": []
    },
    {
      "cell_type": "code",
      "metadata": {
        "id": "AOEXS78CAwx_",
        "colab_type": "code",
        "colab": {}
      },
      "source": [
        "# ###################### model 2 ################\n",
        "# model = Sequential()\n",
        "# model.add(Conv3D(64, kernel_size=(3,3,3), activation='relu', input_shape=input_shape,data_format='channels_last'))\n",
        "# model.add(MaxPooling3D(pool_size=(1, 2, 2), strides=(1, 2, 2)))\n",
        "# model.add(Conv3D(128, (3,3,3), activation='relu'))\n",
        "# model.add(MaxPooling3D(pool_size=(1, 2, 2), strides=(1, 2, 2)))\n",
        "# model.add(Conv3D(256, (3,3,3), activation='relu'))\n",
        "# model.add(Conv3D(256, (3,3,3), activation='relu'))\n",
        "# model.add(MaxPooling3D(pool_size=(1, 2, 2), strides=(1, 2, 2)))\n",
        "# model.add(Conv3D(512, (3,3,3), activation='relu'))\n",
        "# model.add(Conv3D(512, (3,3,3), activation='relu'))\n",
        "# model.add(MaxPooling3D(pool_size=(1, 2, 2), strides=(1, 2, 2)))\n",
        "# # model.add(Conv3D(512, (3,3,3), activation='relu'))\n",
        "# # model.add(Conv3D(512, (3,3,3), activation='relu'))\n",
        "# # model.add(MaxPooling3D(pool_size=(1, 2, 2), strides=(1, 2, 2)))\n",
        "# model.add(Flatten())\n",
        "# model.add(Dense(2048,activation='relu'))\n",
        "# model.add(Dense(2048,activation='relu'))\n",
        "# model.add(Dense(no_of_classes, activation='softmax'))"
      ],
      "execution_count": 0,
      "outputs": []
    },
    {
      "cell_type": "code",
      "metadata": {
        "id": "9DrW0AN6AwyB",
        "colab_type": "code",
        "colab": {}
      },
      "source": [
        "# ###################### model 2 ################\n",
        "# model = Sequential()\n",
        "# model.add(Conv3D(64, kernel_size=(3,3,3), activation='relu', input_shape=input_shape,data_format='channels_last'))\n",
        "# model.add(MaxPooling3D(pool_size=(1, 2, 2), strides=(1, 2, 2)))\n",
        "# model.add(Conv3D(128, (3,3,3), activation='relu'))\n",
        "# model.add(MaxPooling3D(pool_size=(1, 2, 2), strides=(1, 2, 2)))\n",
        "# model.add(Conv3D(256, (3,3,3), activation='relu'))\n",
        "# model.add(Conv3D(256, (3,3,3), activation='relu'))\n",
        "# model.add(MaxPooling3D(pool_size=(1, 2, 2), strides=(1, 2, 2)))\n",
        "# model.add(Conv3D(512, (3,3,3), activation='relu'))\n",
        "# model.add(Conv3D(512, (3,3,3), activation='relu'))\n",
        "# model.add(MaxPooling3D(pool_size=(1, 2, 2), strides=(1, 2, 2)))\n",
        "# # model.add(Conv3D(512, (3,3,3), activation='relu'))\n",
        "# # model.add(Conv3D(512, (3,3,3), activation='relu'))\n",
        "# # model.add(MaxPooling3D(pool_size=(1, 2, 2), strides=(1, 2, 2)))\n",
        "# model.add(Flatten())\n",
        "# model.add(Dense(2048,activation='relu'))\n",
        "# model.add(Dense(2048,activation='relu'))\n",
        "# model.add(Dense(no_of_classes, activation='softmax'))"
      ],
      "execution_count": 0,
      "outputs": []
    },
    {
      "cell_type": "code",
      "metadata": {
        "id": "VqiFAjetAwyC",
        "colab_type": "code",
        "colab": {
          "base_uri": "https://localhost:8080/",
          "height": 717
        },
        "outputId": "9c1d0028-3de3-45f1-d533-d1fe40c8627d"
      },
      "source": [
        "###################### model 3 - deep model ################\n",
        "model = Sequential()\n",
        "model.add(Conv3D(64, kernel_size=(3,3,3), activation='relu', input_shape=input_shape,data_format='channels_last'))\n",
        "model.add(Conv3D(64, (3,3,3), padding='same',activation='relu'))\n",
        "model.add(MaxPooling3D(pool_size=(1,2,2), strides=(1,2,2)))\n",
        "model.add(Conv3D(128, (3,3,3), padding='same',activation='relu'))\n",
        "model.add(Conv3D(128, (3,3,3),  activation='relu'))\n",
        "model.add(MaxPooling3D(pool_size=(1,2,2), strides=(1,2,2)))\n",
        "model.add(Conv3D(256, (3,3,3), activation='relu'))\n",
        "model.add(Conv3D(256, (3,3,3), activation='relu'))\n",
        "model.add(Conv3D(256, (3,3,3),  activation='relu'))\n",
        "model.add(Conv3D(256, (3,3,3),  activation='relu'))\n",
        "model.add(MaxPooling3D(pool_size=(1, 2, 2), strides=(1, 2, 2)))\n",
        "model.add(Flatten())\n",
        "model.add(Dense(2048,activation='relu'))\n",
        "model.add(Dense(2048,activation='relu'))\n",
        "model.add(Dense(no_of_classes, activation='softmax'))\n",
        "model.summary()"
      ],
      "execution_count": 17,
      "outputs": [
        {
          "output_type": "stream",
          "text": [
            "WARNING:tensorflow:From /usr/local/lib/python3.6/dist-packages/tensorflow/python/framework/op_def_library.py:263: colocate_with (from tensorflow.python.framework.ops) is deprecated and will be removed in a future version.\n",
            "Instructions for updating:\n",
            "Colocations handled automatically by placer.\n",
            "_________________________________________________________________\n",
            "Layer (type)                 Output Shape              Param #   \n",
            "=================================================================\n",
            "conv3d_1 (Conv3D)            (None, 13, 98, 98, 64)    5248      \n",
            "_________________________________________________________________\n",
            "conv3d_2 (Conv3D)            (None, 13, 98, 98, 64)    110656    \n",
            "_________________________________________________________________\n",
            "max_pooling3d_1 (MaxPooling3 (None, 13, 49, 49, 64)    0         \n",
            "_________________________________________________________________\n",
            "conv3d_3 (Conv3D)            (None, 13, 49, 49, 128)   221312    \n",
            "_________________________________________________________________\n",
            "conv3d_4 (Conv3D)            (None, 11, 47, 47, 128)   442496    \n",
            "_________________________________________________________________\n",
            "max_pooling3d_2 (MaxPooling3 (None, 11, 23, 23, 128)   0         \n",
            "_________________________________________________________________\n",
            "conv3d_5 (Conv3D)            (None, 9, 21, 21, 256)    884992    \n",
            "_________________________________________________________________\n",
            "conv3d_6 (Conv3D)            (None, 7, 19, 19, 256)    1769728   \n",
            "_________________________________________________________________\n",
            "conv3d_7 (Conv3D)            (None, 5, 17, 17, 256)    1769728   \n",
            "_________________________________________________________________\n",
            "conv3d_8 (Conv3D)            (None, 3, 15, 15, 256)    1769728   \n",
            "_________________________________________________________________\n",
            "max_pooling3d_3 (MaxPooling3 (None, 3, 7, 7, 256)      0         \n",
            "_________________________________________________________________\n",
            "flatten_1 (Flatten)          (None, 37632)             0         \n",
            "_________________________________________________________________\n",
            "dense_1 (Dense)              (None, 2048)              77072384  \n",
            "_________________________________________________________________\n",
            "dense_2 (Dense)              (None, 2048)              4196352   \n",
            "_________________________________________________________________\n",
            "dense_3 (Dense)              (None, 5)                 10245     \n",
            "=================================================================\n",
            "Total params: 88,252,869\n",
            "Trainable params: 88,252,869\n",
            "Non-trainable params: 0\n",
            "_________________________________________________________________\n"
          ],
          "name": "stdout"
        }
      ]
    },
    {
      "cell_type": "markdown",
      "metadata": {
        "id": "3RIal45ZAwyG",
        "colab_type": "text"
      },
      "source": [
        "Now that you have written the model, the next step is to `compile` the model. When you print the `summary` of the model, you'll see the total number of parameters you have to train."
      ]
    },
    {
      "cell_type": "code",
      "metadata": {
        "scrolled": true,
        "id": "LxwY4We_AwyG",
        "colab_type": "code",
        "colab": {
          "base_uri": "https://localhost:8080/",
          "height": 646
        },
        "outputId": "efe00e40-1e0e-4ee5-fa68-6d30bdeb1be4"
      },
      "source": [
        "optimiser = optimizers.Adam(lr=1e-4)#, decay=1e-6, momentum=0.9, nesterov=True) #write your optimizer\n",
        "model.compile(optimizer=optimiser, loss='categorical_crossentropy', metrics=['categorical_accuracy'])\n",
        "model.summary()"
      ],
      "execution_count": 18,
      "outputs": [
        {
          "output_type": "stream",
          "text": [
            "_________________________________________________________________\n",
            "Layer (type)                 Output Shape              Param #   \n",
            "=================================================================\n",
            "conv3d_1 (Conv3D)            (None, 13, 98, 98, 64)    5248      \n",
            "_________________________________________________________________\n",
            "conv3d_2 (Conv3D)            (None, 13, 98, 98, 64)    110656    \n",
            "_________________________________________________________________\n",
            "max_pooling3d_1 (MaxPooling3 (None, 13, 49, 49, 64)    0         \n",
            "_________________________________________________________________\n",
            "conv3d_3 (Conv3D)            (None, 13, 49, 49, 128)   221312    \n",
            "_________________________________________________________________\n",
            "conv3d_4 (Conv3D)            (None, 11, 47, 47, 128)   442496    \n",
            "_________________________________________________________________\n",
            "max_pooling3d_2 (MaxPooling3 (None, 11, 23, 23, 128)   0         \n",
            "_________________________________________________________________\n",
            "conv3d_5 (Conv3D)            (None, 9, 21, 21, 256)    884992    \n",
            "_________________________________________________________________\n",
            "conv3d_6 (Conv3D)            (None, 7, 19, 19, 256)    1769728   \n",
            "_________________________________________________________________\n",
            "conv3d_7 (Conv3D)            (None, 5, 17, 17, 256)    1769728   \n",
            "_________________________________________________________________\n",
            "conv3d_8 (Conv3D)            (None, 3, 15, 15, 256)    1769728   \n",
            "_________________________________________________________________\n",
            "max_pooling3d_3 (MaxPooling3 (None, 3, 7, 7, 256)      0         \n",
            "_________________________________________________________________\n",
            "flatten_1 (Flatten)          (None, 37632)             0         \n",
            "_________________________________________________________________\n",
            "dense_1 (Dense)              (None, 2048)              77072384  \n",
            "_________________________________________________________________\n",
            "dense_2 (Dense)              (None, 2048)              4196352   \n",
            "_________________________________________________________________\n",
            "dense_3 (Dense)              (None, 5)                 10245     \n",
            "=================================================================\n",
            "Total params: 88,252,869\n",
            "Trainable params: 88,252,869\n",
            "Non-trainable params: 0\n",
            "_________________________________________________________________\n"
          ],
          "name": "stdout"
        }
      ]
    },
    {
      "cell_type": "markdown",
      "metadata": {
        "id": "bsvu-KsxAwyJ",
        "colab_type": "text"
      },
      "source": [
        "Let us create the `train_generator` and the `val_generator` which will be used in `.fit_generator`."
      ]
    },
    {
      "cell_type": "code",
      "metadata": {
        "id": "iLoDMlj1AwyJ",
        "colab_type": "code",
        "colab": {}
      },
      "source": [
        "train_generator = generator(train_path, train_doc, batch_size)\n",
        "val_generator = generator(val_path, val_doc, batch_size)"
      ],
      "execution_count": 0,
      "outputs": []
    },
    {
      "cell_type": "code",
      "metadata": {
        "id": "DFYSsMRUAwyL",
        "colab_type": "code",
        "colab": {}
      },
      "source": [
        "model_name = 'model_init' + '_' + str(curr_dt_time).replace(' ','').replace(':','_') + '/'\n",
        "    \n",
        "if not os.path.exists(model_name):\n",
        "    os.mkdir(model_name)\n",
        "        \n",
        "filepath = model_name + 'model-{epoch:05d}-{loss:.5f}-{categorical_accuracy:.5f}-{val_loss:.5f}-{val_categorical_accuracy:.5f}.h5'\n",
        "\n",
        "#checkpoint = ModelCheckpoint(filepath, monitor='val_loss', verbose=1, save_best_only=False, save_weights_only=False, mode='auto', period=1)\n",
        "my_model_checkpoint = ModelCheckpoint(filepath, monitor='val_loss', verbose=1, save_best_only=False, save_weights_only=True, mode='auto', period=1)\n",
        "csv_logger = CSVLogger('training.cnn3d.txt',separator=',', append=True)\n",
        "early_stopping = EarlyStopping(monitor='val_loss', min_delta=0, patience=8, verbose=1)\n",
        "reduce_LR = ReduceLROnPlateau(monitor='val_loss', factor=0.1, patience=2, min_lr=1e-10,verbose=1) # write the REducelronplateau code here\n",
        "callbacks_list = [reduce_LR,csv_logger,my_model_checkpoint,early_stopping] #checkpoint"
      ],
      "execution_count": 0,
      "outputs": []
    },
    {
      "cell_type": "markdown",
      "metadata": {
        "id": "9knbjCTXAwyN",
        "colab_type": "text"
      },
      "source": [
        "The `steps_per_epoch` and `validation_steps` are used by `fit_generator` to decide the number of next() calls it need to make."
      ]
    },
    {
      "cell_type": "code",
      "metadata": {
        "id": "QhnEtxv_AwyN",
        "colab_type": "code",
        "colab": {}
      },
      "source": [
        "if (num_train_sequences%batch_size) == 0:\n",
        "    steps_per_epoch = int(num_train_sequences/batch_size)\n",
        "else:\n",
        "    steps_per_epoch = (num_train_sequences//batch_size) + 1\n",
        "\n",
        "if (num_val_sequences%batch_size) == 0:\n",
        "    validation_steps = int(num_val_sequences/batch_size)\n",
        "else:\n",
        "    validation_steps = (num_val_sequences//batch_size) + 1"
      ],
      "execution_count": 0,
      "outputs": []
    },
    {
      "cell_type": "markdown",
      "metadata": {
        "id": "nKRfU0oMAwyQ",
        "colab_type": "text"
      },
      "source": [
        "Let us now fit the model. This will start training the model and with the help of the checkpoints, you'll be able to save the model at the end of each epoch."
      ]
    },
    {
      "cell_type": "code",
      "metadata": {
        "id": "ezeOLRZgAwyR",
        "colab_type": "code",
        "colab": {
          "base_uri": "https://localhost:8080/",
          "height": 1618
        },
        "outputId": "b49959ce-4df6-4849-974e-3cb3e8681650"
      },
      "source": [
        "#model.load_weights('./03-model_init_2019-06-1205_47_36.337812/model-00010-0.84542-0.67270-1.15618-0.59000.h5')\n",
        "model.fit_generator(train_generator, steps_per_epoch=steps_per_epoch, epochs=num_epochs, verbose=1, \n",
        "                    callbacks=callbacks_list, validation_data=val_generator, \n",
        "                    validation_steps=validation_steps, class_weight=None, workers=1, initial_epoch=0)"
      ],
      "execution_count": 22,
      "outputs": [
        {
          "output_type": "stream",
          "text": [
            "WARNING:tensorflow:From /usr/local/lib/python3.6/dist-packages/tensorflow/python/ops/math_ops.py:3066: to_int32 (from tensorflow.python.ops.math_ops) is deprecated and will be removed in a future version.\n",
            "Instructions for updating:\n",
            "Use tf.cast instead.\n",
            "Epoch 1/50\n",
            "23/23 [==============================] - 147s 6s/step - loss: 1.6147 - categorical_accuracy: 0.2012 - val_loss: 1.6092 - val_categorical_accuracy: 0.2000\n",
            "\n",
            "Epoch 00001: saving model to model_init_2019-06-1208_44_45.080481/model-00001-1.61486-0.19608-1.60921-0.20000.h5\n",
            "Epoch 2/50\n",
            "23/23 [==============================] - 114s 5s/step - loss: 1.6083 - categorical_accuracy: 0.2114 - val_loss: 1.6053 - val_categorical_accuracy: 0.1600\n",
            "\n",
            "Epoch 00002: saving model to model_init_2019-06-1208_44_45.080481/model-00002-1.60861-0.20664-1.60529-0.16000.h5\n",
            "Epoch 3/50\n",
            "23/23 [==============================] - 114s 5s/step - loss: 1.5944 - categorical_accuracy: 0.2215 - val_loss: 1.5387 - val_categorical_accuracy: 0.2800\n",
            "\n",
            "Epoch 00003: saving model to model_init_2019-06-1208_44_45.080481/model-00003-1.59379-0.21719-1.53874-0.28000.h5\n",
            "Epoch 4/50\n",
            "23/23 [==============================] - 114s 5s/step - loss: 1.4536 - categorical_accuracy: 0.3836 - val_loss: 1.4150 - val_categorical_accuracy: 0.3900\n",
            "\n",
            "Epoch 00004: saving model to model_init_2019-06-1208_44_45.080481/model-00004-1.46997-0.37255-1.41498-0.39000.h5\n",
            "Epoch 5/50\n",
            "23/23 [==============================] - 113s 5s/step - loss: 1.2543 - categorical_accuracy: 0.4605 - val_loss: 1.4133 - val_categorical_accuracy: 0.4100\n",
            "\n",
            "Epoch 00005: saving model to model_init_2019-06-1208_44_45.080481/model-00005-1.25911-0.45249-1.41331-0.41000.h5\n",
            "Epoch 6/50\n",
            "23/23 [==============================] - 113s 5s/step - loss: 1.1842 - categorical_accuracy: 0.4950 - val_loss: 1.9281 - val_categorical_accuracy: 0.3800\n",
            "\n",
            "Epoch 00006: saving model to model_init_2019-06-1208_44_45.080481/model-00006-1.15945-0.51433-1.92810-0.38000.h5\n",
            "Epoch 7/50\n",
            "23/23 [==============================] - 113s 5s/step - loss: 1.1759 - categorical_accuracy: 0.5046 - val_loss: 1.2470 - val_categorical_accuracy: 0.4700\n",
            "\n",
            "Epoch 00007: saving model to model_init_2019-06-1208_44_45.080481/model-00007-1.15746-0.51131-1.24697-0.47000.h5\n",
            "Epoch 8/50\n",
            "23/23 [==============================] - 114s 5s/step - loss: 1.0021 - categorical_accuracy: 0.5679 - val_loss: 1.2545 - val_categorical_accuracy: 0.4700\n",
            "\n",
            "Epoch 00008: saving model to model_init_2019-06-1208_44_45.080481/model-00008-1.01994-0.56410-1.25453-0.47000.h5\n",
            "Epoch 9/50\n",
            "23/23 [==============================] - 114s 5s/step - loss: 0.8711 - categorical_accuracy: 0.6516 - val_loss: 1.1828 - val_categorical_accuracy: 0.5200\n",
            "\n",
            "Epoch 00009: saving model to model_init_2019-06-1208_44_45.080481/model-00009-0.89290-0.63801-1.18276-0.52000.h5\n",
            "Epoch 10/50\n",
            "23/23 [==============================] - 114s 5s/step - loss: 0.8356 - categorical_accuracy: 0.6632 - val_loss: 1.2370 - val_categorical_accuracy: 0.5000\n",
            "\n",
            "Epoch 00010: saving model to model_init_2019-06-1208_44_45.080481/model-00010-0.85201-0.65008-1.23698-0.50000.h5\n",
            "Epoch 11/50\n",
            "23/23 [==============================] - 114s 5s/step - loss: 0.8417 - categorical_accuracy: 0.6661 - val_loss: 1.1404 - val_categorical_accuracy: 0.6100\n",
            "\n",
            "Epoch 00011: saving model to model_init_2019-06-1208_44_45.080481/model-00011-0.86598-0.65309-1.14041-0.61000.h5\n",
            "Epoch 12/50\n",
            "23/23 [==============================] - 114s 5s/step - loss: 0.7221 - categorical_accuracy: 0.7097 - val_loss: 1.0662 - val_categorical_accuracy: 0.5500\n",
            "\n",
            "Epoch 00012: saving model to model_init_2019-06-1208_44_45.080481/model-00012-0.74394-0.69834-1.06620-0.55000.h5\n",
            "Epoch 13/50\n",
            "23/23 [==============================] - 113s 5s/step - loss: 0.5990 - categorical_accuracy: 0.7726 - val_loss: 1.1594 - val_categorical_accuracy: 0.5500\n",
            "\n",
            "Epoch 00013: saving model to model_init_2019-06-1208_44_45.080481/model-00013-0.55774-0.77677-1.15938-0.55000.h5\n",
            "Epoch 14/50\n",
            "23/23 [==============================] - 113s 5s/step - loss: 0.6451 - categorical_accuracy: 0.7451 - val_loss: 1.2610 - val_categorical_accuracy: 0.5400\n",
            "\n",
            "Epoch 00014: ReduceLROnPlateau reducing learning rate to 9.999999747378752e-06.\n",
            "\n",
            "Epoch 00014: saving model to model_init_2019-06-1208_44_45.080481/model-00014-0.64866-0.74811-1.26102-0.54000.h5\n",
            "Epoch 15/50\n",
            "23/23 [==============================] - 113s 5s/step - loss: 0.3854 - categorical_accuracy: 0.8693 - val_loss: 1.1667 - val_categorical_accuracy: 0.5800\n",
            "\n",
            "Epoch 00015: saving model to model_init_2019-06-1208_44_45.080481/model-00015-0.39461-0.86425-1.16668-0.58000.h5\n",
            "Epoch 16/50\n",
            "23/23 [==============================] - 113s 5s/step - loss: 0.3189 - categorical_accuracy: 0.8766 - val_loss: 1.3632 - val_categorical_accuracy: 0.5500\n",
            "\n",
            "Epoch 00016: ReduceLROnPlateau reducing learning rate to 9.999999747378752e-07.\n",
            "\n",
            "Epoch 00016: saving model to model_init_2019-06-1208_44_45.080481/model-00016-0.32217-0.87179-1.36316-0.55000.h5\n",
            "Epoch 17/50\n",
            "23/23 [==============================] - 113s 5s/step - loss: 0.2744 - categorical_accuracy: 0.8868 - val_loss: 1.2752 - val_categorical_accuracy: 0.5800\n",
            "\n",
            "Epoch 00017: saving model to model_init_2019-06-1208_44_45.080481/model-00017-0.28375-0.88235-1.27518-0.58000.h5\n",
            "Epoch 18/50\n",
            "23/23 [==============================] - 114s 5s/step - loss: 0.2741 - categorical_accuracy: 0.8911 - val_loss: 1.3941 - val_categorical_accuracy: 0.5400\n",
            "\n",
            "Epoch 00018: ReduceLROnPlateau reducing learning rate to 9.999999974752428e-08.\n",
            "\n",
            "Epoch 00018: saving model to model_init_2019-06-1208_44_45.080481/model-00018-0.27626-0.88688-1.39414-0.54000.h5\n",
            "Epoch 19/50\n",
            "23/23 [==============================] - 114s 5s/step - loss: 0.2698 - categorical_accuracy: 0.8897 - val_loss: 1.5505 - val_categorical_accuracy: 0.5500\n",
            "\n",
            "Epoch 00019: saving model to model_init_2019-06-1208_44_45.080481/model-00019-0.27390-0.88537-1.55052-0.55000.h5\n",
            "Epoch 20/50\n",
            "23/23 [==============================] - 115s 5s/step - loss: 0.2660 - categorical_accuracy: 0.8911 - val_loss: 1.3770 - val_categorical_accuracy: 0.5700\n",
            "\n",
            "Epoch 00020: ReduceLROnPlateau reducing learning rate to 1.0000000116860975e-08.\n",
            "\n",
            "Epoch 00020: saving model to model_init_2019-06-1208_44_45.080481/model-00020-0.27388-0.88688-1.37700-0.57000.h5\n",
            "Epoch 00020: early stopping\n"
          ],
          "name": "stdout"
        },
        {
          "output_type": "execute_result",
          "data": {
            "text/plain": [
              "<keras.callbacks.History at 0x7f9faa7111d0>"
            ]
          },
          "metadata": {
            "tags": []
          },
          "execution_count": 22
        }
      ]
    },
    {
      "cell_type": "code",
      "metadata": {
        "id": "npKAV9TEAwyT",
        "colab_type": "code",
        "colab": {
          "base_uri": "https://localhost:8080/",
          "height": 646
        },
        "outputId": "6ec087b1-ffc4-4ee0-ed83-9686a891a04b"
      },
      "source": [
        "model.summary()"
      ],
      "execution_count": 25,
      "outputs": [
        {
          "output_type": "stream",
          "text": [
            "_________________________________________________________________\n",
            "Layer (type)                 Output Shape              Param #   \n",
            "=================================================================\n",
            "conv3d_1 (Conv3D)            (None, 13, 98, 98, 64)    5248      \n",
            "_________________________________________________________________\n",
            "conv3d_2 (Conv3D)            (None, 13, 98, 98, 64)    110656    \n",
            "_________________________________________________________________\n",
            "max_pooling3d_1 (MaxPooling3 (None, 13, 49, 49, 64)    0         \n",
            "_________________________________________________________________\n",
            "conv3d_3 (Conv3D)            (None, 13, 49, 49, 128)   221312    \n",
            "_________________________________________________________________\n",
            "conv3d_4 (Conv3D)            (None, 11, 47, 47, 128)   442496    \n",
            "_________________________________________________________________\n",
            "max_pooling3d_2 (MaxPooling3 (None, 11, 23, 23, 128)   0         \n",
            "_________________________________________________________________\n",
            "conv3d_5 (Conv3D)            (None, 9, 21, 21, 256)    884992    \n",
            "_________________________________________________________________\n",
            "conv3d_6 (Conv3D)            (None, 7, 19, 19, 256)    1769728   \n",
            "_________________________________________________________________\n",
            "conv3d_7 (Conv3D)            (None, 5, 17, 17, 256)    1769728   \n",
            "_________________________________________________________________\n",
            "conv3d_8 (Conv3D)            (None, 3, 15, 15, 256)    1769728   \n",
            "_________________________________________________________________\n",
            "max_pooling3d_3 (MaxPooling3 (None, 3, 7, 7, 256)      0         \n",
            "_________________________________________________________________\n",
            "flatten_1 (Flatten)          (None, 37632)             0         \n",
            "_________________________________________________________________\n",
            "dense_1 (Dense)              (None, 2048)              77072384  \n",
            "_________________________________________________________________\n",
            "dense_2 (Dense)              (None, 2048)              4196352   \n",
            "_________________________________________________________________\n",
            "dense_3 (Dense)              (None, 5)                 10245     \n",
            "=================================================================\n",
            "Total params: 88,252,869\n",
            "Trainable params: 88,252,869\n",
            "Non-trainable params: 0\n",
            "_________________________________________________________________\n"
          ],
          "name": "stdout"
        }
      ]
    },
    {
      "cell_type": "code",
      "metadata": {
        "id": "G1nS0rnID0M9",
        "colab_type": "code",
        "colab": {}
      },
      "source": [
        ""
      ],
      "execution_count": 0,
      "outputs": []
    },
    {
      "cell_type": "code",
      "metadata": {
        "id": "P3vqsmTbAwyV",
        "colab_type": "code",
        "colab": {}
      },
      "source": [
        "os.rename('/content/cloned-repo/Project_data/model_init_2019-06-1208_44_45.080481','/content/cloned-repo/Project_data/04-model_init_2019-06-1208_44_45.080481')\n"
      ],
      "execution_count": 0,
      "outputs": []
    },
    {
      "cell_type": "code",
      "metadata": {
        "id": "DQfbQNUZrlZ7",
        "colab_type": "code",
        "colab": {}
      },
      "source": [
        "model.save(model_name + 'COMPLETE_model-00020-0.27388-0.88688-1.37700-0.57000.h5')"
      ],
      "execution_count": 0,
      "outputs": []
    },
    {
      "cell_type": "code",
      "metadata": {
        "id": "FmI72mGejnKr",
        "colab_type": "code",
        "colab": {
          "base_uri": "https://localhost:8080/",
          "height": 122
        },
        "outputId": "6ef9a998-481c-4514-b21c-0fc05dfceffb"
      },
      "source": [
        "os.makedirs('/content/gdrive',exist_ok=True)\n",
        "from google.colab import drive\n",
        "drive.mount('/content/gdrive')"
      ],
      "execution_count": 31,
      "outputs": [
        {
          "output_type": "stream",
          "text": [
            "Go to this URL in a browser: https://accounts.google.com/o/oauth2/auth?client_id=947318989803-6bn6qk8qdgf4n4g3pfee6491hc0brc4i.apps.googleusercontent.com&redirect_uri=urn%3Aietf%3Awg%3Aoauth%3A2.0%3Aoob&scope=email%20https%3A%2F%2Fwww.googleapis.com%2Fauth%2Fdocs.test%20https%3A%2F%2Fwww.googleapis.com%2Fauth%2Fdrive%20https%3A%2F%2Fwww.googleapis.com%2Fauth%2Fdrive.photos.readonly%20https%3A%2F%2Fwww.googleapis.com%2Fauth%2Fpeopleapi.readonly&response_type=code\n",
            "\n",
            "Enter your authorization code:\n",
            "··········\n",
            "Mounted at /content/gdrive\n"
          ],
          "name": "stdout"
        }
      ]
    },
    {
      "cell_type": "code",
      "metadata": {
        "id": "VxjUOrCljviT",
        "colab_type": "code",
        "colab": {
          "base_uri": "https://localhost:8080/",
          "height": 34
        },
        "outputId": "40957732-b39e-4b77-934a-0a01b1505102"
      },
      "source": [
        "import shutil\n",
        "shutil.copytree('/content/cloned-repo/Project_data/04-model_init_2019-06-1208_44_45.080481', '/content/gdrive/My Drive/gesture_recognition/04-model_init_2019-06-1208_44_45.080481')"
      ],
      "execution_count": 36,
      "outputs": [
        {
          "output_type": "execute_result",
          "data": {
            "text/plain": [
              "'/content/gdrive/My Drive/gesture_recognition/04-model_init_2019-06-1208_44_45.080481'"
            ]
          },
          "metadata": {
            "tags": []
          },
          "execution_count": 36
        }
      ]
    },
    {
      "cell_type": "code",
      "metadata": {
        "id": "ApyuvkhUjy4B",
        "colab_type": "code",
        "colab": {}
      },
      "source": [
        ""
      ],
      "execution_count": 0,
      "outputs": []
    }
  ]
}