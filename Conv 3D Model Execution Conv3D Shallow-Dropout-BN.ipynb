{
  "nbformat": 4,
  "nbformat_minor": 0,
  "metadata": {
    "colab": {
      "name": "Conv 3D Model Execution.ipynb",
      "version": "0.3.2",
      "provenance": [],
      "toc_visible": true,
      "include_colab_link": true
    },
    "language_info": {
      "codemirror_mode": {
        "name": "ipython",
        "version": 3
      },
      "file_extension": ".py",
      "mimetype": "text/x-python",
      "name": "python",
      "nbconvert_exporter": "python",
      "pygments_lexer": "ipython3",
      "version": "3.6.8"
    },
    "kernelspec": {
      "name": "python3",
      "display_name": "Python 3"
    },
    "accelerator": "GPU"
  },
  "cells": [
    {
      "cell_type": "markdown",
      "metadata": {
        "id": "view-in-github",
        "colab_type": "text"
      },
      "source": [
        "<a href=\"https://colab.research.google.com/github/s-ahuja/gesture_recognition/blob/master/Conv%203D%20Model%20Execution%20Conv3D%20Shallow-Dropout-BN.ipynb\" target=\"_parent\"><img src=\"https://colab.research.google.com/assets/colab-badge.svg\" alt=\"Open In Colab\"/></a>"
      ]
    },
    {
      "cell_type": "code",
      "metadata": {
        "id": "nAaDilW3Awxc",
        "colab_type": "code",
        "outputId": "53496041-9471-4d20-cfb8-93aebf03b3f9",
        "colab": {
          "base_uri": "https://localhost:8080/",
          "height": 293
        }
      },
      "source": [
        "# Checking whether we are in GPU mode\n",
        "!nvidia-smi"
      ],
      "execution_count": 1,
      "outputs": [
        {
          "output_type": "stream",
          "text": [
            "Sun Jun 16 07:41:25 2019       \n",
            "+-----------------------------------------------------------------------------+\n",
            "| NVIDIA-SMI 418.67       Driver Version: 410.79       CUDA Version: 10.0     |\n",
            "|-------------------------------+----------------------+----------------------+\n",
            "| GPU  Name        Persistence-M| Bus-Id        Disp.A | Volatile Uncorr. ECC |\n",
            "| Fan  Temp  Perf  Pwr:Usage/Cap|         Memory-Usage | GPU-Util  Compute M. |\n",
            "|===============================+======================+======================|\n",
            "|   0  Tesla T4            Off  | 00000000:00:04.0 Off |                    0 |\n",
            "| N/A   72C    P0    32W /  70W |      0MiB / 15079MiB |      0%      Default |\n",
            "+-------------------------------+----------------------+----------------------+\n",
            "                                                                               \n",
            "+-----------------------------------------------------------------------------+\n",
            "| Processes:                                                       GPU Memory |\n",
            "|  GPU       PID   Type   Process name                             Usage      |\n",
            "|=============================================================================|\n",
            "|  No running processes found                                                 |\n",
            "+-----------------------------------------------------------------------------+\n"
          ],
          "name": "stdout"
        }
      ]
    },
    {
      "cell_type": "code",
      "metadata": {
        "id": "1sEb4VPfDZ9H",
        "colab_type": "code",
        "colab": {}
      },
      "source": [
        "# Clone the entire repo.\n",
        "data_folder = '/content/cloned-repo'\n",
        "root_dir = f'{data_folder}/Project_data'"
      ],
      "execution_count": 0,
      "outputs": []
    },
    {
      "cell_type": "code",
      "metadata": {
        "id": "XdUHgmyzLXUV",
        "colab_type": "code",
        "outputId": "e0d145fa-e1b0-44a2-cdf4-3189b5763220",
        "colab": {
          "base_uri": "https://localhost:8080/",
          "height": 196
        }
      },
      "source": [
        "# full_restart = True..will gitclone on numpy arrays of images to google colab repo for access. required once per session.\n",
        "full_restart = True\n",
        "if (full_restart):\n",
        "  import shutil\n",
        "  shutil.rmtree(data_folder,ignore_errors=True)\n",
        "  import os\n",
        "  os.makedirs(data_folder,exist_ok=True)\n",
        "  os.chdir(data_folder)\n",
        "  !git clone -l -s \"https://github.com/s-ahuja/gesture_recognition.git\" {data_folder}\n",
        "%cd {data_folder}/Project_data\n",
        "!ls"
      ],
      "execution_count": 3,
      "outputs": [
        {
          "output_type": "stream",
          "text": [
            "Cloning into '/content/cloned-repo'...\n",
            "warning: --local is ignored\n",
            "remote: Enumerating objects: 23560, done.\u001b[K\n",
            "remote: Counting objects:   0% (1/23560)   \u001b[K\rremote: Counting objects:   1% (236/23560)   \u001b[K\rremote: Counting objects:   2% (472/23560)   \u001b[K\rremote: Counting objects:   3% (707/23560)   \u001b[K\rremote: Counting objects:   4% (943/23560)   \u001b[K\rremote: Counting objects:   5% (1178/23560)   \u001b[K\rremote: Counting objects:   6% (1414/23560)   \u001b[K\rremote: Counting objects:   7% (1650/23560)   \u001b[K\rremote: Counting objects:   8% (1885/23560)   \u001b[K\rremote: Counting objects:   9% (2121/23560)   \u001b[K\rremote: Counting objects:  10% (2356/23560)   \u001b[K\rremote: Counting objects:  11% (2592/23560)   \u001b[K\rremote: Counting objects:  12% (2828/23560)   \u001b[K\rremote: Counting objects:  13% (3063/23560)   \u001b[K\rremote: Counting objects:  14% (3299/23560)   \u001b[K\rremote: Counting objects:  15% (3534/23560)   \u001b[K\rremote: Counting objects:  16% (3770/23560)   \u001b[K\rremote: Counting objects:  17% (4006/23560)   \u001b[K\rremote: Counting objects:  18% (4241/23560)   \u001b[K\rremote: Counting objects:  19% (4477/23560)   \u001b[K\rremote: Counting objects:  20% (4712/23560)   \u001b[K\rremote: Counting objects:  21% (4948/23560)   \u001b[K\rremote: Counting objects:  22% (5184/23560)   \u001b[K\rremote: Counting objects:  23% (5419/23560)   \u001b[K\rremote: Counting objects:  24% (5655/23560)   \u001b[K\rremote: Counting objects:  25% (5890/23560)   \u001b[K\rremote: Counting objects:  26% (6126/23560)   \u001b[K\rremote: Counting objects:  27% (6362/23560)   \u001b[K\rremote: Counting objects:  28% (6597/23560)   \u001b[K\rremote: Counting objects:  29% (6833/23560)   \u001b[K\rremote: Counting objects:  30% (7068/23560)   \u001b[K\rremote: Counting objects:  31% (7304/23560)   \u001b[K\rremote: Counting objects:  32% (7540/23560)   \u001b[K\rremote: Counting objects:  33% (7775/23560)   \u001b[K\rremote: Counting objects:  34% (8011/23560)   \u001b[K\rremote: Counting objects:  35% (8246/23560)   \u001b[K\rremote: Counting objects:  36% (8482/23560)   \u001b[K\rremote: Counting objects:  37% (8718/23560)   \u001b[K\rremote: Counting objects:  38% (8953/23560)   \u001b[K\rremote: Counting objects:  39% (9189/23560)   \u001b[K\rremote: Counting objects:  40% (9424/23560)   \u001b[K\rremote: Counting objects:  41% (9660/23560)   \u001b[K\rremote: Counting objects:  42% (9896/23560)   \u001b[K\rremote: Counting objects:  43% (10131/23560)   \u001b[K\rremote: Counting objects:  44% (10367/23560)   \u001b[K\rremote: Counting objects:  45% (10602/23560)   \u001b[K\rremote: Counting objects:  46% (10838/23560)   \u001b[K\rremote: Counting objects:  47% (11074/23560)   \u001b[K\rremote: Counting objects:  48% (11309/23560)   \u001b[K\rremote: Counting objects:  49% (11545/23560)   \u001b[K\rremote: Counting objects:  50% (11780/23560)   \u001b[K\rremote: Counting objects:  51% (12016/23560)   \u001b[K\rremote: Counting objects:  52% (12252/23560)   \u001b[K\rremote: Counting objects:  53% (12487/23560)   \u001b[K\rremote: Counting objects:  54% (12723/23560)   \u001b[K\rremote: Counting objects:  55% (12958/23560)   \u001b[K\rremote: Counting objects:  56% (13194/23560)   \u001b[K\rremote: Counting objects:  57% (13430/23560)   \u001b[K\rremote: Counting objects:  58% (13665/23560)   \u001b[K\rremote: Counting objects:  59% (13901/23560)   \u001b[K\rremote: Counting objects:  60% (14136/23560)   \u001b[K\rremote: Counting objects:  61% (14372/23560)   \u001b[K\rremote: Counting objects:  62% (14608/23560)   \u001b[K\rremote: Counting objects:  63% (14843/23560)   \u001b[K\rremote: Counting objects:  64% (15079/23560)   \u001b[K\rremote: Counting objects:  65% (15314/23560)   \u001b[K\rremote: Counting objects:  66% (15550/23560)   \u001b[K\rremote: Counting objects:  67% (15786/23560)   \u001b[K\rremote: Counting objects:  68% (16021/23560)   \u001b[K\rremote: Counting objects:  69% (16257/23560)   \u001b[K\rremote: Counting objects:  70% (16492/23560)   \u001b[K\rremote: Counting objects:  71% (16728/23560)   \u001b[K\rremote: Counting objects:  72% (16964/23560)   \u001b[K\rremote: Counting objects:  73% (17199/23560)   \u001b[K\rremote: Counting objects:  74% (17435/23560)   \u001b[K\rremote: Counting objects:  75% (17670/23560)   \u001b[K\rremote: Counting objects:  76% (17906/23560)   \u001b[K\rremote: Counting objects:  77% (18142/23560)   \u001b[K\rremote: Counting objects:  78% (18377/23560)   \u001b[K\rremote: Counting objects:  79% (18613/23560)   \u001b[K\rremote: Counting objects:  80% (18848/23560)   \u001b[K\rremote: Counting objects:  81% (19084/23560)   \u001b[K\rremote: Counting objects:  82% (19320/23560)   \u001b[K\rremote: Counting objects:  83% (19555/23560)   \u001b[K\rremote: Counting objects:  84% (19791/23560)   \u001b[K\rremote: Counting objects:  85% (20026/23560)   \u001b[K\rremote: Counting objects:  86% (20262/23560)   \u001b[K\rremote: Counting objects:  87% (20498/23560)   \u001b[K\rremote: Counting objects:  88% (20733/23560)   \u001b[K\rremote: Counting objects:  89% (20969/23560)   \u001b[K\rremote: Counting objects:  90% (21204/23560)   \u001b[K\rremote: Counting objects:  91% (21440/23560)   \u001b[K\rremote: Counting objects:  92% (21676/23560)   \u001b[K\rremote: Counting objects:  93% (21911/23560)   \u001b[K\rremote: Counting objects:  94% (22147/23560)   \u001b[K\rremote: Counting objects:  95% (22382/23560)   \u001b[K\rremote: Counting objects:  96% (22618/23560)   \u001b[K\rremote: Counting objects:  97% (22854/23560)   \u001b[K\rremote: Counting objects:  98% (23089/23560)   \u001b[K\rremote: Counting objects:  99% (23325/23560)   \u001b[K\rremote: Counting objects: 100% (23560/23560)   \u001b[K\rremote: Counting objects: 100% (23560/23560), done.\u001b[K\n",
            "remote: Compressing objects: 100% (23555/23555), done.\u001b[K\n",
            "remote: Total 23560 (delta 18), reused 23532 (delta 4), pack-reused 0\u001b[K\n",
            "Receiving objects: 100% (23560/23560), 565.87 MiB | 34.02 MiB/s, done.\n",
            "Resolving deltas: 100% (18/18), done.\n",
            "Checking out files: 100% (22902/22902), done.\n",
            "/content/cloned-repo/Project_data\n",
            "numpy  train.csv  train_images.pkl  val.csv  val_images.pkl\n"
          ],
          "name": "stdout"
        }
      ]
    },
    {
      "cell_type": "code",
      "metadata": {
        "id": "kxrqu5GxAwxh",
        "colab_type": "code",
        "colab": {}
      },
      "source": [
        "# The First Notebook - Data Pre-Processing converted raw images to numpy arrays of standard format 100x100x3 \n",
        "# and created 2 pkl files(train_images,val_images) for a list of files with paths of npy arrays.\n",
        "\n",
        "import pickle\n",
        "filehandler = open('train_images.pkl',\"rb\")\n",
        "train_images = pickle.load(filehandler)\n",
        "filehandler.close()\n",
        "filehandler = open('val_images.pkl',\"rb\")\n",
        "val_images = pickle.load(filehandler)\n",
        "filehandler.close()"
      ],
      "execution_count": 0,
      "outputs": []
    },
    {
      "cell_type": "code",
      "metadata": {
        "id": "araQpugMAwxj",
        "colab_type": "code",
        "outputId": "8b84d158-d308-4ad6-ee5f-290e7e6b44c4",
        "colab": {
          "base_uri": "https://localhost:8080/",
          "height": 33
        }
      },
      "source": [
        "len(train_images[0]),len(val_images[0])"
      ],
      "execution_count": 5,
      "outputs": [
        {
          "output_type": "execute_result",
          "data": {
            "text/plain": [
              "(19890, 3000)"
            ]
          },
          "metadata": {
            "tags": []
          },
          "execution_count": 5
        }
      ]
    },
    {
      "cell_type": "code",
      "metadata": {
        "id": "WsxvoUb8Awxm",
        "colab_type": "code",
        "colab": {}
      },
      "source": [
        "# with limited disk space we need to delete model directories which didnt get any better experiment result\n",
        "import glob, shutil\n",
        "model_directories = glob.glob(f'{root_dir}/model*')\n",
        "for directory in model_directories:\n",
        "    shutil.rmtree(directory)"
      ],
      "execution_count": 0,
      "outputs": []
    },
    {
      "cell_type": "markdown",
      "metadata": {
        "id": "FnHobvnOAwxo",
        "colab_type": "text"
      },
      "source": [
        "# Gesture Recognition\n",
        "In this group project, you are going to build a 3D Conv model that will be able to predict the 5 gestures correctly. Please import the following libraries to get started."
      ]
    },
    {
      "cell_type": "code",
      "metadata": {
        "id": "1a89fRYJAwxo",
        "colab_type": "code",
        "colab": {}
      },
      "source": [
        "%load_ext autoreload\n",
        "%autoreload 2\n",
        "import numpy as np\n",
        "import os\n",
        "import glob\n",
        "from cv2 import imread,resize,cvtColor,COLOR_BGR2RGB,INTER_AREA\n",
        "import datetime\n",
        "import matplotlib.pyplot as plt\n",
        "import warnings\n",
        "warnings.simplefilter('ignore')"
      ],
      "execution_count": 0,
      "outputs": []
    },
    {
      "cell_type": "markdown",
      "metadata": {
        "id": "7-eKyjqXAwxq",
        "colab_type": "text"
      },
      "source": [
        "We set the random seed so that the results don't vary drastically."
      ]
    },
    {
      "cell_type": "code",
      "metadata": {
        "id": "Kxq4kVj5Awxr",
        "colab_type": "code",
        "outputId": "6b888f34-0a38-4dea-bb32-9e32ac3ed737",
        "colab": {
          "base_uri": "https://localhost:8080/",
          "height": 33
        }
      },
      "source": [
        "np.random.seed(30)\n",
        "import random as rn\n",
        "rn.seed(30)\n",
        "from keras import backend as K\n",
        "import tensorflow as tf\n",
        "tf.set_random_seed(30)"
      ],
      "execution_count": 8,
      "outputs": [
        {
          "output_type": "stream",
          "text": [
            "Using TensorFlow backend.\n"
          ],
          "name": "stderr"
        }
      ]
    },
    {
      "cell_type": "code",
      "metadata": {
        "id": "7PG8NCeBAwxu",
        "colab_type": "code",
        "outputId": "7d3f539d-26b6-4b82-8479-8eb22f7e40b5",
        "colab": {
          "base_uri": "https://localhost:8080/",
          "height": 50
        }
      },
      "source": [
        "# setting up basic parameters for the model\n",
        "img_indices = list(range(1,30,2))\n",
        "print(img_indices)\n",
        "input_shape=(len(img_indices),100,100,3) #15 images per video, each image is of 100x100x3\n",
        "print(input_shape)\n",
        "batch_size = 10\n",
        "no_of_classes = 5\n",
        "num_epochs = 50 # choose the number of epochs"
      ],
      "execution_count": 9,
      "outputs": [
        {
          "output_type": "stream",
          "text": [
            "[1, 3, 5, 7, 9, 11, 13, 15, 17, 19, 21, 23, 25, 27, 29]\n",
            "(15, 100, 100, 3)\n"
          ],
          "name": "stdout"
        }
      ]
    },
    {
      "cell_type": "code",
      "metadata": {
        "id": "N6ZLOH3uAwxw",
        "colab_type": "code",
        "outputId": "48c0edd8-1334-447f-a92f-9bc27bb6f7ab",
        "colab": {
          "base_uri": "https://localhost:8080/",
          "height": 33
        }
      },
      "source": [
        "train_doc = np.random.permutation(open(f'{root_dir}/train.csv').readlines())\n",
        "val_doc = np.random.permutation(open(f'{root_dir}/val.csv').readlines())\n",
        "\n",
        "# since train.csv and val.csv contains all traning/validation data\n",
        "# these statements filter out if we want to first train/val on a limited set only\n",
        "# filter out records which are not considered during experiments\n",
        "train_doc = [x for x in train_doc if x.split(';')[0] in [paths.split('/')[-2] for paths in train_images[0]]] \n",
        "val_doc = [x for x in val_doc if x.split(';')[0] in [paths.split('/')[-2] for paths in val_images[0]]]\n",
        "\n",
        "print('no. of training video seq=',len(train_doc),'no. of validation video seq=',len(val_doc))"
      ],
      "execution_count": 10,
      "outputs": [
        {
          "output_type": "stream",
          "text": [
            "no. of training video seq= 663 no. of validation video seq= 100\n"
          ],
          "name": "stdout"
        }
      ]
    },
    {
      "cell_type": "markdown",
      "metadata": {
        "id": "GdeE78IVAwxz",
        "colab_type": "text"
      },
      "source": [
        "## Generator\n",
        "This is one of the most important part of the code. The overall structure of the generator has been given. In the generator, you are going to preprocess the images as you have images of 2 different dimensions as well as create a batch of video frames. You have to experiment with `img_idx`, `y`,`z` and normalization such that you get high accuracy."
      ]
    },
    {
      "cell_type": "code",
      "metadata": {
        "id": "muVr5tsqAwx0",
        "colab_type": "code",
        "colab": {}
      },
      "source": [
        "def generator(source_path, folder_list, batch_size, ablation=False):\n",
        "    #print('Source path = ', source_path, '; batch size =', batch_size)\n",
        "    # if ablation is true then only take only 2 images else take much more.\n",
        "    img_idx = img_indices #create a list of image numbers you want to use for a particular video. \n",
        "    x = len(img_idx)    \n",
        "    y,z = input_shape[1],input_shape[2] # image_standard_size\n",
        "    Model_Execution = True # this parameter was used to test the generator function. Model_Execution = FALSE, iterates 1 EPOCH and exits after 1 full EPOCH is complete\n",
        "    while Model_Execution:\n",
        "        t = np.random.permutation(folder_list)\n",
        "        num_batches = int(len(folder_list)/batch_size) # calculate the number of batches\n",
        "        for batch in range(num_batches): # we iterate over the number of batches\n",
        "            batch_data = np.zeros((batch_size,x,y,z,input_shape[3])) # x is the number of images you use for each video, (y,z) is the final size of the input images and 3 is the number of channels RGB\n",
        "            batch_labels = np.zeros((batch_size,no_of_classes)) # batch_labels is the one hot representation of the output\n",
        "            for folder in range(batch_size): # iterate over the batch_size\n",
        "                imgs = os.listdir(source_path+'/'+ t[folder + (batch*batch_size)].split(';')[0]) # read all the images in the folder\n",
        "                for idx,item in enumerate(img_idx): #  Iterate iver the frames/images of a folder to read them in\n",
        "                    img_file_path = source_path+'/'+ t[folder + (batch*batch_size)].strip().split(';')[0]+'/'+imgs[item]\n",
        "                    image = np.load(img_file_path)#.astype(np.float32)\n",
        "                    #crop the images and resize them. Note that the images are of 2 different shape\n",
        "                    #and the conv3D will throw error if the inputs in a batch have different shapes\n",
        "                    # IMPORTANT NOTE:  the CROPPING/RESIZING OF IMAGES IS DONE IN THE PRE-PROCESSING STEP ITSELF\n",
        "                    # TO SAVE GENERATOR TIME AND TO RE-DO EACH MODEL EXECUTION RUN\n",
        "                    batch_data[folder,idx,:,:,0] = (image[:,:,0] - image[:,:,0].min())/(image[:,:,0].max() - image[:,:,0].min()) #normalise and feed in the image\n",
        "                    batch_data[folder,idx,:,:,1] = (image[:,:,1] - image[:,:,1].min())/(image[:,:,1].max() - image[:,:,1].min()) #normalise and feed in the image\n",
        "                    batch_data[folder,idx,:,:,2] = (image[:,:,2] - image[:,:,2].min())/(image[:,:,2].max() - image[:,:,2].min()) #normalise and feed in the image\n",
        "\n",
        "                batch_labels[folder, int(t[folder + (batch*batch_size)].strip().split(';')[2])] = 1\n",
        "            yield batch_data, batch_labels #you yield the batch_data and the batch_labels, remember what does yield do\n",
        "        # write the code for the remaining data points which are left after full batches\n",
        "        remaining_size = len(folder_list) - (batch_size*num_batches)\n",
        "        if (remaining_size > 0):\n",
        "            #print('remaining_size=',remaining_size)\n",
        "            batch_data = np.zeros((remaining_size,x,y,z,input_shape[3])) # x is the number of images you use for each video, (y,z) is the final size of the input images and 3 is the number of channels RGB\n",
        "            batch_labels = np.zeros((remaining_size,no_of_classes)) # batch_labels is the one hot representation of the output\n",
        "            for folder in range(remaining_size):\n",
        "                imgs = os.listdir(source_path+'/'+ t[folder].split(';')[0]) # read all the images in the folder\n",
        "                for idx,item in enumerate(img_idx): #  Iterate iver the frames/images of a folder to read them in\n",
        "                    img_file_path = source_path+'/'+ t[folder].strip().split(';')[0]+'/'+imgs[item]\n",
        "                    # print('img_file_path=' + img_file_path)\n",
        "                    image = np.load(img_file_path)#.astype(np.float32)                                        \n",
        "                    #print(image.shape)\n",
        "                    #crop the images and resize them. Note that the images are of 2 different shape\n",
        "                    #and the conv3D will throw error if the inputs in a batch have different shapes\n",
        "                    # IMPORTANT NOTE:  the CROPPING/RESIZING OF IMAGES IS DONE IN THE PRE-PROCESSING STEP ITSELF\n",
        "                    # TO SAVE GENERATOR TIME AND TO RE-DO EACH MODEL EXECUTION RUN\n",
        "                    batch_data[folder,idx,:,:,0] = (image[:,:,0] - image[:,:,0].min())/(image[:,:,0].max() - image[:,:,0].min()) #normalise and feed in the image\n",
        "                    batch_data[folder,idx,:,:,1] = (image[:,:,1] - image[:,:,1].min())/(image[:,:,1].max() - image[:,:,1].min()) #normalise and feed in the image\n",
        "                    batch_data[folder,idx,:,:,2] = (image[:,:,2] - image[:,:,2].min())/(image[:,:,2].max() - image[:,:,2].min()) #normalise and feed in the image\n",
        "                batch_labels[folder, int(t[folder].strip().split(';')[2])] = 1\n",
        "            yield batch_data, batch_labels\n",
        "            Model_Execution = True \n",
        "\n",
        "# ## test code to test generator function\n",
        "# train_path = f'{root_dir}/numpy/train'\n",
        "# num_train_sequences = len(train_doc)\n",
        "# train_generator = generator(source_path=train_path, folder_list=train_doc, batch_size=batch_size, ablation=False)\n",
        "# index = 0\n",
        "# for batch_data, batch_labels in train_generator: \n",
        "#     index += len(batch_data)    \n",
        "#     print(batch_data.shape,batch_labels.shape) "
      ],
      "execution_count": 0,
      "outputs": []
    },
    {
      "cell_type": "markdown",
      "metadata": {
        "id": "sD1BePtMAwx4",
        "colab_type": "text"
      },
      "source": [
        "Note here that a video is represented above in the generator as (number of images, height, width, number of channels). Take this into consideration while creating the model architecture."
      ]
    },
    {
      "cell_type": "code",
      "metadata": {
        "id": "hqXYWGRqAwx4",
        "colab_type": "code",
        "outputId": "ae30b86f-6d3c-4a96-b073-ea12cd3926f1",
        "colab": {
          "base_uri": "https://localhost:8080/",
          "height": 66
        }
      },
      "source": [
        "curr_dt_time = datetime.datetime.now()\n",
        "train_path = f'{root_dir}/numpy/train'\n",
        "val_path = f'{root_dir}/numpy/val'\n",
        "num_train_sequences = len(train_doc)\n",
        "print('# training sequences =', num_train_sequences)\n",
        "num_val_sequences = len(val_doc)\n",
        "print('# validation sequences =', num_val_sequences)\n",
        "print ('# epochs =', num_epochs)"
      ],
      "execution_count": 12,
      "outputs": [
        {
          "output_type": "stream",
          "text": [
            "# training sequences = 663\n",
            "# validation sequences = 100\n",
            "# epochs = 50\n"
          ],
          "name": "stdout"
        }
      ]
    },
    {
      "cell_type": "markdown",
      "metadata": {
        "id": "zlcwLEPZAwx7",
        "colab_type": "text"
      },
      "source": [
        "## Model\n",
        "Here you make the model using different functionalities that Keras provides. Remember to use `Conv3D` and `MaxPooling3D` and not `Conv2D` and `Maxpooling2D` for a 3D convolution model. You would want to use `TimeDistributed` while building a Conv2D + RNN model. Also remember that the last layer is the softmax. Design the network in such a way that the model is able to give good accuracy on the least number of parameters so that it can fit in the memory of the webcam."
      ]
    },
    {
      "cell_type": "code",
      "metadata": {
        "id": "7MekrkF6Awx7",
        "colab_type": "code",
        "colab": {}
      },
      "source": [
        "from keras.models import Sequential, Model\n",
        "from keras.layers import Dense, GRU, Flatten, TimeDistributed, Flatten, BatchNormalization, Activation, Dropout\n",
        "from keras.layers.convolutional import Conv3D, MaxPooling3D\n",
        "from keras.callbacks import ModelCheckpoint, ReduceLROnPlateau, CSVLogger,EarlyStopping\n",
        "from keras import optimizers\n",
        "\n",
        "import matplotlib.pyplot as plt\n",
        "import keras.backend as K\n",
        "from keras.callbacks import Callback"
      ],
      "execution_count": 0,
      "outputs": []
    },
    {
      "cell_type": "markdown",
      "metadata": {
        "id": "-vh9VsqZrDFl",
        "colab_type": "text"
      },
      "source": [
        ""
      ]
    },
    {
      "cell_type": "code",
      "metadata": {
        "id": "PNa_jpvmAwx9",
        "colab_type": "code",
        "colab": {}
      },
      "source": [
        "#model.add(Conv3D(filters=32, kernel_size=(3,3,3), strides=(1, 1, 1), padding='same', activation='relu',data_format='channels_last'))\n",
        "#model.add(MaxPooling3D(pool_size=(2, 2, 1)))\n",
        "#model.add(Dense(1024))\n",
        "\n",
        "\n",
        "#write your model here\n",
        "\n",
        "##################### model 1 ################\n",
        "# model = Sequential()\n",
        "# model.add(Conv3D(filters=32, kernel_size=(3,3,3), strides=(1, 1, 1), activation=None, input_shape=(len(list(range(0,30,1))),120,160,3),data_format='channels_last'))\n",
        "# model.add(LeakyReLU(alpha=0.1))\n",
        "# model.add(MaxPooling3D(pool_size=(1, 1, 1)))\n",
        "# model.add(Conv3D(filters=64, kernel_size=(3,3,3), strides=(1, 1, 1), activation=None))\n",
        "# model.add(LeakyReLU(alpha=0.1))\n",
        "# model.add(Flatten())\n",
        "# model.add(Dense(5, activation='softmax')) # 5 are number of classes"
      ],
      "execution_count": 0,
      "outputs": []
    },
    {
      "cell_type": "code",
      "metadata": {
        "id": "AOEXS78CAwx_",
        "colab_type": "code",
        "colab": {}
      },
      "source": [
        "# ###################### model 2 ################\n",
        "# model = Sequential()\n",
        "# model.add(Conv3D(64, kernel_size=(3,3,3), activation='relu', input_shape=input_shape,data_format='channels_last'))\n",
        "# model.add(MaxPooling3D(pool_size=(1, 2, 2), strides=(1, 2, 2)))\n",
        "# model.add(Conv3D(128, (3,3,3), activation='relu'))\n",
        "# model.add(MaxPooling3D(pool_size=(1, 2, 2), strides=(1, 2, 2)))\n",
        "# model.add(Conv3D(256, (3,3,3), activation='relu'))\n",
        "# model.add(Conv3D(256, (3,3,3), activation='relu'))\n",
        "# model.add(MaxPooling3D(pool_size=(1, 2, 2), strides=(1, 2, 2)))\n",
        "# model.add(Conv3D(512, (3,3,3), activation='relu'))\n",
        "# model.add(Conv3D(512, (3,3,3), activation='relu'))\n",
        "# model.add(MaxPooling3D(pool_size=(1, 2, 2), strides=(1, 2, 2)))\n",
        "# # model.add(Conv3D(512, (3,3,3), activation='relu'))\n",
        "# # model.add(Conv3D(512, (3,3,3), activation='relu'))\n",
        "# # model.add(MaxPooling3D(pool_size=(1, 2, 2), strides=(1, 2, 2)))\n",
        "# model.add(Flatten())\n",
        "# model.add(Dense(2048,activation='relu'))\n",
        "# model.add(Dense(2048,activation='relu'))\n",
        "# model.add(Dense(no_of_classes, activation='softmax'))"
      ],
      "execution_count": 0,
      "outputs": []
    },
    {
      "cell_type": "code",
      "metadata": {
        "id": "9DrW0AN6AwyB",
        "colab_type": "code",
        "colab": {
          "base_uri": "https://localhost:8080/",
          "height": 1321
        },
        "outputId": "72fc5d7d-404c-4b5d-ab71-8c20611e5159"
      },
      "source": [
        "###################### model 2 ################\n",
        "model = Sequential()\n",
        "model.add(Conv3D(64, kernel_size=(3,3,3), activation='relu', input_shape=input_shape,data_format='channels_last'))\n",
        "model.add(Dropout(0.5))\n",
        "model.add(BatchNormalization())\n",
        "model.add(MaxPooling3D(pool_size=(1, 2, 2), strides=(1, 2, 2)))\n",
        "model.add(Conv3D(128, (3,3,3), activation='relu'))\n",
        "model.add(Dropout(0.5))\n",
        "model.add(BatchNormalization())\n",
        "model.add(MaxPooling3D(pool_size=(1, 2, 2), strides=(1, 2, 2)))\n",
        "model.add(Conv3D(256, (3,3,3), activation='relu'))\n",
        "model.add(Dropout(0.5))\n",
        "model.add(BatchNormalization())\n",
        "model.add(Conv3D(256, (3,3,3), activation='relu'))\n",
        "model.add(Dropout(0.5))\n",
        "model.add(BatchNormalization())\n",
        "model.add(MaxPooling3D(pool_size=(1, 2, 2), strides=(1, 2, 2)))\n",
        "model.add(Conv3D(512, (3,3,3), activation='relu'))\n",
        "model.add(Dropout(0.5))\n",
        "model.add(BatchNormalization())\n",
        "model.add(Conv3D(512, (3,3,3), activation='relu'))\n",
        "model.add(Dropout(0.5))\n",
        "model.add(BatchNormalization())\n",
        "model.add(MaxPooling3D(pool_size=(1, 2, 2), strides=(1, 2, 2)))\n",
        "# model.add(Conv3D(512, (3,3,3), activation='relu'))\n",
        "# model.add(Conv3D(512, (3,3,3), activation='relu'))\n",
        "# model.add(MaxPooling3D(pool_size=(1, 2, 2), strides=(1, 2, 2)))\n",
        "model.add(Flatten())\n",
        "model.add(Dense(2048,activation='relu'))\n",
        "model.add(Dropout(0.5))\n",
        "model.add(BatchNormalization())\n",
        "model.add(Dense(2048,activation='relu'))\n",
        "model.add(Dropout(0.5))\n",
        "model.add(BatchNormalization())\n",
        "model.add(Dense(no_of_classes, activation='softmax'))\n",
        "model.summary()"
      ],
      "execution_count": 16,
      "outputs": [
        {
          "output_type": "stream",
          "text": [
            "WARNING: Logging before flag parsing goes to stderr.\n",
            "W0616 07:42:05.888947 140523201341312 deprecation_wrapper.py:119] From /usr/local/lib/python3.6/dist-packages/keras/backend/tensorflow_backend.py:74: The name tf.get_default_graph is deprecated. Please use tf.compat.v1.get_default_graph instead.\n",
            "\n",
            "W0616 07:42:05.893002 140523201341312 deprecation_wrapper.py:119] From /usr/local/lib/python3.6/dist-packages/keras/backend/tensorflow_backend.py:517: The name tf.placeholder is deprecated. Please use tf.compat.v1.placeholder instead.\n",
            "\n",
            "W0616 07:42:05.896905 140523201341312 deprecation_wrapper.py:119] From /usr/local/lib/python3.6/dist-packages/keras/backend/tensorflow_backend.py:4138: The name tf.random_uniform is deprecated. Please use tf.random.uniform instead.\n",
            "\n",
            "W0616 07:42:05.912802 140523201341312 deprecation_wrapper.py:119] From /usr/local/lib/python3.6/dist-packages/keras/backend/tensorflow_backend.py:133: The name tf.placeholder_with_default is deprecated. Please use tf.compat.v1.placeholder_with_default instead.\n",
            "\n",
            "W0616 07:42:05.921697 140523201341312 deprecation.py:506] From /usr/local/lib/python3.6/dist-packages/keras/backend/tensorflow_backend.py:3445: calling dropout (from tensorflow.python.ops.nn_ops) with keep_prob is deprecated and will be removed in a future version.\n",
            "Instructions for updating:\n",
            "Please use `rate` instead of `keep_prob`. Rate should be set to `rate = 1 - keep_prob`.\n"
          ],
          "name": "stderr"
        },
        {
          "output_type": "stream",
          "text": [
            "_________________________________________________________________\n",
            "Layer (type)                 Output Shape              Param #   \n",
            "=================================================================\n",
            "conv3d_1 (Conv3D)            (None, 13, 98, 98, 64)    5248      \n",
            "_________________________________________________________________\n",
            "dropout_1 (Dropout)          (None, 13, 98, 98, 64)    0         \n",
            "_________________________________________________________________\n",
            "batch_normalization_1 (Batch (None, 13, 98, 98, 64)    256       \n",
            "_________________________________________________________________\n",
            "max_pooling3d_1 (MaxPooling3 (None, 13, 49, 49, 64)    0         \n",
            "_________________________________________________________________\n",
            "conv3d_2 (Conv3D)            (None, 11, 47, 47, 128)   221312    \n",
            "_________________________________________________________________\n",
            "dropout_2 (Dropout)          (None, 11, 47, 47, 128)   0         \n",
            "_________________________________________________________________\n",
            "batch_normalization_2 (Batch (None, 11, 47, 47, 128)   512       \n",
            "_________________________________________________________________\n",
            "max_pooling3d_2 (MaxPooling3 (None, 11, 23, 23, 128)   0         \n",
            "_________________________________________________________________\n",
            "conv3d_3 (Conv3D)            (None, 9, 21, 21, 256)    884992    \n",
            "_________________________________________________________________\n",
            "dropout_3 (Dropout)          (None, 9, 21, 21, 256)    0         \n",
            "_________________________________________________________________\n",
            "batch_normalization_3 (Batch (None, 9, 21, 21, 256)    1024      \n",
            "_________________________________________________________________\n",
            "conv3d_4 (Conv3D)            (None, 7, 19, 19, 256)    1769728   \n",
            "_________________________________________________________________\n",
            "dropout_4 (Dropout)          (None, 7, 19, 19, 256)    0         \n",
            "_________________________________________________________________\n",
            "batch_normalization_4 (Batch (None, 7, 19, 19, 256)    1024      \n",
            "_________________________________________________________________\n",
            "max_pooling3d_3 (MaxPooling3 (None, 7, 9, 9, 256)      0         \n",
            "_________________________________________________________________\n",
            "conv3d_5 (Conv3D)            (None, 5, 7, 7, 512)      3539456   \n",
            "_________________________________________________________________\n",
            "dropout_5 (Dropout)          (None, 5, 7, 7, 512)      0         \n",
            "_________________________________________________________________\n",
            "batch_normalization_5 (Batch (None, 5, 7, 7, 512)      2048      \n",
            "_________________________________________________________________\n",
            "conv3d_6 (Conv3D)            (None, 3, 5, 5, 512)      7078400   \n",
            "_________________________________________________________________\n",
            "dropout_6 (Dropout)          (None, 3, 5, 5, 512)      0         \n",
            "_________________________________________________________________\n",
            "batch_normalization_6 (Batch (None, 3, 5, 5, 512)      2048      \n",
            "_________________________________________________________________\n",
            "max_pooling3d_4 (MaxPooling3 (None, 3, 2, 2, 512)      0         \n",
            "_________________________________________________________________\n",
            "flatten_1 (Flatten)          (None, 6144)              0         \n",
            "_________________________________________________________________\n",
            "dense_1 (Dense)              (None, 2048)              12584960  \n",
            "_________________________________________________________________\n",
            "dropout_7 (Dropout)          (None, 2048)              0         \n",
            "_________________________________________________________________\n",
            "batch_normalization_7 (Batch (None, 2048)              8192      \n",
            "_________________________________________________________________\n",
            "dense_2 (Dense)              (None, 2048)              4196352   \n",
            "_________________________________________________________________\n",
            "dropout_8 (Dropout)          (None, 2048)              0         \n",
            "_________________________________________________________________\n",
            "batch_normalization_8 (Batch (None, 2048)              8192      \n",
            "_________________________________________________________________\n",
            "dense_3 (Dense)              (None, 5)                 10245     \n",
            "=================================================================\n",
            "Total params: 30,313,989\n",
            "Trainable params: 30,302,341\n",
            "Non-trainable params: 11,648\n",
            "_________________________________________________________________\n"
          ],
          "name": "stdout"
        }
      ]
    },
    {
      "cell_type": "code",
      "metadata": {
        "id": "VqiFAjetAwyC",
        "colab_type": "code",
        "colab": {}
      },
      "source": [
        "# ###################### model 3 - deep model ################\n",
        "# model = Sequential()\n",
        "# model.add(Conv3D(64, kernel_size=(3,3,3), activation='relu', input_shape=input_shape,data_format='channels_last'))\n",
        "# model.add(Conv3D(64, (3,3,3), padding='same',activation='relu'))\n",
        "# model.add(MaxPooling3D(pool_size=(1,2,2), strides=(1,2,2)))\n",
        "# model.add(Conv3D(128, (3,3,3), padding='same',activation='relu'))\n",
        "# model.add(Conv3D(128, (3,3,3),  activation='relu'))\n",
        "# model.add(MaxPooling3D(pool_size=(1,2,2), strides=(1,2,2)))\n",
        "# model.add(Conv3D(256, (3,3,3), activation='relu'))\n",
        "# model.add(Conv3D(256, (3,3,3), activation='relu'))\n",
        "# model.add(Conv3D(256, (3,3,3),  activation='relu'))\n",
        "# model.add(Conv3D(256, (3,3,3),  activation='relu'))\n",
        "# model.add(MaxPooling3D(pool_size=(1, 2, 2), strides=(1, 2, 2)))\n",
        "# model.add(Flatten())\n",
        "# model.add(Dense(2048,activation='relu'))\n",
        "# model.add(Dense(2048,activation='relu'))\n",
        "# model.add(Dense(no_of_classes, activation='softmax'))\n",
        "# model.summary()"
      ],
      "execution_count": 0,
      "outputs": []
    },
    {
      "cell_type": "code",
      "metadata": {
        "id": "W0rMcM-l0kX1",
        "colab_type": "code",
        "colab": {}
      },
      "source": [
        "# ##################### model 3 - deep model ################\n",
        "# model = Sequential()\n",
        "# model.add(Conv3D(16, kernel_size=(3,3,3), activation='relu', input_shape=input_shape,data_format='channels_last'))\n",
        "# model.add(BatchNormalization())\n",
        "# model.add(Conv3D(16, (3,3,3), padding='same',activation='relu'))\n",
        "# model.add(BatchNormalization())\n",
        "# model.add(Dropout(0.25))\n",
        "# model.add(MaxPooling3D(pool_size=(1,2,2), strides=(1,2,2)))\n",
        "# model.add(Conv3D(32, (3,3,3), padding='same',activation='relu'))\n",
        "# model.add(BatchNormalization())\n",
        "# model.add(Conv3D(32, (3,3,3), padding='same', activation='relu'))\n",
        "# model.add(BatchNormalization())\n",
        "# model.add(Dropout(0.25))\n",
        "# model.add(MaxPooling3D(pool_size=(1,2,2), strides=(1,2,2)))\n",
        "# model.add(Conv3D(64, (3,3,3),padding='same', activation='relu'))\n",
        "# model.add(BatchNormalization())\n",
        "# model.add(Conv3D(64, (3,3,3),padding='same', activation='relu'))\n",
        "# model.add(BatchNormalization())\n",
        "# model.add(Conv3D(64, (3,3,3),padding='same',  activation='relu'))\n",
        "# model.add(BatchNormalization())\n",
        "# model.add(Conv3D(64, (3,3,3),padding='same',  activation='relu'))\n",
        "# model.add(BatchNormalization())\n",
        "# model.add(Dropout(0.25))\n",
        "# model.add(MaxPooling3D(pool_size=(1, 2, 2), strides=(1, 2, 2)))\n",
        "# model.add(Conv3D(128, (3,3,3),padding='same', activation='relu'))\n",
        "# model.add(BatchNormalization())\n",
        "# model.add(Conv3D(128, (3,3,3),padding='same', activation='relu'))\n",
        "# model.add(BatchNormalization())\n",
        "# model.add(Conv3D(128, (3,3,3),padding='same',  activation='relu'))\n",
        "# model.add(BatchNormalization())\n",
        "# model.add(Conv3D(128, (3,3,3),padding='same',  activation='relu'))\n",
        "# model.add(BatchNormalization())\n",
        "# model.add(Dropout(0.25))\n",
        "# model.add(Flatten())\n",
        "# model.add(Dense(2048,activation='relu'))\n",
        "# model.add(BatchNormalization())\n",
        "# model.add(Dense(2048,activation='relu'))\n",
        "# model.add(BatchNormalization())\n",
        "# model.add(Dense(no_of_classes, activation='softmax'))\n",
        "# model.summary()"
      ],
      "execution_count": 0,
      "outputs": []
    },
    {
      "cell_type": "markdown",
      "metadata": {
        "id": "3RIal45ZAwyG",
        "colab_type": "text"
      },
      "source": [
        "Now that you have written the model, the next step is to `compile` the model. When you print the `summary` of the model, you'll see the total number of parameters you have to train."
      ]
    },
    {
      "cell_type": "code",
      "metadata": {
        "scrolled": true,
        "id": "LxwY4We_AwyG",
        "colab_type": "code",
        "colab": {
          "base_uri": "https://localhost:8080/",
          "height": 102
        },
        "outputId": "fe350c3d-5dc2-41c4-d5bf-90d8edf3ade7"
      },
      "source": [
        "optimiser = optimizers.SGD(lr=1e-3, decay=1e-6, momentum=0.9, nesterov=True) #write your optimizer\n",
        "model.compile(optimizer=optimiser, loss='categorical_crossentropy', metrics=['categorical_accuracy'])\n",
        "#model.summary()"
      ],
      "execution_count": 19,
      "outputs": [
        {
          "output_type": "stream",
          "text": [
            "W0616 07:42:07.050476 140523201341312 deprecation_wrapper.py:119] From /usr/local/lib/python3.6/dist-packages/keras/optimizers.py:790: The name tf.train.Optimizer is deprecated. Please use tf.compat.v1.train.Optimizer instead.\n",
            "\n",
            "W0616 07:42:07.058915 140523201341312 deprecation_wrapper.py:119] From /usr/local/lib/python3.6/dist-packages/keras/backend/tensorflow_backend.py:3295: The name tf.log is deprecated. Please use tf.math.log instead.\n",
            "\n"
          ],
          "name": "stderr"
        }
      ]
    },
    {
      "cell_type": "markdown",
      "metadata": {
        "id": "bsvu-KsxAwyJ",
        "colab_type": "text"
      },
      "source": [
        "Let us create the `train_generator` and the `val_generator` which will be used in `.fit_generator`."
      ]
    },
    {
      "cell_type": "code",
      "metadata": {
        "id": "iLoDMlj1AwyJ",
        "colab_type": "code",
        "colab": {}
      },
      "source": [
        "train_generator = generator(train_path, train_doc, batch_size)\n",
        "val_generator = generator(val_path, val_doc, batch_size)"
      ],
      "execution_count": 0,
      "outputs": []
    },
    {
      "cell_type": "code",
      "metadata": {
        "id": "DFYSsMRUAwyL",
        "colab_type": "code",
        "colab": {}
      },
      "source": [
        "model_name = 'model_init' + '_' + str(curr_dt_time).replace(' ','').replace(':','_') + '/'\n",
        "    \n",
        "if not os.path.exists(model_name):\n",
        "    os.mkdir(model_name)\n",
        "        \n",
        "filepath = model_name + 'model-{epoch:05d}-{loss:.5f}-{categorical_accuracy:.5f}-{val_loss:.5f}-{val_categorical_accuracy:.5f}.h5'\n",
        "\n",
        "#checkpoint = ModelCheckpoint(filepath, monitor='val_loss', verbose=1, save_best_only=False, save_weights_only=False, mode='auto', period=1)\n",
        "my_model_checkpoint = ModelCheckpoint(filepath, monitor='val_loss', verbose=1, save_best_only=True, save_weights_only=True, mode='auto', period=1)\n",
        "csv_logger = CSVLogger('training.cnn3d.txt',separator=',', append=True)\n",
        "early_stopping = EarlyStopping(monitor='val_loss', min_delta=0, patience=20, verbose=1)\n",
        "reduce_LR = ReduceLROnPlateau(monitor='val_loss', factor=0.8, patience=10, min_lr=1e-10,verbose=1) # write the REducelronplateau code here\n",
        "callbacks_list = [reduce_LR,csv_logger,my_model_checkpoint,early_stopping] #checkpoint"
      ],
      "execution_count": 0,
      "outputs": []
    },
    {
      "cell_type": "markdown",
      "metadata": {
        "id": "9knbjCTXAwyN",
        "colab_type": "text"
      },
      "source": [
        "The `steps_per_epoch` and `validation_steps` are used by `fit_generator` to decide the number of next() calls it need to make."
      ]
    },
    {
      "cell_type": "code",
      "metadata": {
        "id": "QhnEtxv_AwyN",
        "colab_type": "code",
        "colab": {}
      },
      "source": [
        "if (num_train_sequences%batch_size) == 0:\n",
        "    steps_per_epoch = int(num_train_sequences/batch_size)\n",
        "else:\n",
        "    steps_per_epoch = (num_train_sequences//batch_size) + 1\n",
        "\n",
        "if (num_val_sequences%batch_size) == 0:\n",
        "    validation_steps = int(num_val_sequences/batch_size)\n",
        "else:\n",
        "    validation_steps = (num_val_sequences//batch_size) + 1"
      ],
      "execution_count": 0,
      "outputs": []
    },
    {
      "cell_type": "markdown",
      "metadata": {
        "id": "nKRfU0oMAwyQ",
        "colab_type": "text"
      },
      "source": [
        "Let us now fit the model. This will start training the model and with the help of the checkpoints, you'll be able to save the model at the end of each epoch."
      ]
    },
    {
      "cell_type": "code",
      "metadata": {
        "id": "ezeOLRZgAwyR",
        "colab_type": "code",
        "outputId": "7faf2da6-1085-4bca-c2c2-19f318a90383",
        "colab": {
          "base_uri": "https://localhost:8080/",
          "height": 1613
        }
      },
      "source": [
        "#model.load_weights('./03-model_init_2019-06-1205_47_36.337812/model-00010-0.84542-0.67270-1.15618-0.59000.h5')\n",
        "model.fit_generator(train_generator, steps_per_epoch=steps_per_epoch, epochs=num_epochs, verbose=1, \n",
        "                    callbacks=callbacks_list, validation_data=val_generator, \n",
        "                    validation_steps=validation_steps, class_weight=None, workers=1, initial_epoch=0)"
      ],
      "execution_count": 23,
      "outputs": [
        {
          "output_type": "stream",
          "text": [
            "W0616 07:42:07.297441 140523201341312 deprecation.py:323] From /usr/local/lib/python3.6/dist-packages/tensorflow/python/ops/math_grad.py:1250: add_dispatch_support.<locals>.wrapper (from tensorflow.python.ops.array_ops) is deprecated and will be removed in a future version.\n",
            "Instructions for updating:\n",
            "Use tf.where in 2.0, which has the same broadcast rule as np.where\n"
          ],
          "name": "stderr"
        },
        {
          "output_type": "stream",
          "text": [
            "Epoch 1/50\n",
            "67/67 [==============================] - 45s 679ms/step - loss: 2.1833 - categorical_accuracy: 0.2299 - val_loss: 2.5781 - val_categorical_accuracy: 0.2100\n",
            "\n",
            "Epoch 00001: val_loss improved from inf to 2.57805, saving model to model_init_2019-06-1607_42_05.732408/model-00001-2.18556-0.23228-2.57805-0.21000.h5\n",
            "Epoch 2/50\n",
            "67/67 [==============================] - 36s 532ms/step - loss: 1.8970 - categorical_accuracy: 0.3344 - val_loss: 2.0362 - val_categorical_accuracy: 0.3300\n",
            "\n",
            "Epoch 00002: val_loss improved from 2.57805 to 2.03622, saving model to model_init_2019-06-1607_42_05.732408/model-00002-1.89085-0.33786-2.03622-0.33000.h5\n",
            "Epoch 3/50\n",
            "67/67 [==============================] - 35s 524ms/step - loss: 1.9394 - categorical_accuracy: 0.3278 - val_loss: 4.0474 - val_categorical_accuracy: 0.3200\n",
            "\n",
            "Epoch 00003: val_loss did not improve from 2.03622\n",
            "Epoch 4/50\n",
            "67/67 [==============================] - 35s 528ms/step - loss: 1.9372 - categorical_accuracy: 0.3344 - val_loss: 5.0541 - val_categorical_accuracy: 0.2100\n",
            "\n",
            "Epoch 00004: val_loss did not improve from 2.03622\n",
            "Epoch 5/50\n",
            "67/67 [==============================] - 35s 526ms/step - loss: 1.8016 - categorical_accuracy: 0.3583 - val_loss: 4.5409 - val_categorical_accuracy: 0.2300\n",
            "\n",
            "Epoch 00005: val_loss did not improve from 2.03622\n",
            "Epoch 6/50\n",
            "67/67 [==============================] - 35s 526ms/step - loss: 1.9415 - categorical_accuracy: 0.3214 - val_loss: 6.7375 - val_categorical_accuracy: 0.2300\n",
            "\n",
            "Epoch 00006: val_loss did not improve from 2.03622\n",
            "Epoch 7/50\n",
            "67/67 [==============================] - 35s 528ms/step - loss: 1.8143 - categorical_accuracy: 0.3598 - val_loss: 6.5920 - val_categorical_accuracy: 0.2000\n",
            "\n",
            "Epoch 00007: val_loss did not improve from 2.03622\n",
            "Epoch 8/50\n",
            "67/67 [==============================] - 35s 526ms/step - loss: 1.8278 - categorical_accuracy: 0.3423 - val_loss: 5.6850 - val_categorical_accuracy: 0.2500\n",
            "\n",
            "Epoch 00008: val_loss did not improve from 2.03622\n",
            "Epoch 9/50\n",
            "67/67 [==============================] - 35s 525ms/step - loss: 1.8124 - categorical_accuracy: 0.3871 - val_loss: 9.7329 - val_categorical_accuracy: 0.2100\n",
            "\n",
            "Epoch 00009: val_loss did not improve from 2.03622\n",
            "Epoch 10/50\n",
            "67/67 [==============================] - 35s 524ms/step - loss: 1.7022 - categorical_accuracy: 0.3811 - val_loss: 9.8551 - val_categorical_accuracy: 0.2100\n",
            "\n",
            "Epoch 00010: val_loss did not improve from 2.03622\n",
            "Epoch 11/50\n",
            "67/67 [==============================] - 35s 526ms/step - loss: 1.7243 - categorical_accuracy: 0.3707 - val_loss: 10.5491 - val_categorical_accuracy: 0.2100\n",
            "\n",
            "Epoch 00011: val_loss did not improve from 2.03622\n",
            "Epoch 12/50\n",
            "67/67 [==============================] - 35s 524ms/step - loss: 1.7512 - categorical_accuracy: 0.3856 - val_loss: 12.4216 - val_categorical_accuracy: 0.2100\n",
            "\n",
            "Epoch 00012: ReduceLROnPlateau reducing learning rate to 0.000800000037997961.\n",
            "\n",
            "Epoch 00012: val_loss did not improve from 2.03622\n",
            "Epoch 13/50\n",
            "67/67 [==============================] - 35s 525ms/step - loss: 1.5994 - categorical_accuracy: 0.3905 - val_loss: 10.0817 - val_categorical_accuracy: 0.2200\n",
            "\n",
            "Epoch 00013: val_loss did not improve from 2.03622\n",
            "Epoch 14/50\n",
            "67/67 [==============================] - 35s 527ms/step - loss: 1.6872 - categorical_accuracy: 0.3851 - val_loss: 10.6257 - val_categorical_accuracy: 0.2400\n",
            "\n",
            "Epoch 00014: val_loss did not improve from 2.03622\n",
            "Epoch 15/50\n",
            "67/67 [==============================] - 35s 527ms/step - loss: 1.6666 - categorical_accuracy: 0.3941 - val_loss: 9.4308 - val_categorical_accuracy: 0.2700\n",
            "\n",
            "Epoch 00015: val_loss did not improve from 2.03622\n",
            "Epoch 16/50\n",
            "67/67 [==============================] - 35s 525ms/step - loss: 1.6172 - categorical_accuracy: 0.4120 - val_loss: 9.5651 - val_categorical_accuracy: 0.2600\n",
            "\n",
            "Epoch 00016: val_loss did not improve from 2.03622\n",
            "Epoch 17/50\n",
            "67/67 [==============================] - 35s 527ms/step - loss: 1.6847 - categorical_accuracy: 0.3995 - val_loss: 10.3728 - val_categorical_accuracy: 0.2100\n",
            "\n",
            "Epoch 00017: val_loss did not improve from 2.03622\n",
            "Epoch 18/50\n",
            "67/67 [==============================] - 35s 527ms/step - loss: 1.5436 - categorical_accuracy: 0.4095 - val_loss: 10.2274 - val_categorical_accuracy: 0.2100\n",
            "\n",
            "Epoch 00018: val_loss did not improve from 2.03622\n",
            "Epoch 19/50\n",
            "67/67 [==============================] - 35s 527ms/step - loss: 1.5895 - categorical_accuracy: 0.4263 - val_loss: 10.0923 - val_categorical_accuracy: 0.2500\n",
            "\n",
            "Epoch 00019: val_loss did not improve from 2.03622\n",
            "Epoch 20/50\n",
            "67/67 [==============================] - 35s 525ms/step - loss: 1.6479 - categorical_accuracy: 0.3890 - val_loss: 8.6013 - val_categorical_accuracy: 0.2200\n",
            "\n",
            "Epoch 00020: val_loss did not improve from 2.03622\n",
            "Epoch 21/50\n",
            "67/67 [==============================] - 35s 523ms/step - loss: 1.5851 - categorical_accuracy: 0.4139 - val_loss: 6.6968 - val_categorical_accuracy: 0.2500\n",
            "\n",
            "Epoch 00021: val_loss did not improve from 2.03622\n",
            "Epoch 22/50\n",
            "67/67 [==============================] - 35s 526ms/step - loss: 1.6422 - categorical_accuracy: 0.4095 - val_loss: 5.9731 - val_categorical_accuracy: 0.2600\n",
            "\n",
            "Epoch 00022: ReduceLROnPlateau reducing learning rate to 0.0006400000303983689.\n",
            "\n",
            "Epoch 00022: val_loss did not improve from 2.03622\n",
            "Epoch 00022: early stopping\n"
          ],
          "name": "stdout"
        },
        {
          "output_type": "execute_result",
          "data": {
            "text/plain": [
              "<keras.callbacks.History at 0x7fcdcc841e48>"
            ]
          },
          "metadata": {
            "tags": []
          },
          "execution_count": 23
        }
      ]
    },
    {
      "cell_type": "code",
      "metadata": {
        "id": "FmI72mGejnKr",
        "colab_type": "code",
        "outputId": "6ccbb8f2-7617-46c0-a0c5-7e2eb388d0f5",
        "colab": {
          "base_uri": "https://localhost:8080/",
          "height": 33
        }
      },
      "source": [
        "# Move the large h5 model files out to Google Drive as github as a restriction of filesize < 100MB.\n",
        "os.makedirs('/content/gdrive',exist_ok=True)\n",
        "from google.colab import drive\n",
        "drive.mount('/content/gdrive',force_remount=True)\n",
        "os.makedirs('../../../content/gdrive/My Drive/gesture_recognition/', exist_ok=True)"
      ],
      "execution_count": 24,
      "outputs": [
        {
          "output_type": "stream",
          "text": [
            "Mounted at /content/gdrive\n"
          ],
          "name": "stdout"
        }
      ]
    },
    {
      "cell_type": "code",
      "metadata": {
        "id": "VxjUOrCljviT",
        "colab_type": "code",
        "outputId": "70e3414f-0d7e-41d5-d297-d8e9eacc396b",
        "colab": {
          "base_uri": "https://localhost:8080/",
          "height": 33
        }
      },
      "source": [
        "import shutil\n",
        "model_file = 'content/cloned-repo/Project_data/model_init_2019-06-1607_42_05.732408/model-00002-1.89085-0.33786-2.03622-0.33000.h5'\n",
        "shutil.copy(f'../../../{model_file}', '../../../content/gdrive/My Drive/gesture_recognition/conv3d-shallow.dropout0.5.model-00002-1.89085-0.33786-2.03622-0.33000.h5')"
      ],
      "execution_count": 26,
      "outputs": [
        {
          "output_type": "execute_result",
          "data": {
            "text/plain": [
              "'../../../content/gdrive/My Drive/gesture_recognition/conv3d-shallow.dropout0.5.model-00002-1.89085-0.33786-2.03622-0.33000.h5'"
            ]
          },
          "metadata": {
            "tags": []
          },
          "execution_count": 26
        }
      ]
    },
    {
      "cell_type": "code",
      "metadata": {
        "id": "BBCapmg62_ya",
        "colab_type": "code",
        "colab": {}
      },
      "source": [
        ""
      ],
      "execution_count": 0,
      "outputs": []
    }
  ]
}