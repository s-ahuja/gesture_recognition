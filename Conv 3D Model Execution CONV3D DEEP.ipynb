{
  "nbformat": 4,
  "nbformat_minor": 0,
  "metadata": {
    "colab": {
      "name": "Conv 3D Model Execution.ipynb",
      "version": "0.3.2",
      "provenance": [],
      "toc_visible": true,
      "include_colab_link": true
    },
    "language_info": {
      "codemirror_mode": {
        "name": "ipython",
        "version": 3
      },
      "file_extension": ".py",
      "mimetype": "text/x-python",
      "name": "python",
      "nbconvert_exporter": "python",
      "pygments_lexer": "ipython3",
      "version": "3.6.8"
    },
    "kernelspec": {
      "name": "python3",
      "display_name": "Python 3"
    },
    "accelerator": "GPU"
  },
  "cells": [
    {
      "cell_type": "markdown",
      "metadata": {
        "id": "view-in-github",
        "colab_type": "text"
      },
      "source": [
        "<a href=\"https://colab.research.google.com/github/s-ahuja/gesture_recognition/blob/master/Conv%203D%20Model%20Execution%20CONV3D%20DEEP.ipynb\" target=\"_parent\"><img src=\"https://colab.research.google.com/assets/colab-badge.svg\" alt=\"Open In Colab\"/></a>"
      ]
    },
    {
      "cell_type": "code",
      "metadata": {
        "id": "nAaDilW3Awxc",
        "colab_type": "code",
        "outputId": "a96f6ee6-e303-443c-a84f-894df896be07",
        "colab": {
          "base_uri": "https://localhost:8080/",
          "height": 293
        }
      },
      "source": [
        "# Checking whether we are in GPU mode\n",
        "!nvidia-smi"
      ],
      "execution_count": 1,
      "outputs": [
        {
          "output_type": "stream",
          "text": [
            "Sun Jun 16 05:30:22 2019       \n",
            "+-----------------------------------------------------------------------------+\n",
            "| NVIDIA-SMI 418.67       Driver Version: 410.79       CUDA Version: 10.0     |\n",
            "|-------------------------------+----------------------+----------------------+\n",
            "| GPU  Name        Persistence-M| Bus-Id        Disp.A | Volatile Uncorr. ECC |\n",
            "| Fan  Temp  Perf  Pwr:Usage/Cap|         Memory-Usage | GPU-Util  Compute M. |\n",
            "|===============================+======================+======================|\n",
            "|   0  Tesla T4            Off  | 00000000:00:04.0 Off |                    0 |\n",
            "| N/A   51C    P8    16W /  70W |      0MiB / 15079MiB |      0%      Default |\n",
            "+-------------------------------+----------------------+----------------------+\n",
            "                                                                               \n",
            "+-----------------------------------------------------------------------------+\n",
            "| Processes:                                                       GPU Memory |\n",
            "|  GPU       PID   Type   Process name                             Usage      |\n",
            "|=============================================================================|\n",
            "|  No running processes found                                                 |\n",
            "+-----------------------------------------------------------------------------+\n"
          ],
          "name": "stdout"
        }
      ]
    },
    {
      "cell_type": "code",
      "metadata": {
        "id": "1sEb4VPfDZ9H",
        "colab_type": "code",
        "colab": {}
      },
      "source": [
        "# Clone the entire repo.\n",
        "data_folder = '/content/cloned-repo'\n",
        "root_dir = f'{data_folder}/Project_data'"
      ],
      "execution_count": 0,
      "outputs": []
    },
    {
      "cell_type": "code",
      "metadata": {
        "id": "XdUHgmyzLXUV",
        "colab_type": "code",
        "outputId": "7127dee5-779f-4980-d1da-15195c65ab83",
        "colab": {
          "base_uri": "https://localhost:8080/",
          "height": 196
        }
      },
      "source": [
        "# full_restart = True..will gitclone on numpy arrays of images to google colab repo for access. required once per session.\n",
        "full_restart = True\n",
        "if (full_restart):\n",
        "  import shutil\n",
        "  shutil.rmtree(data_folder,ignore_errors=True)\n",
        "  import os\n",
        "  os.makedirs(data_folder,exist_ok=True)\n",
        "  os.chdir(data_folder)\n",
        "  !git clone -l -s \"https://github.com/s-ahuja/gesture_recognition.git\" {data_folder}\n",
        "%cd {data_folder}/Project_data\n",
        "!ls"
      ],
      "execution_count": 3,
      "outputs": [
        {
          "output_type": "stream",
          "text": [
            "Cloning into '/content/cloned-repo'...\n",
            "warning: --local is ignored\n",
            "remote: Enumerating objects: 23557, done.\u001b[K\n",
            "remote: Counting objects: 100% (23557/23557), done.\u001b[K\n",
            "remote: Compressing objects: 100% (23552/23552), done.\u001b[K\n",
            "remote: Total 23557 (delta 16), reused 23532 (delta 4), pack-reused 0\u001b[K\n",
            "Receiving objects: 100% (23557/23557), 565.87 MiB | 35.77 MiB/s, done.\n",
            "Resolving deltas: 100% (16/16), done.\n",
            "Checking out files: 100% (22901/22901), done.\n",
            "/content/cloned-repo/Project_data\n",
            "numpy  train.csv  train_images.pkl  val.csv  val_images.pkl\n"
          ],
          "name": "stdout"
        }
      ]
    },
    {
      "cell_type": "code",
      "metadata": {
        "id": "kxrqu5GxAwxh",
        "colab_type": "code",
        "colab": {}
      },
      "source": [
        "# The First Notebook - Data Pre-Processing converted raw images to numpy arrays of standard format 100x100x3 \n",
        "# and created 2 pkl files(train_images,val_images) for a list of files with paths of npy arrays.\n",
        "\n",
        "import pickle\n",
        "filehandler = open('train_images.pkl',\"rb\")\n",
        "train_images = pickle.load(filehandler)\n",
        "filehandler.close()\n",
        "filehandler = open('val_images.pkl',\"rb\")\n",
        "val_images = pickle.load(filehandler)\n",
        "filehandler.close()"
      ],
      "execution_count": 0,
      "outputs": []
    },
    {
      "cell_type": "code",
      "metadata": {
        "id": "araQpugMAwxj",
        "colab_type": "code",
        "outputId": "1dcff72e-ad27-422c-dc62-a5ae93864720",
        "colab": {
          "base_uri": "https://localhost:8080/",
          "height": 33
        }
      },
      "source": [
        "len(train_images[0]),len(val_images[0])"
      ],
      "execution_count": 5,
      "outputs": [
        {
          "output_type": "execute_result",
          "data": {
            "text/plain": [
              "(19890, 3000)"
            ]
          },
          "metadata": {
            "tags": []
          },
          "execution_count": 5
        }
      ]
    },
    {
      "cell_type": "code",
      "metadata": {
        "id": "WsxvoUb8Awxm",
        "colab_type": "code",
        "colab": {}
      },
      "source": [
        "# with limited disk space we need to delete model directories which didnt get any better experiment result\n",
        "import glob, shutil\n",
        "model_directories = glob.glob(f'{root_dir}/model*')\n",
        "for directory in model_directories:\n",
        "    shutil.rmtree(directory)"
      ],
      "execution_count": 0,
      "outputs": []
    },
    {
      "cell_type": "markdown",
      "metadata": {
        "id": "FnHobvnOAwxo",
        "colab_type": "text"
      },
      "source": [
        "# Gesture Recognition\n",
        "In this group project, you are going to build a 3D Conv model that will be able to predict the 5 gestures correctly. Please import the following libraries to get started."
      ]
    },
    {
      "cell_type": "code",
      "metadata": {
        "id": "1a89fRYJAwxo",
        "colab_type": "code",
        "colab": {}
      },
      "source": [
        "%load_ext autoreload\n",
        "%autoreload 2\n",
        "import numpy as np\n",
        "import os\n",
        "import glob\n",
        "from cv2 import imread,resize,cvtColor,COLOR_BGR2RGB,INTER_AREA\n",
        "import datetime\n",
        "import matplotlib.pyplot as plt\n",
        "import warnings\n",
        "warnings.simplefilter('ignore')"
      ],
      "execution_count": 0,
      "outputs": []
    },
    {
      "cell_type": "markdown",
      "metadata": {
        "id": "7-eKyjqXAwxq",
        "colab_type": "text"
      },
      "source": [
        "We set the random seed so that the results don't vary drastically."
      ]
    },
    {
      "cell_type": "code",
      "metadata": {
        "id": "Kxq4kVj5Awxr",
        "colab_type": "code",
        "outputId": "7c697f7b-112d-4730-e750-43193b6aaaff",
        "colab": {
          "base_uri": "https://localhost:8080/",
          "height": 33
        }
      },
      "source": [
        "np.random.seed(30)\n",
        "import random as rn\n",
        "rn.seed(30)\n",
        "from keras import backend as K\n",
        "import tensorflow as tf\n",
        "tf.set_random_seed(30)"
      ],
      "execution_count": 8,
      "outputs": [
        {
          "output_type": "stream",
          "text": [
            "Using TensorFlow backend.\n"
          ],
          "name": "stderr"
        }
      ]
    },
    {
      "cell_type": "code",
      "metadata": {
        "id": "7PG8NCeBAwxu",
        "colab_type": "code",
        "outputId": "60be11aa-3156-4da4-96da-7a4c898d34c1",
        "colab": {
          "base_uri": "https://localhost:8080/",
          "height": 50
        }
      },
      "source": [
        "# setting up basic parameters for the model\n",
        "img_indices = list(range(1,30,2))\n",
        "print(img_indices)\n",
        "input_shape=(len(img_indices),100,100,3) #15 images per video, each image is of 100x100x3\n",
        "print(input_shape)\n",
        "batch_size = 10\n",
        "no_of_classes = 5\n",
        "num_epochs = 50 # choose the number of epochs"
      ],
      "execution_count": 9,
      "outputs": [
        {
          "output_type": "stream",
          "text": [
            "[1, 3, 5, 7, 9, 11, 13, 15, 17, 19, 21, 23, 25, 27, 29]\n",
            "(15, 100, 100, 3)\n"
          ],
          "name": "stdout"
        }
      ]
    },
    {
      "cell_type": "code",
      "metadata": {
        "id": "N6ZLOH3uAwxw",
        "colab_type": "code",
        "outputId": "b87decb7-10cd-4bba-c71d-c77c3893436f",
        "colab": {
          "base_uri": "https://localhost:8080/",
          "height": 33
        }
      },
      "source": [
        "train_doc = np.random.permutation(open(f'{root_dir}/train.csv').readlines())\n",
        "val_doc = np.random.permutation(open(f'{root_dir}/val.csv').readlines())\n",
        "\n",
        "# since train.csv and val.csv contains all traning/validation data\n",
        "# these statements filter out if we want to first train/val on a limited set only\n",
        "# filter out records which are not considered during experiments\n",
        "train_doc = [x for x in train_doc if x.split(';')[0] in [paths.split('/')[-2] for paths in train_images[0]]] \n",
        "val_doc = [x for x in val_doc if x.split(';')[0] in [paths.split('/')[-2] for paths in val_images[0]]]\n",
        "\n",
        "print('no. of training video seq=',len(train_doc),'no. of validation video seq=',len(val_doc))"
      ],
      "execution_count": 10,
      "outputs": [
        {
          "output_type": "stream",
          "text": [
            "no. of training video seq= 663 no. of validation video seq= 100\n"
          ],
          "name": "stdout"
        }
      ]
    },
    {
      "cell_type": "markdown",
      "metadata": {
        "id": "GdeE78IVAwxz",
        "colab_type": "text"
      },
      "source": [
        "## Generator\n",
        "This is one of the most important part of the code. The overall structure of the generator has been given. In the generator, you are going to preprocess the images as you have images of 2 different dimensions as well as create a batch of video frames. You have to experiment with `img_idx`, `y`,`z` and normalization such that you get high accuracy."
      ]
    },
    {
      "cell_type": "code",
      "metadata": {
        "id": "muVr5tsqAwx0",
        "colab_type": "code",
        "colab": {}
      },
      "source": [
        "def generator(source_path, folder_list, batch_size, ablation=False):\n",
        "    #print('Source path = ', source_path, '; batch size =', batch_size)\n",
        "    # if ablation is true then only take only 2 images else take much more.\n",
        "    img_idx = img_indices #create a list of image numbers you want to use for a particular video. \n",
        "    x = len(img_idx)    \n",
        "    y,z = input_shape[1],input_shape[2] # image_standard_size\n",
        "    Model_Execution = True # this parameter was used to test the generator function. Model_Execution = FALSE, iterates 1 EPOCH and exits after 1 full EPOCH is complete\n",
        "    while Model_Execution:\n",
        "        t = np.random.permutation(folder_list)\n",
        "        num_batches = int(len(folder_list)/batch_size) # calculate the number of batches\n",
        "        for batch in range(num_batches): # we iterate over the number of batches\n",
        "            batch_data = np.zeros((batch_size,x,y,z,input_shape[3])) # x is the number of images you use for each video, (y,z) is the final size of the input images and 3 is the number of channels RGB\n",
        "            batch_labels = np.zeros((batch_size,no_of_classes)) # batch_labels is the one hot representation of the output\n",
        "            for folder in range(batch_size): # iterate over the batch_size\n",
        "                imgs = os.listdir(source_path+'/'+ t[folder + (batch*batch_size)].split(';')[0]) # read all the images in the folder\n",
        "                for idx,item in enumerate(img_idx): #  Iterate iver the frames/images of a folder to read them in\n",
        "                    img_file_path = source_path+'/'+ t[folder + (batch*batch_size)].strip().split(';')[0]+'/'+imgs[item]\n",
        "                    image = np.load(img_file_path)#.astype(np.float32)\n",
        "                    #crop the images and resize them. Note that the images are of 2 different shape\n",
        "                    #and the conv3D will throw error if the inputs in a batch have different shapes\n",
        "                    # IMPORTANT NOTE:  the CROPPING/RESIZING OF IMAGES IS DONE IN THE PRE-PROCESSING STEP ITSELF\n",
        "                    # TO SAVE GENERATOR TIME AND TO RE-DO EACH MODEL EXECUTION RUN\n",
        "                    batch_data[folder,idx,:,:,0] = (image[:,:,0] - image[:,:,0].min())/(image[:,:,0].max() - image[:,:,0].min()) #normalise and feed in the image\n",
        "                    batch_data[folder,idx,:,:,1] = (image[:,:,1] - image[:,:,1].min())/(image[:,:,1].max() - image[:,:,1].min()) #normalise and feed in the image\n",
        "                    batch_data[folder,idx,:,:,2] = (image[:,:,2] - image[:,:,2].min())/(image[:,:,2].max() - image[:,:,2].min()) #normalise and feed in the image\n",
        "\n",
        "                batch_labels[folder, int(t[folder + (batch*batch_size)].strip().split(';')[2])] = 1\n",
        "            yield batch_data, batch_labels #you yield the batch_data and the batch_labels, remember what does yield do\n",
        "        # write the code for the remaining data points which are left after full batches\n",
        "        remaining_size = len(folder_list) - (batch_size*num_batches)\n",
        "        if (remaining_size > 0):\n",
        "            #print('remaining_size=',remaining_size)\n",
        "            batch_data = np.zeros((remaining_size,x,y,z,input_shape[3])) # x is the number of images you use for each video, (y,z) is the final size of the input images and 3 is the number of channels RGB\n",
        "            batch_labels = np.zeros((remaining_size,no_of_classes)) # batch_labels is the one hot representation of the output\n",
        "            for folder in range(remaining_size):\n",
        "                imgs = os.listdir(source_path+'/'+ t[folder].split(';')[0]) # read all the images in the folder\n",
        "                for idx,item in enumerate(img_idx): #  Iterate iver the frames/images of a folder to read them in\n",
        "                    img_file_path = source_path+'/'+ t[folder].strip().split(';')[0]+'/'+imgs[item]\n",
        "                    # print('img_file_path=' + img_file_path)\n",
        "                    image = np.load(img_file_path)#.astype(np.float32)                                        \n",
        "                    #print(image.shape)\n",
        "                    #crop the images and resize them. Note that the images are of 2 different shape\n",
        "                    #and the conv3D will throw error if the inputs in a batch have different shapes\n",
        "                    # IMPORTANT NOTE:  the CROPPING/RESIZING OF IMAGES IS DONE IN THE PRE-PROCESSING STEP ITSELF\n",
        "                    # TO SAVE GENERATOR TIME AND TO RE-DO EACH MODEL EXECUTION RUN\n",
        "                    batch_data[folder,idx,:,:,0] = (image[:,:,0] - image[:,:,0].min())/(image[:,:,0].max() - image[:,:,0].min()) #normalise and feed in the image\n",
        "                    batch_data[folder,idx,:,:,1] = (image[:,:,1] - image[:,:,1].min())/(image[:,:,1].max() - image[:,:,1].min()) #normalise and feed in the image\n",
        "                    batch_data[folder,idx,:,:,2] = (image[:,:,2] - image[:,:,2].min())/(image[:,:,2].max() - image[:,:,2].min()) #normalise and feed in the image\n",
        "                batch_labels[folder, int(t[folder].strip().split(';')[2])] = 1\n",
        "            yield batch_data, batch_labels\n",
        "            Model_Execution = True \n",
        "\n",
        "# ## test code to test generator function\n",
        "# train_path = f'{root_dir}/numpy/train'\n",
        "# num_train_sequences = len(train_doc)\n",
        "# train_generator = generator(source_path=train_path, folder_list=train_doc, batch_size=batch_size, ablation=False)\n",
        "# index = 0\n",
        "# for batch_data, batch_labels in train_generator: \n",
        "#     index += len(batch_data)    \n",
        "#     print(batch_data.shape,batch_labels.shape) "
      ],
      "execution_count": 0,
      "outputs": []
    },
    {
      "cell_type": "markdown",
      "metadata": {
        "id": "sD1BePtMAwx4",
        "colab_type": "text"
      },
      "source": [
        "Note here that a video is represented above in the generator as (number of images, height, width, number of channels). Take this into consideration while creating the model architecture."
      ]
    },
    {
      "cell_type": "code",
      "metadata": {
        "id": "hqXYWGRqAwx4",
        "colab_type": "code",
        "outputId": "cf0c85f9-eff2-4d1a-8fe2-b23201c55932",
        "colab": {
          "base_uri": "https://localhost:8080/",
          "height": 66
        }
      },
      "source": [
        "curr_dt_time = datetime.datetime.now()\n",
        "train_path = f'{root_dir}/numpy/train'\n",
        "val_path = f'{root_dir}/numpy/val'\n",
        "num_train_sequences = len(train_doc)\n",
        "print('# training sequences =', num_train_sequences)\n",
        "num_val_sequences = len(val_doc)\n",
        "print('# validation sequences =', num_val_sequences)\n",
        "print ('# epochs =', num_epochs)"
      ],
      "execution_count": 12,
      "outputs": [
        {
          "output_type": "stream",
          "text": [
            "# training sequences = 663\n",
            "# validation sequences = 100\n",
            "# epochs = 50\n"
          ],
          "name": "stdout"
        }
      ]
    },
    {
      "cell_type": "markdown",
      "metadata": {
        "id": "zlcwLEPZAwx7",
        "colab_type": "text"
      },
      "source": [
        "## Model\n",
        "Here you make the model using different functionalities that Keras provides. Remember to use `Conv3D` and `MaxPooling3D` and not `Conv2D` and `Maxpooling2D` for a 3D convolution model. You would want to use `TimeDistributed` while building a Conv2D + RNN model. Also remember that the last layer is the softmax. Design the network in such a way that the model is able to give good accuracy on the least number of parameters so that it can fit in the memory of the webcam."
      ]
    },
    {
      "cell_type": "code",
      "metadata": {
        "id": "7MekrkF6Awx7",
        "colab_type": "code",
        "colab": {}
      },
      "source": [
        "from keras.models import Sequential, Model\n",
        "from keras.layers import Dense, GRU, Flatten, TimeDistributed, Flatten, BatchNormalization, Activation, Dropout\n",
        "from keras.layers.convolutional import Conv3D, MaxPooling3D\n",
        "from keras.callbacks import ModelCheckpoint, ReduceLROnPlateau, CSVLogger,EarlyStopping\n",
        "from keras import optimizers\n",
        "\n",
        "import matplotlib.pyplot as plt\n",
        "import keras.backend as K\n",
        "from keras.callbacks import Callback"
      ],
      "execution_count": 0,
      "outputs": []
    },
    {
      "cell_type": "markdown",
      "metadata": {
        "id": "-vh9VsqZrDFl",
        "colab_type": "text"
      },
      "source": [
        ""
      ]
    },
    {
      "cell_type": "code",
      "metadata": {
        "id": "PNa_jpvmAwx9",
        "colab_type": "code",
        "colab": {}
      },
      "source": [
        "#model.add(Conv3D(filters=32, kernel_size=(3,3,3), strides=(1, 1, 1), padding='same', activation='relu',data_format='channels_last'))\n",
        "#model.add(MaxPooling3D(pool_size=(2, 2, 1)))\n",
        "#model.add(Dense(1024))\n",
        "\n",
        "\n",
        "#write your model here\n",
        "\n",
        "##################### model 1 ################\n",
        "# model = Sequential()\n",
        "# model.add(Conv3D(filters=32, kernel_size=(3,3,3), strides=(1, 1, 1), activation=None, input_shape=(len(list(range(0,30,1))),120,160,3),data_format='channels_last'))\n",
        "# model.add(LeakyReLU(alpha=0.1))\n",
        "# model.add(MaxPooling3D(pool_size=(1, 1, 1)))\n",
        "# model.add(Conv3D(filters=64, kernel_size=(3,3,3), strides=(1, 1, 1), activation=None))\n",
        "# model.add(LeakyReLU(alpha=0.1))\n",
        "# model.add(Flatten())\n",
        "# model.add(Dense(5, activation='softmax')) # 5 are number of classes"
      ],
      "execution_count": 0,
      "outputs": []
    },
    {
      "cell_type": "code",
      "metadata": {
        "id": "AOEXS78CAwx_",
        "colab_type": "code",
        "colab": {}
      },
      "source": [
        "# ###################### model 2 ################\n",
        "# model = Sequential()\n",
        "# model.add(Conv3D(64, kernel_size=(3,3,3), activation='relu', input_shape=input_shape,data_format='channels_last'))\n",
        "# model.add(MaxPooling3D(pool_size=(1, 2, 2), strides=(1, 2, 2)))\n",
        "# model.add(Conv3D(128, (3,3,3), activation='relu'))\n",
        "# model.add(MaxPooling3D(pool_size=(1, 2, 2), strides=(1, 2, 2)))\n",
        "# model.add(Conv3D(256, (3,3,3), activation='relu'))\n",
        "# model.add(Conv3D(256, (3,3,3), activation='relu'))\n",
        "# model.add(MaxPooling3D(pool_size=(1, 2, 2), strides=(1, 2, 2)))\n",
        "# model.add(Conv3D(512, (3,3,3), activation='relu'))\n",
        "# model.add(Conv3D(512, (3,3,3), activation='relu'))\n",
        "# model.add(MaxPooling3D(pool_size=(1, 2, 2), strides=(1, 2, 2)))\n",
        "# # model.add(Conv3D(512, (3,3,3), activation='relu'))\n",
        "# # model.add(Conv3D(512, (3,3,3), activation='relu'))\n",
        "# # model.add(MaxPooling3D(pool_size=(1, 2, 2), strides=(1, 2, 2)))\n",
        "# model.add(Flatten())\n",
        "# model.add(Dense(2048,activation='relu'))\n",
        "# model.add(Dense(2048,activation='relu'))\n",
        "# model.add(Dense(no_of_classes, activation='softmax'))"
      ],
      "execution_count": 0,
      "outputs": []
    },
    {
      "cell_type": "code",
      "metadata": {
        "id": "9DrW0AN6AwyB",
        "colab_type": "code",
        "colab": {}
      },
      "source": [
        "# ###################### model 2 ################\n",
        "# model = Sequential()\n",
        "# model.add(Conv3D(64, kernel_size=(3,3,3), activation='relu', input_shape=input_shape,data_format='channels_last'))\n",
        "# model.add(MaxPooling3D(pool_size=(1, 2, 2), strides=(1, 2, 2)))\n",
        "# model.add(Conv3D(128, (3,3,3), activation='relu'))\n",
        "# model.add(MaxPooling3D(pool_size=(1, 2, 2), strides=(1, 2, 2)))\n",
        "# model.add(Conv3D(256, (3,3,3), activation='relu'))\n",
        "# model.add(Conv3D(256, (3,3,3), activation='relu'))\n",
        "# model.add(MaxPooling3D(pool_size=(1, 2, 2), strides=(1, 2, 2)))\n",
        "# model.add(Conv3D(512, (3,3,3), activation='relu'))\n",
        "# model.add(Conv3D(512, (3,3,3), activation='relu'))\n",
        "# model.add(MaxPooling3D(pool_size=(1, 2, 2), strides=(1, 2, 2)))\n",
        "# # model.add(Conv3D(512, (3,3,3), activation='relu'))\n",
        "# # model.add(Conv3D(512, (3,3,3), activation='relu'))\n",
        "# # model.add(MaxPooling3D(pool_size=(1, 2, 2), strides=(1, 2, 2)))\n",
        "# model.add(Flatten())\n",
        "# model.add(Dense(2048,activation='relu'))\n",
        "# model.add(Dense(2048,activation='relu'))\n",
        "# model.add(Dense(no_of_classes, activation='softmax'))"
      ],
      "execution_count": 0,
      "outputs": []
    },
    {
      "cell_type": "code",
      "metadata": {
        "id": "VqiFAjetAwyC",
        "colab_type": "code",
        "colab": {}
      },
      "source": [
        "# ###################### model 3 - deep model ################\n",
        "# model = Sequential()\n",
        "# model.add(Conv3D(64, kernel_size=(3,3,3), activation='relu', input_shape=input_shape,data_format='channels_last'))\n",
        "# model.add(Conv3D(64, (3,3,3), padding='same',activation='relu'))\n",
        "# model.add(MaxPooling3D(pool_size=(1,2,2), strides=(1,2,2)))\n",
        "# model.add(Conv3D(128, (3,3,3), padding='same',activation='relu'))\n",
        "# model.add(Conv3D(128, (3,3,3),  activation='relu'))\n",
        "# model.add(MaxPooling3D(pool_size=(1,2,2), strides=(1,2,2)))\n",
        "# model.add(Conv3D(256, (3,3,3), activation='relu'))\n",
        "# model.add(Conv3D(256, (3,3,3), activation='relu'))\n",
        "# model.add(Conv3D(256, (3,3,3),  activation='relu'))\n",
        "# model.add(Conv3D(256, (3,3,3),  activation='relu'))\n",
        "# model.add(MaxPooling3D(pool_size=(1, 2, 2), strides=(1, 2, 2)))\n",
        "# model.add(Flatten())\n",
        "# model.add(Dense(2048,activation='relu'))\n",
        "# model.add(Dense(2048,activation='relu'))\n",
        "# model.add(Dense(no_of_classes, activation='softmax'))\n",
        "# model.summary()"
      ],
      "execution_count": 0,
      "outputs": []
    },
    {
      "cell_type": "code",
      "metadata": {
        "id": "W0rMcM-l0kX1",
        "colab_type": "code",
        "colab": {
          "base_uri": "https://localhost:8080/",
          "height": 1548
        },
        "outputId": "d345e8b2-79d6-4c75-8650-257606c47c6e"
      },
      "source": [
        "##################### model 3 - deep model ################\n",
        "model = Sequential()\n",
        "model.add(Conv3D(16, kernel_size=(3,3,3), activation='relu', input_shape=input_shape,data_format='channels_last'))\n",
        "model.add(BatchNormalization())\n",
        "model.add(Conv3D(16, (3,3,3), padding='same',activation='relu'))\n",
        "model.add(BatchNormalization())\n",
        "model.add(Dropout(0.25))\n",
        "model.add(MaxPooling3D(pool_size=(1,2,2), strides=(1,2,2)))\n",
        "model.add(Conv3D(32, (3,3,3), padding='same',activation='relu'))\n",
        "model.add(BatchNormalization())\n",
        "model.add(Conv3D(32, (3,3,3), padding='same', activation='relu'))\n",
        "model.add(BatchNormalization())\n",
        "model.add(Dropout(0.25))\n",
        "model.add(MaxPooling3D(pool_size=(1,2,2), strides=(1,2,2)))\n",
        "model.add(Conv3D(64, (3,3,3),padding='same', activation='relu'))\n",
        "model.add(BatchNormalization())\n",
        "model.add(Conv3D(64, (3,3,3),padding='same', activation='relu'))\n",
        "model.add(BatchNormalization())\n",
        "model.add(Conv3D(64, (3,3,3),padding='same',  activation='relu'))\n",
        "model.add(BatchNormalization())\n",
        "model.add(Conv3D(64, (3,3,3),padding='same',  activation='relu'))\n",
        "model.add(BatchNormalization())\n",
        "model.add(Dropout(0.25))\n",
        "model.add(MaxPooling3D(pool_size=(1, 2, 2), strides=(1, 2, 2)))\n",
        "model.add(Conv3D(128, (3,3,3),padding='same', activation='relu'))\n",
        "model.add(BatchNormalization())\n",
        "model.add(Conv3D(128, (3,3,3),padding='same', activation='relu'))\n",
        "model.add(BatchNormalization())\n",
        "model.add(Conv3D(128, (3,3,3),padding='same',  activation='relu'))\n",
        "model.add(BatchNormalization())\n",
        "model.add(Conv3D(128, (3,3,3),padding='same',  activation='relu'))\n",
        "model.add(BatchNormalization())\n",
        "model.add(Dropout(0.25))\n",
        "model.add(Flatten())\n",
        "model.add(Dense(2048,activation='relu'))\n",
        "model.add(BatchNormalization())\n",
        "model.add(Dense(2048,activation='relu'))\n",
        "model.add(BatchNormalization())\n",
        "model.add(Dense(no_of_classes, activation='softmax'))\n",
        "model.summary()"
      ],
      "execution_count": 18,
      "outputs": [
        {
          "output_type": "stream",
          "text": [
            "WARNING: Logging before flag parsing goes to stderr.\n",
            "W0616 05:31:04.433943 140221076649856 deprecation_wrapper.py:119] From /usr/local/lib/python3.6/dist-packages/keras/backend/tensorflow_backend.py:74: The name tf.get_default_graph is deprecated. Please use tf.compat.v1.get_default_graph instead.\n",
            "\n",
            "W0616 05:31:04.437934 140221076649856 deprecation_wrapper.py:119] From /usr/local/lib/python3.6/dist-packages/keras/backend/tensorflow_backend.py:517: The name tf.placeholder is deprecated. Please use tf.compat.v1.placeholder instead.\n",
            "\n",
            "W0616 05:31:04.446382 140221076649856 deprecation_wrapper.py:119] From /usr/local/lib/python3.6/dist-packages/keras/backend/tensorflow_backend.py:4138: The name tf.random_uniform is deprecated. Please use tf.random.uniform instead.\n",
            "\n",
            "W0616 05:31:04.547175 140221076649856 deprecation_wrapper.py:119] From /usr/local/lib/python3.6/dist-packages/keras/backend/tensorflow_backend.py:133: The name tf.placeholder_with_default is deprecated. Please use tf.compat.v1.placeholder_with_default instead.\n",
            "\n",
            "W0616 05:31:04.664861 140221076649856 deprecation.py:506] From /usr/local/lib/python3.6/dist-packages/keras/backend/tensorflow_backend.py:3445: calling dropout (from tensorflow.python.ops.nn_ops) with keep_prob is deprecated and will be removed in a future version.\n",
            "Instructions for updating:\n",
            "Please use `rate` instead of `keep_prob`. Rate should be set to `rate = 1 - keep_prob`.\n"
          ],
          "name": "stderr"
        },
        {
          "output_type": "stream",
          "text": [
            "_________________________________________________________________\n",
            "Layer (type)                 Output Shape              Param #   \n",
            "=================================================================\n",
            "conv3d_1 (Conv3D)            (None, 13, 98, 98, 16)    1312      \n",
            "_________________________________________________________________\n",
            "batch_normalization_1 (Batch (None, 13, 98, 98, 16)    64        \n",
            "_________________________________________________________________\n",
            "conv3d_2 (Conv3D)            (None, 13, 98, 98, 16)    6928      \n",
            "_________________________________________________________________\n",
            "batch_normalization_2 (Batch (None, 13, 98, 98, 16)    64        \n",
            "_________________________________________________________________\n",
            "dropout_1 (Dropout)          (None, 13, 98, 98, 16)    0         \n",
            "_________________________________________________________________\n",
            "max_pooling3d_1 (MaxPooling3 (None, 13, 49, 49, 16)    0         \n",
            "_________________________________________________________________\n",
            "conv3d_3 (Conv3D)            (None, 13, 49, 49, 32)    13856     \n",
            "_________________________________________________________________\n",
            "batch_normalization_3 (Batch (None, 13, 49, 49, 32)    128       \n",
            "_________________________________________________________________\n",
            "conv3d_4 (Conv3D)            (None, 13, 49, 49, 32)    27680     \n",
            "_________________________________________________________________\n",
            "batch_normalization_4 (Batch (None, 13, 49, 49, 32)    128       \n",
            "_________________________________________________________________\n",
            "dropout_2 (Dropout)          (None, 13, 49, 49, 32)    0         \n",
            "_________________________________________________________________\n",
            "max_pooling3d_2 (MaxPooling3 (None, 13, 24, 24, 32)    0         \n",
            "_________________________________________________________________\n",
            "conv3d_5 (Conv3D)            (None, 13, 24, 24, 64)    55360     \n",
            "_________________________________________________________________\n",
            "batch_normalization_5 (Batch (None, 13, 24, 24, 64)    256       \n",
            "_________________________________________________________________\n",
            "conv3d_6 (Conv3D)            (None, 13, 24, 24, 64)    110656    \n",
            "_________________________________________________________________\n",
            "batch_normalization_6 (Batch (None, 13, 24, 24, 64)    256       \n",
            "_________________________________________________________________\n",
            "conv3d_7 (Conv3D)            (None, 13, 24, 24, 64)    110656    \n",
            "_________________________________________________________________\n",
            "batch_normalization_7 (Batch (None, 13, 24, 24, 64)    256       \n",
            "_________________________________________________________________\n",
            "conv3d_8 (Conv3D)            (None, 13, 24, 24, 64)    110656    \n",
            "_________________________________________________________________\n",
            "batch_normalization_8 (Batch (None, 13, 24, 24, 64)    256       \n",
            "_________________________________________________________________\n",
            "dropout_3 (Dropout)          (None, 13, 24, 24, 64)    0         \n",
            "_________________________________________________________________\n",
            "max_pooling3d_3 (MaxPooling3 (None, 13, 12, 12, 64)    0         \n",
            "_________________________________________________________________\n",
            "conv3d_9 (Conv3D)            (None, 13, 12, 12, 128)   221312    \n",
            "_________________________________________________________________\n",
            "batch_normalization_9 (Batch (None, 13, 12, 12, 128)   512       \n",
            "_________________________________________________________________\n",
            "conv3d_10 (Conv3D)           (None, 13, 12, 12, 128)   442496    \n",
            "_________________________________________________________________\n",
            "batch_normalization_10 (Batc (None, 13, 12, 12, 128)   512       \n",
            "_________________________________________________________________\n",
            "conv3d_11 (Conv3D)           (None, 13, 12, 12, 128)   442496    \n",
            "_________________________________________________________________\n",
            "batch_normalization_11 (Batc (None, 13, 12, 12, 128)   512       \n",
            "_________________________________________________________________\n",
            "conv3d_12 (Conv3D)           (None, 13, 12, 12, 128)   442496    \n",
            "_________________________________________________________________\n",
            "batch_normalization_12 (Batc (None, 13, 12, 12, 128)   512       \n",
            "_________________________________________________________________\n",
            "dropout_4 (Dropout)          (None, 13, 12, 12, 128)   0         \n",
            "_________________________________________________________________\n",
            "flatten_1 (Flatten)          (None, 239616)            0         \n",
            "_________________________________________________________________\n",
            "dense_1 (Dense)              (None, 2048)              490735616 \n",
            "_________________________________________________________________\n",
            "batch_normalization_13 (Batc (None, 2048)              8192      \n",
            "_________________________________________________________________\n",
            "dense_2 (Dense)              (None, 2048)              4196352   \n",
            "_________________________________________________________________\n",
            "batch_normalization_14 (Batc (None, 2048)              8192      \n",
            "_________________________________________________________________\n",
            "dense_3 (Dense)              (None, 5)                 10245     \n",
            "=================================================================\n",
            "Total params: 496,947,957\n",
            "Trainable params: 496,938,037\n",
            "Non-trainable params: 9,920\n",
            "_________________________________________________________________\n"
          ],
          "name": "stdout"
        }
      ]
    },
    {
      "cell_type": "markdown",
      "metadata": {
        "id": "3RIal45ZAwyG",
        "colab_type": "text"
      },
      "source": [
        "Now that you have written the model, the next step is to `compile` the model. When you print the `summary` of the model, you'll see the total number of parameters you have to train."
      ]
    },
    {
      "cell_type": "code",
      "metadata": {
        "scrolled": true,
        "id": "LxwY4We_AwyG",
        "colab_type": "code",
        "colab": {
          "base_uri": "https://localhost:8080/",
          "height": 1418
        },
        "outputId": "5c620d01-0556-4f48-da55-507b470dab5d"
      },
      "source": [
        "optimiser = optimizers.SGD(lr=1e-3, decay=1e-6, momentum=0.9, nesterov=True) #write your optimizer\n",
        "model.compile(optimizer=optimiser, loss='categorical_crossentropy', metrics=['categorical_accuracy'])\n",
        "model.summary()"
      ],
      "execution_count": 19,
      "outputs": [
        {
          "output_type": "stream",
          "text": [
            "W0616 05:31:06.203430 140221076649856 deprecation_wrapper.py:119] From /usr/local/lib/python3.6/dist-packages/keras/optimizers.py:790: The name tf.train.Optimizer is deprecated. Please use tf.compat.v1.train.Optimizer instead.\n",
            "\n",
            "W0616 05:31:06.212605 140221076649856 deprecation_wrapper.py:119] From /usr/local/lib/python3.6/dist-packages/keras/backend/tensorflow_backend.py:3295: The name tf.log is deprecated. Please use tf.math.log instead.\n",
            "\n"
          ],
          "name": "stderr"
        },
        {
          "output_type": "stream",
          "text": [
            "_________________________________________________________________\n",
            "Layer (type)                 Output Shape              Param #   \n",
            "=================================================================\n",
            "conv3d_1 (Conv3D)            (None, 13, 98, 98, 16)    1312      \n",
            "_________________________________________________________________\n",
            "batch_normalization_1 (Batch (None, 13, 98, 98, 16)    64        \n",
            "_________________________________________________________________\n",
            "conv3d_2 (Conv3D)            (None, 13, 98, 98, 16)    6928      \n",
            "_________________________________________________________________\n",
            "batch_normalization_2 (Batch (None, 13, 98, 98, 16)    64        \n",
            "_________________________________________________________________\n",
            "dropout_1 (Dropout)          (None, 13, 98, 98, 16)    0         \n",
            "_________________________________________________________________\n",
            "max_pooling3d_1 (MaxPooling3 (None, 13, 49, 49, 16)    0         \n",
            "_________________________________________________________________\n",
            "conv3d_3 (Conv3D)            (None, 13, 49, 49, 32)    13856     \n",
            "_________________________________________________________________\n",
            "batch_normalization_3 (Batch (None, 13, 49, 49, 32)    128       \n",
            "_________________________________________________________________\n",
            "conv3d_4 (Conv3D)            (None, 13, 49, 49, 32)    27680     \n",
            "_________________________________________________________________\n",
            "batch_normalization_4 (Batch (None, 13, 49, 49, 32)    128       \n",
            "_________________________________________________________________\n",
            "dropout_2 (Dropout)          (None, 13, 49, 49, 32)    0         \n",
            "_________________________________________________________________\n",
            "max_pooling3d_2 (MaxPooling3 (None, 13, 24, 24, 32)    0         \n",
            "_________________________________________________________________\n",
            "conv3d_5 (Conv3D)            (None, 13, 24, 24, 64)    55360     \n",
            "_________________________________________________________________\n",
            "batch_normalization_5 (Batch (None, 13, 24, 24, 64)    256       \n",
            "_________________________________________________________________\n",
            "conv3d_6 (Conv3D)            (None, 13, 24, 24, 64)    110656    \n",
            "_________________________________________________________________\n",
            "batch_normalization_6 (Batch (None, 13, 24, 24, 64)    256       \n",
            "_________________________________________________________________\n",
            "conv3d_7 (Conv3D)            (None, 13, 24, 24, 64)    110656    \n",
            "_________________________________________________________________\n",
            "batch_normalization_7 (Batch (None, 13, 24, 24, 64)    256       \n",
            "_________________________________________________________________\n",
            "conv3d_8 (Conv3D)            (None, 13, 24, 24, 64)    110656    \n",
            "_________________________________________________________________\n",
            "batch_normalization_8 (Batch (None, 13, 24, 24, 64)    256       \n",
            "_________________________________________________________________\n",
            "dropout_3 (Dropout)          (None, 13, 24, 24, 64)    0         \n",
            "_________________________________________________________________\n",
            "max_pooling3d_3 (MaxPooling3 (None, 13, 12, 12, 64)    0         \n",
            "_________________________________________________________________\n",
            "conv3d_9 (Conv3D)            (None, 13, 12, 12, 128)   221312    \n",
            "_________________________________________________________________\n",
            "batch_normalization_9 (Batch (None, 13, 12, 12, 128)   512       \n",
            "_________________________________________________________________\n",
            "conv3d_10 (Conv3D)           (None, 13, 12, 12, 128)   442496    \n",
            "_________________________________________________________________\n",
            "batch_normalization_10 (Batc (None, 13, 12, 12, 128)   512       \n",
            "_________________________________________________________________\n",
            "conv3d_11 (Conv3D)           (None, 13, 12, 12, 128)   442496    \n",
            "_________________________________________________________________\n",
            "batch_normalization_11 (Batc (None, 13, 12, 12, 128)   512       \n",
            "_________________________________________________________________\n",
            "conv3d_12 (Conv3D)           (None, 13, 12, 12, 128)   442496    \n",
            "_________________________________________________________________\n",
            "batch_normalization_12 (Batc (None, 13, 12, 12, 128)   512       \n",
            "_________________________________________________________________\n",
            "dropout_4 (Dropout)          (None, 13, 12, 12, 128)   0         \n",
            "_________________________________________________________________\n",
            "flatten_1 (Flatten)          (None, 239616)            0         \n",
            "_________________________________________________________________\n",
            "dense_1 (Dense)              (None, 2048)              490735616 \n",
            "_________________________________________________________________\n",
            "batch_normalization_13 (Batc (None, 2048)              8192      \n",
            "_________________________________________________________________\n",
            "dense_2 (Dense)              (None, 2048)              4196352   \n",
            "_________________________________________________________________\n",
            "batch_normalization_14 (Batc (None, 2048)              8192      \n",
            "_________________________________________________________________\n",
            "dense_3 (Dense)              (None, 5)                 10245     \n",
            "=================================================================\n",
            "Total params: 496,947,957\n",
            "Trainable params: 496,938,037\n",
            "Non-trainable params: 9,920\n",
            "_________________________________________________________________\n"
          ],
          "name": "stdout"
        }
      ]
    },
    {
      "cell_type": "markdown",
      "metadata": {
        "id": "bsvu-KsxAwyJ",
        "colab_type": "text"
      },
      "source": [
        "Let us create the `train_generator` and the `val_generator` which will be used in `.fit_generator`."
      ]
    },
    {
      "cell_type": "code",
      "metadata": {
        "id": "iLoDMlj1AwyJ",
        "colab_type": "code",
        "colab": {}
      },
      "source": [
        "train_generator = generator(train_path, train_doc, batch_size)\n",
        "val_generator = generator(val_path, val_doc, batch_size)"
      ],
      "execution_count": 0,
      "outputs": []
    },
    {
      "cell_type": "code",
      "metadata": {
        "id": "DFYSsMRUAwyL",
        "colab_type": "code",
        "colab": {}
      },
      "source": [
        "model_name = 'model_init' + '_' + str(curr_dt_time).replace(' ','').replace(':','_') + '/'\n",
        "    \n",
        "if not os.path.exists(model_name):\n",
        "    os.mkdir(model_name)\n",
        "        \n",
        "filepath = model_name + 'model-{epoch:05d}-{loss:.5f}-{categorical_accuracy:.5f}-{val_loss:.5f}-{val_categorical_accuracy:.5f}.h5'\n",
        "\n",
        "#checkpoint = ModelCheckpoint(filepath, monitor='val_loss', verbose=1, save_best_only=False, save_weights_only=False, mode='auto', period=1)\n",
        "my_model_checkpoint = ModelCheckpoint(filepath, monitor='val_loss', verbose=1, save_best_only=True, save_weights_only=True, mode='auto', period=1)\n",
        "csv_logger = CSVLogger('training.cnn3d.txt',separator=',', append=True)\n",
        "early_stopping = EarlyStopping(monitor='val_loss', min_delta=0, patience=20, verbose=1)\n",
        "reduce_LR = ReduceLROnPlateau(monitor='val_loss', factor=0.8, patience=10, min_lr=1e-10,verbose=1) # write the REducelronplateau code here\n",
        "callbacks_list = [reduce_LR,csv_logger,my_model_checkpoint,early_stopping] #checkpoint"
      ],
      "execution_count": 0,
      "outputs": []
    },
    {
      "cell_type": "markdown",
      "metadata": {
        "id": "9knbjCTXAwyN",
        "colab_type": "text"
      },
      "source": [
        "The `steps_per_epoch` and `validation_steps` are used by `fit_generator` to decide the number of next() calls it need to make."
      ]
    },
    {
      "cell_type": "code",
      "metadata": {
        "id": "QhnEtxv_AwyN",
        "colab_type": "code",
        "colab": {}
      },
      "source": [
        "if (num_train_sequences%batch_size) == 0:\n",
        "    steps_per_epoch = int(num_train_sequences/batch_size)\n",
        "else:\n",
        "    steps_per_epoch = (num_train_sequences//batch_size) + 1\n",
        "\n",
        "if (num_val_sequences%batch_size) == 0:\n",
        "    validation_steps = int(num_val_sequences/batch_size)\n",
        "else:\n",
        "    validation_steps = (num_val_sequences//batch_size) + 1"
      ],
      "execution_count": 0,
      "outputs": []
    },
    {
      "cell_type": "markdown",
      "metadata": {
        "id": "nKRfU0oMAwyQ",
        "colab_type": "text"
      },
      "source": [
        "Let us now fit the model. This will start training the model and with the help of the checkpoints, you'll be able to save the model at the end of each epoch."
      ]
    },
    {
      "cell_type": "code",
      "metadata": {
        "id": "ezeOLRZgAwyR",
        "colab_type": "code",
        "outputId": "69d4d384-60ab-44ba-f57e-10508246da02",
        "colab": {
          "base_uri": "https://localhost:8080/",
          "height": 1938
        }
      },
      "source": [
        "#model.load_weights('./03-model_init_2019-06-1205_47_36.337812/model-00010-0.84542-0.67270-1.15618-0.59000.h5')\n",
        "model.fit_generator(train_generator, steps_per_epoch=steps_per_epoch, epochs=num_epochs, verbose=1, \n",
        "                    callbacks=callbacks_list, validation_data=val_generator, \n",
        "                    validation_steps=validation_steps, class_weight=None, workers=1, initial_epoch=0)"
      ],
      "execution_count": 23,
      "outputs": [
        {
          "output_type": "stream",
          "text": [
            "W0616 05:31:06.496075 140221076649856 deprecation.py:323] From /usr/local/lib/python3.6/dist-packages/tensorflow/python/ops/math_grad.py:1250: add_dispatch_support.<locals>.wrapper (from tensorflow.python.ops.array_ops) is deprecated and will be removed in a future version.\n",
            "Instructions for updating:\n",
            "Use tf.where in 2.0, which has the same broadcast rule as np.where\n"
          ],
          "name": "stderr"
        },
        {
          "output_type": "stream",
          "text": [
            "Epoch 1/50\n",
            "67/67 [==============================] - 57s 843ms/step - loss: 2.9525 - categorical_accuracy: 0.3314 - val_loss: 8.2907 - val_categorical_accuracy: 0.3200\n",
            "\n",
            "Epoch 00001: val_loss improved from inf to 8.29066, saving model to model_init_2019-06-1605_31_04.193053/model-00001-2.96533-0.33484-8.29066-0.32000.h5\n",
            "Epoch 2/50\n",
            "67/67 [==============================] - 37s 548ms/step - loss: 2.0308 - categorical_accuracy: 0.4204 - val_loss: 3.5109 - val_categorical_accuracy: 0.4200\n",
            "\n",
            "Epoch 00002: val_loss improved from 8.29066 to 3.51089, saving model to model_init_2019-06-1605_31_04.193053/model-00002-2.02801-0.41780-3.51089-0.42000.h5\n",
            "Epoch 3/50\n",
            "67/67 [==============================] - 38s 561ms/step - loss: 1.4736 - categorical_accuracy: 0.5035 - val_loss: 5.5747 - val_categorical_accuracy: 0.1900\n",
            "\n",
            "Epoch 00003: val_loss did not improve from 3.51089\n",
            "Epoch 4/50\n",
            "67/67 [==============================] - 37s 554ms/step - loss: 1.3849 - categorical_accuracy: 0.5398 - val_loss: 4.1005 - val_categorical_accuracy: 0.3000\n",
            "\n",
            "Epoch 00004: val_loss did not improve from 3.51089\n",
            "Epoch 5/50\n",
            "67/67 [==============================] - 37s 552ms/step - loss: 1.1495 - categorical_accuracy: 0.5837 - val_loss: 3.2749 - val_categorical_accuracy: 0.2700\n",
            "\n",
            "Epoch 00005: val_loss improved from 3.51089 to 3.27494, saving model to model_init_2019-06-1605_31_04.193053/model-00005-1.14051-0.58974-3.27494-0.27000.h5\n",
            "Epoch 6/50\n",
            "67/67 [==============================] - 37s 558ms/step - loss: 1.1223 - categorical_accuracy: 0.6249 - val_loss: 3.5461 - val_categorical_accuracy: 0.3300\n",
            "\n",
            "Epoch 00006: val_loss did not improve from 3.27494\n",
            "Epoch 7/50\n",
            "67/67 [==============================] - 37s 553ms/step - loss: 0.8854 - categorical_accuracy: 0.6711 - val_loss: 2.2717 - val_categorical_accuracy: 0.3500\n",
            "\n",
            "Epoch 00007: val_loss improved from 3.27494 to 2.27169, saving model to model_init_2019-06-1605_31_04.193053/model-00007-0.87855-0.67119-2.27169-0.35000.h5\n",
            "Epoch 8/50\n",
            "67/67 [==============================] - 37s 556ms/step - loss: 0.8119 - categorical_accuracy: 0.6852 - val_loss: 4.2759 - val_categorical_accuracy: 0.3000\n",
            "\n",
            "Epoch 00008: val_loss did not improve from 2.27169\n",
            "Epoch 9/50\n",
            "67/67 [==============================] - 37s 557ms/step - loss: 1.1033 - categorical_accuracy: 0.6349 - val_loss: 5.6962 - val_categorical_accuracy: 0.3100\n",
            "\n",
            "Epoch 00009: val_loss did not improve from 2.27169\n",
            "Epoch 10/50\n",
            "67/67 [==============================] - 37s 551ms/step - loss: 1.5046 - categorical_accuracy: 0.5299 - val_loss: 7.2693 - val_categorical_accuracy: 0.3100\n",
            "\n",
            "Epoch 00010: val_loss did not improve from 2.27169\n",
            "Epoch 11/50\n",
            "67/67 [==============================] - 37s 553ms/step - loss: 1.2063 - categorical_accuracy: 0.6040 - val_loss: 5.8174 - val_categorical_accuracy: 0.2600\n",
            "\n",
            "Epoch 00011: val_loss did not improve from 2.27169\n",
            "Epoch 12/50\n",
            "67/67 [==============================] - 37s 554ms/step - loss: 0.8093 - categorical_accuracy: 0.6831 - val_loss: 5.6490 - val_categorical_accuracy: 0.2700\n",
            "\n",
            "Epoch 00012: val_loss did not improve from 2.27169\n",
            "Epoch 13/50\n",
            "67/67 [==============================] - 37s 554ms/step - loss: 0.7974 - categorical_accuracy: 0.7149 - val_loss: 7.4592 - val_categorical_accuracy: 0.1800\n",
            "\n",
            "Epoch 00013: val_loss did not improve from 2.27169\n",
            "Epoch 14/50\n",
            "67/67 [==============================] - 37s 553ms/step - loss: 0.6523 - categorical_accuracy: 0.7861 - val_loss: 6.9540 - val_categorical_accuracy: 0.2500\n",
            "\n",
            "Epoch 00014: val_loss did not improve from 2.27169\n",
            "Epoch 15/50\n",
            "67/67 [==============================] - 37s 553ms/step - loss: 0.6143 - categorical_accuracy: 0.7647 - val_loss: 3.0546 - val_categorical_accuracy: 0.4200\n",
            "\n",
            "Epoch 00015: val_loss did not improve from 2.27169\n",
            "Epoch 16/50\n",
            "67/67 [==============================] - 37s 555ms/step - loss: 0.4543 - categorical_accuracy: 0.8324 - val_loss: 5.5351 - val_categorical_accuracy: 0.3000\n",
            "\n",
            "Epoch 00016: val_loss did not improve from 2.27169\n",
            "Epoch 17/50\n",
            "67/67 [==============================] - 37s 555ms/step - loss: 0.5389 - categorical_accuracy: 0.8025 - val_loss: 5.8617 - val_categorical_accuracy: 0.2400\n",
            "\n",
            "Epoch 00017: ReduceLROnPlateau reducing learning rate to 0.000800000037997961.\n",
            "\n",
            "Epoch 00017: val_loss did not improve from 2.27169\n",
            "Epoch 18/50\n",
            "67/67 [==============================] - 37s 553ms/step - loss: 0.3696 - categorical_accuracy: 0.8686 - val_loss: 4.8955 - val_categorical_accuracy: 0.2600\n",
            "\n",
            "Epoch 00018: val_loss did not improve from 2.27169\n",
            "Epoch 19/50\n",
            "67/67 [==============================] - 37s 554ms/step - loss: 0.2367 - categorical_accuracy: 0.9119 - val_loss: 4.6025 - val_categorical_accuracy: 0.3100\n",
            "\n",
            "Epoch 00019: val_loss did not improve from 2.27169\n",
            "Epoch 20/50\n",
            "67/67 [==============================] - 37s 552ms/step - loss: 0.2257 - categorical_accuracy: 0.9219 - val_loss: 5.0161 - val_categorical_accuracy: 0.2200\n",
            "\n",
            "Epoch 00020: val_loss did not improve from 2.27169\n",
            "Epoch 21/50\n",
            "67/67 [==============================] - 37s 554ms/step - loss: 0.1725 - categorical_accuracy: 0.9409 - val_loss: 4.7165 - val_categorical_accuracy: 0.2700\n",
            "\n",
            "Epoch 00021: val_loss did not improve from 2.27169\n",
            "Epoch 22/50\n",
            "67/67 [==============================] - 37s 554ms/step - loss: 0.3131 - categorical_accuracy: 0.8821 - val_loss: 4.3171 - val_categorical_accuracy: 0.3100\n",
            "\n",
            "Epoch 00022: val_loss did not improve from 2.27169\n",
            "Epoch 23/50\n",
            "67/67 [==============================] - 37s 553ms/step - loss: 0.2717 - categorical_accuracy: 0.9074 - val_loss: 4.7370 - val_categorical_accuracy: 0.2500\n",
            "\n",
            "Epoch 00023: val_loss did not improve from 2.27169\n",
            "Epoch 24/50\n",
            "67/67 [==============================] - 37s 554ms/step - loss: 0.1613 - categorical_accuracy: 0.9403 - val_loss: 4.2506 - val_categorical_accuracy: 0.3100\n",
            "\n",
            "Epoch 00024: val_loss did not improve from 2.27169\n",
            "Epoch 25/50\n",
            "67/67 [==============================] - 37s 554ms/step - loss: 0.1072 - categorical_accuracy: 0.9607 - val_loss: 5.2279 - val_categorical_accuracy: 0.2800\n",
            "\n",
            "Epoch 00025: val_loss did not improve from 2.27169\n",
            "Epoch 26/50\n",
            "67/67 [==============================] - 37s 553ms/step - loss: 0.2065 - categorical_accuracy: 0.9234 - val_loss: 5.1330 - val_categorical_accuracy: 0.3000\n",
            "\n",
            "Epoch 00026: val_loss did not improve from 2.27169\n",
            "Epoch 27/50\n",
            "67/67 [==============================] - 37s 553ms/step - loss: 0.1884 - categorical_accuracy: 0.9384 - val_loss: 4.2161 - val_categorical_accuracy: 0.3300\n",
            "\n",
            "Epoch 00027: ReduceLROnPlateau reducing learning rate to 0.0006400000303983689.\n",
            "\n",
            "Epoch 00027: val_loss did not improve from 2.27169\n",
            "Epoch 00027: early stopping\n"
          ],
          "name": "stdout"
        },
        {
          "output_type": "execute_result",
          "data": {
            "text/plain": [
              "<keras.callbacks.History at 0x7f8773a3fef0>"
            ]
          },
          "metadata": {
            "tags": []
          },
          "execution_count": 23
        }
      ]
    },
    {
      "cell_type": "code",
      "metadata": {
        "id": "FmI72mGejnKr",
        "colab_type": "code",
        "outputId": "cab94fda-e97f-4302-b4b8-b8f02e26777d",
        "colab": {
          "base_uri": "https://localhost:8080/",
          "height": 118
        }
      },
      "source": [
        "# Move the large h5 model files out to Google Drive as github as a restriction of filesize < 100MB.\n",
        "os.makedirs('/content/gdrive',exist_ok=True)\n",
        "from google.colab import drive\n",
        "drive.mount('/content/gdrive',force_remount=True)\n",
        "os.makedirs('../../../content/gdrive/My Drive/gesture_recognition/', exist_ok=True)"
      ],
      "execution_count": 24,
      "outputs": [
        {
          "output_type": "stream",
          "text": [
            "Go to this URL in a browser: https://accounts.google.com/o/oauth2/auth?client_id=947318989803-6bn6qk8qdgf4n4g3pfee6491hc0brc4i.apps.googleusercontent.com&redirect_uri=urn%3Aietf%3Awg%3Aoauth%3A2.0%3Aoob&scope=email%20https%3A%2F%2Fwww.googleapis.com%2Fauth%2Fdocs.test%20https%3A%2F%2Fwww.googleapis.com%2Fauth%2Fdrive%20https%3A%2F%2Fwww.googleapis.com%2Fauth%2Fdrive.photos.readonly%20https%3A%2F%2Fwww.googleapis.com%2Fauth%2Fpeopleapi.readonly&response_type=code\n",
            "\n",
            "Enter your authorization code:\n",
            "··········\n",
            "Mounted at /content/gdrive\n"
          ],
          "name": "stdout"
        }
      ]
    },
    {
      "cell_type": "code",
      "metadata": {
        "id": "VxjUOrCljviT",
        "colab_type": "code",
        "outputId": "b3277ce9-81af-4686-edfc-bc568d413564",
        "colab": {
          "base_uri": "https://localhost:8080/",
          "height": 50
        }
      },
      "source": [
        "import shutil\n",
        "print(model_name)\n",
        "#content/cloned-repo/Project_data/model_init_2019-06-1605_31_04.193053/\n",
        "shutil.copy(f'../../../content/cloned-repo/Project_data/{model_name}model-00007-0.87855-0.67119-2.27169-0.35000.h5', '../../../content/gdrive/My Drive/gesture_recognition/conv3d-deep.model-00007-0.87855-0.67119-2.27169-0.35000.h5')\n",
        "#shutil.copy('../../../content/cloned-repo/Project_data/model_init_2019-06-1604_24_46.937344/model-00042-0.53521-0.95626-1.27140-0.70000.h5', '../../../content/gdrive/My Drive/gesture_recognition/resnet3d-34.model-00042-0.53521-0.95626-1.27140-0.70000.h5')"
      ],
      "execution_count": 31,
      "outputs": [
        {
          "output_type": "stream",
          "text": [
            "model_init_2019-06-1605_31_04.193053/\n"
          ],
          "name": "stdout"
        },
        {
          "output_type": "execute_result",
          "data": {
            "text/plain": [
              "'../../../content/gdrive/My Drive/gesture_recognition/conv3d-deep.model-00007-0.87855-0.67119-2.27169-0.35000.h5'"
            ]
          },
          "metadata": {
            "tags": []
          },
          "execution_count": 31
        }
      ]
    },
    {
      "cell_type": "code",
      "metadata": {
        "id": "BBCapmg62_ya",
        "colab_type": "code",
        "colab": {}
      },
      "source": [
        ""
      ],
      "execution_count": 0,
      "outputs": []
    }
  ]
}