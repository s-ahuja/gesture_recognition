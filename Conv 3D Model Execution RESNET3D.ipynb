{
  "nbformat": 4,
  "nbformat_minor": 0,
  "metadata": {
    "colab": {
      "name": "Conv 3D Model Execution.ipynb",
      "version": "0.3.2",
      "provenance": [],
      "toc_visible": true,
      "include_colab_link": true
    },
    "language_info": {
      "codemirror_mode": {
        "name": "ipython",
        "version": 3
      },
      "file_extension": ".py",
      "mimetype": "text/x-python",
      "name": "python",
      "nbconvert_exporter": "python",
      "pygments_lexer": "ipython3",
      "version": "3.6.8"
    },
    "kernelspec": {
      "name": "python3",
      "display_name": "Python 3"
    },
    "accelerator": "GPU"
  },
  "cells": [
    {
      "cell_type": "markdown",
      "metadata": {
        "id": "view-in-github",
        "colab_type": "text"
      },
      "source": [
        "<a href=\"https://colab.research.google.com/github/s-ahuja/gesture_recognition/blob/master/Conv%203D%20Model%20Execution%20RESNET3D.ipynb\" target=\"_parent\"><img src=\"https://colab.research.google.com/assets/colab-badge.svg\" alt=\"Open In Colab\"/></a>"
      ]
    },
    {
      "cell_type": "code",
      "metadata": {
        "id": "nAaDilW3Awxc",
        "colab_type": "code",
        "outputId": "00727e9c-abad-48cf-f82e-b8be5c595710",
        "colab": {
          "base_uri": "https://localhost:8080/",
          "height": 318
        }
      },
      "source": [
        "# Checking whether we are in GPU mode\n",
        "!nvidia-smi"
      ],
      "execution_count": 1,
      "outputs": [
        {
          "output_type": "stream",
          "text": [
            "Sun Jun 16 04:24:34 2019       \n",
            "+-----------------------------------------------------------------------------+\n",
            "| NVIDIA-SMI 418.67       Driver Version: 410.79       CUDA Version: 10.0     |\n",
            "|-------------------------------+----------------------+----------------------+\n",
            "| GPU  Name        Persistence-M| Bus-Id        Disp.A | Volatile Uncorr. ECC |\n",
            "| Fan  Temp  Perf  Pwr:Usage/Cap|         Memory-Usage | GPU-Util  Compute M. |\n",
            "|===============================+======================+======================|\n",
            "|   0  Tesla T4            Off  | 00000000:00:04.0 Off |                    0 |\n",
            "| N/A   71C    P8    18W /  70W |      0MiB / 15079MiB |      0%      Default |\n",
            "+-------------------------------+----------------------+----------------------+\n",
            "                                                                               \n",
            "+-----------------------------------------------------------------------------+\n",
            "| Processes:                                                       GPU Memory |\n",
            "|  GPU       PID   Type   Process name                             Usage      |\n",
            "|=============================================================================|\n",
            "|  No running processes found                                                 |\n",
            "+-----------------------------------------------------------------------------+\n"
          ],
          "name": "stdout"
        }
      ]
    },
    {
      "cell_type": "code",
      "metadata": {
        "id": "1sEb4VPfDZ9H",
        "colab_type": "code",
        "colab": {}
      },
      "source": [
        "# Clone the entire repo.\n",
        "data_folder = '/content/cloned-repo'\n",
        "root_dir = f'{data_folder}/Project_data'"
      ],
      "execution_count": 0,
      "outputs": []
    },
    {
      "cell_type": "code",
      "metadata": {
        "id": "XdUHgmyzLXUV",
        "colab_type": "code",
        "outputId": "d46f3c06-3113-45f2-f6bc-03bc23d752d3",
        "colab": {
          "base_uri": "https://localhost:8080/",
          "height": 70
        }
      },
      "source": [
        "# full_restart = True..will gitclone on numpy arrays of images to google colab repo for access. required once per session.\n",
        "full_restart = False\n",
        "if (full_restart):\n",
        "  import shutil\n",
        "  shutil.rmtree(data_folder,ignore_errors=True)\n",
        "  import os\n",
        "  os.makedirs(data_folder,exist_ok=True)\n",
        "  os.chdir(data_folder)\n",
        "  !git clone -l -s \"https://github.com/s-ahuja/gesture_recognition.git\" {data_folder}\n",
        "%cd {data_folder}/Project_data\n",
        "!ls"
      ],
      "execution_count": 3,
      "outputs": [
        {
          "output_type": "stream",
          "text": [
            "/content/cloned-repo/Project_data\n",
            "model_init_2019-06-1604_17_16.550747  train.csv\t\tval.csv\n",
            "numpy\t\t\t\t      train_images.pkl\tval_images.pkl\n"
          ],
          "name": "stdout"
        }
      ]
    },
    {
      "cell_type": "code",
      "metadata": {
        "id": "kxrqu5GxAwxh",
        "colab_type": "code",
        "colab": {}
      },
      "source": [
        "# The First Notebook - Data Pre-Processing converted raw images to numpy arrays of standard format 100x100x3 \n",
        "# and created 2 pkl files(train_images,val_images) for a list of files with paths of npy arrays.\n",
        "\n",
        "import pickle\n",
        "filehandler = open('train_images.pkl',\"rb\")\n",
        "train_images = pickle.load(filehandler)\n",
        "filehandler.close()\n",
        "filehandler = open('val_images.pkl',\"rb\")\n",
        "val_images = pickle.load(filehandler)\n",
        "filehandler.close()"
      ],
      "execution_count": 0,
      "outputs": []
    },
    {
      "cell_type": "code",
      "metadata": {
        "id": "araQpugMAwxj",
        "colab_type": "code",
        "outputId": "d5072a2c-a1cc-4fd8-c9d9-c6f997327a5b",
        "colab": {
          "base_uri": "https://localhost:8080/",
          "height": 34
        }
      },
      "source": [
        "len(train_images[0]),len(val_images[0])"
      ],
      "execution_count": 5,
      "outputs": [
        {
          "output_type": "execute_result",
          "data": {
            "text/plain": [
              "(19890, 3000)"
            ]
          },
          "metadata": {
            "tags": []
          },
          "execution_count": 5
        }
      ]
    },
    {
      "cell_type": "code",
      "metadata": {
        "id": "WsxvoUb8Awxm",
        "colab_type": "code",
        "colab": {}
      },
      "source": [
        "# with limited disk space we need to delete model directories which didnt get any better experiment result\n",
        "import glob, shutil\n",
        "model_directories = glob.glob(f'{root_dir}/model*')\n",
        "for directory in model_directories:\n",
        "    shutil.rmtree(directory)"
      ],
      "execution_count": 0,
      "outputs": []
    },
    {
      "cell_type": "markdown",
      "metadata": {
        "id": "FnHobvnOAwxo",
        "colab_type": "text"
      },
      "source": [
        "# Gesture Recognition\n",
        "In this group project, you are going to build a 3D Conv model that will be able to predict the 5 gestures correctly. Please import the following libraries to get started."
      ]
    },
    {
      "cell_type": "code",
      "metadata": {
        "id": "1a89fRYJAwxo",
        "colab_type": "code",
        "colab": {}
      },
      "source": [
        "%load_ext autoreload\n",
        "%autoreload 2\n",
        "import numpy as np\n",
        "import os\n",
        "import glob\n",
        "from cv2 import imread,resize,cvtColor,COLOR_BGR2RGB,INTER_AREA\n",
        "import datetime\n",
        "import matplotlib.pyplot as plt\n",
        "import warnings\n",
        "warnings.simplefilter('ignore')"
      ],
      "execution_count": 0,
      "outputs": []
    },
    {
      "cell_type": "markdown",
      "metadata": {
        "id": "7-eKyjqXAwxq",
        "colab_type": "text"
      },
      "source": [
        "We set the random seed so that the results don't vary drastically."
      ]
    },
    {
      "cell_type": "code",
      "metadata": {
        "id": "Kxq4kVj5Awxr",
        "colab_type": "code",
        "outputId": "c8757fc1-00ce-4def-ad03-c2d791c4ddbf",
        "colab": {
          "base_uri": "https://localhost:8080/",
          "height": 34
        }
      },
      "source": [
        "np.random.seed(30)\n",
        "import random as rn\n",
        "rn.seed(30)\n",
        "from keras import backend as K\n",
        "import tensorflow as tf\n",
        "tf.set_random_seed(30)"
      ],
      "execution_count": 8,
      "outputs": [
        {
          "output_type": "stream",
          "text": [
            "Using TensorFlow backend.\n"
          ],
          "name": "stderr"
        }
      ]
    },
    {
      "cell_type": "code",
      "metadata": {
        "id": "7PG8NCeBAwxu",
        "colab_type": "code",
        "outputId": "b9896e24-cce8-4059-af7f-5e24b2843c8d",
        "colab": {
          "base_uri": "https://localhost:8080/",
          "height": 52
        }
      },
      "source": [
        "# setting up basic parameters for the model\n",
        "img_indices = list(range(1,30,2))\n",
        "print(img_indices)\n",
        "input_shape=(len(img_indices),100,100,3) #15 images per video, each image is of 100x100x3\n",
        "print(input_shape)\n",
        "batch_size = 10\n",
        "no_of_classes = 5\n",
        "num_epochs = 50 # choose the number of epochs"
      ],
      "execution_count": 9,
      "outputs": [
        {
          "output_type": "stream",
          "text": [
            "[1, 3, 5, 7, 9, 11, 13, 15, 17, 19, 21, 23, 25, 27, 29]\n",
            "(15, 100, 100, 3)\n"
          ],
          "name": "stdout"
        }
      ]
    },
    {
      "cell_type": "code",
      "metadata": {
        "id": "N6ZLOH3uAwxw",
        "colab_type": "code",
        "outputId": "e722f1e2-5f1c-4d35-928c-bcb97e05d990",
        "colab": {
          "base_uri": "https://localhost:8080/",
          "height": 34
        }
      },
      "source": [
        "train_doc = np.random.permutation(open(f'{root_dir}/train.csv').readlines())\n",
        "val_doc = np.random.permutation(open(f'{root_dir}/val.csv').readlines())\n",
        "\n",
        "# since train.csv and val.csv contains all traning/validation data\n",
        "# these statements filter out if we want to first train/val on a limited set only\n",
        "# filter out records which are not considered during experiments\n",
        "train_doc = [x for x in train_doc if x.split(';')[0] in [paths.split('/')[-2] for paths in train_images[0]]] \n",
        "val_doc = [x for x in val_doc if x.split(';')[0] in [paths.split('/')[-2] for paths in val_images[0]]]\n",
        "\n",
        "print('no. of training video seq=',len(train_doc),'no. of validation video seq=',len(val_doc))"
      ],
      "execution_count": 10,
      "outputs": [
        {
          "output_type": "stream",
          "text": [
            "no. of training video seq= 663 no. of validation video seq= 100\n"
          ],
          "name": "stdout"
        }
      ]
    },
    {
      "cell_type": "markdown",
      "metadata": {
        "id": "GdeE78IVAwxz",
        "colab_type": "text"
      },
      "source": [
        "## Generator\n",
        "This is one of the most important part of the code. The overall structure of the generator has been given. In the generator, you are going to preprocess the images as you have images of 2 different dimensions as well as create a batch of video frames. You have to experiment with `img_idx`, `y`,`z` and normalization such that you get high accuracy."
      ]
    },
    {
      "cell_type": "code",
      "metadata": {
        "id": "muVr5tsqAwx0",
        "colab_type": "code",
        "colab": {}
      },
      "source": [
        "def generator(source_path, folder_list, batch_size, ablation=False):\n",
        "    #print('Source path = ', source_path, '; batch size =', batch_size)\n",
        "    # if ablation is true then only take only 2 images else take much more.\n",
        "    img_idx = img_indices #create a list of image numbers you want to use for a particular video. \n",
        "    x = len(img_idx)    \n",
        "    y,z = input_shape[1],input_shape[2] # image_standard_size\n",
        "    Model_Execution = True # this parameter was used to test the generator function. Model_Execution = FALSE, iterates 1 EPOCH and exits after 1 full EPOCH is complete\n",
        "    while Model_Execution:\n",
        "        t = np.random.permutation(folder_list)\n",
        "        num_batches = int(len(folder_list)/batch_size) # calculate the number of batches\n",
        "        for batch in range(num_batches): # we iterate over the number of batches\n",
        "            batch_data = np.zeros((batch_size,x,y,z,input_shape[3])) # x is the number of images you use for each video, (y,z) is the final size of the input images and 3 is the number of channels RGB\n",
        "            batch_labels = np.zeros((batch_size,no_of_classes)) # batch_labels is the one hot representation of the output\n",
        "            for folder in range(batch_size): # iterate over the batch_size\n",
        "                imgs = os.listdir(source_path+'/'+ t[folder + (batch*batch_size)].split(';')[0]) # read all the images in the folder\n",
        "                for idx,item in enumerate(img_idx): #  Iterate iver the frames/images of a folder to read them in\n",
        "                    img_file_path = source_path+'/'+ t[folder + (batch*batch_size)].strip().split(';')[0]+'/'+imgs[item]\n",
        "                    image = np.load(img_file_path)#.astype(np.float32)\n",
        "                    #crop the images and resize them. Note that the images are of 2 different shape\n",
        "                    #and the conv3D will throw error if the inputs in a batch have different shapes\n",
        "                    # IMPORTANT NOTE:  the CROPPING/RESIZING OF IMAGES IS DONE IN THE PRE-PROCESSING STEP ITSELF\n",
        "                    # TO SAVE GENERATOR TIME AND TO RE-DO EACH MODEL EXECUTION RUN\n",
        "                    batch_data[folder,idx,:,:,0] = (image[:,:,0] - image[:,:,0].min())/(image[:,:,0].max() - image[:,:,0].min()) #normalise and feed in the image\n",
        "                    batch_data[folder,idx,:,:,1] = (image[:,:,1] - image[:,:,1].min())/(image[:,:,1].max() - image[:,:,1].min()) #normalise and feed in the image\n",
        "                    batch_data[folder,idx,:,:,2] = (image[:,:,2] - image[:,:,2].min())/(image[:,:,2].max() - image[:,:,2].min()) #normalise and feed in the image\n",
        "\n",
        "                batch_labels[folder, int(t[folder + (batch*batch_size)].strip().split(';')[2])] = 1\n",
        "            yield batch_data, batch_labels #you yield the batch_data and the batch_labels, remember what does yield do\n",
        "        # write the code for the remaining data points which are left after full batches\n",
        "        remaining_size = len(folder_list) - (batch_size*num_batches)\n",
        "        if (remaining_size > 0):\n",
        "            #print('remaining_size=',remaining_size)\n",
        "            batch_data = np.zeros((remaining_size,x,y,z,input_shape[3])) # x is the number of images you use for each video, (y,z) is the final size of the input images and 3 is the number of channels RGB\n",
        "            batch_labels = np.zeros((remaining_size,no_of_classes)) # batch_labels is the one hot representation of the output\n",
        "            for folder in range(remaining_size):\n",
        "                imgs = os.listdir(source_path+'/'+ t[folder].split(';')[0]) # read all the images in the folder\n",
        "                for idx,item in enumerate(img_idx): #  Iterate iver the frames/images of a folder to read them in\n",
        "                    img_file_path = source_path+'/'+ t[folder].strip().split(';')[0]+'/'+imgs[item]\n",
        "                    # print('img_file_path=' + img_file_path)\n",
        "                    image = np.load(img_file_path)#.astype(np.float32)                                        \n",
        "                    #print(image.shape)\n",
        "                    #crop the images and resize them. Note that the images are of 2 different shape\n",
        "                    #and the conv3D will throw error if the inputs in a batch have different shapes\n",
        "                    # IMPORTANT NOTE:  the CROPPING/RESIZING OF IMAGES IS DONE IN THE PRE-PROCESSING STEP ITSELF\n",
        "                    # TO SAVE GENERATOR TIME AND TO RE-DO EACH MODEL EXECUTION RUN\n",
        "                    batch_data[folder,idx,:,:,0] = (image[:,:,0] - image[:,:,0].min())/(image[:,:,0].max() - image[:,:,0].min()) #normalise and feed in the image\n",
        "                    batch_data[folder,idx,:,:,1] = (image[:,:,1] - image[:,:,1].min())/(image[:,:,1].max() - image[:,:,1].min()) #normalise and feed in the image\n",
        "                    batch_data[folder,idx,:,:,2] = (image[:,:,2] - image[:,:,2].min())/(image[:,:,2].max() - image[:,:,2].min()) #normalise and feed in the image\n",
        "                batch_labels[folder, int(t[folder].strip().split(';')[2])] = 1\n",
        "            yield batch_data, batch_labels\n",
        "            Model_Execution = True \n",
        "\n",
        "# ## test code to test generator function\n",
        "# train_path = f'{root_dir}/numpy/train'\n",
        "# num_train_sequences = len(train_doc)\n",
        "# train_generator = generator(source_path=train_path, folder_list=train_doc, batch_size=batch_size, ablation=False)\n",
        "# index = 0\n",
        "# for batch_data, batch_labels in train_generator: \n",
        "#     index += len(batch_data)    \n",
        "#     print(batch_data.shape,batch_labels.shape) "
      ],
      "execution_count": 0,
      "outputs": []
    },
    {
      "cell_type": "markdown",
      "metadata": {
        "id": "sD1BePtMAwx4",
        "colab_type": "text"
      },
      "source": [
        "Note here that a video is represented above in the generator as (number of images, height, width, number of channels). Take this into consideration while creating the model architecture."
      ]
    },
    {
      "cell_type": "code",
      "metadata": {
        "id": "hqXYWGRqAwx4",
        "colab_type": "code",
        "outputId": "9bed4bf9-a84e-4b07-c1cc-223b4cabc4f3",
        "colab": {
          "base_uri": "https://localhost:8080/",
          "height": 70
        }
      },
      "source": [
        "curr_dt_time = datetime.datetime.now()\n",
        "train_path = f'{root_dir}/numpy/train'\n",
        "val_path = f'{root_dir}/numpy/val'\n",
        "num_train_sequences = len(train_doc)\n",
        "print('# training sequences =', num_train_sequences)\n",
        "num_val_sequences = len(val_doc)\n",
        "print('# validation sequences =', num_val_sequences)\n",
        "print ('# epochs =', num_epochs)"
      ],
      "execution_count": 12,
      "outputs": [
        {
          "output_type": "stream",
          "text": [
            "# training sequences = 663\n",
            "# validation sequences = 100\n",
            "# epochs = 50\n"
          ],
          "name": "stdout"
        }
      ]
    },
    {
      "cell_type": "markdown",
      "metadata": {
        "id": "zlcwLEPZAwx7",
        "colab_type": "text"
      },
      "source": [
        "## Model\n",
        "Here you make the model using different functionalities that Keras provides. Remember to use `Conv3D` and `MaxPooling3D` and not `Conv2D` and `Maxpooling2D` for a 3D convolution model. You would want to use `TimeDistributed` while building a Conv2D + RNN model. Also remember that the last layer is the softmax. Design the network in such a way that the model is able to give good accuracy on the least number of parameters so that it can fit in the memory of the webcam."
      ]
    },
    {
      "cell_type": "code",
      "metadata": {
        "id": "7MekrkF6Awx7",
        "colab_type": "code",
        "colab": {}
      },
      "source": [
        "from keras.models import Sequential, Model\n",
        "from keras.layers import Dense, GRU, Flatten, TimeDistributed, Flatten, BatchNormalization, Activation, Dropout\n",
        "from keras.layers.convolutional import Conv3D, MaxPooling3D\n",
        "from keras.callbacks import ModelCheckpoint, ReduceLROnPlateau, CSVLogger,EarlyStopping\n",
        "from keras import optimizers\n",
        "\n",
        "import matplotlib.pyplot as plt\n",
        "import keras.backend as K\n",
        "from keras.callbacks import Callback"
      ],
      "execution_count": 0,
      "outputs": []
    },
    {
      "cell_type": "markdown",
      "metadata": {
        "id": "-vh9VsqZrDFl",
        "colab_type": "text"
      },
      "source": [
        ""
      ]
    },
    {
      "cell_type": "code",
      "metadata": {
        "id": "hynrW0Q-S9yS",
        "colab_type": "code",
        "outputId": "b48b2a5f-9da8-4ba3-86bd-2cb817acebda",
        "colab": {
          "base_uri": "https://localhost:8080/",
          "height": 3058
        }
      },
      "source": [
        "\n",
        "\n",
        "\"\"\"A vanilla 3D resnet implementation.\n",
        "\n",
        "Based on Raghavendra Kotikalapudi's 2D implementation\n",
        "keras-resnet (See https://github.com/raghakot/keras-resnet.)\n",
        "\"\"\"\n",
        "from __future__ import (\n",
        "    absolute_import,\n",
        "    division,\n",
        "    print_function,\n",
        "    unicode_literals\n",
        ")\n",
        "import six\n",
        "from math import ceil\n",
        "from keras.models import Model\n",
        "from keras.layers import (\n",
        "    Input,\n",
        "    Activation,\n",
        "    Dense,\n",
        "    Flatten\n",
        ")\n",
        "from keras.layers.convolutional import (\n",
        "    Conv3D,\n",
        "    AveragePooling3D,\n",
        "    MaxPooling3D\n",
        ")\n",
        "from keras.layers.merge import add\n",
        "from keras.layers.normalization import BatchNormalization\n",
        "from keras.regularizers import l2\n",
        "from keras import backend as K\n",
        "\n",
        "\n",
        "def _bn_relu(input):\n",
        "    \"\"\"Helper to build a BN -> relu block (by @raghakot).\"\"\"\n",
        "    norm = BatchNormalization(axis=CHANNEL_AXIS)(input)\n",
        "    return Activation(\"relu\")(norm)\n",
        "\n",
        "\n",
        "def _conv_bn_relu3D(**conv_params):\n",
        "    filters = conv_params[\"filters\"]\n",
        "    kernel_size = conv_params[\"kernel_size\"]\n",
        "    strides = conv_params.setdefault(\"strides\", (1, 1, 1))\n",
        "    kernel_initializer = conv_params.setdefault(\n",
        "        \"kernel_initializer\", \"he_normal\")\n",
        "    padding = conv_params.setdefault(\"padding\", \"same\")\n",
        "    kernel_regularizer = conv_params.setdefault(\"kernel_regularizer\",\n",
        "                                                l2(1e-4))\n",
        "\n",
        "    def f(input):\n",
        "        conv = Conv3D(filters=filters, kernel_size=kernel_size,\n",
        "                      strides=strides, kernel_initializer=kernel_initializer,\n",
        "                      padding=padding,\n",
        "                      kernel_regularizer=kernel_regularizer)(input)\n",
        "        return _bn_relu(conv)\n",
        "\n",
        "    return f\n",
        "\n",
        "\n",
        "def _bn_relu_conv3d(**conv_params):\n",
        "    \"\"\"Helper to build a  BN -> relu -> conv3d block.\"\"\"\n",
        "    filters = conv_params[\"filters\"]\n",
        "    kernel_size = conv_params[\"kernel_size\"]\n",
        "    strides = conv_params.setdefault(\"strides\", (1, 1, 1))\n",
        "    kernel_initializer = conv_params.setdefault(\"kernel_initializer\",\n",
        "                                                \"he_normal\")\n",
        "    padding = conv_params.setdefault(\"padding\", \"same\")\n",
        "    kernel_regularizer = conv_params.setdefault(\"kernel_regularizer\",\n",
        "                                                l2(1e-4))\n",
        "\n",
        "    def f(input):\n",
        "        activation = _bn_relu(input)\n",
        "        return Conv3D(filters=filters, kernel_size=kernel_size,\n",
        "                      strides=strides, kernel_initializer=kernel_initializer,\n",
        "                      padding=padding,\n",
        "                      kernel_regularizer=kernel_regularizer)(activation)\n",
        "    return f\n",
        "\n",
        "\n",
        "def _shortcut3d(input, residual):\n",
        "    \"\"\"3D shortcut to match input and residual and merges them with \"sum\".\"\"\"\n",
        "    stride_dim1 = ceil(input._keras_shape[DIM1_AXIS] \\\n",
        "        / residual._keras_shape[DIM1_AXIS])\n",
        "    stride_dim2 = ceil(input._keras_shape[DIM2_AXIS] \\\n",
        "        / residual._keras_shape[DIM2_AXIS])\n",
        "    stride_dim3 = ceil(input._keras_shape[DIM3_AXIS] \\\n",
        "        / residual._keras_shape[DIM3_AXIS])\n",
        "    equal_channels = residual._keras_shape[CHANNEL_AXIS] \\\n",
        "        == input._keras_shape[CHANNEL_AXIS]\n",
        "\n",
        "    shortcut = input\n",
        "    if stride_dim1 > 1 or stride_dim2 > 1 or stride_dim3 > 1 \\\n",
        "            or not equal_channels:\n",
        "        shortcut = Conv3D(\n",
        "            filters=residual._keras_shape[CHANNEL_AXIS],\n",
        "            kernel_size=(1, 1, 1),\n",
        "            strides=(stride_dim1, stride_dim2, stride_dim3),\n",
        "            kernel_initializer=\"he_normal\", padding=\"valid\",\n",
        "            kernel_regularizer=l2(1e-4)\n",
        "            )(input)\n",
        "    return add([shortcut, residual])\n",
        "\n",
        "\n",
        "def _residual_block3d(block_function, filters, kernel_regularizer, repetitions,\n",
        "                      is_first_layer=False):\n",
        "    def f(input):\n",
        "        for i in range(repetitions):\n",
        "            strides = (1, 1, 1)\n",
        "            if i == 0 and not is_first_layer:\n",
        "                strides = (2, 2, 2)\n",
        "            input = block_function(filters=filters, strides=strides,\n",
        "                                   kernel_regularizer=kernel_regularizer,\n",
        "                                   is_first_block_of_first_layer=(\n",
        "                                       is_first_layer and i == 0)\n",
        "                                   )(input)\n",
        "        return input\n",
        "\n",
        "    return f\n",
        "\n",
        "\n",
        "def basic_block(filters, strides=(1, 1, 1), kernel_regularizer=l2(1e-4),\n",
        "                is_first_block_of_first_layer=False):\n",
        "    \"\"\"Basic 3 X 3 X 3 convolution blocks. Extended from raghakot's 2D impl.\"\"\"\n",
        "    def f(input):\n",
        "        if is_first_block_of_first_layer:\n",
        "            # don't repeat bn->relu since we just did bn->relu->maxpool\n",
        "            conv1 = Conv3D(filters=filters, kernel_size=(3, 3, 3),\n",
        "                           strides=strides, padding=\"same\",\n",
        "                           kernel_initializer=\"he_normal\",\n",
        "                           kernel_regularizer=kernel_regularizer\n",
        "                           )(input)\n",
        "        else:\n",
        "            conv1 = _bn_relu_conv3d(filters=filters,\n",
        "                                    kernel_size=(3, 3, 3),\n",
        "                                    strides=strides,\n",
        "                                    kernel_regularizer=kernel_regularizer\n",
        "                                    )(input)\n",
        "\n",
        "        residual = _bn_relu_conv3d(filters=filters, kernel_size=(3, 3, 3),\n",
        "                                   kernel_regularizer=kernel_regularizer\n",
        "                                   )(conv1)\n",
        "        return _shortcut3d(input, residual)\n",
        "\n",
        "    return f\n",
        "\n",
        "\n",
        "def bottleneck(filters, strides=(1, 1, 1), kernel_regularizer=l2(1e-4),\n",
        "               is_first_block_of_first_layer=False):\n",
        "    \"\"\"Basic 3 X 3 X 3 convolution blocks. Extended from raghakot's 2D impl.\"\"\"\n",
        "    def f(input):\n",
        "        if is_first_block_of_first_layer:\n",
        "            # don't repeat bn->relu since we just did bn->relu->maxpool\n",
        "            conv_1_1 = Conv3D(filters=filters, kernel_size=(1, 1, 1),\n",
        "                              strides=strides, padding=\"same\",\n",
        "                              kernel_initializer=\"he_normal\",\n",
        "                              kernel_regularizer=kernel_regularizer\n",
        "                              )(input)\n",
        "        else:\n",
        "            conv_1_1 = _bn_relu_conv3d(filters=filters, kernel_size=(1, 1, 1),\n",
        "                                       strides=strides,\n",
        "                                       kernel_regularizer=kernel_regularizer\n",
        "                                       )(input)\n",
        "\n",
        "        conv_3_3 = _bn_relu_conv3d(filters=filters, kernel_size=(3, 3, 3),\n",
        "                                   kernel_regularizer=kernel_regularizer\n",
        "                                   )(conv_1_1)\n",
        "        residual = _bn_relu_conv3d(filters=filters * 4, kernel_size=(1, 1, 1),\n",
        "                                   kernel_regularizer=kernel_regularizer\n",
        "                                   )(conv_3_3)\n",
        "\n",
        "        return _shortcut3d(input, residual)\n",
        "\n",
        "    return f\n",
        "\n",
        "\n",
        "def _handle_data_format():\n",
        "    global DIM1_AXIS\n",
        "    global DIM2_AXIS\n",
        "    global DIM3_AXIS\n",
        "    global CHANNEL_AXIS\n",
        "    if K.image_data_format() == 'channels_last':\n",
        "        DIM1_AXIS = 1\n",
        "        DIM2_AXIS = 2\n",
        "        DIM3_AXIS = 3\n",
        "        CHANNEL_AXIS = 4\n",
        "    else:\n",
        "        CHANNEL_AXIS = 1\n",
        "        DIM1_AXIS = 2\n",
        "        DIM2_AXIS = 3\n",
        "        DIM3_AXIS = 4\n",
        "\n",
        "\n",
        "def _get_block(identifier):\n",
        "    if isinstance(identifier, six.string_types):\n",
        "        res = globals().get(identifier)\n",
        "        if not res:\n",
        "            raise ValueError('Invalid {}'.format(identifier))\n",
        "        return res\n",
        "    return identifier\n",
        "\n",
        "\n",
        "class Resnet3DBuilder(object):\n",
        "    \"\"\"ResNet3D.\"\"\"\n",
        "\n",
        "    @staticmethod\n",
        "    def build(input_shape, num_outputs, block_fn, repetitions, reg_factor):\n",
        "        \"\"\"Instantiate a vanilla ResNet3D keras model.\n",
        "\n",
        "        # Arguments\n",
        "            input_shape: Tuple of input shape in the format\n",
        "            (conv_dim1, conv_dim2, conv_dim3, channels) if dim_ordering='tf'\n",
        "            (filter, conv_dim1, conv_dim2, conv_dim3) if dim_ordering='th'\n",
        "            num_outputs: The number of outputs at the final softmax layer\n",
        "            block_fn: Unit block to use {'basic_block', 'bottlenack_block'}\n",
        "            repetitions: Repetitions of unit blocks\n",
        "        # Returns\n",
        "            model: a 3D ResNet model that takes a 5D tensor (volumetric images\n",
        "            in batch) as input and returns a 1D vector (prediction) as output.\n",
        "        \"\"\"\n",
        "        _handle_data_format()\n",
        "        if len(input_shape) != 4:\n",
        "            raise ValueError(\"Input shape should be a tuple \"\n",
        "                             \"(conv_dim1, conv_dim2, conv_dim3, channels) \"\n",
        "                             \"for tensorflow as backend or \"\n",
        "                             \"(channels, conv_dim1, conv_dim2, conv_dim3) \"\n",
        "                             \"for theano as backend\")\n",
        "\n",
        "        block_fn = _get_block(block_fn)\n",
        "        input = Input(shape=input_shape)\n",
        "        # first conv\n",
        "        conv1 = _conv_bn_relu3D(filters=64, kernel_size=(7, 7, 7),\n",
        "                                strides=(2, 2, 2),\n",
        "                                kernel_regularizer=l2(reg_factor)\n",
        "                                )(input)\n",
        "        pool1 = MaxPooling3D(pool_size=(3, 3, 3), strides=(2, 2, 2),\n",
        "                             padding=\"same\")(conv1)\n",
        "\n",
        "        # repeat blocks\n",
        "        block = pool1\n",
        "        filters = 64\n",
        "        for i, r in enumerate(repetitions):\n",
        "            block = _residual_block3d(block_fn, filters=filters,\n",
        "                                      kernel_regularizer=l2(reg_factor),\n",
        "                                      repetitions=r, is_first_layer=(i == 0)\n",
        "                                      )(block)\n",
        "            filters *= 2\n",
        "\n",
        "        # last activation\n",
        "        block_output = _bn_relu(block)\n",
        "\n",
        "        # average poll and classification\n",
        "        pool2 = AveragePooling3D(pool_size=(block._keras_shape[DIM1_AXIS],\n",
        "                                            block._keras_shape[DIM2_AXIS],\n",
        "                                            block._keras_shape[DIM3_AXIS]),\n",
        "                                 strides=(1, 1, 1))(block_output)\n",
        "        flatten1 = Flatten()(pool2)\n",
        "        if num_outputs > 1:\n",
        "            dense = Dense(units=num_outputs,\n",
        "                          kernel_initializer=\"he_normal\",\n",
        "                          activation=\"softmax\",\n",
        "                          kernel_regularizer=l2(reg_factor))(flatten1)\n",
        "        else:\n",
        "            dense = Dense(units=num_outputs,\n",
        "                          kernel_initializer=\"he_normal\",\n",
        "                          activation=\"sigmoid\",\n",
        "                          kernel_regularizer=l2(reg_factor))(flatten1)\n",
        "\n",
        "        model = Model(inputs=input, outputs=dense)\n",
        "        return model\n",
        "\n",
        "    @staticmethod\n",
        "    def build_resnet_18(input_shape, num_outputs, reg_factor=1e-4):\n",
        "        \"\"\"Build resnet 18.\"\"\"\n",
        "        return Resnet3DBuilder.build(input_shape, num_outputs, basic_block,\n",
        "                                     [2, 2, 2, 2], reg_factor=reg_factor)\n",
        "\n",
        "    @staticmethod\n",
        "    def build_resnet_34(input_shape, num_outputs, reg_factor=1e-4):\n",
        "        \"\"\"Build resnet 34.\"\"\"\n",
        "        return Resnet3DBuilder.build(input_shape, num_outputs, basic_block,\n",
        "                                     [3, 4, 6, 3], reg_factor=reg_factor)\n",
        "\n",
        "    @staticmethod\n",
        "    def build_resnet_50(input_shape, num_outputs, reg_factor=1e-4):\n",
        "        \"\"\"Build resnet 50.\"\"\"\n",
        "        return Resnet3DBuilder.build(input_shape, num_outputs, bottleneck,\n",
        "                                     [3, 4, 6, 3], reg_factor=reg_factor)\n",
        "\n",
        "    @staticmethod\n",
        "    def build_resnet_101(input_shape, num_outputs, reg_factor=1e-4):\n",
        "        \"\"\"Build resnet 101.\"\"\"\n",
        "        return Resnet3DBuilder.build(input_shape, num_outputs, bottleneck,\n",
        "                                     [3, 4, 23, 3], reg_factor=reg_factor)\n",
        "\n",
        "    @staticmethod\n",
        "    def build_resnet_152(input_shape, num_outputs, reg_factor=1e-4):\n",
        "        \"\"\"Build resnet 152.\"\"\"\n",
        "        return Resnet3DBuilder.build(input_shape, num_outputs, bottleneck,\n",
        "                                     [3, 8, 36, 3], reg_factor=reg_factor)\n",
        "\n",
        "\n",
        "if __name__ == '__main__':\n",
        "\n",
        "    from keras.optimizers import Adam\n",
        "    import numpy as np\n",
        "    import os\n",
        "    \n",
        "    os.environ[\"CUDA_VISIBLE_DEVICES\"] = '0' \n",
        "    os.environ['KERAS_BACKEND'] = 'tensorflow'\n",
        "\n",
        "    target_shape = (151, 139, 139, 1)\n",
        "    data_size = 10\n",
        "    num_outputs = 2\n",
        "\n",
        "    model = Resnet3DBuilder.build_resnet_18(target_shape, num_outputs)\n",
        "    \n",
        "    adam = Adam(lr=1e-3, amsgrad=True)\n",
        "    model.compile(loss=\"binary_crossentropy\", optimizer=adam, metrics=['accuracy'])\n",
        "    print(model.summary())\n",
        "\n",
        "    # Mimic training\n",
        "\n",
        "    ## Data Preparation\n",
        "    sample_data = np.random.random((data_size, *target_shape))\n",
        "    sample_raw_labels = np.random.randint(0, num_outputs, data_size, dtype=int)\n",
        "    sample_labels = np.zeros((data_size, num_outputs))\n",
        "    sample_labels[np.arange(data_size), sample_raw_labels] = 1\n",
        "    ## Training\n",
        "    model.fit(sample_data, sample_labels, epochs=2, batch_size=1)"
      ],
      "execution_count": 14,
      "outputs": [
        {
          "output_type": "stream",
          "text": [
            "WARNING: Logging before flag parsing goes to stderr.\n",
            "W0616 04:24:47.534686 140151224657792 deprecation_wrapper.py:119] From /usr/local/lib/python3.6/dist-packages/keras/backend/tensorflow_backend.py:74: The name tf.get_default_graph is deprecated. Please use tf.compat.v1.get_default_graph instead.\n",
            "\n",
            "W0616 04:24:47.536144 140151224657792 deprecation_wrapper.py:119] From /usr/local/lib/python3.6/dist-packages/keras/backend/tensorflow_backend.py:517: The name tf.placeholder is deprecated. Please use tf.compat.v1.placeholder instead.\n",
            "\n",
            "W0616 04:24:47.540486 140151224657792 deprecation_wrapper.py:119] From /usr/local/lib/python3.6/dist-packages/keras/backend/tensorflow_backend.py:4185: The name tf.truncated_normal is deprecated. Please use tf.random.truncated_normal instead.\n",
            "\n",
            "W0616 04:24:47.628473 140151224657792 deprecation_wrapper.py:119] From /usr/local/lib/python3.6/dist-packages/keras/backend/tensorflow_backend.py:133: The name tf.placeholder_with_default is deprecated. Please use tf.compat.v1.placeholder_with_default instead.\n",
            "\n",
            "W0616 04:24:49.485667 140151224657792 deprecation_wrapper.py:119] From /usr/local/lib/python3.6/dist-packages/keras/optimizers.py:790: The name tf.train.Optimizer is deprecated. Please use tf.compat.v1.train.Optimizer instead.\n",
            "\n",
            "W0616 04:24:49.492086 140151224657792 deprecation_wrapper.py:119] From /usr/local/lib/python3.6/dist-packages/keras/backend/tensorflow_backend.py:3376: The name tf.log is deprecated. Please use tf.math.log instead.\n",
            "\n",
            "W0616 04:24:49.498442 140151224657792 deprecation.py:323] From /usr/local/lib/python3.6/dist-packages/tensorflow/python/ops/nn_impl.py:180: add_dispatch_support.<locals>.wrapper (from tensorflow.python.ops.array_ops) is deprecated and will be removed in a future version.\n",
            "Instructions for updating:\n",
            "Use tf.where in 2.0, which has the same broadcast rule as np.where\n"
          ],
          "name": "stderr"
        },
        {
          "output_type": "stream",
          "text": [
            "__________________________________________________________________________________________________\n",
            "Layer (type)                    Output Shape         Param #     Connected to                     \n",
            "==================================================================================================\n",
            "input_1 (InputLayer)            (None, 151, 139, 139 0                                            \n",
            "__________________________________________________________________________________________________\n",
            "conv3d_1 (Conv3D)               (None, 76, 70, 70, 6 22016       input_1[0][0]                    \n",
            "__________________________________________________________________________________________________\n",
            "batch_normalization_1 (BatchNor (None, 76, 70, 70, 6 256         conv3d_1[0][0]                   \n",
            "__________________________________________________________________________________________________\n",
            "activation_1 (Activation)       (None, 76, 70, 70, 6 0           batch_normalization_1[0][0]      \n",
            "__________________________________________________________________________________________________\n",
            "max_pooling3d_1 (MaxPooling3D)  (None, 38, 35, 35, 6 0           activation_1[0][0]               \n",
            "__________________________________________________________________________________________________\n",
            "conv3d_2 (Conv3D)               (None, 38, 35, 35, 6 110656      max_pooling3d_1[0][0]            \n",
            "__________________________________________________________________________________________________\n",
            "batch_normalization_2 (BatchNor (None, 38, 35, 35, 6 256         conv3d_2[0][0]                   \n",
            "__________________________________________________________________________________________________\n",
            "activation_2 (Activation)       (None, 38, 35, 35, 6 0           batch_normalization_2[0][0]      \n",
            "__________________________________________________________________________________________________\n",
            "conv3d_3 (Conv3D)               (None, 38, 35, 35, 6 110656      activation_2[0][0]               \n",
            "__________________________________________________________________________________________________\n",
            "add_1 (Add)                     (None, 38, 35, 35, 6 0           max_pooling3d_1[0][0]            \n",
            "                                                                 conv3d_3[0][0]                   \n",
            "__________________________________________________________________________________________________\n",
            "batch_normalization_3 (BatchNor (None, 38, 35, 35, 6 256         add_1[0][0]                      \n",
            "__________________________________________________________________________________________________\n",
            "activation_3 (Activation)       (None, 38, 35, 35, 6 0           batch_normalization_3[0][0]      \n",
            "__________________________________________________________________________________________________\n",
            "conv3d_4 (Conv3D)               (None, 38, 35, 35, 6 110656      activation_3[0][0]               \n",
            "__________________________________________________________________________________________________\n",
            "batch_normalization_4 (BatchNor (None, 38, 35, 35, 6 256         conv3d_4[0][0]                   \n",
            "__________________________________________________________________________________________________\n",
            "activation_4 (Activation)       (None, 38, 35, 35, 6 0           batch_normalization_4[0][0]      \n",
            "__________________________________________________________________________________________________\n",
            "conv3d_5 (Conv3D)               (None, 38, 35, 35, 6 110656      activation_4[0][0]               \n",
            "__________________________________________________________________________________________________\n",
            "add_2 (Add)                     (None, 38, 35, 35, 6 0           add_1[0][0]                      \n",
            "                                                                 conv3d_5[0][0]                   \n",
            "__________________________________________________________________________________________________\n",
            "batch_normalization_5 (BatchNor (None, 38, 35, 35, 6 256         add_2[0][0]                      \n",
            "__________________________________________________________________________________________________\n",
            "activation_5 (Activation)       (None, 38, 35, 35, 6 0           batch_normalization_5[0][0]      \n",
            "__________________________________________________________________________________________________\n",
            "conv3d_6 (Conv3D)               (None, 19, 18, 18, 1 221312      activation_5[0][0]               \n",
            "__________________________________________________________________________________________________\n",
            "batch_normalization_6 (BatchNor (None, 19, 18, 18, 1 512         conv3d_6[0][0]                   \n",
            "__________________________________________________________________________________________________\n",
            "activation_6 (Activation)       (None, 19, 18, 18, 1 0           batch_normalization_6[0][0]      \n",
            "__________________________________________________________________________________________________\n",
            "conv3d_8 (Conv3D)               (None, 19, 18, 18, 1 8320        add_2[0][0]                      \n",
            "__________________________________________________________________________________________________\n",
            "conv3d_7 (Conv3D)               (None, 19, 18, 18, 1 442496      activation_6[0][0]               \n",
            "__________________________________________________________________________________________________\n",
            "add_3 (Add)                     (None, 19, 18, 18, 1 0           conv3d_8[0][0]                   \n",
            "                                                                 conv3d_7[0][0]                   \n",
            "__________________________________________________________________________________________________\n",
            "batch_normalization_7 (BatchNor (None, 19, 18, 18, 1 512         add_3[0][0]                      \n",
            "__________________________________________________________________________________________________\n",
            "activation_7 (Activation)       (None, 19, 18, 18, 1 0           batch_normalization_7[0][0]      \n",
            "__________________________________________________________________________________________________\n",
            "conv3d_9 (Conv3D)               (None, 19, 18, 18, 1 442496      activation_7[0][0]               \n",
            "__________________________________________________________________________________________________\n",
            "batch_normalization_8 (BatchNor (None, 19, 18, 18, 1 512         conv3d_9[0][0]                   \n",
            "__________________________________________________________________________________________________\n",
            "activation_8 (Activation)       (None, 19, 18, 18, 1 0           batch_normalization_8[0][0]      \n",
            "__________________________________________________________________________________________________\n",
            "conv3d_10 (Conv3D)              (None, 19, 18, 18, 1 442496      activation_8[0][0]               \n",
            "__________________________________________________________________________________________________\n",
            "add_4 (Add)                     (None, 19, 18, 18, 1 0           add_3[0][0]                      \n",
            "                                                                 conv3d_10[0][0]                  \n",
            "__________________________________________________________________________________________________\n",
            "batch_normalization_9 (BatchNor (None, 19, 18, 18, 1 512         add_4[0][0]                      \n",
            "__________________________________________________________________________________________________\n",
            "activation_9 (Activation)       (None, 19, 18, 18, 1 0           batch_normalization_9[0][0]      \n",
            "__________________________________________________________________________________________________\n",
            "conv3d_11 (Conv3D)              (None, 10, 9, 9, 256 884992      activation_9[0][0]               \n",
            "__________________________________________________________________________________________________\n",
            "batch_normalization_10 (BatchNo (None, 10, 9, 9, 256 1024        conv3d_11[0][0]                  \n",
            "__________________________________________________________________________________________________\n",
            "activation_10 (Activation)      (None, 10, 9, 9, 256 0           batch_normalization_10[0][0]     \n",
            "__________________________________________________________________________________________________\n",
            "conv3d_13 (Conv3D)              (None, 10, 9, 9, 256 33024       add_4[0][0]                      \n",
            "__________________________________________________________________________________________________\n",
            "conv3d_12 (Conv3D)              (None, 10, 9, 9, 256 1769728     activation_10[0][0]              \n",
            "__________________________________________________________________________________________________\n",
            "add_5 (Add)                     (None, 10, 9, 9, 256 0           conv3d_13[0][0]                  \n",
            "                                                                 conv3d_12[0][0]                  \n",
            "__________________________________________________________________________________________________\n",
            "batch_normalization_11 (BatchNo (None, 10, 9, 9, 256 1024        add_5[0][0]                      \n",
            "__________________________________________________________________________________________________\n",
            "activation_11 (Activation)      (None, 10, 9, 9, 256 0           batch_normalization_11[0][0]     \n",
            "__________________________________________________________________________________________________\n",
            "conv3d_14 (Conv3D)              (None, 10, 9, 9, 256 1769728     activation_11[0][0]              \n",
            "__________________________________________________________________________________________________\n",
            "batch_normalization_12 (BatchNo (None, 10, 9, 9, 256 1024        conv3d_14[0][0]                  \n",
            "__________________________________________________________________________________________________\n",
            "activation_12 (Activation)      (None, 10, 9, 9, 256 0           batch_normalization_12[0][0]     \n",
            "__________________________________________________________________________________________________\n",
            "conv3d_15 (Conv3D)              (None, 10, 9, 9, 256 1769728     activation_12[0][0]              \n",
            "__________________________________________________________________________________________________\n",
            "add_6 (Add)                     (None, 10, 9, 9, 256 0           add_5[0][0]                      \n",
            "                                                                 conv3d_15[0][0]                  \n",
            "__________________________________________________________________________________________________\n",
            "batch_normalization_13 (BatchNo (None, 10, 9, 9, 256 1024        add_6[0][0]                      \n",
            "__________________________________________________________________________________________________\n",
            "activation_13 (Activation)      (None, 10, 9, 9, 256 0           batch_normalization_13[0][0]     \n",
            "__________________________________________________________________________________________________\n",
            "conv3d_16 (Conv3D)              (None, 5, 5, 5, 512) 3539456     activation_13[0][0]              \n",
            "__________________________________________________________________________________________________\n",
            "batch_normalization_14 (BatchNo (None, 5, 5, 5, 512) 2048        conv3d_16[0][0]                  \n",
            "__________________________________________________________________________________________________\n",
            "activation_14 (Activation)      (None, 5, 5, 5, 512) 0           batch_normalization_14[0][0]     \n",
            "__________________________________________________________________________________________________\n",
            "conv3d_18 (Conv3D)              (None, 5, 5, 5, 512) 131584      add_6[0][0]                      \n",
            "__________________________________________________________________________________________________\n",
            "conv3d_17 (Conv3D)              (None, 5, 5, 5, 512) 7078400     activation_14[0][0]              \n",
            "__________________________________________________________________________________________________\n",
            "add_7 (Add)                     (None, 5, 5, 5, 512) 0           conv3d_18[0][0]                  \n",
            "                                                                 conv3d_17[0][0]                  \n",
            "__________________________________________________________________________________________________\n",
            "batch_normalization_15 (BatchNo (None, 5, 5, 5, 512) 2048        add_7[0][0]                      \n",
            "__________________________________________________________________________________________________\n",
            "activation_15 (Activation)      (None, 5, 5, 5, 512) 0           batch_normalization_15[0][0]     \n",
            "__________________________________________________________________________________________________\n",
            "conv3d_19 (Conv3D)              (None, 5, 5, 5, 512) 7078400     activation_15[0][0]              \n",
            "__________________________________________________________________________________________________\n",
            "batch_normalization_16 (BatchNo (None, 5, 5, 5, 512) 2048        conv3d_19[0][0]                  \n",
            "__________________________________________________________________________________________________\n",
            "activation_16 (Activation)      (None, 5, 5, 5, 512) 0           batch_normalization_16[0][0]     \n",
            "__________________________________________________________________________________________________\n",
            "conv3d_20 (Conv3D)              (None, 5, 5, 5, 512) 7078400     activation_16[0][0]              \n",
            "__________________________________________________________________________________________________\n",
            "add_8 (Add)                     (None, 5, 5, 5, 512) 0           add_7[0][0]                      \n",
            "                                                                 conv3d_20[0][0]                  \n",
            "__________________________________________________________________________________________________\n",
            "batch_normalization_17 (BatchNo (None, 5, 5, 5, 512) 2048        add_8[0][0]                      \n",
            "__________________________________________________________________________________________________\n",
            "activation_17 (Activation)      (None, 5, 5, 5, 512) 0           batch_normalization_17[0][0]     \n",
            "__________________________________________________________________________________________________\n",
            "average_pooling3d_1 (AveragePoo (None, 1, 1, 1, 512) 0           activation_17[0][0]              \n",
            "__________________________________________________________________________________________________\n",
            "flatten_1 (Flatten)             (None, 512)          0           average_pooling3d_1[0][0]        \n",
            "__________________________________________________________________________________________________\n",
            "dense_1 (Dense)                 (None, 2)            1026        flatten_1[0][0]                  \n",
            "==================================================================================================\n",
            "Total params: 33,171,842\n",
            "Trainable params: 33,164,034\n",
            "Non-trainable params: 7,808\n",
            "__________________________________________________________________________________________________\n",
            "None\n",
            "Epoch 1/2\n",
            "10/10 [==============================] - 14s 1s/step - loss: 1.8481 - acc: 0.4000\n",
            "Epoch 2/2\n",
            "10/10 [==============================] - 2s 235ms/step - loss: 1.7379 - acc: 0.6000\n"
          ],
          "name": "stdout"
        }
      ]
    },
    {
      "cell_type": "code",
      "metadata": {
        "id": "PNa_jpvmAwx9",
        "colab_type": "code",
        "colab": {}
      },
      "source": [
        "#model.add(Conv3D(filters=32, kernel_size=(3,3,3), strides=(1, 1, 1), padding='same', activation='relu',data_format='channels_last'))\n",
        "#model.add(MaxPooling3D(pool_size=(2, 2, 1)))\n",
        "#model.add(Dense(1024))\n",
        "\n",
        "\n",
        "#write your model here\n",
        "\n",
        "##################### model 1 ################\n",
        "# model = Sequential()\n",
        "# model.add(Conv3D(filters=32, kernel_size=(3,3,3), strides=(1, 1, 1), activation=None, input_shape=(len(list(range(0,30,1))),120,160,3),data_format='channels_last'))\n",
        "# model.add(LeakyReLU(alpha=0.1))\n",
        "# model.add(MaxPooling3D(pool_size=(1, 1, 1)))\n",
        "# model.add(Conv3D(filters=64, kernel_size=(3,3,3), strides=(1, 1, 1), activation=None))\n",
        "# model.add(LeakyReLU(alpha=0.1))\n",
        "# model.add(Flatten())\n",
        "# model.add(Dense(5, activation='softmax')) # 5 are number of classes"
      ],
      "execution_count": 0,
      "outputs": []
    },
    {
      "cell_type": "code",
      "metadata": {
        "id": "AOEXS78CAwx_",
        "colab_type": "code",
        "colab": {}
      },
      "source": [
        "# ###################### model 2 ################\n",
        "# model = Sequential()\n",
        "# model.add(Conv3D(64, kernel_size=(3,3,3), activation='relu', input_shape=input_shape,data_format='channels_last'))\n",
        "# model.add(MaxPooling3D(pool_size=(1, 2, 2), strides=(1, 2, 2)))\n",
        "# model.add(Conv3D(128, (3,3,3), activation='relu'))\n",
        "# model.add(MaxPooling3D(pool_size=(1, 2, 2), strides=(1, 2, 2)))\n",
        "# model.add(Conv3D(256, (3,3,3), activation='relu'))\n",
        "# model.add(Conv3D(256, (3,3,3), activation='relu'))\n",
        "# model.add(MaxPooling3D(pool_size=(1, 2, 2), strides=(1, 2, 2)))\n",
        "# model.add(Conv3D(512, (3,3,3), activation='relu'))\n",
        "# model.add(Conv3D(512, (3,3,3), activation='relu'))\n",
        "# model.add(MaxPooling3D(pool_size=(1, 2, 2), strides=(1, 2, 2)))\n",
        "# # model.add(Conv3D(512, (3,3,3), activation='relu'))\n",
        "# # model.add(Conv3D(512, (3,3,3), activation='relu'))\n",
        "# # model.add(MaxPooling3D(pool_size=(1, 2, 2), strides=(1, 2, 2)))\n",
        "# model.add(Flatten())\n",
        "# model.add(Dense(2048,activation='relu'))\n",
        "# model.add(Dense(2048,activation='relu'))\n",
        "# model.add(Dense(no_of_classes, activation='softmax'))"
      ],
      "execution_count": 0,
      "outputs": []
    },
    {
      "cell_type": "code",
      "metadata": {
        "id": "9DrW0AN6AwyB",
        "colab_type": "code",
        "colab": {}
      },
      "source": [
        "# ###################### model 2 ################\n",
        "# model = Sequential()\n",
        "# model.add(Conv3D(64, kernel_size=(3,3,3), activation='relu', input_shape=input_shape,data_format='channels_last'))\n",
        "# model.add(MaxPooling3D(pool_size=(1, 2, 2), strides=(1, 2, 2)))\n",
        "# model.add(Conv3D(128, (3,3,3), activation='relu'))\n",
        "# model.add(MaxPooling3D(pool_size=(1, 2, 2), strides=(1, 2, 2)))\n",
        "# model.add(Conv3D(256, (3,3,3), activation='relu'))\n",
        "# model.add(Conv3D(256, (3,3,3), activation='relu'))\n",
        "# model.add(MaxPooling3D(pool_size=(1, 2, 2), strides=(1, 2, 2)))\n",
        "# model.add(Conv3D(512, (3,3,3), activation='relu'))\n",
        "# model.add(Conv3D(512, (3,3,3), activation='relu'))\n",
        "# model.add(MaxPooling3D(pool_size=(1, 2, 2), strides=(1, 2, 2)))\n",
        "# # model.add(Conv3D(512, (3,3,3), activation='relu'))\n",
        "# # model.add(Conv3D(512, (3,3,3), activation='relu'))\n",
        "# # model.add(MaxPooling3D(pool_size=(1, 2, 2), strides=(1, 2, 2)))\n",
        "# model.add(Flatten())\n",
        "# model.add(Dense(2048,activation='relu'))\n",
        "# model.add(Dense(2048,activation='relu'))\n",
        "# model.add(Dense(no_of_classes, activation='softmax'))"
      ],
      "execution_count": 0,
      "outputs": []
    },
    {
      "cell_type": "code",
      "metadata": {
        "id": "VqiFAjetAwyC",
        "colab_type": "code",
        "colab": {}
      },
      "source": [
        "# ###################### model 3 - deep model ################\n",
        "# model = Sequential()\n",
        "# model.add(Conv3D(64, kernel_size=(3,3,3), activation='relu', input_shape=input_shape,data_format='channels_last'))\n",
        "# model.add(Conv3D(64, (3,3,3), padding='same',activation='relu'))\n",
        "# model.add(MaxPooling3D(pool_size=(1,2,2), strides=(1,2,2)))\n",
        "# model.add(Conv3D(128, (3,3,3), padding='same',activation='relu'))\n",
        "# model.add(Conv3D(128, (3,3,3),  activation='relu'))\n",
        "# model.add(MaxPooling3D(pool_size=(1,2,2), strides=(1,2,2)))\n",
        "# model.add(Conv3D(256, (3,3,3), activation='relu'))\n",
        "# model.add(Conv3D(256, (3,3,3), activation='relu'))\n",
        "# model.add(Conv3D(256, (3,3,3),  activation='relu'))\n",
        "# model.add(Conv3D(256, (3,3,3),  activation='relu'))\n",
        "# model.add(MaxPooling3D(pool_size=(1, 2, 2), strides=(1, 2, 2)))\n",
        "# model.add(Flatten())\n",
        "# model.add(Dense(2048,activation='relu'))\n",
        "# model.add(Dense(2048,activation='relu'))\n",
        "# model.add(Dense(no_of_classes, activation='softmax'))\n",
        "# model.summary()"
      ],
      "execution_count": 0,
      "outputs": []
    },
    {
      "cell_type": "code",
      "metadata": {
        "id": "W0rMcM-l0kX1",
        "colab_type": "code",
        "outputId": "55695c71-3dc0-4467-cac1-498907b7d6f1",
        "colab": {
          "base_uri": "https://localhost:8080/",
          "height": 1530
        }
      },
      "source": [
        "##################### model 3 - deep model ################\n",
        "model = Sequential()\n",
        "model.add(Conv3D(16, kernel_size=(3,3,3), activation='relu', input_shape=input_shape,data_format='channels_last'))\n",
        "model.add(BatchNormalization())\n",
        "model.add(Conv3D(16, (3,3,3), padding='same',activation='relu'))\n",
        "model.add(BatchNormalization())\n",
        "model.add(Dropout(0.25))\n",
        "model.add(MaxPooling3D(pool_size=(1,2,2), strides=(1,2,2)))\n",
        "model.add(Conv3D(32, (3,3,3), padding='same',activation='relu'))\n",
        "model.add(BatchNormalization())\n",
        "model.add(Conv3D(32, (3,3,3), padding='same', activation='relu'))\n",
        "model.add(BatchNormalization())\n",
        "model.add(Dropout(0.25))\n",
        "model.add(MaxPooling3D(pool_size=(1,2,2), strides=(1,2,2)))\n",
        "model.add(Conv3D(64, (3,3,3),padding='same', activation='relu'))\n",
        "model.add(BatchNormalization())\n",
        "model.add(Conv3D(64, (3,3,3),padding='same', activation='relu'))\n",
        "model.add(BatchNormalization())\n",
        "model.add(Conv3D(64, (3,3,3),padding='same',  activation='relu'))\n",
        "model.add(BatchNormalization())\n",
        "model.add(Conv3D(64, (3,3,3),padding='same',  activation='relu'))\n",
        "model.add(BatchNormalization())\n",
        "model.add(Dropout(0.25))\n",
        "model.add(MaxPooling3D(pool_size=(1, 2, 2), strides=(1, 2, 2)))\n",
        "model.add(Conv3D(128, (3,3,3),padding='same', activation='relu'))\n",
        "model.add(BatchNormalization())\n",
        "model.add(Conv3D(128, (3,3,3),padding='same', activation='relu'))\n",
        "model.add(BatchNormalization())\n",
        "model.add(Conv3D(128, (3,3,3),padding='same',  activation='relu'))\n",
        "model.add(BatchNormalization())\n",
        "model.add(Conv3D(128, (3,3,3),padding='same',  activation='relu'))\n",
        "model.add(BatchNormalization())\n",
        "model.add(Dropout(0.25))\n",
        "model.add(Flatten())\n",
        "model.add(Dense(2048,activation='relu'))\n",
        "model.add(BatchNormalization())\n",
        "model.add(Dense(2048,activation='relu'))\n",
        "model.add(BatchNormalization())\n",
        "model.add(Dense(no_of_classes, activation='softmax'))\n",
        "model.summary()"
      ],
      "execution_count": 19,
      "outputs": [
        {
          "output_type": "stream",
          "text": [
            "W0616 04:25:11.684997 140151224657792 deprecation.py:506] From /usr/local/lib/python3.6/dist-packages/keras/backend/tensorflow_backend.py:3445: calling dropout (from tensorflow.python.ops.nn_ops) with keep_prob is deprecated and will be removed in a future version.\n",
            "Instructions for updating:\n",
            "Please use `rate` instead of `keep_prob`. Rate should be set to `rate = 1 - keep_prob`.\n"
          ],
          "name": "stderr"
        },
        {
          "output_type": "stream",
          "text": [
            "_________________________________________________________________\n",
            "Layer (type)                 Output Shape              Param #   \n",
            "=================================================================\n",
            "conv3d_21 (Conv3D)           (None, 13, 98, 98, 16)    1312      \n",
            "_________________________________________________________________\n",
            "batch_normalization_18 (Batc (None, 13, 98, 98, 16)    64        \n",
            "_________________________________________________________________\n",
            "conv3d_22 (Conv3D)           (None, 13, 98, 98, 16)    6928      \n",
            "_________________________________________________________________\n",
            "batch_normalization_19 (Batc (None, 13, 98, 98, 16)    64        \n",
            "_________________________________________________________________\n",
            "dropout_1 (Dropout)          (None, 13, 98, 98, 16)    0         \n",
            "_________________________________________________________________\n",
            "max_pooling3d_2 (MaxPooling3 (None, 13, 49, 49, 16)    0         \n",
            "_________________________________________________________________\n",
            "conv3d_23 (Conv3D)           (None, 13, 49, 49, 32)    13856     \n",
            "_________________________________________________________________\n",
            "batch_normalization_20 (Batc (None, 13, 49, 49, 32)    128       \n",
            "_________________________________________________________________\n",
            "conv3d_24 (Conv3D)           (None, 13, 49, 49, 32)    27680     \n",
            "_________________________________________________________________\n",
            "batch_normalization_21 (Batc (None, 13, 49, 49, 32)    128       \n",
            "_________________________________________________________________\n",
            "dropout_2 (Dropout)          (None, 13, 49, 49, 32)    0         \n",
            "_________________________________________________________________\n",
            "max_pooling3d_3 (MaxPooling3 (None, 13, 24, 24, 32)    0         \n",
            "_________________________________________________________________\n",
            "conv3d_25 (Conv3D)           (None, 13, 24, 24, 64)    55360     \n",
            "_________________________________________________________________\n",
            "batch_normalization_22 (Batc (None, 13, 24, 24, 64)    256       \n",
            "_________________________________________________________________\n",
            "conv3d_26 (Conv3D)           (None, 13, 24, 24, 64)    110656    \n",
            "_________________________________________________________________\n",
            "batch_normalization_23 (Batc (None, 13, 24, 24, 64)    256       \n",
            "_________________________________________________________________\n",
            "conv3d_27 (Conv3D)           (None, 13, 24, 24, 64)    110656    \n",
            "_________________________________________________________________\n",
            "batch_normalization_24 (Batc (None, 13, 24, 24, 64)    256       \n",
            "_________________________________________________________________\n",
            "conv3d_28 (Conv3D)           (None, 13, 24, 24, 64)    110656    \n",
            "_________________________________________________________________\n",
            "batch_normalization_25 (Batc (None, 13, 24, 24, 64)    256       \n",
            "_________________________________________________________________\n",
            "dropout_3 (Dropout)          (None, 13, 24, 24, 64)    0         \n",
            "_________________________________________________________________\n",
            "max_pooling3d_4 (MaxPooling3 (None, 13, 12, 12, 64)    0         \n",
            "_________________________________________________________________\n",
            "conv3d_29 (Conv3D)           (None, 13, 12, 12, 128)   221312    \n",
            "_________________________________________________________________\n",
            "batch_normalization_26 (Batc (None, 13, 12, 12, 128)   512       \n",
            "_________________________________________________________________\n",
            "conv3d_30 (Conv3D)           (None, 13, 12, 12, 128)   442496    \n",
            "_________________________________________________________________\n",
            "batch_normalization_27 (Batc (None, 13, 12, 12, 128)   512       \n",
            "_________________________________________________________________\n",
            "conv3d_31 (Conv3D)           (None, 13, 12, 12, 128)   442496    \n",
            "_________________________________________________________________\n",
            "batch_normalization_28 (Batc (None, 13, 12, 12, 128)   512       \n",
            "_________________________________________________________________\n",
            "conv3d_32 (Conv3D)           (None, 13, 12, 12, 128)   442496    \n",
            "_________________________________________________________________\n",
            "batch_normalization_29 (Batc (None, 13, 12, 12, 128)   512       \n",
            "_________________________________________________________________\n",
            "dropout_4 (Dropout)          (None, 13, 12, 12, 128)   0         \n",
            "_________________________________________________________________\n",
            "flatten_2 (Flatten)          (None, 239616)            0         \n",
            "_________________________________________________________________\n",
            "dense_2 (Dense)              (None, 2048)              490735616 \n",
            "_________________________________________________________________\n",
            "batch_normalization_30 (Batc (None, 2048)              8192      \n",
            "_________________________________________________________________\n",
            "dense_3 (Dense)              (None, 2048)              4196352   \n",
            "_________________________________________________________________\n",
            "batch_normalization_31 (Batc (None, 2048)              8192      \n",
            "_________________________________________________________________\n",
            "dense_4 (Dense)              (None, 5)                 10245     \n",
            "=================================================================\n",
            "Total params: 496,947,957\n",
            "Trainable params: 496,938,037\n",
            "Non-trainable params: 9,920\n",
            "_________________________________________________________________\n"
          ],
          "name": "stdout"
        }
      ]
    },
    {
      "cell_type": "markdown",
      "metadata": {
        "id": "3RIal45ZAwyG",
        "colab_type": "text"
      },
      "source": [
        "Now that you have written the model, the next step is to `compile` the model. When you print the `summary` of the model, you'll see the total number of parameters you have to train."
      ]
    },
    {
      "cell_type": "code",
      "metadata": {
        "scrolled": true,
        "id": "LxwY4We_AwyG",
        "colab_type": "code",
        "outputId": "c0c7eba0-e7f6-4203-a003-289cea6d821f",
        "colab": {
          "base_uri": "https://localhost:8080/",
          "height": 1456
        }
      },
      "source": [
        "optimiser = optimizers.SGD(lr=1e-3, decay=1e-6, momentum=0.9, nesterov=True) #write your optimizer\n",
        "model.compile(optimizer=optimiser, loss='categorical_crossentropy', metrics=['categorical_accuracy'])\n",
        "model.summary()"
      ],
      "execution_count": 20,
      "outputs": [
        {
          "output_type": "stream",
          "text": [
            "_________________________________________________________________\n",
            "Layer (type)                 Output Shape              Param #   \n",
            "=================================================================\n",
            "conv3d_21 (Conv3D)           (None, 13, 98, 98, 16)    1312      \n",
            "_________________________________________________________________\n",
            "batch_normalization_18 (Batc (None, 13, 98, 98, 16)    64        \n",
            "_________________________________________________________________\n",
            "conv3d_22 (Conv3D)           (None, 13, 98, 98, 16)    6928      \n",
            "_________________________________________________________________\n",
            "batch_normalization_19 (Batc (None, 13, 98, 98, 16)    64        \n",
            "_________________________________________________________________\n",
            "dropout_1 (Dropout)          (None, 13, 98, 98, 16)    0         \n",
            "_________________________________________________________________\n",
            "max_pooling3d_2 (MaxPooling3 (None, 13, 49, 49, 16)    0         \n",
            "_________________________________________________________________\n",
            "conv3d_23 (Conv3D)           (None, 13, 49, 49, 32)    13856     \n",
            "_________________________________________________________________\n",
            "batch_normalization_20 (Batc (None, 13, 49, 49, 32)    128       \n",
            "_________________________________________________________________\n",
            "conv3d_24 (Conv3D)           (None, 13, 49, 49, 32)    27680     \n",
            "_________________________________________________________________\n",
            "batch_normalization_21 (Batc (None, 13, 49, 49, 32)    128       \n",
            "_________________________________________________________________\n",
            "dropout_2 (Dropout)          (None, 13, 49, 49, 32)    0         \n",
            "_________________________________________________________________\n",
            "max_pooling3d_3 (MaxPooling3 (None, 13, 24, 24, 32)    0         \n",
            "_________________________________________________________________\n",
            "conv3d_25 (Conv3D)           (None, 13, 24, 24, 64)    55360     \n",
            "_________________________________________________________________\n",
            "batch_normalization_22 (Batc (None, 13, 24, 24, 64)    256       \n",
            "_________________________________________________________________\n",
            "conv3d_26 (Conv3D)           (None, 13, 24, 24, 64)    110656    \n",
            "_________________________________________________________________\n",
            "batch_normalization_23 (Batc (None, 13, 24, 24, 64)    256       \n",
            "_________________________________________________________________\n",
            "conv3d_27 (Conv3D)           (None, 13, 24, 24, 64)    110656    \n",
            "_________________________________________________________________\n",
            "batch_normalization_24 (Batc (None, 13, 24, 24, 64)    256       \n",
            "_________________________________________________________________\n",
            "conv3d_28 (Conv3D)           (None, 13, 24, 24, 64)    110656    \n",
            "_________________________________________________________________\n",
            "batch_normalization_25 (Batc (None, 13, 24, 24, 64)    256       \n",
            "_________________________________________________________________\n",
            "dropout_3 (Dropout)          (None, 13, 24, 24, 64)    0         \n",
            "_________________________________________________________________\n",
            "max_pooling3d_4 (MaxPooling3 (None, 13, 12, 12, 64)    0         \n",
            "_________________________________________________________________\n",
            "conv3d_29 (Conv3D)           (None, 13, 12, 12, 128)   221312    \n",
            "_________________________________________________________________\n",
            "batch_normalization_26 (Batc (None, 13, 12, 12, 128)   512       \n",
            "_________________________________________________________________\n",
            "conv3d_30 (Conv3D)           (None, 13, 12, 12, 128)   442496    \n",
            "_________________________________________________________________\n",
            "batch_normalization_27 (Batc (None, 13, 12, 12, 128)   512       \n",
            "_________________________________________________________________\n",
            "conv3d_31 (Conv3D)           (None, 13, 12, 12, 128)   442496    \n",
            "_________________________________________________________________\n",
            "batch_normalization_28 (Batc (None, 13, 12, 12, 128)   512       \n",
            "_________________________________________________________________\n",
            "conv3d_32 (Conv3D)           (None, 13, 12, 12, 128)   442496    \n",
            "_________________________________________________________________\n",
            "batch_normalization_29 (Batc (None, 13, 12, 12, 128)   512       \n",
            "_________________________________________________________________\n",
            "dropout_4 (Dropout)          (None, 13, 12, 12, 128)   0         \n",
            "_________________________________________________________________\n",
            "flatten_2 (Flatten)          (None, 239616)            0         \n",
            "_________________________________________________________________\n",
            "dense_2 (Dense)              (None, 2048)              490735616 \n",
            "_________________________________________________________________\n",
            "batch_normalization_30 (Batc (None, 2048)              8192      \n",
            "_________________________________________________________________\n",
            "dense_3 (Dense)              (None, 2048)              4196352   \n",
            "_________________________________________________________________\n",
            "batch_normalization_31 (Batc (None, 2048)              8192      \n",
            "_________________________________________________________________\n",
            "dense_4 (Dense)              (None, 5)                 10245     \n",
            "=================================================================\n",
            "Total params: 496,947,957\n",
            "Trainable params: 496,938,037\n",
            "Non-trainable params: 9,920\n",
            "_________________________________________________________________\n"
          ],
          "name": "stdout"
        }
      ]
    },
    {
      "cell_type": "markdown",
      "metadata": {
        "id": "bsvu-KsxAwyJ",
        "colab_type": "text"
      },
      "source": [
        "Let us create the `train_generator` and the `val_generator` which will be used in `.fit_generator`."
      ]
    },
    {
      "cell_type": "code",
      "metadata": {
        "id": "iLoDMlj1AwyJ",
        "colab_type": "code",
        "colab": {}
      },
      "source": [
        "train_generator = generator(train_path, train_doc, batch_size)\n",
        "val_generator = generator(val_path, val_doc, batch_size)"
      ],
      "execution_count": 0,
      "outputs": []
    },
    {
      "cell_type": "code",
      "metadata": {
        "id": "DFYSsMRUAwyL",
        "colab_type": "code",
        "colab": {}
      },
      "source": [
        "model_name = 'model_init' + '_' + str(curr_dt_time).replace(' ','').replace(':','_') + '/'\n",
        "    \n",
        "if not os.path.exists(model_name):\n",
        "    os.mkdir(model_name)\n",
        "        \n",
        "filepath = model_name + 'model-{epoch:05d}-{loss:.5f}-{categorical_accuracy:.5f}-{val_loss:.5f}-{val_categorical_accuracy:.5f}.h5'\n",
        "\n",
        "#checkpoint = ModelCheckpoint(filepath, monitor='val_loss', verbose=1, save_best_only=False, save_weights_only=False, mode='auto', period=1)\n",
        "my_model_checkpoint = ModelCheckpoint(filepath, monitor='val_loss', verbose=1, save_best_only=True, save_weights_only=True, mode='auto', period=1)\n",
        "csv_logger = CSVLogger('training.cnn3d.txt',separator=',', append=True)\n",
        "early_stopping = EarlyStopping(monitor='val_loss', min_delta=0, patience=20, verbose=1)\n",
        "reduce_LR = ReduceLROnPlateau(monitor='val_loss', factor=0.8, patience=10, min_lr=1e-10,verbose=1) # write the REducelronplateau code here\n",
        "callbacks_list = [reduce_LR,csv_logger,my_model_checkpoint,early_stopping] #checkpoint"
      ],
      "execution_count": 0,
      "outputs": []
    },
    {
      "cell_type": "markdown",
      "metadata": {
        "id": "9knbjCTXAwyN",
        "colab_type": "text"
      },
      "source": [
        "The `steps_per_epoch` and `validation_steps` are used by `fit_generator` to decide the number of next() calls it need to make."
      ]
    },
    {
      "cell_type": "code",
      "metadata": {
        "id": "QhnEtxv_AwyN",
        "colab_type": "code",
        "colab": {}
      },
      "source": [
        "if (num_train_sequences%batch_size) == 0:\n",
        "    steps_per_epoch = int(num_train_sequences/batch_size)\n",
        "else:\n",
        "    steps_per_epoch = (num_train_sequences//batch_size) + 1\n",
        "\n",
        "if (num_val_sequences%batch_size) == 0:\n",
        "    validation_steps = int(num_val_sequences/batch_size)\n",
        "else:\n",
        "    validation_steps = (num_val_sequences//batch_size) + 1"
      ],
      "execution_count": 0,
      "outputs": []
    },
    {
      "cell_type": "markdown",
      "metadata": {
        "id": "nKRfU0oMAwyQ",
        "colab_type": "text"
      },
      "source": [
        "Let us now fit the model. This will start training the model and with the help of the checkpoints, you'll be able to save the model at the end of each epoch."
      ]
    },
    {
      "cell_type": "code",
      "metadata": {
        "id": "ezeOLRZgAwyR",
        "colab_type": "code",
        "outputId": "b7652d89-3205-468f-f961-268047d8afd9",
        "colab": {
          "base_uri": "https://localhost:8080/",
          "height": 3645
        }
      },
      "source": [
        "#from resnet3d import Resnet3DBuilder\n",
        "model = Resnet3DBuilder.build_resnet_34((15, 100, 100, 3), 5)\n",
        "# print(model.summary())\n",
        "# optimiser = optimizers.SGD(lr=1e-3, decay=1e-6, momentum=0.9, nesterov=True) #write your optimizer\n",
        "# model.compile(optimizer=optimiser, loss='categorical_crossentropy', metrics=['categorical_accuracy'])\n",
        "# model.summary()\n",
        "model.compile(optimizer='adam', loss='categorical_crossentropy', metrics=['categorical_accuracy'])\n",
        "model.fit_generator(train_generator, steps_per_epoch=steps_per_epoch, epochs=num_epochs, verbose=1, \n",
        "                    callbacks=callbacks_list, validation_data=val_generator, \n",
        "                    validation_steps=validation_steps, class_weight=None, workers=1, initial_epoch=0)\n",
        "\n",
        "\n",
        "# lr_finder = LRFinder(min_lr=1e-5, \n",
        "#                      max_lr=1e-2, \n",
        "#                      steps_per_epoch=steps_per_epoch, \n",
        "#                      epochs=3)\n",
        "# callbacks_list.append(lr_finder)\n",
        "\n",
        "\n",
        "# #model.load_weights('./03-model_init_2019-06-1205_47_36.337812/model-00010-0.84542-0.67270-1.15618-0.59000.h5')\n",
        "# model.fit_generator(train_generator, steps_per_epoch=steps_per_epoch, epochs=num_epochs, verbose=1, \n",
        "#                     callbacks=callbacks_list, validation_data=val_generator, \n",
        "#                     validation_steps=validation_steps, class_weight=None, workers=1, initial_epoch=0)\n",
        "# lr_finder.plot_loss()\n",
        "\n",
        "\n",
        "\n"
      ],
      "execution_count": 24,
      "outputs": [
        {
          "output_type": "stream",
          "text": [
            "Epoch 1/50\n",
            "67/67 [==============================] - 39s 588ms/step - loss: 2.4960 - categorical_accuracy: 0.3617 - val_loss: 10.4645 - val_categorical_accuracy: 0.2300\n",
            "\n",
            "Epoch 00001: val_loss improved from inf to 10.46454, saving model to model_init_2019-06-1604_24_46.937344/model-00001-2.49934-0.36199-10.46454-0.23000.h5\n",
            "Epoch 2/50\n",
            "67/67 [==============================] - 19s 283ms/step - loss: 2.0731 - categorical_accuracy: 0.4542 - val_loss: 5.0173 - val_categorical_accuracy: 0.2600\n",
            "\n",
            "Epoch 00002: val_loss improved from 10.46454 to 5.01731, saving model to model_init_2019-06-1604_24_46.937344/model-00002-2.06945-0.45551-5.01731-0.26000.h5\n",
            "Epoch 3/50\n",
            "67/67 [==============================] - 19s 288ms/step - loss: 1.9285 - categorical_accuracy: 0.4528 - val_loss: 5.9404 - val_categorical_accuracy: 0.2300\n",
            "\n",
            "Epoch 00003: val_loss did not improve from 5.01731\n",
            "Epoch 4/50\n",
            "67/67 [==============================] - 19s 289ms/step - loss: 1.7638 - categorical_accuracy: 0.5214 - val_loss: 8.5129 - val_categorical_accuracy: 0.2400\n",
            "\n",
            "Epoch 00004: val_loss did not improve from 5.01731\n",
            "Epoch 5/50\n",
            "67/67 [==============================] - 19s 284ms/step - loss: 1.6999 - categorical_accuracy: 0.5184 - val_loss: 1.8019 - val_categorical_accuracy: 0.4400\n",
            "\n",
            "Epoch 00005: val_loss improved from 5.01731 to 1.80194, saving model to model_init_2019-06-1604_24_46.937344/model-00005-1.69415-0.52036-1.80194-0.44000.h5\n",
            "Epoch 6/50\n",
            "67/67 [==============================] - 19s 284ms/step - loss: 1.5309 - categorical_accuracy: 0.5831 - val_loss: 2.4324 - val_categorical_accuracy: 0.3700\n",
            "\n",
            "Epoch 00006: val_loss did not improve from 1.80194\n",
            "Epoch 7/50\n",
            "67/67 [==============================] - 19s 285ms/step - loss: 1.4858 - categorical_accuracy: 0.5762 - val_loss: 4.7172 - val_categorical_accuracy: 0.2400\n",
            "\n",
            "Epoch 00007: val_loss did not improve from 1.80194\n",
            "Epoch 8/50\n",
            "67/67 [==============================] - 19s 286ms/step - loss: 1.3414 - categorical_accuracy: 0.6573 - val_loss: 2.9053 - val_categorical_accuracy: 0.2600\n",
            "\n",
            "Epoch 00008: val_loss did not improve from 1.80194\n",
            "Epoch 9/50\n",
            "67/67 [==============================] - 19s 283ms/step - loss: 1.3039 - categorical_accuracy: 0.6532 - val_loss: 2.6949 - val_categorical_accuracy: 0.3800\n",
            "\n",
            "Epoch 00009: val_loss did not improve from 1.80194\n",
            "Epoch 10/50\n",
            "67/67 [==============================] - 19s 287ms/step - loss: 1.2243 - categorical_accuracy: 0.6891 - val_loss: 2.6668 - val_categorical_accuracy: 0.4100\n",
            "\n",
            "Epoch 00010: val_loss did not improve from 1.80194\n",
            "Epoch 11/50\n",
            "67/67 [==============================] - 19s 285ms/step - loss: 1.1746 - categorical_accuracy: 0.7125 - val_loss: 2.2352 - val_categorical_accuracy: 0.3100\n",
            "\n",
            "Epoch 00011: val_loss did not improve from 1.80194\n",
            "Epoch 12/50\n",
            "67/67 [==============================] - 19s 285ms/step - loss: 1.0707 - categorical_accuracy: 0.7731 - val_loss: 3.6379 - val_categorical_accuracy: 0.2900\n",
            "\n",
            "Epoch 00012: val_loss did not improve from 1.80194\n",
            "Epoch 13/50\n",
            "67/67 [==============================] - 19s 285ms/step - loss: 1.0486 - categorical_accuracy: 0.7776 - val_loss: 3.2067 - val_categorical_accuracy: 0.3500\n",
            "\n",
            "Epoch 00013: val_loss did not improve from 1.80194\n",
            "Epoch 14/50\n",
            "67/67 [==============================] - 19s 285ms/step - loss: 1.0059 - categorical_accuracy: 0.8000 - val_loss: 2.2386 - val_categorical_accuracy: 0.5200\n",
            "\n",
            "Epoch 00014: val_loss did not improve from 1.80194\n",
            "Epoch 15/50\n",
            "67/67 [==============================] - 19s 286ms/step - loss: 0.9161 - categorical_accuracy: 0.8428 - val_loss: 1.5862 - val_categorical_accuracy: 0.6100\n",
            "\n",
            "Epoch 00015: val_loss improved from 1.80194 to 1.58619, saving model to model_init_2019-06-1604_24_46.937344/model-00015-0.91580-0.84465-1.58619-0.61000.h5\n",
            "Epoch 16/50\n",
            "67/67 [==============================] - 19s 283ms/step - loss: 0.9179 - categorical_accuracy: 0.8507 - val_loss: 2.5899 - val_categorical_accuracy: 0.4400\n",
            "\n",
            "Epoch 00016: val_loss did not improve from 1.58619\n",
            "Epoch 17/50\n",
            "67/67 [==============================] - 19s 283ms/step - loss: 0.9275 - categorical_accuracy: 0.8368 - val_loss: 2.0997 - val_categorical_accuracy: 0.5200\n",
            "\n",
            "Epoch 00017: val_loss did not improve from 1.58619\n",
            "Epoch 18/50\n",
            "67/67 [==============================] - 19s 284ms/step - loss: 0.7914 - categorical_accuracy: 0.8880 - val_loss: 2.1122 - val_categorical_accuracy: 0.5300\n",
            "\n",
            "Epoch 00018: val_loss did not improve from 1.58619\n",
            "Epoch 19/50\n",
            "67/67 [==============================] - 19s 289ms/step - loss: 0.8079 - categorical_accuracy: 0.8851 - val_loss: 1.7874 - val_categorical_accuracy: 0.5500\n",
            "\n",
            "Epoch 00019: val_loss did not improve from 1.58619\n",
            "Epoch 20/50\n",
            "67/67 [==============================] - 19s 287ms/step - loss: 0.7557 - categorical_accuracy: 0.9046 - val_loss: 2.3710 - val_categorical_accuracy: 0.5100\n",
            "\n",
            "Epoch 00020: val_loss did not improve from 1.58619\n",
            "Epoch 21/50\n",
            "67/67 [==============================] - 19s 284ms/step - loss: 0.8856 - categorical_accuracy: 0.8612 - val_loss: 3.8278 - val_categorical_accuracy: 0.4400\n",
            "\n",
            "Epoch 00021: val_loss did not improve from 1.58619\n",
            "Epoch 22/50\n",
            "67/67 [==============================] - 19s 282ms/step - loss: 0.7613 - categorical_accuracy: 0.9055 - val_loss: 1.4242 - val_categorical_accuracy: 0.7000\n",
            "\n",
            "Epoch 00022: val_loss improved from 1.58619 to 1.42418, saving model to model_init_2019-06-1604_24_46.937344/model-00022-0.75895-0.90799-1.42418-0.70000.h5\n",
            "Epoch 23/50\n",
            "67/67 [==============================] - 19s 283ms/step - loss: 0.7690 - categorical_accuracy: 0.9030 - val_loss: 1.9330 - val_categorical_accuracy: 0.5500\n",
            "\n",
            "Epoch 00023: val_loss did not improve from 1.42418\n",
            "Epoch 24/50\n",
            "67/67 [==============================] - 19s 285ms/step - loss: 0.7269 - categorical_accuracy: 0.9095 - val_loss: 2.2267 - val_categorical_accuracy: 0.5000\n",
            "\n",
            "Epoch 00024: val_loss did not improve from 1.42418\n",
            "Epoch 25/50\n",
            "67/67 [==============================] - 19s 284ms/step - loss: 0.7598 - categorical_accuracy: 0.9149 - val_loss: 3.6162 - val_categorical_accuracy: 0.4200\n",
            "\n",
            "Epoch 00025: val_loss did not improve from 1.42418\n",
            "Epoch 26/50\n",
            "67/67 [==============================] - 19s 283ms/step - loss: 0.7566 - categorical_accuracy: 0.9085 - val_loss: 1.5073 - val_categorical_accuracy: 0.6800\n",
            "\n",
            "Epoch 00026: val_loss did not improve from 1.42418\n",
            "Epoch 27/50\n",
            "67/67 [==============================] - 19s 287ms/step - loss: 0.6917 - categorical_accuracy: 0.9249 - val_loss: 1.5530 - val_categorical_accuracy: 0.7100\n",
            "\n",
            "Epoch 00027: val_loss did not improve from 1.42418\n",
            "Epoch 28/50\n",
            "67/67 [==============================] - 19s 287ms/step - loss: 0.6917 - categorical_accuracy: 0.9279 - val_loss: 2.4980 - val_categorical_accuracy: 0.5300\n",
            "\n",
            "Epoch 00028: val_loss did not improve from 1.42418\n",
            "Epoch 29/50\n",
            "67/67 [==============================] - 19s 285ms/step - loss: 0.7252 - categorical_accuracy: 0.9119 - val_loss: 1.9575 - val_categorical_accuracy: 0.5900\n",
            "\n",
            "Epoch 00029: val_loss did not improve from 1.42418\n",
            "Epoch 30/50\n",
            "67/67 [==============================] - 19s 287ms/step - loss: 0.6669 - categorical_accuracy: 0.9319 - val_loss: 1.7038 - val_categorical_accuracy: 0.6000\n",
            "\n",
            "Epoch 00030: val_loss did not improve from 1.42418\n",
            "Epoch 31/50\n",
            "67/67 [==============================] - 19s 285ms/step - loss: 0.6778 - categorical_accuracy: 0.9194 - val_loss: 2.7164 - val_categorical_accuracy: 0.5800\n",
            "\n",
            "Epoch 00031: val_loss did not improve from 1.42418\n",
            "Epoch 32/50\n",
            "67/67 [==============================] - 19s 285ms/step - loss: 0.5924 - categorical_accuracy: 0.9597 - val_loss: 1.7684 - val_categorical_accuracy: 0.6300\n",
            "\n",
            "Epoch 00032: ReduceLROnPlateau reducing learning rate to 0.000800000037997961.\n",
            "\n",
            "Epoch 00032: val_loss did not improve from 1.42418\n",
            "Epoch 33/50\n",
            "67/67 [==============================] - 19s 284ms/step - loss: 0.5880 - categorical_accuracy: 0.9488 - val_loss: 1.5012 - val_categorical_accuracy: 0.6700\n",
            "\n",
            "Epoch 00033: val_loss did not improve from 1.42418\n",
            "Epoch 34/50\n",
            "67/67 [==============================] - 19s 289ms/step - loss: 0.5678 - categorical_accuracy: 0.9522 - val_loss: 2.8399 - val_categorical_accuracy: 0.4800\n",
            "\n",
            "Epoch 00034: val_loss did not improve from 1.42418\n",
            "Epoch 35/50\n",
            "67/67 [==============================] - 19s 285ms/step - loss: 0.4889 - categorical_accuracy: 0.9731 - val_loss: 1.8983 - val_categorical_accuracy: 0.5400\n",
            "\n",
            "Epoch 00035: val_loss did not improve from 1.42418\n",
            "Epoch 36/50\n",
            "67/67 [==============================] - 19s 287ms/step - loss: 0.4893 - categorical_accuracy: 0.9782 - val_loss: 1.7877 - val_categorical_accuracy: 0.6600\n",
            "\n",
            "Epoch 00036: val_loss did not improve from 1.42418\n",
            "Epoch 37/50\n",
            "67/67 [==============================] - 19s 286ms/step - loss: 0.5451 - categorical_accuracy: 0.9478 - val_loss: 1.6915 - val_categorical_accuracy: 0.7000\n",
            "\n",
            "Epoch 00037: val_loss did not improve from 1.42418\n",
            "Epoch 38/50\n",
            "67/67 [==============================] - 19s 283ms/step - loss: 0.5175 - categorical_accuracy: 0.9672 - val_loss: 1.6325 - val_categorical_accuracy: 0.6800\n",
            "\n",
            "Epoch 00038: val_loss did not improve from 1.42418\n",
            "Epoch 39/50\n",
            "67/67 [==============================] - 19s 286ms/step - loss: 0.5725 - categorical_accuracy: 0.9398 - val_loss: 2.6251 - val_categorical_accuracy: 0.5400\n",
            "\n",
            "Epoch 00039: val_loss did not improve from 1.42418\n",
            "Epoch 40/50\n",
            "67/67 [==============================] - 19s 285ms/step - loss: 0.5833 - categorical_accuracy: 0.9403 - val_loss: 1.7235 - val_categorical_accuracy: 0.6900\n",
            "\n",
            "Epoch 00040: val_loss did not improve from 1.42418\n",
            "Epoch 41/50\n",
            "67/67 [==============================] - 19s 286ms/step - loss: 0.5304 - categorical_accuracy: 0.9607 - val_loss: 2.2282 - val_categorical_accuracy: 0.5700\n",
            "\n",
            "Epoch 00041: val_loss did not improve from 1.42418\n",
            "Epoch 42/50\n",
            "67/67 [==============================] - 19s 284ms/step - loss: 0.5480 - categorical_accuracy: 0.9498 - val_loss: 1.2714 - val_categorical_accuracy: 0.7000\n",
            "\n",
            "Epoch 00042: val_loss improved from 1.42418 to 1.27140, saving model to model_init_2019-06-1604_24_46.937344/model-00042-0.53521-0.95626-1.27140-0.70000.h5\n",
            "Epoch 43/50\n",
            "67/67 [==============================] - 19s 283ms/step - loss: 0.5465 - categorical_accuracy: 0.9507 - val_loss: 1.3951 - val_categorical_accuracy: 0.7000\n",
            "\n",
            "Epoch 00043: val_loss did not improve from 1.27140\n",
            "Epoch 44/50\n",
            "67/67 [==============================] - 19s 287ms/step - loss: 0.4452 - categorical_accuracy: 0.9866 - val_loss: 1.3651 - val_categorical_accuracy: 0.7000\n",
            "\n",
            "Epoch 00044: val_loss did not improve from 1.27140\n",
            "Epoch 45/50\n",
            "67/67 [==============================] - 19s 285ms/step - loss: 0.3951 - categorical_accuracy: 0.9896 - val_loss: 2.0785 - val_categorical_accuracy: 0.5800\n",
            "\n",
            "Epoch 00045: val_loss did not improve from 1.27140\n",
            "Epoch 46/50\n",
            "67/67 [==============================] - 19s 287ms/step - loss: 0.4213 - categorical_accuracy: 0.9791 - val_loss: 1.4866 - val_categorical_accuracy: 0.6500\n",
            "\n",
            "Epoch 00046: val_loss did not improve from 1.27140\n",
            "Epoch 47/50\n",
            "67/67 [==============================] - 19s 285ms/step - loss: 0.4440 - categorical_accuracy: 0.9652 - val_loss: 1.9847 - val_categorical_accuracy: 0.6000\n",
            "\n",
            "Epoch 00047: val_loss did not improve from 1.27140\n",
            "Epoch 48/50\n",
            "67/67 [==============================] - 19s 284ms/step - loss: 0.4847 - categorical_accuracy: 0.9642 - val_loss: 2.0039 - val_categorical_accuracy: 0.6100\n",
            "\n",
            "Epoch 00048: val_loss did not improve from 1.27140\n",
            "Epoch 49/50\n",
            "67/67 [==============================] - 19s 283ms/step - loss: 0.4795 - categorical_accuracy: 0.9597 - val_loss: 2.6642 - val_categorical_accuracy: 0.5500\n",
            "\n",
            "Epoch 00049: val_loss did not improve from 1.27140\n",
            "Epoch 50/50\n",
            "67/67 [==============================] - 19s 284ms/step - loss: 0.4730 - categorical_accuracy: 0.9687 - val_loss: 2.1206 - val_categorical_accuracy: 0.5800\n",
            "\n",
            "Epoch 00050: val_loss did not improve from 1.27140\n"
          ],
          "name": "stdout"
        },
        {
          "output_type": "execute_result",
          "data": {
            "text/plain": [
              "<keras.callbacks.History at 0x7f74b20a2748>"
            ]
          },
          "metadata": {
            "tags": []
          },
          "execution_count": 24
        }
      ]
    },
    {
      "cell_type": "code",
      "metadata": {
        "id": "npKAV9TEAwyT",
        "colab_type": "code",
        "colab": {}
      },
      "source": [
        "model.save('resnet3d.h5')"
      ],
      "execution_count": 0,
      "outputs": []
    },
    {
      "cell_type": "code",
      "metadata": {
        "id": "G1nS0rnID0M9",
        "colab_type": "code",
        "colab": {}
      },
      "source": [
        ""
      ],
      "execution_count": 0,
      "outputs": []
    },
    {
      "cell_type": "code",
      "metadata": {
        "id": "P3vqsmTbAwyV",
        "colab_type": "code",
        "colab": {
          "base_uri": "https://localhost:8080/",
          "height": 188
        },
        "outputId": "f0ac0b73-eac2-46e8-c7d8-5780c66038f3"
      },
      "source": [
        "os.rename('/content/cloned-repo/Project_data/model_init_2019-06-1604_24_46.937344/','/content/cloned-repo/Project_data/04-model_init_2019-06-1208_44_45.080481')\n"
      ],
      "execution_count": 26,
      "outputs": [
        {
          "output_type": "error",
          "ename": "FileNotFoundError",
          "evalue": "ignored",
          "traceback": [
            "\u001b[0;31m---------------------------------------------------------------------------\u001b[0m",
            "\u001b[0;31mFileNotFoundError\u001b[0m                         Traceback (most recent call last)",
            "\u001b[0;32m<ipython-input-26-50e7d2d2ae98>\u001b[0m in \u001b[0;36m<module>\u001b[0;34m()\u001b[0m\n\u001b[0;32m----> 1\u001b[0;31m \u001b[0mos\u001b[0m\u001b[0;34m.\u001b[0m\u001b[0mrename\u001b[0m\u001b[0;34m(\u001b[0m\u001b[0;34m'/content/cloned-repo/Project_data/model_init_2019-06-1208_44_45.080481'\u001b[0m\u001b[0;34m,\u001b[0m\u001b[0;34m'/content/cloned-repo/Project_data/04-model_init_2019-06-1208_44_45.080481'\u001b[0m\u001b[0;34m)\u001b[0m\u001b[0;34m\u001b[0m\u001b[0;34m\u001b[0m\u001b[0m\n\u001b[0m",
            "\u001b[0;31mFileNotFoundError\u001b[0m: [Errno 2] No such file or directory: '/content/cloned-repo/Project_data/model_init_2019-06-1208_44_45.080481' -> '/content/cloned-repo/Project_data/04-model_init_2019-06-1208_44_45.080481'"
          ]
        }
      ]
    },
    {
      "cell_type": "code",
      "metadata": {
        "id": "DQfbQNUZrlZ7",
        "colab_type": "code",
        "colab": {}
      },
      "source": [
        "model.save(model_name + 'COMPLETE_model-00020-0.27388-0.88688-1.37700-0.57000.h5')"
      ],
      "execution_count": 0,
      "outputs": []
    },
    {
      "cell_type": "code",
      "metadata": {
        "id": "FmI72mGejnKr",
        "colab_type": "code",
        "outputId": "5ab0db78-ce8f-4057-b3d0-484acaf14d21",
        "colab": {
          "base_uri": "https://localhost:8080/",
          "height": 125
        }
      },
      "source": [
        "os.makedirs('/content/gdrive',exist_ok=True)\n",
        "from google.colab import drive\n",
        "drive.mount('/content/gdrive')\n"
      ],
      "execution_count": 27,
      "outputs": [
        {
          "output_type": "stream",
          "text": [
            "Go to this URL in a browser: https://accounts.google.com/o/oauth2/auth?client_id=947318989803-6bn6qk8qdgf4n4g3pfee6491hc0brc4i.apps.googleusercontent.com&redirect_uri=urn%3Aietf%3Awg%3Aoauth%3A2.0%3Aoob&scope=email%20https%3A%2F%2Fwww.googleapis.com%2Fauth%2Fdocs.test%20https%3A%2F%2Fwww.googleapis.com%2Fauth%2Fdrive%20https%3A%2F%2Fwww.googleapis.com%2Fauth%2Fdrive.photos.readonly%20https%3A%2F%2Fwww.googleapis.com%2Fauth%2Fpeopleapi.readonly&response_type=code\n",
            "\n",
            "Enter your authorization code:\n",
            "··········\n",
            "Mounted at /content/gdrive\n"
          ],
          "name": "stdout"
        }
      ]
    },
    {
      "cell_type": "code",
      "metadata": {
        "id": "VxjUOrCljviT",
        "colab_type": "code",
        "outputId": "d5c32940-97cf-4fd4-a726-9db2348b44c1",
        "colab": {
          "base_uri": "https://localhost:8080/",
          "height": 34
        }
      },
      "source": [
        "import shutil\n",
        "shutil.copy('../../../content/cloned-repo/Project_data/model_init_2019-06-1604_24_46.937344/model-00042-0.53521-0.95626-1.27140-0.70000.h5', '../../../content/gdrive/My Drive/gesture_recognition/resnet3d-34.model-00042-0.53521-0.95626-1.27140-0.70000.h5')"
      ],
      "execution_count": 28,
      "outputs": [
        {
          "output_type": "execute_result",
          "data": {
            "text/plain": [
              "'../../../content/gdrive/My Drive/gesture_recognition/resnet3d-34.model-00042-0.53521-0.95626-1.27140-0.70000.h5'"
            ]
          },
          "metadata": {
            "tags": []
          },
          "execution_count": 28
        }
      ]
    },
    {
      "cell_type": "code",
      "metadata": {
        "id": "ApyuvkhUjy4B",
        "colab_type": "code",
        "colab": {}
      },
      "source": [
        "!pwd"
      ],
      "execution_count": 0,
      "outputs": []
    },
    {
      "cell_type": "code",
      "metadata": {
        "id": "bPiBFl4ZdC6m",
        "colab_type": "code",
        "colab": {}
      },
      "source": [
        "os.makedirs('../../../content/gdrive/My Drive/gesture_recognition/')"
      ],
      "execution_count": 0,
      "outputs": []
    },
    {
      "cell_type": "code",
      "metadata": {
        "id": "4ZvVUBSNd-Ja",
        "colab_type": "code",
        "colab": {}
      },
      "source": [
        ""
      ],
      "execution_count": 0,
      "outputs": []
    }
  ]
}